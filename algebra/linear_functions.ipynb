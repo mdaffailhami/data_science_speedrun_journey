{
 "cells": [
  {
   "cell_type": "code",
   "execution_count": 29,
   "metadata": {},
   "outputs": [],
   "source": [
    "import polars as pl\n",
    "import altair as alt"
   ]
  },
  {
   "cell_type": "markdown",
   "metadata": {},
   "source": [
    "### Function to get linear dataframe\n"
   ]
  },
  {
   "cell_type": "code",
   "execution_count": 30,
   "metadata": {},
   "outputs": [],
   "source": [
    "def get_linear_data(range, slope) -> pl.DataFrame:\n",
    "    x = __builtins__.range(-range, range + 1)\n",
    "\n",
    "    y = [slope * x_value for x_value in x]\n",
    "\n",
    "    return pl.DataFrame({'x': x, 'y': y})"
   ]
  },
  {
   "cell_type": "markdown",
   "metadata": {},
   "source": [
    "### Function to get coordinate plane\n"
   ]
  },
  {
   "cell_type": "code",
   "execution_count": 31,
   "metadata": {},
   "outputs": [],
   "source": [
    "def get_coordinate_plane(x, y):\n",
    "    x, y = x.__ceil__(), y.__ceil__()\n",
    "    a = x if x > y else y\n",
    "\n",
    "    values = range(-a, a+1, 1 if a <= 20 else int((a*2+1) / 20))\n",
    "\n",
    "    df_x = pl.DataFrame({'x': values, 'y': [0 for i in values]})\n",
    "    df_y = pl.DataFrame({'x': [0 for i in values], 'y': values})\n",
    "\n",
    "    return (\n",
    "        alt.Chart(df_x).mark_line().encode(x='x', y='y')\n",
    "        +\n",
    "        alt.Chart(df_y).mark_line().encode(x='x', y='y')\n",
    "        +\n",
    "        alt.Chart(df_x).mark_circle().encode(x='x', y='y', tooltip=['x'])\n",
    "        +\n",
    "        alt.Chart(df_y).mark_circle().encode(x='x', y='y', tooltip=['y'])\n",
    "    )"
   ]
  },
  {
   "cell_type": "markdown",
   "metadata": {},
   "source": [
    "### Function to plot line coordinate plane\n"
   ]
  },
  {
   "cell_type": "code",
   "execution_count": 32,
   "metadata": {},
   "outputs": [],
   "source": [
    "def plot_line_coordinate_plane(line_data):\n",
    "    display(\n",
    "        get_coordinate_plane(line_data['x'].max(), line_data['y'].max()).properties(\n",
    "            width=500, height=500\n",
    "        ).interactive()\n",
    "        +\n",
    "        alt.Chart(line_data).mark_line(color='red').encode(\n",
    "            x='x', y='y', tooltip=['x', 'y'])\n",
    "    )"
   ]
  },
  {
   "cell_type": "markdown",
   "metadata": {},
   "source": [
    "### Give it a try\n"
   ]
  },
  {
   "cell_type": "code",
   "execution_count": 33,
   "metadata": {},
   "outputs": [
    {
     "data": {
      "text/html": [
       "\n",
       "<style>\n",
       "  #altair-viz-0f476d57bd09428bb4e9f55ac408452d.vega-embed {\n",
       "    width: 100%;\n",
       "    display: flex;\n",
       "  }\n",
       "\n",
       "  #altair-viz-0f476d57bd09428bb4e9f55ac408452d.vega-embed details,\n",
       "  #altair-viz-0f476d57bd09428bb4e9f55ac408452d.vega-embed details summary {\n",
       "    position: relative;\n",
       "  }\n",
       "</style>\n",
       "<div id=\"altair-viz-0f476d57bd09428bb4e9f55ac408452d\"></div>\n",
       "<script type=\"text/javascript\">\n",
       "  var VEGA_DEBUG = (typeof VEGA_DEBUG == \"undefined\") ? {} : VEGA_DEBUG;\n",
       "  (function(spec, embedOpt){\n",
       "    let outputDiv = document.currentScript.previousElementSibling;\n",
       "    if (outputDiv.id !== \"altair-viz-0f476d57bd09428bb4e9f55ac408452d\") {\n",
       "      outputDiv = document.getElementById(\"altair-viz-0f476d57bd09428bb4e9f55ac408452d\");\n",
       "    }\n",
       "    const paths = {\n",
       "      \"vega\": \"https://cdn.jsdelivr.net/npm/vega@5?noext\",\n",
       "      \"vega-lib\": \"https://cdn.jsdelivr.net/npm/vega-lib?noext\",\n",
       "      \"vega-lite\": \"https://cdn.jsdelivr.net/npm/vega-lite@5.20.1?noext\",\n",
       "      \"vega-embed\": \"https://cdn.jsdelivr.net/npm/vega-embed@6?noext\",\n",
       "    };\n",
       "\n",
       "    function maybeLoadScript(lib, version) {\n",
       "      var key = `${lib.replace(\"-\", \"\")}_version`;\n",
       "      return (VEGA_DEBUG[key] == version) ?\n",
       "        Promise.resolve(paths[lib]) :\n",
       "        new Promise(function(resolve, reject) {\n",
       "          var s = document.createElement('script');\n",
       "          document.getElementsByTagName(\"head\")[0].appendChild(s);\n",
       "          s.async = true;\n",
       "          s.onload = () => {\n",
       "            VEGA_DEBUG[key] = version;\n",
       "            return resolve(paths[lib]);\n",
       "          };\n",
       "          s.onerror = () => reject(`Error loading script: ${paths[lib]}`);\n",
       "          s.src = paths[lib];\n",
       "        });\n",
       "    }\n",
       "\n",
       "    function showError(err) {\n",
       "      outputDiv.innerHTML = `<div class=\"error\" style=\"color:red;\">${err}</div>`;\n",
       "      throw err;\n",
       "    }\n",
       "\n",
       "    function displayChart(vegaEmbed) {\n",
       "      vegaEmbed(outputDiv, spec, embedOpt)\n",
       "        .catch(err => showError(`Javascript Error: ${err.message}<br>This usually means there's a typo in your chart specification. See the javascript console for the full traceback.`));\n",
       "    }\n",
       "\n",
       "    if(typeof define === \"function\" && define.amd) {\n",
       "      requirejs.config({paths});\n",
       "      require([\"vega-embed\"], displayChart, err => showError(`Error loading script: ${err.message}`));\n",
       "    } else {\n",
       "      maybeLoadScript(\"vega\", \"5\")\n",
       "        .then(() => maybeLoadScript(\"vega-lite\", \"5.20.1\"))\n",
       "        .then(() => maybeLoadScript(\"vega-embed\", \"6\"))\n",
       "        .catch(showError)\n",
       "        .then(() => displayChart(vegaEmbed));\n",
       "    }\n",
       "  })({\"config\": {\"view\": {\"continuousWidth\": 300, \"continuousHeight\": 300}}, \"layer\": [{\"data\": {\"name\": \"data-fe9f2f7522e52ef17ff4ec2f4cc19cc5\"}, \"mark\": {\"type\": \"line\"}, \"encoding\": {\"x\": {\"field\": \"x\", \"type\": \"quantitative\"}, \"y\": {\"field\": \"y\", \"type\": \"quantitative\"}}, \"name\": \"view_16\"}, {\"data\": {\"name\": \"data-3487e5c75375c8d91cae6c38f3b1450e\"}, \"mark\": {\"type\": \"line\"}, \"encoding\": {\"x\": {\"field\": \"x\", \"type\": \"quantitative\"}, \"y\": {\"field\": \"y\", \"type\": \"quantitative\"}}}, {\"data\": {\"name\": \"data-fe9f2f7522e52ef17ff4ec2f4cc19cc5\"}, \"mark\": {\"type\": \"circle\"}, \"encoding\": {\"tooltip\": [{\"field\": \"x\", \"type\": \"quantitative\"}], \"x\": {\"field\": \"x\", \"type\": \"quantitative\"}, \"y\": {\"field\": \"y\", \"type\": \"quantitative\"}}}, {\"data\": {\"name\": \"data-3487e5c75375c8d91cae6c38f3b1450e\"}, \"mark\": {\"type\": \"circle\"}, \"encoding\": {\"tooltip\": [{\"field\": \"y\", \"type\": \"quantitative\"}], \"x\": {\"field\": \"x\", \"type\": \"quantitative\"}, \"y\": {\"field\": \"y\", \"type\": \"quantitative\"}}}, {\"data\": {\"name\": \"data-ecc8b5c109cfa8c27c53b894064ec3a7\"}, \"mark\": {\"type\": \"line\", \"color\": \"red\"}, \"encoding\": {\"tooltip\": [{\"field\": \"x\", \"type\": \"quantitative\"}, {\"field\": \"y\", \"type\": \"quantitative\"}], \"x\": {\"field\": \"x\", \"type\": \"quantitative\"}, \"y\": {\"field\": \"y\", \"type\": \"quantitative\"}}}], \"height\": 500, \"params\": [{\"name\": \"param_16\", \"select\": {\"type\": \"interval\", \"encodings\": [\"x\", \"y\"]}, \"bind\": \"scales\", \"views\": [\"view_16\"]}], \"width\": 500, \"$schema\": \"https://vega.github.io/schema/vega-lite/v5.20.1.json\", \"datasets\": {\"data-fe9f2f7522e52ef17ff4ec2f4cc19cc5\": [{\"x\": -30, \"y\": 0}, {\"x\": -27, \"y\": 0}, {\"x\": -24, \"y\": 0}, {\"x\": -21, \"y\": 0}, {\"x\": -18, \"y\": 0}, {\"x\": -15, \"y\": 0}, {\"x\": -12, \"y\": 0}, {\"x\": -9, \"y\": 0}, {\"x\": -6, \"y\": 0}, {\"x\": -3, \"y\": 0}, {\"x\": 0, \"y\": 0}, {\"x\": 3, \"y\": 0}, {\"x\": 6, \"y\": 0}, {\"x\": 9, \"y\": 0}, {\"x\": 12, \"y\": 0}, {\"x\": 15, \"y\": 0}, {\"x\": 18, \"y\": 0}, {\"x\": 21, \"y\": 0}, {\"x\": 24, \"y\": 0}, {\"x\": 27, \"y\": 0}, {\"x\": 30, \"y\": 0}], \"data-3487e5c75375c8d91cae6c38f3b1450e\": [{\"x\": 0, \"y\": -30}, {\"x\": 0, \"y\": -27}, {\"x\": 0, \"y\": -24}, {\"x\": 0, \"y\": -21}, {\"x\": 0, \"y\": -18}, {\"x\": 0, \"y\": -15}, {\"x\": 0, \"y\": -12}, {\"x\": 0, \"y\": -9}, {\"x\": 0, \"y\": -6}, {\"x\": 0, \"y\": -3}, {\"x\": 0, \"y\": 0}, {\"x\": 0, \"y\": 3}, {\"x\": 0, \"y\": 6}, {\"x\": 0, \"y\": 9}, {\"x\": 0, \"y\": 12}, {\"x\": 0, \"y\": 15}, {\"x\": 0, \"y\": 18}, {\"x\": 0, \"y\": 21}, {\"x\": 0, \"y\": 24}, {\"x\": 0, \"y\": 27}, {\"x\": 0, \"y\": 30}], \"data-ecc8b5c109cfa8c27c53b894064ec3a7\": [{\"x\": -20, \"y\": -30.0}, {\"x\": -19, \"y\": -28.5}, {\"x\": -18, \"y\": -27.0}, {\"x\": -17, \"y\": -25.5}, {\"x\": -16, \"y\": -24.0}, {\"x\": -15, \"y\": -22.5}, {\"x\": -14, \"y\": -21.0}, {\"x\": -13, \"y\": -19.5}, {\"x\": -12, \"y\": -18.0}, {\"x\": -11, \"y\": -16.5}, {\"x\": -10, \"y\": -15.0}, {\"x\": -9, \"y\": -13.5}, {\"x\": -8, \"y\": -12.0}, {\"x\": -7, \"y\": -10.5}, {\"x\": -6, \"y\": -9.0}, {\"x\": -5, \"y\": -7.5}, {\"x\": -4, \"y\": -6.0}, {\"x\": -3, \"y\": -4.5}, {\"x\": -2, \"y\": -3.0}, {\"x\": -1, \"y\": -1.5}, {\"x\": 0, \"y\": 0.0}, {\"x\": 1, \"y\": 1.5}, {\"x\": 2, \"y\": 3.0}, {\"x\": 3, \"y\": 4.5}, {\"x\": 4, \"y\": 6.0}, {\"x\": 5, \"y\": 7.5}, {\"x\": 6, \"y\": 9.0}, {\"x\": 7, \"y\": 10.5}, {\"x\": 8, \"y\": 12.0}, {\"x\": 9, \"y\": 13.5}, {\"x\": 10, \"y\": 15.0}, {\"x\": 11, \"y\": 16.5}, {\"x\": 12, \"y\": 18.0}, {\"x\": 13, \"y\": 19.5}, {\"x\": 14, \"y\": 21.0}, {\"x\": 15, \"y\": 22.5}, {\"x\": 16, \"y\": 24.0}, {\"x\": 17, \"y\": 25.5}, {\"x\": 18, \"y\": 27.0}, {\"x\": 19, \"y\": 28.5}, {\"x\": 20, \"y\": 30.0}]}}, {\"mode\": \"vega-lite\"});\n",
       "</script>"
      ],
      "text/plain": [
       "alt.LayerChart(...)"
      ]
     },
     "metadata": {},
     "output_type": "display_data"
    }
   ],
   "source": [
    "plot_line_coordinate_plane(get_linear_data(20, 1.5))"
   ]
  },
  {
   "cell_type": "code",
   "execution_count": 34,
   "metadata": {},
   "outputs": [
    {
     "data": {
      "text/html": [
       "\n",
       "<style>\n",
       "  #altair-viz-529a9cd12a604fad9e7d5f1036902933.vega-embed {\n",
       "    width: 100%;\n",
       "    display: flex;\n",
       "  }\n",
       "\n",
       "  #altair-viz-529a9cd12a604fad9e7d5f1036902933.vega-embed details,\n",
       "  #altair-viz-529a9cd12a604fad9e7d5f1036902933.vega-embed details summary {\n",
       "    position: relative;\n",
       "  }\n",
       "</style>\n",
       "<div id=\"altair-viz-529a9cd12a604fad9e7d5f1036902933\"></div>\n",
       "<script type=\"text/javascript\">\n",
       "  var VEGA_DEBUG = (typeof VEGA_DEBUG == \"undefined\") ? {} : VEGA_DEBUG;\n",
       "  (function(spec, embedOpt){\n",
       "    let outputDiv = document.currentScript.previousElementSibling;\n",
       "    if (outputDiv.id !== \"altair-viz-529a9cd12a604fad9e7d5f1036902933\") {\n",
       "      outputDiv = document.getElementById(\"altair-viz-529a9cd12a604fad9e7d5f1036902933\");\n",
       "    }\n",
       "    const paths = {\n",
       "      \"vega\": \"https://cdn.jsdelivr.net/npm/vega@5?noext\",\n",
       "      \"vega-lib\": \"https://cdn.jsdelivr.net/npm/vega-lib?noext\",\n",
       "      \"vega-lite\": \"https://cdn.jsdelivr.net/npm/vega-lite@5.20.1?noext\",\n",
       "      \"vega-embed\": \"https://cdn.jsdelivr.net/npm/vega-embed@6?noext\",\n",
       "    };\n",
       "\n",
       "    function maybeLoadScript(lib, version) {\n",
       "      var key = `${lib.replace(\"-\", \"\")}_version`;\n",
       "      return (VEGA_DEBUG[key] == version) ?\n",
       "        Promise.resolve(paths[lib]) :\n",
       "        new Promise(function(resolve, reject) {\n",
       "          var s = document.createElement('script');\n",
       "          document.getElementsByTagName(\"head\")[0].appendChild(s);\n",
       "          s.async = true;\n",
       "          s.onload = () => {\n",
       "            VEGA_DEBUG[key] = version;\n",
       "            return resolve(paths[lib]);\n",
       "          };\n",
       "          s.onerror = () => reject(`Error loading script: ${paths[lib]}`);\n",
       "          s.src = paths[lib];\n",
       "        });\n",
       "    }\n",
       "\n",
       "    function showError(err) {\n",
       "      outputDiv.innerHTML = `<div class=\"error\" style=\"color:red;\">${err}</div>`;\n",
       "      throw err;\n",
       "    }\n",
       "\n",
       "    function displayChart(vegaEmbed) {\n",
       "      vegaEmbed(outputDiv, spec, embedOpt)\n",
       "        .catch(err => showError(`Javascript Error: ${err.message}<br>This usually means there's a typo in your chart specification. See the javascript console for the full traceback.`));\n",
       "    }\n",
       "\n",
       "    if(typeof define === \"function\" && define.amd) {\n",
       "      requirejs.config({paths});\n",
       "      require([\"vega-embed\"], displayChart, err => showError(`Error loading script: ${err.message}`));\n",
       "    } else {\n",
       "      maybeLoadScript(\"vega\", \"5\")\n",
       "        .then(() => maybeLoadScript(\"vega-lite\", \"5.20.1\"))\n",
       "        .then(() => maybeLoadScript(\"vega-embed\", \"6\"))\n",
       "        .catch(showError)\n",
       "        .then(() => displayChart(vegaEmbed));\n",
       "    }\n",
       "  })({\"config\": {\"view\": {\"continuousWidth\": 300, \"continuousHeight\": 300}}, \"layer\": [{\"data\": {\"name\": \"data-827001e733abefc02db3d4a2a7c14a67\"}, \"mark\": {\"type\": \"line\"}, \"encoding\": {\"x\": {\"field\": \"x\", \"type\": \"quantitative\"}, \"y\": {\"field\": \"y\", \"type\": \"quantitative\"}}, \"name\": \"view_17\"}, {\"data\": {\"name\": \"data-31bbe2d8408702d42b93c9ad00d0999d\"}, \"mark\": {\"type\": \"line\"}, \"encoding\": {\"x\": {\"field\": \"x\", \"type\": \"quantitative\"}, \"y\": {\"field\": \"y\", \"type\": \"quantitative\"}}}, {\"data\": {\"name\": \"data-827001e733abefc02db3d4a2a7c14a67\"}, \"mark\": {\"type\": \"circle\"}, \"encoding\": {\"tooltip\": [{\"field\": \"x\", \"type\": \"quantitative\"}], \"x\": {\"field\": \"x\", \"type\": \"quantitative\"}, \"y\": {\"field\": \"y\", \"type\": \"quantitative\"}}}, {\"data\": {\"name\": \"data-31bbe2d8408702d42b93c9ad00d0999d\"}, \"mark\": {\"type\": \"circle\"}, \"encoding\": {\"tooltip\": [{\"field\": \"y\", \"type\": \"quantitative\"}], \"x\": {\"field\": \"x\", \"type\": \"quantitative\"}, \"y\": {\"field\": \"y\", \"type\": \"quantitative\"}}}, {\"data\": {\"name\": \"data-5cb07847e36c0eab1f8f1ff34ca6ea50\"}, \"mark\": {\"type\": \"line\", \"color\": \"red\"}, \"encoding\": {\"x\": {\"field\": \"x\", \"type\": \"quantitative\"}, \"y\": {\"field\": \"y\", \"type\": \"quantitative\"}}}, {\"data\": {\"name\": \"data-0826ba38deab88ece95daab065e94596\"}, \"mark\": {\"type\": \"line\", \"color\": \"red\"}, \"encoding\": {\"x\": {\"field\": \"x\", \"type\": \"quantitative\"}, \"y\": {\"field\": \"y\", \"type\": \"quantitative\"}}}, {\"data\": {\"name\": \"data-3ff83b78328fb89ddecf5c3de9228621\"}, \"mark\": {\"type\": \"line\", \"color\": \"red\"}, \"encoding\": {\"x\": {\"field\": \"x\", \"type\": \"quantitative\"}, \"y\": {\"field\": \"y\", \"type\": \"quantitative\"}}}], \"params\": [{\"name\": \"param_17\", \"select\": {\"type\": \"interval\", \"encodings\": [\"x\", \"y\"]}, \"bind\": \"scales\", \"views\": [\"view_17\"]}], \"$schema\": \"https://vega.github.io/schema/vega-lite/v5.20.1.json\", \"datasets\": {\"data-827001e733abefc02db3d4a2a7c14a67\": [{\"x\": -5, \"y\": 0}, {\"x\": -4, \"y\": 0}, {\"x\": -3, \"y\": 0}, {\"x\": -2, \"y\": 0}, {\"x\": -1, \"y\": 0}, {\"x\": 0, \"y\": 0}, {\"x\": 1, \"y\": 0}, {\"x\": 2, \"y\": 0}, {\"x\": 3, \"y\": 0}, {\"x\": 4, \"y\": 0}, {\"x\": 5, \"y\": 0}], \"data-31bbe2d8408702d42b93c9ad00d0999d\": [{\"x\": 0, \"y\": -5}, {\"x\": 0, \"y\": -4}, {\"x\": 0, \"y\": -3}, {\"x\": 0, \"y\": -2}, {\"x\": 0, \"y\": -1}, {\"x\": 0, \"y\": 0}, {\"x\": 0, \"y\": 1}, {\"x\": 0, \"y\": 2}, {\"x\": 0, \"y\": 3}, {\"x\": 0, \"y\": 4}, {\"x\": 0, \"y\": 5}], \"data-5cb07847e36c0eab1f8f1ff34ca6ea50\": [{\"x\": -2, \"y\": 0}, {\"x\": 4, \"y\": 3}], \"data-0826ba38deab88ece95daab065e94596\": [{\"x\": -2, \"y\": 0}, {\"x\": 4, \"y\": 0}], \"data-3ff83b78328fb89ddecf5c3de9228621\": [{\"x\": 4, \"y\": 3}, {\"x\": 4, \"y\": 0}]}}, {\"mode\": \"vega-lite\"});\n",
       "</script>"
      ],
      "text/plain": [
       "alt.LayerChart(...)"
      ]
     },
     "execution_count": 34,
     "metadata": {},
     "output_type": "execute_result"
    }
   ],
   "source": [
    "dfc = pl.DataFrame([(-2, 0), (4, 3)], schema=['x', 'y'], orient='row')\n",
    "dfa = pl.DataFrame([(dfc[0, 'x'], dfc[0, 'y']), (dfc[1, 'x'],\n",
    "                   dfc[0, 'y'])], schema=['x', 'y'], orient='row')\n",
    "dfb = pl.DataFrame([(dfc[1, 'x'], dfc[1, 'y']), (dfc[1, 'x'],\n",
    "                   dfc[0, 'y'])], schema=['x', 'y'], orient='row')\n",
    "\n",
    "(\n",
    "    get_coordinate_plane(5, 5).interactive()\n",
    "    +\n",
    "    alt.Chart(dfc).mark_line(color='red').encode(x='x', y='y')\n",
    "    +\n",
    "    alt.Chart(dfa).mark_line(color='red').encode(x='x', y='y')\n",
    "    +\n",
    "    alt.Chart(dfb).mark_line(color='red').encode(x='x', y='y')\n",
    "\n",
    ")"
   ]
  }
 ],
 "metadata": {
  "kernelspec": {
   "display_name": ".venv",
   "language": "python",
   "name": "python3"
  },
  "language_info": {
   "codemirror_mode": {
    "name": "ipython",
    "version": 3
   },
   "file_extension": ".py",
   "mimetype": "text/x-python",
   "name": "python",
   "nbconvert_exporter": "python",
   "pygments_lexer": "ipython3",
   "version": "3.12.3"
  }
 },
 "nbformat": 4,
 "nbformat_minor": 2
}
