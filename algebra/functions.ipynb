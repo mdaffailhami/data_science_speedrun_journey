{
 "cells": [
  {
   "cell_type": "code",
   "execution_count": 45,
   "metadata": {},
   "outputs": [],
   "source": [
    "import polars as pl\n",
    "import altair as alt\n",
    "from typing import Callable\n",
    "import math"
   ]
  },
  {
   "cell_type": "markdown",
   "metadata": {},
   "source": [
    "### Function to get coordinate plane\n"
   ]
  },
  {
   "cell_type": "code",
   "execution_count": 46,
   "metadata": {},
   "outputs": [],
   "source": [
    "def get_coordinate_plane(x, y):\n",
    "    x, y = x.__ceil__(), y.__ceil__()\n",
    "    a = x if x > y else y\n",
    "\n",
    "    values = range(-a, a+1, 1 if a <= 20 else int((a*2+1) / 20))\n",
    "\n",
    "    df_x = pl.DataFrame({'x': values, 'y': [0 for i in values]})\n",
    "    df_y = pl.DataFrame({'x': [0 for i in values], 'y': values})\n",
    "\n",
    "    return (\n",
    "        alt.Chart(df_x).mark_line().encode(x='x', y='y')\n",
    "        +\n",
    "        alt.Chart(df_y).mark_line().encode(x='x', y='y')\n",
    "        +\n",
    "        alt.Chart(df_x).mark_circle().encode(x='x', y='y', tooltip=['x'])\n",
    "        +\n",
    "        alt.Chart(df_y).mark_circle().encode(x='x', y='y', tooltip=['y'])\n",
    "    )"
   ]
  },
  {
   "cell_type": "markdown",
   "metadata": {},
   "source": [
    "### Function to plot line coordinate plane\n"
   ]
  },
  {
   "cell_type": "code",
   "execution_count": 47,
   "metadata": {},
   "outputs": [],
   "source": [
    "def plot_line_coordinate_plane(line_data):\n",
    "    display(\n",
    "        get_coordinate_plane(line_data['x'].max(), line_data['y'].max()).properties(\n",
    "            width=500, height=500\n",
    "        ).interactive()\n",
    "        +\n",
    "        alt.Chart(line_data).mark_line(color='red').encode(\n",
    "            x='x', y='y', tooltip=['x', 'y'])\n",
    "    )"
   ]
  },
  {
   "cell_type": "markdown",
   "metadata": {},
   "source": [
    "### Function to get X and Y Data\n"
   ]
  },
  {
   "cell_type": "code",
   "execution_count": 48,
   "metadata": {},
   "outputs": [],
   "source": [
    "def get_xy_data(range: int, y_formula: Callable[[float], float]) -> pl.DataFrame:\n",
    "    x = list(__builtins__.range(-range, range + 1))\n",
    "    y = [y_formula(value) for value in x]\n",
    "\n",
    "    return pl.DataFrame({'x': x, 'y': y})"
   ]
  },
  {
   "cell_type": "markdown",
   "metadata": {},
   "source": [
    "### Give it a try\n"
   ]
  },
  {
   "cell_type": "code",
   "execution_count": 49,
   "metadata": {},
   "outputs": [
    {
     "data": {
      "text/html": [
       "\n",
       "<style>\n",
       "  #altair-viz-b9e9d3d2102a4395a95c4a70ee4357e6.vega-embed {\n",
       "    width: 100%;\n",
       "    display: flex;\n",
       "  }\n",
       "\n",
       "  #altair-viz-b9e9d3d2102a4395a95c4a70ee4357e6.vega-embed details,\n",
       "  #altair-viz-b9e9d3d2102a4395a95c4a70ee4357e6.vega-embed details summary {\n",
       "    position: relative;\n",
       "  }\n",
       "</style>\n",
       "<div id=\"altair-viz-b9e9d3d2102a4395a95c4a70ee4357e6\"></div>\n",
       "<script type=\"text/javascript\">\n",
       "  var VEGA_DEBUG = (typeof VEGA_DEBUG == \"undefined\") ? {} : VEGA_DEBUG;\n",
       "  (function(spec, embedOpt){\n",
       "    let outputDiv = document.currentScript.previousElementSibling;\n",
       "    if (outputDiv.id !== \"altair-viz-b9e9d3d2102a4395a95c4a70ee4357e6\") {\n",
       "      outputDiv = document.getElementById(\"altair-viz-b9e9d3d2102a4395a95c4a70ee4357e6\");\n",
       "    }\n",
       "    const paths = {\n",
       "      \"vega\": \"https://cdn.jsdelivr.net/npm/vega@5?noext\",\n",
       "      \"vega-lib\": \"https://cdn.jsdelivr.net/npm/vega-lib?noext\",\n",
       "      \"vega-lite\": \"https://cdn.jsdelivr.net/npm/vega-lite@5.20.1?noext\",\n",
       "      \"vega-embed\": \"https://cdn.jsdelivr.net/npm/vega-embed@6?noext\",\n",
       "    };\n",
       "\n",
       "    function maybeLoadScript(lib, version) {\n",
       "      var key = `${lib.replace(\"-\", \"\")}_version`;\n",
       "      return (VEGA_DEBUG[key] == version) ?\n",
       "        Promise.resolve(paths[lib]) :\n",
       "        new Promise(function(resolve, reject) {\n",
       "          var s = document.createElement('script');\n",
       "          document.getElementsByTagName(\"head\")[0].appendChild(s);\n",
       "          s.async = true;\n",
       "          s.onload = () => {\n",
       "            VEGA_DEBUG[key] = version;\n",
       "            return resolve(paths[lib]);\n",
       "          };\n",
       "          s.onerror = () => reject(`Error loading script: ${paths[lib]}`);\n",
       "          s.src = paths[lib];\n",
       "        });\n",
       "    }\n",
       "\n",
       "    function showError(err) {\n",
       "      outputDiv.innerHTML = `<div class=\"error\" style=\"color:red;\">${err}</div>`;\n",
       "      throw err;\n",
       "    }\n",
       "\n",
       "    function displayChart(vegaEmbed) {\n",
       "      vegaEmbed(outputDiv, spec, embedOpt)\n",
       "        .catch(err => showError(`Javascript Error: ${err.message}<br>This usually means there's a typo in your chart specification. See the javascript console for the full traceback.`));\n",
       "    }\n",
       "\n",
       "    if(typeof define === \"function\" && define.amd) {\n",
       "      requirejs.config({paths});\n",
       "      require([\"vega-embed\"], displayChart, err => showError(`Error loading script: ${err.message}`));\n",
       "    } else {\n",
       "      maybeLoadScript(\"vega\", \"5\")\n",
       "        .then(() => maybeLoadScript(\"vega-lite\", \"5.20.1\"))\n",
       "        .then(() => maybeLoadScript(\"vega-embed\", \"6\"))\n",
       "        .catch(showError)\n",
       "        .then(() => displayChart(vegaEmbed));\n",
       "    }\n",
       "  })({\"config\": {\"view\": {\"continuousWidth\": 300, \"continuousHeight\": 300}}, \"layer\": [{\"data\": {\"name\": \"data-29da136e3e979eb2f8f12ccac5e10043\"}, \"mark\": {\"type\": \"line\"}, \"encoding\": {\"x\": {\"field\": \"x\", \"type\": \"quantitative\"}, \"y\": {\"field\": \"y\", \"type\": \"quantitative\"}}, \"name\": \"view_26\"}, {\"data\": {\"name\": \"data-28e1e08f4c34f8664f240e1ca89ea516\"}, \"mark\": {\"type\": \"line\"}, \"encoding\": {\"x\": {\"field\": \"x\", \"type\": \"quantitative\"}, \"y\": {\"field\": \"y\", \"type\": \"quantitative\"}}}, {\"data\": {\"name\": \"data-29da136e3e979eb2f8f12ccac5e10043\"}, \"mark\": {\"type\": \"circle\"}, \"encoding\": {\"tooltip\": [{\"field\": \"x\", \"type\": \"quantitative\"}], \"x\": {\"field\": \"x\", \"type\": \"quantitative\"}, \"y\": {\"field\": \"y\", \"type\": \"quantitative\"}}}, {\"data\": {\"name\": \"data-28e1e08f4c34f8664f240e1ca89ea516\"}, \"mark\": {\"type\": \"circle\"}, \"encoding\": {\"tooltip\": [{\"field\": \"y\", \"type\": \"quantitative\"}], \"x\": {\"field\": \"x\", \"type\": \"quantitative\"}, \"y\": {\"field\": \"y\", \"type\": \"quantitative\"}}}, {\"data\": {\"name\": \"data-bca66e6cba0881ccea0c06d212a637cb\"}, \"mark\": {\"type\": \"line\", \"color\": \"red\"}, \"encoding\": {\"tooltip\": [{\"field\": \"x\", \"type\": \"quantitative\"}, {\"field\": \"y\", \"type\": \"quantitative\"}], \"x\": {\"field\": \"x\", \"type\": \"quantitative\"}, \"y\": {\"field\": \"y\", \"type\": \"quantitative\"}}}], \"height\": 500, \"params\": [{\"name\": \"param_26\", \"select\": {\"type\": \"interval\", \"encodings\": [\"x\", \"y\"]}, \"bind\": \"scales\", \"views\": [\"view_26\"]}], \"width\": 500, \"$schema\": \"https://vega.github.io/schema/vega-lite/v5.20.1.json\", \"datasets\": {\"data-29da136e3e979eb2f8f12ccac5e10043\": [{\"x\": -25, \"y\": 0}, {\"x\": -23, \"y\": 0}, {\"x\": -21, \"y\": 0}, {\"x\": -19, \"y\": 0}, {\"x\": -17, \"y\": 0}, {\"x\": -15, \"y\": 0}, {\"x\": -13, \"y\": 0}, {\"x\": -11, \"y\": 0}, {\"x\": -9, \"y\": 0}, {\"x\": -7, \"y\": 0}, {\"x\": -5, \"y\": 0}, {\"x\": -3, \"y\": 0}, {\"x\": -1, \"y\": 0}, {\"x\": 1, \"y\": 0}, {\"x\": 3, \"y\": 0}, {\"x\": 5, \"y\": 0}, {\"x\": 7, \"y\": 0}, {\"x\": 9, \"y\": 0}, {\"x\": 11, \"y\": 0}, {\"x\": 13, \"y\": 0}, {\"x\": 15, \"y\": 0}, {\"x\": 17, \"y\": 0}, {\"x\": 19, \"y\": 0}, {\"x\": 21, \"y\": 0}, {\"x\": 23, \"y\": 0}, {\"x\": 25, \"y\": 0}], \"data-28e1e08f4c34f8664f240e1ca89ea516\": [{\"x\": 0, \"y\": -25}, {\"x\": 0, \"y\": -23}, {\"x\": 0, \"y\": -21}, {\"x\": 0, \"y\": -19}, {\"x\": 0, \"y\": -17}, {\"x\": 0, \"y\": -15}, {\"x\": 0, \"y\": -13}, {\"x\": 0, \"y\": -11}, {\"x\": 0, \"y\": -9}, {\"x\": 0, \"y\": -7}, {\"x\": 0, \"y\": -5}, {\"x\": 0, \"y\": -3}, {\"x\": 0, \"y\": -1}, {\"x\": 0, \"y\": 1}, {\"x\": 0, \"y\": 3}, {\"x\": 0, \"y\": 5}, {\"x\": 0, \"y\": 7}, {\"x\": 0, \"y\": 9}, {\"x\": 0, \"y\": 11}, {\"x\": 0, \"y\": 13}, {\"x\": 0, \"y\": 15}, {\"x\": 0, \"y\": 17}, {\"x\": 0, \"y\": 19}, {\"x\": 0, \"y\": 21}, {\"x\": 0, \"y\": 23}, {\"x\": 0, \"y\": 25}], \"data-bca66e6cba0881ccea0c06d212a637cb\": [{\"x\": -10, \"y\": -15}, {\"x\": -9, \"y\": -13}, {\"x\": -8, \"y\": -11}, {\"x\": -7, \"y\": -9}, {\"x\": -6, \"y\": -7}, {\"x\": -5, \"y\": -5}, {\"x\": -4, \"y\": -3}, {\"x\": -3, \"y\": -1}, {\"x\": -2, \"y\": 1}, {\"x\": -1, \"y\": 3}, {\"x\": 0, \"y\": 5}, {\"x\": 1, \"y\": 7}, {\"x\": 2, \"y\": 9}, {\"x\": 3, \"y\": 11}, {\"x\": 4, \"y\": 13}, {\"x\": 5, \"y\": 15}, {\"x\": 6, \"y\": 17}, {\"x\": 7, \"y\": 19}, {\"x\": 8, \"y\": 21}, {\"x\": 9, \"y\": 23}, {\"x\": 10, \"y\": 25}]}}, {\"mode\": \"vega-lite\"});\n",
       "</script>"
      ],
      "text/plain": [
       "alt.LayerChart(...)"
      ]
     },
     "metadata": {},
     "output_type": "display_data"
    }
   ],
   "source": [
    "df = get_xy_data(10, lambda x: 2 * x + 5)\n",
    "plot_line_coordinate_plane(df)"
   ]
  },
  {
   "cell_type": "code",
   "execution_count": 50,
   "metadata": {},
   "outputs": [
    {
     "data": {
      "text/html": [
       "\n",
       "<style>\n",
       "  #altair-viz-a98f4365b0374058a7109ebd8caa3d5a.vega-embed {\n",
       "    width: 100%;\n",
       "    display: flex;\n",
       "  }\n",
       "\n",
       "  #altair-viz-a98f4365b0374058a7109ebd8caa3d5a.vega-embed details,\n",
       "  #altair-viz-a98f4365b0374058a7109ebd8caa3d5a.vega-embed details summary {\n",
       "    position: relative;\n",
       "  }\n",
       "</style>\n",
       "<div id=\"altair-viz-a98f4365b0374058a7109ebd8caa3d5a\"></div>\n",
       "<script type=\"text/javascript\">\n",
       "  var VEGA_DEBUG = (typeof VEGA_DEBUG == \"undefined\") ? {} : VEGA_DEBUG;\n",
       "  (function(spec, embedOpt){\n",
       "    let outputDiv = document.currentScript.previousElementSibling;\n",
       "    if (outputDiv.id !== \"altair-viz-a98f4365b0374058a7109ebd8caa3d5a\") {\n",
       "      outputDiv = document.getElementById(\"altair-viz-a98f4365b0374058a7109ebd8caa3d5a\");\n",
       "    }\n",
       "    const paths = {\n",
       "      \"vega\": \"https://cdn.jsdelivr.net/npm/vega@5?noext\",\n",
       "      \"vega-lib\": \"https://cdn.jsdelivr.net/npm/vega-lib?noext\",\n",
       "      \"vega-lite\": \"https://cdn.jsdelivr.net/npm/vega-lite@5.20.1?noext\",\n",
       "      \"vega-embed\": \"https://cdn.jsdelivr.net/npm/vega-embed@6?noext\",\n",
       "    };\n",
       "\n",
       "    function maybeLoadScript(lib, version) {\n",
       "      var key = `${lib.replace(\"-\", \"\")}_version`;\n",
       "      return (VEGA_DEBUG[key] == version) ?\n",
       "        Promise.resolve(paths[lib]) :\n",
       "        new Promise(function(resolve, reject) {\n",
       "          var s = document.createElement('script');\n",
       "          document.getElementsByTagName(\"head\")[0].appendChild(s);\n",
       "          s.async = true;\n",
       "          s.onload = () => {\n",
       "            VEGA_DEBUG[key] = version;\n",
       "            return resolve(paths[lib]);\n",
       "          };\n",
       "          s.onerror = () => reject(`Error loading script: ${paths[lib]}`);\n",
       "          s.src = paths[lib];\n",
       "        });\n",
       "    }\n",
       "\n",
       "    function showError(err) {\n",
       "      outputDiv.innerHTML = `<div class=\"error\" style=\"color:red;\">${err}</div>`;\n",
       "      throw err;\n",
       "    }\n",
       "\n",
       "    function displayChart(vegaEmbed) {\n",
       "      vegaEmbed(outputDiv, spec, embedOpt)\n",
       "        .catch(err => showError(`Javascript Error: ${err.message}<br>This usually means there's a typo in your chart specification. See the javascript console for the full traceback.`));\n",
       "    }\n",
       "\n",
       "    if(typeof define === \"function\" && define.amd) {\n",
       "      requirejs.config({paths});\n",
       "      require([\"vega-embed\"], displayChart, err => showError(`Error loading script: ${err.message}`));\n",
       "    } else {\n",
       "      maybeLoadScript(\"vega\", \"5\")\n",
       "        .then(() => maybeLoadScript(\"vega-lite\", \"5.20.1\"))\n",
       "        .then(() => maybeLoadScript(\"vega-embed\", \"6\"))\n",
       "        .catch(showError)\n",
       "        .then(() => displayChart(vegaEmbed));\n",
       "    }\n",
       "  })({\"config\": {\"view\": {\"continuousWidth\": 300, \"continuousHeight\": 300}}, \"layer\": [{\"data\": {\"name\": \"data-bfd78dbddb1a587de84b7d1a679af9e0\"}, \"mark\": {\"type\": \"line\"}, \"encoding\": {\"x\": {\"field\": \"x\", \"type\": \"quantitative\"}, \"y\": {\"field\": \"y\", \"type\": \"quantitative\"}}, \"name\": \"view_27\"}, {\"data\": {\"name\": \"data-09553338e4d16cf7d38b851a008b00f5\"}, \"mark\": {\"type\": \"line\"}, \"encoding\": {\"x\": {\"field\": \"x\", \"type\": \"quantitative\"}, \"y\": {\"field\": \"y\", \"type\": \"quantitative\"}}}, {\"data\": {\"name\": \"data-bfd78dbddb1a587de84b7d1a679af9e0\"}, \"mark\": {\"type\": \"circle\"}, \"encoding\": {\"tooltip\": [{\"field\": \"x\", \"type\": \"quantitative\"}], \"x\": {\"field\": \"x\", \"type\": \"quantitative\"}, \"y\": {\"field\": \"y\", \"type\": \"quantitative\"}}}, {\"data\": {\"name\": \"data-09553338e4d16cf7d38b851a008b00f5\"}, \"mark\": {\"type\": \"circle\"}, \"encoding\": {\"tooltip\": [{\"field\": \"y\", \"type\": \"quantitative\"}], \"x\": {\"field\": \"x\", \"type\": \"quantitative\"}, \"y\": {\"field\": \"y\", \"type\": \"quantitative\"}}}, {\"data\": {\"name\": \"data-52f8fba70c108866c309eda6a9d2b4f8\"}, \"mark\": {\"type\": \"line\", \"color\": \"red\"}, \"encoding\": {\"tooltip\": [{\"field\": \"x\", \"type\": \"quantitative\"}, {\"field\": \"y\", \"type\": \"quantitative\"}], \"x\": {\"field\": \"x\", \"type\": \"quantitative\"}, \"y\": {\"field\": \"y\", \"type\": \"quantitative\"}}}], \"height\": 500, \"params\": [{\"name\": \"param_27\", \"select\": {\"type\": \"interval\", \"encodings\": [\"x\", \"y\"]}, \"bind\": \"scales\", \"views\": [\"view_27\"]}], \"width\": 500, \"$schema\": \"https://vega.github.io/schema/vega-lite/v5.20.1.json\", \"datasets\": {\"data-bfd78dbddb1a587de84b7d1a679af9e0\": [{\"x\": -49, \"y\": 0}, {\"x\": -45, \"y\": 0}, {\"x\": -41, \"y\": 0}, {\"x\": -37, \"y\": 0}, {\"x\": -33, \"y\": 0}, {\"x\": -29, \"y\": 0}, {\"x\": -25, \"y\": 0}, {\"x\": -21, \"y\": 0}, {\"x\": -17, \"y\": 0}, {\"x\": -13, \"y\": 0}, {\"x\": -9, \"y\": 0}, {\"x\": -5, \"y\": 0}, {\"x\": -1, \"y\": 0}, {\"x\": 3, \"y\": 0}, {\"x\": 7, \"y\": 0}, {\"x\": 11, \"y\": 0}, {\"x\": 15, \"y\": 0}, {\"x\": 19, \"y\": 0}, {\"x\": 23, \"y\": 0}, {\"x\": 27, \"y\": 0}, {\"x\": 31, \"y\": 0}, {\"x\": 35, \"y\": 0}, {\"x\": 39, \"y\": 0}, {\"x\": 43, \"y\": 0}, {\"x\": 47, \"y\": 0}], \"data-09553338e4d16cf7d38b851a008b00f5\": [{\"x\": 0, \"y\": -49}, {\"x\": 0, \"y\": -45}, {\"x\": 0, \"y\": -41}, {\"x\": 0, \"y\": -37}, {\"x\": 0, \"y\": -33}, {\"x\": 0, \"y\": -29}, {\"x\": 0, \"y\": -25}, {\"x\": 0, \"y\": -21}, {\"x\": 0, \"y\": -17}, {\"x\": 0, \"y\": -13}, {\"x\": 0, \"y\": -9}, {\"x\": 0, \"y\": -5}, {\"x\": 0, \"y\": -1}, {\"x\": 0, \"y\": 3}, {\"x\": 0, \"y\": 7}, {\"x\": 0, \"y\": 11}, {\"x\": 0, \"y\": 15}, {\"x\": 0, \"y\": 19}, {\"x\": 0, \"y\": 23}, {\"x\": 0, \"y\": 27}, {\"x\": 0, \"y\": 31}, {\"x\": 0, \"y\": 35}, {\"x\": 0, \"y\": 39}, {\"x\": 0, \"y\": 43}, {\"x\": 0, \"y\": 47}], \"data-52f8fba70c108866c309eda6a9d2b4f8\": [{\"x\": -7, \"y\": 49}, {\"x\": -6, \"y\": 36}, {\"x\": -5, \"y\": 25}, {\"x\": -4, \"y\": 16}, {\"x\": -3, \"y\": 9}, {\"x\": -2, \"y\": 4}, {\"x\": -1, \"y\": 1}, {\"x\": 0, \"y\": 0}, {\"x\": 1, \"y\": 1}, {\"x\": 2, \"y\": 4}, {\"x\": 3, \"y\": 9}, {\"x\": 4, \"y\": 16}, {\"x\": 5, \"y\": 25}, {\"x\": 6, \"y\": 36}, {\"x\": 7, \"y\": 49}]}}, {\"mode\": \"vega-lite\"});\n",
       "</script>"
      ],
      "text/plain": [
       "alt.LayerChart(...)"
      ]
     },
     "metadata": {},
     "output_type": "display_data"
    }
   ],
   "source": [
    "df = get_xy_data(7, lambda x: x ** 2)\n",
    "plot_line_coordinate_plane(df)"
   ]
  },
  {
   "cell_type": "code",
   "execution_count": 51,
   "metadata": {},
   "outputs": [
    {
     "data": {
      "text/html": [
       "\n",
       "<style>\n",
       "  #altair-viz-c3503bf6b8a14047b8bcadc3b471cd1c.vega-embed {\n",
       "    width: 100%;\n",
       "    display: flex;\n",
       "  }\n",
       "\n",
       "  #altair-viz-c3503bf6b8a14047b8bcadc3b471cd1c.vega-embed details,\n",
       "  #altair-viz-c3503bf6b8a14047b8bcadc3b471cd1c.vega-embed details summary {\n",
       "    position: relative;\n",
       "  }\n",
       "</style>\n",
       "<div id=\"altair-viz-c3503bf6b8a14047b8bcadc3b471cd1c\"></div>\n",
       "<script type=\"text/javascript\">\n",
       "  var VEGA_DEBUG = (typeof VEGA_DEBUG == \"undefined\") ? {} : VEGA_DEBUG;\n",
       "  (function(spec, embedOpt){\n",
       "    let outputDiv = document.currentScript.previousElementSibling;\n",
       "    if (outputDiv.id !== \"altair-viz-c3503bf6b8a14047b8bcadc3b471cd1c\") {\n",
       "      outputDiv = document.getElementById(\"altair-viz-c3503bf6b8a14047b8bcadc3b471cd1c\");\n",
       "    }\n",
       "    const paths = {\n",
       "      \"vega\": \"https://cdn.jsdelivr.net/npm/vega@5?noext\",\n",
       "      \"vega-lib\": \"https://cdn.jsdelivr.net/npm/vega-lib?noext\",\n",
       "      \"vega-lite\": \"https://cdn.jsdelivr.net/npm/vega-lite@5.20.1?noext\",\n",
       "      \"vega-embed\": \"https://cdn.jsdelivr.net/npm/vega-embed@6?noext\",\n",
       "    };\n",
       "\n",
       "    function maybeLoadScript(lib, version) {\n",
       "      var key = `${lib.replace(\"-\", \"\")}_version`;\n",
       "      return (VEGA_DEBUG[key] == version) ?\n",
       "        Promise.resolve(paths[lib]) :\n",
       "        new Promise(function(resolve, reject) {\n",
       "          var s = document.createElement('script');\n",
       "          document.getElementsByTagName(\"head\")[0].appendChild(s);\n",
       "          s.async = true;\n",
       "          s.onload = () => {\n",
       "            VEGA_DEBUG[key] = version;\n",
       "            return resolve(paths[lib]);\n",
       "          };\n",
       "          s.onerror = () => reject(`Error loading script: ${paths[lib]}`);\n",
       "          s.src = paths[lib];\n",
       "        });\n",
       "    }\n",
       "\n",
       "    function showError(err) {\n",
       "      outputDiv.innerHTML = `<div class=\"error\" style=\"color:red;\">${err}</div>`;\n",
       "      throw err;\n",
       "    }\n",
       "\n",
       "    function displayChart(vegaEmbed) {\n",
       "      vegaEmbed(outputDiv, spec, embedOpt)\n",
       "        .catch(err => showError(`Javascript Error: ${err.message}<br>This usually means there's a typo in your chart specification. See the javascript console for the full traceback.`));\n",
       "    }\n",
       "\n",
       "    if(typeof define === \"function\" && define.amd) {\n",
       "      requirejs.config({paths});\n",
       "      require([\"vega-embed\"], displayChart, err => showError(`Error loading script: ${err.message}`));\n",
       "    } else {\n",
       "      maybeLoadScript(\"vega\", \"5\")\n",
       "        .then(() => maybeLoadScript(\"vega-lite\", \"5.20.1\"))\n",
       "        .then(() => maybeLoadScript(\"vega-embed\", \"6\"))\n",
       "        .catch(showError)\n",
       "        .then(() => displayChart(vegaEmbed));\n",
       "    }\n",
       "  })({\"config\": {\"view\": {\"continuousWidth\": 300, \"continuousHeight\": 300}}, \"layer\": [{\"data\": {\"name\": \"data-0e689a87dd667492dd2ebcb1e1092fc2\"}, \"mark\": {\"type\": \"line\"}, \"encoding\": {\"x\": {\"field\": \"x\", \"type\": \"quantitative\"}, \"y\": {\"field\": \"y\", \"type\": \"quantitative\"}}, \"name\": \"view_28\"}, {\"data\": {\"name\": \"data-094d66fe1b7e3ab3e81620bafed4f19f\"}, \"mark\": {\"type\": \"line\"}, \"encoding\": {\"x\": {\"field\": \"x\", \"type\": \"quantitative\"}, \"y\": {\"field\": \"y\", \"type\": \"quantitative\"}}}, {\"data\": {\"name\": \"data-0e689a87dd667492dd2ebcb1e1092fc2\"}, \"mark\": {\"type\": \"circle\"}, \"encoding\": {\"tooltip\": [{\"field\": \"x\", \"type\": \"quantitative\"}], \"x\": {\"field\": \"x\", \"type\": \"quantitative\"}, \"y\": {\"field\": \"y\", \"type\": \"quantitative\"}}}, {\"data\": {\"name\": \"data-094d66fe1b7e3ab3e81620bafed4f19f\"}, \"mark\": {\"type\": \"circle\"}, \"encoding\": {\"tooltip\": [{\"field\": \"y\", \"type\": \"quantitative\"}], \"x\": {\"field\": \"x\", \"type\": \"quantitative\"}, \"y\": {\"field\": \"y\", \"type\": \"quantitative\"}}}, {\"data\": {\"name\": \"data-9a4d03bac30acdde3552b97e1d04be47\"}, \"mark\": {\"type\": \"line\", \"color\": \"red\"}, \"encoding\": {\"tooltip\": [{\"field\": \"x\", \"type\": \"quantitative\"}, {\"field\": \"y\", \"type\": \"quantitative\"}], \"x\": {\"field\": \"x\", \"type\": \"quantitative\"}, \"y\": {\"field\": \"y\", \"type\": \"quantitative\"}}}], \"height\": 500, \"params\": [{\"name\": \"param_28\", \"select\": {\"type\": \"interval\", \"encodings\": [\"x\", \"y\"]}, \"bind\": \"scales\", \"views\": [\"view_28\"]}], \"width\": 500, \"$schema\": \"https://vega.github.io/schema/vega-lite/v5.20.1.json\", \"datasets\": {\"data-0e689a87dd667492dd2ebcb1e1092fc2\": [{\"x\": -8, \"y\": 0}, {\"x\": -7, \"y\": 0}, {\"x\": -6, \"y\": 0}, {\"x\": -5, \"y\": 0}, {\"x\": -4, \"y\": 0}, {\"x\": -3, \"y\": 0}, {\"x\": -2, \"y\": 0}, {\"x\": -1, \"y\": 0}, {\"x\": 0, \"y\": 0}, {\"x\": 1, \"y\": 0}, {\"x\": 2, \"y\": 0}, {\"x\": 3, \"y\": 0}, {\"x\": 4, \"y\": 0}, {\"x\": 5, \"y\": 0}, {\"x\": 6, \"y\": 0}, {\"x\": 7, \"y\": 0}, {\"x\": 8, \"y\": 0}], \"data-094d66fe1b7e3ab3e81620bafed4f19f\": [{\"x\": 0, \"y\": -8}, {\"x\": 0, \"y\": -7}, {\"x\": 0, \"y\": -6}, {\"x\": 0, \"y\": -5}, {\"x\": 0, \"y\": -4}, {\"x\": 0, \"y\": -3}, {\"x\": 0, \"y\": -2}, {\"x\": 0, \"y\": -1}, {\"x\": 0, \"y\": 0}, {\"x\": 0, \"y\": 1}, {\"x\": 0, \"y\": 2}, {\"x\": 0, \"y\": 3}, {\"x\": 0, \"y\": 4}, {\"x\": 0, \"y\": 5}, {\"x\": 0, \"y\": 6}, {\"x\": 0, \"y\": 7}, {\"x\": 0, \"y\": 8}], \"data-9a4d03bac30acdde3552b97e1d04be47\": [{\"x\": -8, \"y\": -0.14550003380861354}, {\"x\": -7, \"y\": 0.7539022543433046}, {\"x\": -6, \"y\": 0.960170286650366}, {\"x\": -5, \"y\": 0.28366218546322625}, {\"x\": -4, \"y\": -0.6536436208636119}, {\"x\": -3, \"y\": -0.9899924966004454}, {\"x\": -2, \"y\": -0.4161468365471424}, {\"x\": -1, \"y\": 0.5403023058681398}, {\"x\": 0, \"y\": 1.0}, {\"x\": 1, \"y\": 0.5403023058681398}, {\"x\": 2, \"y\": -0.4161468365471424}, {\"x\": 3, \"y\": -0.9899924966004454}, {\"x\": 4, \"y\": -0.6536436208636119}, {\"x\": 5, \"y\": 0.28366218546322625}, {\"x\": 6, \"y\": 0.960170286650366}, {\"x\": 7, \"y\": 0.7539022543433046}, {\"x\": 8, \"y\": -0.14550003380861354}]}}, {\"mode\": \"vega-lite\"});\n",
       "</script>"
      ],
      "text/plain": [
       "alt.LayerChart(...)"
      ]
     },
     "metadata": {},
     "output_type": "display_data"
    }
   ],
   "source": [
    "df = get_xy_data(8, lambda x: math.cos(x))\n",
    "plot_line_coordinate_plane(df)"
   ]
  }
 ],
 "metadata": {
  "kernelspec": {
   "display_name": ".venv",
   "language": "python",
   "name": "python3"
  },
  "language_info": {
   "codemirror_mode": {
    "name": "ipython",
    "version": 3
   },
   "file_extension": ".py",
   "mimetype": "text/x-python",
   "name": "python",
   "nbconvert_exporter": "python",
   "pygments_lexer": "ipython3",
   "version": "3.12.3"
  }
 },
 "nbformat": 4,
 "nbformat_minor": 2
}
