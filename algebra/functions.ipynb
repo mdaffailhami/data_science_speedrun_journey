{
 "cells": [
  {
   "cell_type": "code",
   "execution_count": 120,
   "metadata": {},
   "outputs": [],
   "source": [
    "import polars as pl\n",
    "import altair as alt\n",
    "from typing import Callable\n",
    "import math"
   ]
  },
  {
   "cell_type": "markdown",
   "metadata": {},
   "source": [
    "### Function to get coordinate plane\n"
   ]
  },
  {
   "cell_type": "code",
   "execution_count": 121,
   "metadata": {},
   "outputs": [],
   "source": [
    "def get_coordinate_plane(x, y):\n",
    "    x, y = x.__ceil__(), y.__ceil__()\n",
    "    a = x if x > y else y\n",
    "\n",
    "    values = range(-a, a+1, 1 if a <= 20 else int((a*2+1) / 20))\n",
    "\n",
    "    df_x = pl.DataFrame({'x': values, 'y': [0 for i in values]})\n",
    "    df_y = pl.DataFrame({'x': [0 for i in values], 'y': values})\n",
    "\n",
    "    return (\n",
    "        alt.Chart(df_x).mark_line().encode(x='x', y='y')\n",
    "        +\n",
    "        alt.Chart(df_y).mark_line().encode(x='x', y='y')\n",
    "        +\n",
    "        alt.Chart(df_x).mark_circle().encode(x='x', y='y', tooltip=['x'])\n",
    "        +\n",
    "        alt.Chart(df_y).mark_circle().encode(x='x', y='y', tooltip=['y'])\n",
    "    )"
   ]
  },
  {
   "cell_type": "markdown",
   "metadata": {},
   "source": [
    "### Function to plot line coordinate plane\n"
   ]
  },
  {
   "cell_type": "code",
   "execution_count": 122,
   "metadata": {},
   "outputs": [],
   "source": [
    "def plot_line_coordinate_plane(line_data: pl.DataFrame | list[pl.DataFrame]):\n",
    "    if type(line_data) == pl.DataFrame:\n",
    "        line_data = [line_data]\n",
    "\n",
    "    x_max = line_data[0]['x'].max()\n",
    "    y_max = line_data[0]['y'].max()\n",
    "\n",
    "    lines = alt.Chart(line_data[0]).mark_line(color='red').encode(\n",
    "        x='x', y='y', tooltip=['x', 'y']\n",
    "    )\n",
    "\n",
    "    for i, line_datum in enumerate(line_data):\n",
    "        if i == 0:\n",
    "            continue\n",
    "\n",
    "        x_max = line_datum['x'].max(\n",
    "        ) if line_datum['x'].max() > x_max else x_max\n",
    "\n",
    "        y_max = line_datum['y'].max(\n",
    "        ) if line_datum['y'].max() > y_max else y_max\n",
    "\n",
    "        lines += alt.Chart(line_datum).mark_line(color='red').encode(\n",
    "            x='x', y='y', tooltip=['x', 'y']\n",
    "        )\n",
    "\n",
    "    display(\n",
    "        get_coordinate_plane(x_max, y_max).properties(\n",
    "            width=500, height=500\n",
    "        ).interactive()\n",
    "        +\n",
    "        lines\n",
    "    )"
   ]
  },
  {
   "cell_type": "markdown",
   "metadata": {},
   "source": [
    "### Function to get X and Y Data\n"
   ]
  },
  {
   "cell_type": "code",
   "execution_count": 123,
   "metadata": {},
   "outputs": [],
   "source": [
    "def get_xy_data(range: int, y_formula: Callable[[float], float]) -> pl.DataFrame:\n",
    "    x = list(__builtins__.range(-range, range + 1))\n",
    "    y = [y_formula(value) for value in x]\n",
    "\n",
    "    return pl.DataFrame({'x': x, 'y': y})"
   ]
  },
  {
   "cell_type": "markdown",
   "metadata": {},
   "source": [
    "### Give it a try\n"
   ]
  },
  {
   "cell_type": "code",
   "execution_count": 124,
   "metadata": {},
   "outputs": [
    {
     "data": {
      "text/html": [
       "\n",
       "<style>\n",
       "  #altair-viz-bda6438fdcfb4edbbce837907cc2ac95.vega-embed {\n",
       "    width: 100%;\n",
       "    display: flex;\n",
       "  }\n",
       "\n",
       "  #altair-viz-bda6438fdcfb4edbbce837907cc2ac95.vega-embed details,\n",
       "  #altair-viz-bda6438fdcfb4edbbce837907cc2ac95.vega-embed details summary {\n",
       "    position: relative;\n",
       "  }\n",
       "</style>\n",
       "<div id=\"altair-viz-bda6438fdcfb4edbbce837907cc2ac95\"></div>\n",
       "<script type=\"text/javascript\">\n",
       "  var VEGA_DEBUG = (typeof VEGA_DEBUG == \"undefined\") ? {} : VEGA_DEBUG;\n",
       "  (function(spec, embedOpt){\n",
       "    let outputDiv = document.currentScript.previousElementSibling;\n",
       "    if (outputDiv.id !== \"altair-viz-bda6438fdcfb4edbbce837907cc2ac95\") {\n",
       "      outputDiv = document.getElementById(\"altair-viz-bda6438fdcfb4edbbce837907cc2ac95\");\n",
       "    }\n",
       "    const paths = {\n",
       "      \"vega\": \"https://cdn.jsdelivr.net/npm/vega@5?noext\",\n",
       "      \"vega-lib\": \"https://cdn.jsdelivr.net/npm/vega-lib?noext\",\n",
       "      \"vega-lite\": \"https://cdn.jsdelivr.net/npm/vega-lite@5.20.1?noext\",\n",
       "      \"vega-embed\": \"https://cdn.jsdelivr.net/npm/vega-embed@6?noext\",\n",
       "    };\n",
       "\n",
       "    function maybeLoadScript(lib, version) {\n",
       "      var key = `${lib.replace(\"-\", \"\")}_version`;\n",
       "      return (VEGA_DEBUG[key] == version) ?\n",
       "        Promise.resolve(paths[lib]) :\n",
       "        new Promise(function(resolve, reject) {\n",
       "          var s = document.createElement('script');\n",
       "          document.getElementsByTagName(\"head\")[0].appendChild(s);\n",
       "          s.async = true;\n",
       "          s.onload = () => {\n",
       "            VEGA_DEBUG[key] = version;\n",
       "            return resolve(paths[lib]);\n",
       "          };\n",
       "          s.onerror = () => reject(`Error loading script: ${paths[lib]}`);\n",
       "          s.src = paths[lib];\n",
       "        });\n",
       "    }\n",
       "\n",
       "    function showError(err) {\n",
       "      outputDiv.innerHTML = `<div class=\"error\" style=\"color:red;\">${err}</div>`;\n",
       "      throw err;\n",
       "    }\n",
       "\n",
       "    function displayChart(vegaEmbed) {\n",
       "      vegaEmbed(outputDiv, spec, embedOpt)\n",
       "        .catch(err => showError(`Javascript Error: ${err.message}<br>This usually means there's a typo in your chart specification. See the javascript console for the full traceback.`));\n",
       "    }\n",
       "\n",
       "    if(typeof define === \"function\" && define.amd) {\n",
       "      requirejs.config({paths});\n",
       "      require([\"vega-embed\"], displayChart, err => showError(`Error loading script: ${err.message}`));\n",
       "    } else {\n",
       "      maybeLoadScript(\"vega\", \"5\")\n",
       "        .then(() => maybeLoadScript(\"vega-lite\", \"5.20.1\"))\n",
       "        .then(() => maybeLoadScript(\"vega-embed\", \"6\"))\n",
       "        .catch(showError)\n",
       "        .then(() => displayChart(vegaEmbed));\n",
       "    }\n",
       "  })({\"config\": {\"view\": {\"continuousWidth\": 300, \"continuousHeight\": 300}}, \"layer\": [{\"data\": {\"name\": \"data-29da136e3e979eb2f8f12ccac5e10043\"}, \"mark\": {\"type\": \"line\"}, \"encoding\": {\"x\": {\"field\": \"x\", \"type\": \"quantitative\"}, \"y\": {\"field\": \"y\", \"type\": \"quantitative\"}}, \"name\": \"view_41\"}, {\"data\": {\"name\": \"data-28e1e08f4c34f8664f240e1ca89ea516\"}, \"mark\": {\"type\": \"line\"}, \"encoding\": {\"x\": {\"field\": \"x\", \"type\": \"quantitative\"}, \"y\": {\"field\": \"y\", \"type\": \"quantitative\"}}}, {\"data\": {\"name\": \"data-29da136e3e979eb2f8f12ccac5e10043\"}, \"mark\": {\"type\": \"circle\"}, \"encoding\": {\"tooltip\": [{\"field\": \"x\", \"type\": \"quantitative\"}], \"x\": {\"field\": \"x\", \"type\": \"quantitative\"}, \"y\": {\"field\": \"y\", \"type\": \"quantitative\"}}}, {\"data\": {\"name\": \"data-28e1e08f4c34f8664f240e1ca89ea516\"}, \"mark\": {\"type\": \"circle\"}, \"encoding\": {\"tooltip\": [{\"field\": \"y\", \"type\": \"quantitative\"}], \"x\": {\"field\": \"x\", \"type\": \"quantitative\"}, \"y\": {\"field\": \"y\", \"type\": \"quantitative\"}}}, {\"data\": {\"name\": \"data-bca66e6cba0881ccea0c06d212a637cb\"}, \"mark\": {\"type\": \"line\", \"color\": \"red\"}, \"encoding\": {\"tooltip\": [{\"field\": \"x\", \"type\": \"quantitative\"}, {\"field\": \"y\", \"type\": \"quantitative\"}], \"x\": {\"field\": \"x\", \"type\": \"quantitative\"}, \"y\": {\"field\": \"y\", \"type\": \"quantitative\"}}}], \"height\": 500, \"params\": [{\"name\": \"param_41\", \"select\": {\"type\": \"interval\", \"encodings\": [\"x\", \"y\"]}, \"bind\": \"scales\", \"views\": [\"view_41\"]}], \"width\": 500, \"$schema\": \"https://vega.github.io/schema/vega-lite/v5.20.1.json\", \"datasets\": {\"data-29da136e3e979eb2f8f12ccac5e10043\": [{\"x\": -25, \"y\": 0}, {\"x\": -23, \"y\": 0}, {\"x\": -21, \"y\": 0}, {\"x\": -19, \"y\": 0}, {\"x\": -17, \"y\": 0}, {\"x\": -15, \"y\": 0}, {\"x\": -13, \"y\": 0}, {\"x\": -11, \"y\": 0}, {\"x\": -9, \"y\": 0}, {\"x\": -7, \"y\": 0}, {\"x\": -5, \"y\": 0}, {\"x\": -3, \"y\": 0}, {\"x\": -1, \"y\": 0}, {\"x\": 1, \"y\": 0}, {\"x\": 3, \"y\": 0}, {\"x\": 5, \"y\": 0}, {\"x\": 7, \"y\": 0}, {\"x\": 9, \"y\": 0}, {\"x\": 11, \"y\": 0}, {\"x\": 13, \"y\": 0}, {\"x\": 15, \"y\": 0}, {\"x\": 17, \"y\": 0}, {\"x\": 19, \"y\": 0}, {\"x\": 21, \"y\": 0}, {\"x\": 23, \"y\": 0}, {\"x\": 25, \"y\": 0}], \"data-28e1e08f4c34f8664f240e1ca89ea516\": [{\"x\": 0, \"y\": -25}, {\"x\": 0, \"y\": -23}, {\"x\": 0, \"y\": -21}, {\"x\": 0, \"y\": -19}, {\"x\": 0, \"y\": -17}, {\"x\": 0, \"y\": -15}, {\"x\": 0, \"y\": -13}, {\"x\": 0, \"y\": -11}, {\"x\": 0, \"y\": -9}, {\"x\": 0, \"y\": -7}, {\"x\": 0, \"y\": -5}, {\"x\": 0, \"y\": -3}, {\"x\": 0, \"y\": -1}, {\"x\": 0, \"y\": 1}, {\"x\": 0, \"y\": 3}, {\"x\": 0, \"y\": 5}, {\"x\": 0, \"y\": 7}, {\"x\": 0, \"y\": 9}, {\"x\": 0, \"y\": 11}, {\"x\": 0, \"y\": 13}, {\"x\": 0, \"y\": 15}, {\"x\": 0, \"y\": 17}, {\"x\": 0, \"y\": 19}, {\"x\": 0, \"y\": 21}, {\"x\": 0, \"y\": 23}, {\"x\": 0, \"y\": 25}], \"data-bca66e6cba0881ccea0c06d212a637cb\": [{\"x\": -10, \"y\": -15}, {\"x\": -9, \"y\": -13}, {\"x\": -8, \"y\": -11}, {\"x\": -7, \"y\": -9}, {\"x\": -6, \"y\": -7}, {\"x\": -5, \"y\": -5}, {\"x\": -4, \"y\": -3}, {\"x\": -3, \"y\": -1}, {\"x\": -2, \"y\": 1}, {\"x\": -1, \"y\": 3}, {\"x\": 0, \"y\": 5}, {\"x\": 1, \"y\": 7}, {\"x\": 2, \"y\": 9}, {\"x\": 3, \"y\": 11}, {\"x\": 4, \"y\": 13}, {\"x\": 5, \"y\": 15}, {\"x\": 6, \"y\": 17}, {\"x\": 7, \"y\": 19}, {\"x\": 8, \"y\": 21}, {\"x\": 9, \"y\": 23}, {\"x\": 10, \"y\": 25}]}}, {\"mode\": \"vega-lite\"});\n",
       "</script>"
      ],
      "text/plain": [
       "alt.LayerChart(...)"
      ]
     },
     "metadata": {},
     "output_type": "display_data"
    }
   ],
   "source": [
    "df = get_xy_data(10, lambda x: 2 * x + 5)\n",
    "plot_line_coordinate_plane(df)"
   ]
  },
  {
   "cell_type": "code",
   "execution_count": 125,
   "metadata": {},
   "outputs": [
    {
     "data": {
      "text/html": [
       "\n",
       "<style>\n",
       "  #altair-viz-a01a0c38597a42bd8d0778eae410fcc2.vega-embed {\n",
       "    width: 100%;\n",
       "    display: flex;\n",
       "  }\n",
       "\n",
       "  #altair-viz-a01a0c38597a42bd8d0778eae410fcc2.vega-embed details,\n",
       "  #altair-viz-a01a0c38597a42bd8d0778eae410fcc2.vega-embed details summary {\n",
       "    position: relative;\n",
       "  }\n",
       "</style>\n",
       "<div id=\"altair-viz-a01a0c38597a42bd8d0778eae410fcc2\"></div>\n",
       "<script type=\"text/javascript\">\n",
       "  var VEGA_DEBUG = (typeof VEGA_DEBUG == \"undefined\") ? {} : VEGA_DEBUG;\n",
       "  (function(spec, embedOpt){\n",
       "    let outputDiv = document.currentScript.previousElementSibling;\n",
       "    if (outputDiv.id !== \"altair-viz-a01a0c38597a42bd8d0778eae410fcc2\") {\n",
       "      outputDiv = document.getElementById(\"altair-viz-a01a0c38597a42bd8d0778eae410fcc2\");\n",
       "    }\n",
       "    const paths = {\n",
       "      \"vega\": \"https://cdn.jsdelivr.net/npm/vega@5?noext\",\n",
       "      \"vega-lib\": \"https://cdn.jsdelivr.net/npm/vega-lib?noext\",\n",
       "      \"vega-lite\": \"https://cdn.jsdelivr.net/npm/vega-lite@5.20.1?noext\",\n",
       "      \"vega-embed\": \"https://cdn.jsdelivr.net/npm/vega-embed@6?noext\",\n",
       "    };\n",
       "\n",
       "    function maybeLoadScript(lib, version) {\n",
       "      var key = `${lib.replace(\"-\", \"\")}_version`;\n",
       "      return (VEGA_DEBUG[key] == version) ?\n",
       "        Promise.resolve(paths[lib]) :\n",
       "        new Promise(function(resolve, reject) {\n",
       "          var s = document.createElement('script');\n",
       "          document.getElementsByTagName(\"head\")[0].appendChild(s);\n",
       "          s.async = true;\n",
       "          s.onload = () => {\n",
       "            VEGA_DEBUG[key] = version;\n",
       "            return resolve(paths[lib]);\n",
       "          };\n",
       "          s.onerror = () => reject(`Error loading script: ${paths[lib]}`);\n",
       "          s.src = paths[lib];\n",
       "        });\n",
       "    }\n",
       "\n",
       "    function showError(err) {\n",
       "      outputDiv.innerHTML = `<div class=\"error\" style=\"color:red;\">${err}</div>`;\n",
       "      throw err;\n",
       "    }\n",
       "\n",
       "    function displayChart(vegaEmbed) {\n",
       "      vegaEmbed(outputDiv, spec, embedOpt)\n",
       "        .catch(err => showError(`Javascript Error: ${err.message}<br>This usually means there's a typo in your chart specification. See the javascript console for the full traceback.`));\n",
       "    }\n",
       "\n",
       "    if(typeof define === \"function\" && define.amd) {\n",
       "      requirejs.config({paths});\n",
       "      require([\"vega-embed\"], displayChart, err => showError(`Error loading script: ${err.message}`));\n",
       "    } else {\n",
       "      maybeLoadScript(\"vega\", \"5\")\n",
       "        .then(() => maybeLoadScript(\"vega-lite\", \"5.20.1\"))\n",
       "        .then(() => maybeLoadScript(\"vega-embed\", \"6\"))\n",
       "        .catch(showError)\n",
       "        .then(() => displayChart(vegaEmbed));\n",
       "    }\n",
       "  })({\"config\": {\"view\": {\"continuousWidth\": 300, \"continuousHeight\": 300}}, \"layer\": [{\"data\": {\"name\": \"data-bfd78dbddb1a587de84b7d1a679af9e0\"}, \"mark\": {\"type\": \"line\"}, \"encoding\": {\"x\": {\"field\": \"x\", \"type\": \"quantitative\"}, \"y\": {\"field\": \"y\", \"type\": \"quantitative\"}}, \"name\": \"view_42\"}, {\"data\": {\"name\": \"data-09553338e4d16cf7d38b851a008b00f5\"}, \"mark\": {\"type\": \"line\"}, \"encoding\": {\"x\": {\"field\": \"x\", \"type\": \"quantitative\"}, \"y\": {\"field\": \"y\", \"type\": \"quantitative\"}}}, {\"data\": {\"name\": \"data-bfd78dbddb1a587de84b7d1a679af9e0\"}, \"mark\": {\"type\": \"circle\"}, \"encoding\": {\"tooltip\": [{\"field\": \"x\", \"type\": \"quantitative\"}], \"x\": {\"field\": \"x\", \"type\": \"quantitative\"}, \"y\": {\"field\": \"y\", \"type\": \"quantitative\"}}}, {\"data\": {\"name\": \"data-09553338e4d16cf7d38b851a008b00f5\"}, \"mark\": {\"type\": \"circle\"}, \"encoding\": {\"tooltip\": [{\"field\": \"y\", \"type\": \"quantitative\"}], \"x\": {\"field\": \"x\", \"type\": \"quantitative\"}, \"y\": {\"field\": \"y\", \"type\": \"quantitative\"}}}, {\"data\": {\"name\": \"data-52f8fba70c108866c309eda6a9d2b4f8\"}, \"mark\": {\"type\": \"line\", \"color\": \"red\"}, \"encoding\": {\"tooltip\": [{\"field\": \"x\", \"type\": \"quantitative\"}, {\"field\": \"y\", \"type\": \"quantitative\"}], \"x\": {\"field\": \"x\", \"type\": \"quantitative\"}, \"y\": {\"field\": \"y\", \"type\": \"quantitative\"}}}], \"height\": 500, \"params\": [{\"name\": \"param_42\", \"select\": {\"type\": \"interval\", \"encodings\": [\"x\", \"y\"]}, \"bind\": \"scales\", \"views\": [\"view_42\"]}], \"width\": 500, \"$schema\": \"https://vega.github.io/schema/vega-lite/v5.20.1.json\", \"datasets\": {\"data-bfd78dbddb1a587de84b7d1a679af9e0\": [{\"x\": -49, \"y\": 0}, {\"x\": -45, \"y\": 0}, {\"x\": -41, \"y\": 0}, {\"x\": -37, \"y\": 0}, {\"x\": -33, \"y\": 0}, {\"x\": -29, \"y\": 0}, {\"x\": -25, \"y\": 0}, {\"x\": -21, \"y\": 0}, {\"x\": -17, \"y\": 0}, {\"x\": -13, \"y\": 0}, {\"x\": -9, \"y\": 0}, {\"x\": -5, \"y\": 0}, {\"x\": -1, \"y\": 0}, {\"x\": 3, \"y\": 0}, {\"x\": 7, \"y\": 0}, {\"x\": 11, \"y\": 0}, {\"x\": 15, \"y\": 0}, {\"x\": 19, \"y\": 0}, {\"x\": 23, \"y\": 0}, {\"x\": 27, \"y\": 0}, {\"x\": 31, \"y\": 0}, {\"x\": 35, \"y\": 0}, {\"x\": 39, \"y\": 0}, {\"x\": 43, \"y\": 0}, {\"x\": 47, \"y\": 0}], \"data-09553338e4d16cf7d38b851a008b00f5\": [{\"x\": 0, \"y\": -49}, {\"x\": 0, \"y\": -45}, {\"x\": 0, \"y\": -41}, {\"x\": 0, \"y\": -37}, {\"x\": 0, \"y\": -33}, {\"x\": 0, \"y\": -29}, {\"x\": 0, \"y\": -25}, {\"x\": 0, \"y\": -21}, {\"x\": 0, \"y\": -17}, {\"x\": 0, \"y\": -13}, {\"x\": 0, \"y\": -9}, {\"x\": 0, \"y\": -5}, {\"x\": 0, \"y\": -1}, {\"x\": 0, \"y\": 3}, {\"x\": 0, \"y\": 7}, {\"x\": 0, \"y\": 11}, {\"x\": 0, \"y\": 15}, {\"x\": 0, \"y\": 19}, {\"x\": 0, \"y\": 23}, {\"x\": 0, \"y\": 27}, {\"x\": 0, \"y\": 31}, {\"x\": 0, \"y\": 35}, {\"x\": 0, \"y\": 39}, {\"x\": 0, \"y\": 43}, {\"x\": 0, \"y\": 47}], \"data-52f8fba70c108866c309eda6a9d2b4f8\": [{\"x\": -7, \"y\": 49}, {\"x\": -6, \"y\": 36}, {\"x\": -5, \"y\": 25}, {\"x\": -4, \"y\": 16}, {\"x\": -3, \"y\": 9}, {\"x\": -2, \"y\": 4}, {\"x\": -1, \"y\": 1}, {\"x\": 0, \"y\": 0}, {\"x\": 1, \"y\": 1}, {\"x\": 2, \"y\": 4}, {\"x\": 3, \"y\": 9}, {\"x\": 4, \"y\": 16}, {\"x\": 5, \"y\": 25}, {\"x\": 6, \"y\": 36}, {\"x\": 7, \"y\": 49}]}}, {\"mode\": \"vega-lite\"});\n",
       "</script>"
      ],
      "text/plain": [
       "alt.LayerChart(...)"
      ]
     },
     "metadata": {},
     "output_type": "display_data"
    }
   ],
   "source": [
    "df = get_xy_data(7, lambda x: x ** 2)\n",
    "plot_line_coordinate_plane(df)"
   ]
  },
  {
   "cell_type": "code",
   "execution_count": 126,
   "metadata": {},
   "outputs": [
    {
     "data": {
      "text/html": [
       "\n",
       "<style>\n",
       "  #altair-viz-c004ab5f2833459f98af39fa8d5c6775.vega-embed {\n",
       "    width: 100%;\n",
       "    display: flex;\n",
       "  }\n",
       "\n",
       "  #altair-viz-c004ab5f2833459f98af39fa8d5c6775.vega-embed details,\n",
       "  #altair-viz-c004ab5f2833459f98af39fa8d5c6775.vega-embed details summary {\n",
       "    position: relative;\n",
       "  }\n",
       "</style>\n",
       "<div id=\"altair-viz-c004ab5f2833459f98af39fa8d5c6775\"></div>\n",
       "<script type=\"text/javascript\">\n",
       "  var VEGA_DEBUG = (typeof VEGA_DEBUG == \"undefined\") ? {} : VEGA_DEBUG;\n",
       "  (function(spec, embedOpt){\n",
       "    let outputDiv = document.currentScript.previousElementSibling;\n",
       "    if (outputDiv.id !== \"altair-viz-c004ab5f2833459f98af39fa8d5c6775\") {\n",
       "      outputDiv = document.getElementById(\"altair-viz-c004ab5f2833459f98af39fa8d5c6775\");\n",
       "    }\n",
       "    const paths = {\n",
       "      \"vega\": \"https://cdn.jsdelivr.net/npm/vega@5?noext\",\n",
       "      \"vega-lib\": \"https://cdn.jsdelivr.net/npm/vega-lib?noext\",\n",
       "      \"vega-lite\": \"https://cdn.jsdelivr.net/npm/vega-lite@5.20.1?noext\",\n",
       "      \"vega-embed\": \"https://cdn.jsdelivr.net/npm/vega-embed@6?noext\",\n",
       "    };\n",
       "\n",
       "    function maybeLoadScript(lib, version) {\n",
       "      var key = `${lib.replace(\"-\", \"\")}_version`;\n",
       "      return (VEGA_DEBUG[key] == version) ?\n",
       "        Promise.resolve(paths[lib]) :\n",
       "        new Promise(function(resolve, reject) {\n",
       "          var s = document.createElement('script');\n",
       "          document.getElementsByTagName(\"head\")[0].appendChild(s);\n",
       "          s.async = true;\n",
       "          s.onload = () => {\n",
       "            VEGA_DEBUG[key] = version;\n",
       "            return resolve(paths[lib]);\n",
       "          };\n",
       "          s.onerror = () => reject(`Error loading script: ${paths[lib]}`);\n",
       "          s.src = paths[lib];\n",
       "        });\n",
       "    }\n",
       "\n",
       "    function showError(err) {\n",
       "      outputDiv.innerHTML = `<div class=\"error\" style=\"color:red;\">${err}</div>`;\n",
       "      throw err;\n",
       "    }\n",
       "\n",
       "    function displayChart(vegaEmbed) {\n",
       "      vegaEmbed(outputDiv, spec, embedOpt)\n",
       "        .catch(err => showError(`Javascript Error: ${err.message}<br>This usually means there's a typo in your chart specification. See the javascript console for the full traceback.`));\n",
       "    }\n",
       "\n",
       "    if(typeof define === \"function\" && define.amd) {\n",
       "      requirejs.config({paths});\n",
       "      require([\"vega-embed\"], displayChart, err => showError(`Error loading script: ${err.message}`));\n",
       "    } else {\n",
       "      maybeLoadScript(\"vega\", \"5\")\n",
       "        .then(() => maybeLoadScript(\"vega-lite\", \"5.20.1\"))\n",
       "        .then(() => maybeLoadScript(\"vega-embed\", \"6\"))\n",
       "        .catch(showError)\n",
       "        .then(() => displayChart(vegaEmbed));\n",
       "    }\n",
       "  })({\"config\": {\"view\": {\"continuousWidth\": 300, \"continuousHeight\": 300}}, \"layer\": [{\"data\": {\"name\": \"data-0e689a87dd667492dd2ebcb1e1092fc2\"}, \"mark\": {\"type\": \"line\"}, \"encoding\": {\"x\": {\"field\": \"x\", \"type\": \"quantitative\"}, \"y\": {\"field\": \"y\", \"type\": \"quantitative\"}}, \"name\": \"view_43\"}, {\"data\": {\"name\": \"data-094d66fe1b7e3ab3e81620bafed4f19f\"}, \"mark\": {\"type\": \"line\"}, \"encoding\": {\"x\": {\"field\": \"x\", \"type\": \"quantitative\"}, \"y\": {\"field\": \"y\", \"type\": \"quantitative\"}}}, {\"data\": {\"name\": \"data-0e689a87dd667492dd2ebcb1e1092fc2\"}, \"mark\": {\"type\": \"circle\"}, \"encoding\": {\"tooltip\": [{\"field\": \"x\", \"type\": \"quantitative\"}], \"x\": {\"field\": \"x\", \"type\": \"quantitative\"}, \"y\": {\"field\": \"y\", \"type\": \"quantitative\"}}}, {\"data\": {\"name\": \"data-094d66fe1b7e3ab3e81620bafed4f19f\"}, \"mark\": {\"type\": \"circle\"}, \"encoding\": {\"tooltip\": [{\"field\": \"y\", \"type\": \"quantitative\"}], \"x\": {\"field\": \"x\", \"type\": \"quantitative\"}, \"y\": {\"field\": \"y\", \"type\": \"quantitative\"}}}, {\"data\": {\"name\": \"data-9a4d03bac30acdde3552b97e1d04be47\"}, \"mark\": {\"type\": \"line\", \"color\": \"red\"}, \"encoding\": {\"tooltip\": [{\"field\": \"x\", \"type\": \"quantitative\"}, {\"field\": \"y\", \"type\": \"quantitative\"}], \"x\": {\"field\": \"x\", \"type\": \"quantitative\"}, \"y\": {\"field\": \"y\", \"type\": \"quantitative\"}}}], \"height\": 500, \"params\": [{\"name\": \"param_43\", \"select\": {\"type\": \"interval\", \"encodings\": [\"x\", \"y\"]}, \"bind\": \"scales\", \"views\": [\"view_43\"]}], \"width\": 500, \"$schema\": \"https://vega.github.io/schema/vega-lite/v5.20.1.json\", \"datasets\": {\"data-0e689a87dd667492dd2ebcb1e1092fc2\": [{\"x\": -8, \"y\": 0}, {\"x\": -7, \"y\": 0}, {\"x\": -6, \"y\": 0}, {\"x\": -5, \"y\": 0}, {\"x\": -4, \"y\": 0}, {\"x\": -3, \"y\": 0}, {\"x\": -2, \"y\": 0}, {\"x\": -1, \"y\": 0}, {\"x\": 0, \"y\": 0}, {\"x\": 1, \"y\": 0}, {\"x\": 2, \"y\": 0}, {\"x\": 3, \"y\": 0}, {\"x\": 4, \"y\": 0}, {\"x\": 5, \"y\": 0}, {\"x\": 6, \"y\": 0}, {\"x\": 7, \"y\": 0}, {\"x\": 8, \"y\": 0}], \"data-094d66fe1b7e3ab3e81620bafed4f19f\": [{\"x\": 0, \"y\": -8}, {\"x\": 0, \"y\": -7}, {\"x\": 0, \"y\": -6}, {\"x\": 0, \"y\": -5}, {\"x\": 0, \"y\": -4}, {\"x\": 0, \"y\": -3}, {\"x\": 0, \"y\": -2}, {\"x\": 0, \"y\": -1}, {\"x\": 0, \"y\": 0}, {\"x\": 0, \"y\": 1}, {\"x\": 0, \"y\": 2}, {\"x\": 0, \"y\": 3}, {\"x\": 0, \"y\": 4}, {\"x\": 0, \"y\": 5}, {\"x\": 0, \"y\": 6}, {\"x\": 0, \"y\": 7}, {\"x\": 0, \"y\": 8}], \"data-9a4d03bac30acdde3552b97e1d04be47\": [{\"x\": -8, \"y\": -0.14550003380861354}, {\"x\": -7, \"y\": 0.7539022543433046}, {\"x\": -6, \"y\": 0.960170286650366}, {\"x\": -5, \"y\": 0.28366218546322625}, {\"x\": -4, \"y\": -0.6536436208636119}, {\"x\": -3, \"y\": -0.9899924966004454}, {\"x\": -2, \"y\": -0.4161468365471424}, {\"x\": -1, \"y\": 0.5403023058681398}, {\"x\": 0, \"y\": 1.0}, {\"x\": 1, \"y\": 0.5403023058681398}, {\"x\": 2, \"y\": -0.4161468365471424}, {\"x\": 3, \"y\": -0.9899924966004454}, {\"x\": 4, \"y\": -0.6536436208636119}, {\"x\": 5, \"y\": 0.28366218546322625}, {\"x\": 6, \"y\": 0.960170286650366}, {\"x\": 7, \"y\": 0.7539022543433046}, {\"x\": 8, \"y\": -0.14550003380861354}]}}, {\"mode\": \"vega-lite\"});\n",
       "</script>"
      ],
      "text/plain": [
       "alt.LayerChart(...)"
      ]
     },
     "metadata": {},
     "output_type": "display_data"
    }
   ],
   "source": [
    "df = get_xy_data(8, lambda x: math.cos(x))\n",
    "plot_line_coordinate_plane(df)"
   ]
  },
  {
   "cell_type": "code",
   "execution_count": 127,
   "metadata": {},
   "outputs": [
    {
     "data": {
      "text/html": [
       "\n",
       "<style>\n",
       "  #altair-viz-4527f88e67374615aef1c9a6f6a5cde5.vega-embed {\n",
       "    width: 100%;\n",
       "    display: flex;\n",
       "  }\n",
       "\n",
       "  #altair-viz-4527f88e67374615aef1c9a6f6a5cde5.vega-embed details,\n",
       "  #altair-viz-4527f88e67374615aef1c9a6f6a5cde5.vega-embed details summary {\n",
       "    position: relative;\n",
       "  }\n",
       "</style>\n",
       "<div id=\"altair-viz-4527f88e67374615aef1c9a6f6a5cde5\"></div>\n",
       "<script type=\"text/javascript\">\n",
       "  var VEGA_DEBUG = (typeof VEGA_DEBUG == \"undefined\") ? {} : VEGA_DEBUG;\n",
       "  (function(spec, embedOpt){\n",
       "    let outputDiv = document.currentScript.previousElementSibling;\n",
       "    if (outputDiv.id !== \"altair-viz-4527f88e67374615aef1c9a6f6a5cde5\") {\n",
       "      outputDiv = document.getElementById(\"altair-viz-4527f88e67374615aef1c9a6f6a5cde5\");\n",
       "    }\n",
       "    const paths = {\n",
       "      \"vega\": \"https://cdn.jsdelivr.net/npm/vega@5?noext\",\n",
       "      \"vega-lib\": \"https://cdn.jsdelivr.net/npm/vega-lib?noext\",\n",
       "      \"vega-lite\": \"https://cdn.jsdelivr.net/npm/vega-lite@5.20.1?noext\",\n",
       "      \"vega-embed\": \"https://cdn.jsdelivr.net/npm/vega-embed@6?noext\",\n",
       "    };\n",
       "\n",
       "    function maybeLoadScript(lib, version) {\n",
       "      var key = `${lib.replace(\"-\", \"\")}_version`;\n",
       "      return (VEGA_DEBUG[key] == version) ?\n",
       "        Promise.resolve(paths[lib]) :\n",
       "        new Promise(function(resolve, reject) {\n",
       "          var s = document.createElement('script');\n",
       "          document.getElementsByTagName(\"head\")[0].appendChild(s);\n",
       "          s.async = true;\n",
       "          s.onload = () => {\n",
       "            VEGA_DEBUG[key] = version;\n",
       "            return resolve(paths[lib]);\n",
       "          };\n",
       "          s.onerror = () => reject(`Error loading script: ${paths[lib]}`);\n",
       "          s.src = paths[lib];\n",
       "        });\n",
       "    }\n",
       "\n",
       "    function showError(err) {\n",
       "      outputDiv.innerHTML = `<div class=\"error\" style=\"color:red;\">${err}</div>`;\n",
       "      throw err;\n",
       "    }\n",
       "\n",
       "    function displayChart(vegaEmbed) {\n",
       "      vegaEmbed(outputDiv, spec, embedOpt)\n",
       "        .catch(err => showError(`Javascript Error: ${err.message}<br>This usually means there's a typo in your chart specification. See the javascript console for the full traceback.`));\n",
       "    }\n",
       "\n",
       "    if(typeof define === \"function\" && define.amd) {\n",
       "      requirejs.config({paths});\n",
       "      require([\"vega-embed\"], displayChart, err => showError(`Error loading script: ${err.message}`));\n",
       "    } else {\n",
       "      maybeLoadScript(\"vega\", \"5\")\n",
       "        .then(() => maybeLoadScript(\"vega-lite\", \"5.20.1\"))\n",
       "        .then(() => maybeLoadScript(\"vega-embed\", \"6\"))\n",
       "        .catch(showError)\n",
       "        .then(() => displayChart(vegaEmbed));\n",
       "    }\n",
       "  })({\"config\": {\"view\": {\"continuousWidth\": 300, \"continuousHeight\": 300}}, \"layer\": [{\"data\": {\"name\": \"data-72e194bdd34ae862e4d6e6531645f6aa\"}, \"mark\": {\"type\": \"line\"}, \"encoding\": {\"x\": {\"field\": \"x\", \"type\": \"quantitative\"}, \"y\": {\"field\": \"y\", \"type\": \"quantitative\"}}, \"name\": \"view_44\"}, {\"data\": {\"name\": \"data-ece2590cba042aff721e0361bdbab9a5\"}, \"mark\": {\"type\": \"line\"}, \"encoding\": {\"x\": {\"field\": \"x\", \"type\": \"quantitative\"}, \"y\": {\"field\": \"y\", \"type\": \"quantitative\"}}}, {\"data\": {\"name\": \"data-72e194bdd34ae862e4d6e6531645f6aa\"}, \"mark\": {\"type\": \"circle\"}, \"encoding\": {\"tooltip\": [{\"field\": \"x\", \"type\": \"quantitative\"}], \"x\": {\"field\": \"x\", \"type\": \"quantitative\"}, \"y\": {\"field\": \"y\", \"type\": \"quantitative\"}}}, {\"data\": {\"name\": \"data-ece2590cba042aff721e0361bdbab9a5\"}, \"mark\": {\"type\": \"circle\"}, \"encoding\": {\"tooltip\": [{\"field\": \"y\", \"type\": \"quantitative\"}], \"x\": {\"field\": \"x\", \"type\": \"quantitative\"}, \"y\": {\"field\": \"y\", \"type\": \"quantitative\"}}}, {\"layer\": [{\"data\": {\"name\": \"data-8c2f8e4bafe58c2015e2a2d061175f61\"}, \"mark\": {\"type\": \"line\", \"color\": \"red\"}, \"encoding\": {\"tooltip\": [{\"field\": \"x\", \"type\": \"quantitative\"}, {\"field\": \"y\", \"type\": \"quantitative\"}], \"x\": {\"field\": \"x\", \"type\": \"quantitative\"}, \"y\": {\"field\": \"y\", \"type\": \"quantitative\"}}}, {\"data\": {\"name\": \"data-86b3e72b84947acfa0d3991080c73fac\"}, \"mark\": {\"type\": \"line\", \"color\": \"red\"}, \"encoding\": {\"tooltip\": [{\"field\": \"x\", \"type\": \"quantitative\"}, {\"field\": \"y\", \"type\": \"quantitative\"}], \"x\": {\"field\": \"x\", \"type\": \"quantitative\"}, \"y\": {\"field\": \"y\", \"type\": \"quantitative\"}}}]}], \"height\": 500, \"params\": [{\"name\": \"param_44\", \"select\": {\"type\": \"interval\", \"encodings\": [\"x\", \"y\"]}, \"bind\": \"scales\", \"views\": [\"view_44\"]}], \"width\": 500, \"$schema\": \"https://vega.github.io/schema/vega-lite/v5.20.1.json\", \"datasets\": {\"data-72e194bdd34ae862e4d6e6531645f6aa\": [{\"x\": -275, \"y\": 0}, {\"x\": -248, \"y\": 0}, {\"x\": -221, \"y\": 0}, {\"x\": -194, \"y\": 0}, {\"x\": -167, \"y\": 0}, {\"x\": -140, \"y\": 0}, {\"x\": -113, \"y\": 0}, {\"x\": -86, \"y\": 0}, {\"x\": -59, \"y\": 0}, {\"x\": -32, \"y\": 0}, {\"x\": -5, \"y\": 0}, {\"x\": 22, \"y\": 0}, {\"x\": 49, \"y\": 0}, {\"x\": 76, \"y\": 0}, {\"x\": 103, \"y\": 0}, {\"x\": 130, \"y\": 0}, {\"x\": 157, \"y\": 0}, {\"x\": 184, \"y\": 0}, {\"x\": 211, \"y\": 0}, {\"x\": 238, \"y\": 0}, {\"x\": 265, \"y\": 0}], \"data-ece2590cba042aff721e0361bdbab9a5\": [{\"x\": 0, \"y\": -275}, {\"x\": 0, \"y\": -248}, {\"x\": 0, \"y\": -221}, {\"x\": 0, \"y\": -194}, {\"x\": 0, \"y\": -167}, {\"x\": 0, \"y\": -140}, {\"x\": 0, \"y\": -113}, {\"x\": 0, \"y\": -86}, {\"x\": 0, \"y\": -59}, {\"x\": 0, \"y\": -32}, {\"x\": 0, \"y\": -5}, {\"x\": 0, \"y\": 22}, {\"x\": 0, \"y\": 49}, {\"x\": 0, \"y\": 76}, {\"x\": 0, \"y\": 103}, {\"x\": 0, \"y\": 130}, {\"x\": 0, \"y\": 157}, {\"x\": 0, \"y\": 184}, {\"x\": 0, \"y\": 211}, {\"x\": 0, \"y\": 238}, {\"x\": 0, \"y\": 265}], \"data-8c2f8e4bafe58c2015e2a2d061175f61\": [{\"x\": -100, \"y\": -250.0}, {\"x\": -99, \"y\": -247.5}, {\"x\": -98, \"y\": -245.0}, {\"x\": -97, \"y\": -242.5}, {\"x\": -96, \"y\": -240.0}, {\"x\": -95, \"y\": -237.5}, {\"x\": -94, \"y\": -235.0}, {\"x\": -93, \"y\": -232.5}, {\"x\": -92, \"y\": -230.0}, {\"x\": -91, \"y\": -227.5}, {\"x\": -90, \"y\": -225.0}, {\"x\": -89, \"y\": -222.5}, {\"x\": -88, \"y\": -220.0}, {\"x\": -87, \"y\": -217.5}, {\"x\": -86, \"y\": -215.0}, {\"x\": -85, \"y\": -212.5}, {\"x\": -84, \"y\": -210.0}, {\"x\": -83, \"y\": -207.5}, {\"x\": -82, \"y\": -205.0}, {\"x\": -81, \"y\": -202.5}, {\"x\": -80, \"y\": -200.0}, {\"x\": -79, \"y\": -197.5}, {\"x\": -78, \"y\": -195.0}, {\"x\": -77, \"y\": -192.5}, {\"x\": -76, \"y\": -190.0}, {\"x\": -75, \"y\": -187.5}, {\"x\": -74, \"y\": -185.0}, {\"x\": -73, \"y\": -182.5}, {\"x\": -72, \"y\": -180.0}, {\"x\": -71, \"y\": -177.5}, {\"x\": -70, \"y\": -175.0}, {\"x\": -69, \"y\": -172.5}, {\"x\": -68, \"y\": -170.0}, {\"x\": -67, \"y\": -167.5}, {\"x\": -66, \"y\": -165.0}, {\"x\": -65, \"y\": -162.5}, {\"x\": -64, \"y\": -160.0}, {\"x\": -63, \"y\": -157.5}, {\"x\": -62, \"y\": -155.0}, {\"x\": -61, \"y\": -152.5}, {\"x\": -60, \"y\": -150.0}, {\"x\": -59, \"y\": -147.5}, {\"x\": -58, \"y\": -145.0}, {\"x\": -57, \"y\": -142.5}, {\"x\": -56, \"y\": -140.0}, {\"x\": -55, \"y\": -137.5}, {\"x\": -54, \"y\": -135.0}, {\"x\": -53, \"y\": -132.5}, {\"x\": -52, \"y\": -130.0}, {\"x\": -51, \"y\": -127.5}, {\"x\": -50, \"y\": -125.0}, {\"x\": -49, \"y\": -122.5}, {\"x\": -48, \"y\": -120.0}, {\"x\": -47, \"y\": -117.5}, {\"x\": -46, \"y\": -115.0}, {\"x\": -45, \"y\": -112.5}, {\"x\": -44, \"y\": -110.0}, {\"x\": -43, \"y\": -107.5}, {\"x\": -42, \"y\": -105.0}, {\"x\": -41, \"y\": -102.5}, {\"x\": -40, \"y\": -100.0}, {\"x\": -39, \"y\": -97.5}, {\"x\": -38, \"y\": -95.0}, {\"x\": -37, \"y\": -92.5}, {\"x\": -36, \"y\": -90.0}, {\"x\": -35, \"y\": -87.5}, {\"x\": -34, \"y\": -85.0}, {\"x\": -33, \"y\": -82.5}, {\"x\": -32, \"y\": -80.0}, {\"x\": -31, \"y\": -77.5}, {\"x\": -30, \"y\": -75.0}, {\"x\": -29, \"y\": -72.5}, {\"x\": -28, \"y\": -70.0}, {\"x\": -27, \"y\": -67.5}, {\"x\": -26, \"y\": -65.0}, {\"x\": -25, \"y\": -62.5}, {\"x\": -24, \"y\": -60.0}, {\"x\": -23, \"y\": -57.5}, {\"x\": -22, \"y\": -55.0}, {\"x\": -21, \"y\": -52.5}, {\"x\": -20, \"y\": -50.0}, {\"x\": -19, \"y\": -47.5}, {\"x\": -18, \"y\": -45.0}, {\"x\": -17, \"y\": -42.5}, {\"x\": -16, \"y\": -40.0}, {\"x\": -15, \"y\": -37.5}, {\"x\": -14, \"y\": -35.0}, {\"x\": -13, \"y\": -32.5}, {\"x\": -12, \"y\": -30.0}, {\"x\": -11, \"y\": -27.5}, {\"x\": -10, \"y\": -25.0}, {\"x\": -9, \"y\": -22.5}, {\"x\": -8, \"y\": -20.0}, {\"x\": -7, \"y\": -17.5}, {\"x\": -6, \"y\": -15.0}, {\"x\": -5, \"y\": -12.5}, {\"x\": -4, \"y\": -10.0}, {\"x\": -3, \"y\": -7.5}, {\"x\": -2, \"y\": -5.0}, {\"x\": -1, \"y\": -2.5}, {\"x\": 0, \"y\": 0.0}, {\"x\": 1, \"y\": 2.5}, {\"x\": 2, \"y\": 5.0}, {\"x\": 3, \"y\": 7.5}, {\"x\": 4, \"y\": 10.0}, {\"x\": 5, \"y\": 12.5}, {\"x\": 6, \"y\": 15.0}, {\"x\": 7, \"y\": 17.5}, {\"x\": 8, \"y\": 20.0}, {\"x\": 9, \"y\": 22.5}, {\"x\": 10, \"y\": 25.0}, {\"x\": 11, \"y\": 27.5}, {\"x\": 12, \"y\": 30.0}, {\"x\": 13, \"y\": 32.5}, {\"x\": 14, \"y\": 35.0}, {\"x\": 15, \"y\": 37.5}, {\"x\": 16, \"y\": 40.0}, {\"x\": 17, \"y\": 42.5}, {\"x\": 18, \"y\": 45.0}, {\"x\": 19, \"y\": 47.5}, {\"x\": 20, \"y\": 50.0}, {\"x\": 21, \"y\": 52.5}, {\"x\": 22, \"y\": 55.0}, {\"x\": 23, \"y\": 57.5}, {\"x\": 24, \"y\": 60.0}, {\"x\": 25, \"y\": 62.5}, {\"x\": 26, \"y\": 65.0}, {\"x\": 27, \"y\": 67.5}, {\"x\": 28, \"y\": 70.0}, {\"x\": 29, \"y\": 72.5}, {\"x\": 30, \"y\": 75.0}, {\"x\": 31, \"y\": 77.5}, {\"x\": 32, \"y\": 80.0}, {\"x\": 33, \"y\": 82.5}, {\"x\": 34, \"y\": 85.0}, {\"x\": 35, \"y\": 87.5}, {\"x\": 36, \"y\": 90.0}, {\"x\": 37, \"y\": 92.5}, {\"x\": 38, \"y\": 95.0}, {\"x\": 39, \"y\": 97.5}, {\"x\": 40, \"y\": 100.0}, {\"x\": 41, \"y\": 102.5}, {\"x\": 42, \"y\": 105.0}, {\"x\": 43, \"y\": 107.5}, {\"x\": 44, \"y\": 110.0}, {\"x\": 45, \"y\": 112.5}, {\"x\": 46, \"y\": 115.0}, {\"x\": 47, \"y\": 117.5}, {\"x\": 48, \"y\": 120.0}, {\"x\": 49, \"y\": 122.5}, {\"x\": 50, \"y\": 125.0}, {\"x\": 51, \"y\": 127.5}, {\"x\": 52, \"y\": 130.0}, {\"x\": 53, \"y\": 132.5}, {\"x\": 54, \"y\": 135.0}, {\"x\": 55, \"y\": 137.5}, {\"x\": 56, \"y\": 140.0}, {\"x\": 57, \"y\": 142.5}, {\"x\": 58, \"y\": 145.0}, {\"x\": 59, \"y\": 147.5}, {\"x\": 60, \"y\": 150.0}, {\"x\": 61, \"y\": 152.5}, {\"x\": 62, \"y\": 155.0}, {\"x\": 63, \"y\": 157.5}, {\"x\": 64, \"y\": 160.0}, {\"x\": 65, \"y\": 162.5}, {\"x\": 66, \"y\": 165.0}, {\"x\": 67, \"y\": 167.5}, {\"x\": 68, \"y\": 170.0}, {\"x\": 69, \"y\": 172.5}, {\"x\": 70, \"y\": 175.0}, {\"x\": 71, \"y\": 177.5}, {\"x\": 72, \"y\": 180.0}, {\"x\": 73, \"y\": 182.5}, {\"x\": 74, \"y\": 185.0}, {\"x\": 75, \"y\": 187.5}, {\"x\": 76, \"y\": 190.0}, {\"x\": 77, \"y\": 192.5}, {\"x\": 78, \"y\": 195.0}, {\"x\": 79, \"y\": 197.5}, {\"x\": 80, \"y\": 200.0}, {\"x\": 81, \"y\": 202.5}, {\"x\": 82, \"y\": 205.0}, {\"x\": 83, \"y\": 207.5}, {\"x\": 84, \"y\": 210.0}, {\"x\": 85, \"y\": 212.5}, {\"x\": 86, \"y\": 215.0}, {\"x\": 87, \"y\": 217.5}, {\"x\": 88, \"y\": 220.0}, {\"x\": 89, \"y\": 222.5}, {\"x\": 90, \"y\": 225.0}, {\"x\": 91, \"y\": 227.5}, {\"x\": 92, \"y\": 230.0}, {\"x\": 93, \"y\": 232.5}, {\"x\": 94, \"y\": 235.0}, {\"x\": 95, \"y\": 237.5}, {\"x\": 96, \"y\": 240.0}, {\"x\": 97, \"y\": 242.5}, {\"x\": 98, \"y\": 245.0}, {\"x\": 99, \"y\": 247.5}, {\"x\": 100, \"y\": 250.0}], \"data-86b3e72b84947acfa0d3991080c73fac\": [{\"x\": -100, \"y\": -325}, {\"x\": -99, \"y\": -322}, {\"x\": -98, \"y\": -319}, {\"x\": -97, \"y\": -316}, {\"x\": -96, \"y\": -313}, {\"x\": -95, \"y\": -310}, {\"x\": -94, \"y\": -307}, {\"x\": -93, \"y\": -304}, {\"x\": -92, \"y\": -301}, {\"x\": -91, \"y\": -298}, {\"x\": -90, \"y\": -295}, {\"x\": -89, \"y\": -292}, {\"x\": -88, \"y\": -289}, {\"x\": -87, \"y\": -286}, {\"x\": -86, \"y\": -283}, {\"x\": -85, \"y\": -280}, {\"x\": -84, \"y\": -277}, {\"x\": -83, \"y\": -274}, {\"x\": -82, \"y\": -271}, {\"x\": -81, \"y\": -268}, {\"x\": -80, \"y\": -265}, {\"x\": -79, \"y\": -262}, {\"x\": -78, \"y\": -259}, {\"x\": -77, \"y\": -256}, {\"x\": -76, \"y\": -253}, {\"x\": -75, \"y\": -250}, {\"x\": -74, \"y\": -247}, {\"x\": -73, \"y\": -244}, {\"x\": -72, \"y\": -241}, {\"x\": -71, \"y\": -238}, {\"x\": -70, \"y\": -235}, {\"x\": -69, \"y\": -232}, {\"x\": -68, \"y\": -229}, {\"x\": -67, \"y\": -226}, {\"x\": -66, \"y\": -223}, {\"x\": -65, \"y\": -220}, {\"x\": -64, \"y\": -217}, {\"x\": -63, \"y\": -214}, {\"x\": -62, \"y\": -211}, {\"x\": -61, \"y\": -208}, {\"x\": -60, \"y\": -205}, {\"x\": -59, \"y\": -202}, {\"x\": -58, \"y\": -199}, {\"x\": -57, \"y\": -196}, {\"x\": -56, \"y\": -193}, {\"x\": -55, \"y\": -190}, {\"x\": -54, \"y\": -187}, {\"x\": -53, \"y\": -184}, {\"x\": -52, \"y\": -181}, {\"x\": -51, \"y\": -178}, {\"x\": -50, \"y\": -175}, {\"x\": -49, \"y\": -172}, {\"x\": -48, \"y\": -169}, {\"x\": -47, \"y\": -166}, {\"x\": -46, \"y\": -163}, {\"x\": -45, \"y\": -160}, {\"x\": -44, \"y\": -157}, {\"x\": -43, \"y\": -154}, {\"x\": -42, \"y\": -151}, {\"x\": -41, \"y\": -148}, {\"x\": -40, \"y\": -145}, {\"x\": -39, \"y\": -142}, {\"x\": -38, \"y\": -139}, {\"x\": -37, \"y\": -136}, {\"x\": -36, \"y\": -133}, {\"x\": -35, \"y\": -130}, {\"x\": -34, \"y\": -127}, {\"x\": -33, \"y\": -124}, {\"x\": -32, \"y\": -121}, {\"x\": -31, \"y\": -118}, {\"x\": -30, \"y\": -115}, {\"x\": -29, \"y\": -112}, {\"x\": -28, \"y\": -109}, {\"x\": -27, \"y\": -106}, {\"x\": -26, \"y\": -103}, {\"x\": -25, \"y\": -100}, {\"x\": -24, \"y\": -97}, {\"x\": -23, \"y\": -94}, {\"x\": -22, \"y\": -91}, {\"x\": -21, \"y\": -88}, {\"x\": -20, \"y\": -85}, {\"x\": -19, \"y\": -82}, {\"x\": -18, \"y\": -79}, {\"x\": -17, \"y\": -76}, {\"x\": -16, \"y\": -73}, {\"x\": -15, \"y\": -70}, {\"x\": -14, \"y\": -67}, {\"x\": -13, \"y\": -64}, {\"x\": -12, \"y\": -61}, {\"x\": -11, \"y\": -58}, {\"x\": -10, \"y\": -55}, {\"x\": -9, \"y\": -52}, {\"x\": -8, \"y\": -49}, {\"x\": -7, \"y\": -46}, {\"x\": -6, \"y\": -43}, {\"x\": -5, \"y\": -40}, {\"x\": -4, \"y\": -37}, {\"x\": -3, \"y\": -34}, {\"x\": -2, \"y\": -31}, {\"x\": -1, \"y\": -28}, {\"x\": 0, \"y\": -25}, {\"x\": 1, \"y\": -22}, {\"x\": 2, \"y\": -19}, {\"x\": 3, \"y\": -16}, {\"x\": 4, \"y\": -13}, {\"x\": 5, \"y\": -10}, {\"x\": 6, \"y\": -7}, {\"x\": 7, \"y\": -4}, {\"x\": 8, \"y\": -1}, {\"x\": 9, \"y\": 2}, {\"x\": 10, \"y\": 5}, {\"x\": 11, \"y\": 8}, {\"x\": 12, \"y\": 11}, {\"x\": 13, \"y\": 14}, {\"x\": 14, \"y\": 17}, {\"x\": 15, \"y\": 20}, {\"x\": 16, \"y\": 23}, {\"x\": 17, \"y\": 26}, {\"x\": 18, \"y\": 29}, {\"x\": 19, \"y\": 32}, {\"x\": 20, \"y\": 35}, {\"x\": 21, \"y\": 38}, {\"x\": 22, \"y\": 41}, {\"x\": 23, \"y\": 44}, {\"x\": 24, \"y\": 47}, {\"x\": 25, \"y\": 50}, {\"x\": 26, \"y\": 53}, {\"x\": 27, \"y\": 56}, {\"x\": 28, \"y\": 59}, {\"x\": 29, \"y\": 62}, {\"x\": 30, \"y\": 65}, {\"x\": 31, \"y\": 68}, {\"x\": 32, \"y\": 71}, {\"x\": 33, \"y\": 74}, {\"x\": 34, \"y\": 77}, {\"x\": 35, \"y\": 80}, {\"x\": 36, \"y\": 83}, {\"x\": 37, \"y\": 86}, {\"x\": 38, \"y\": 89}, {\"x\": 39, \"y\": 92}, {\"x\": 40, \"y\": 95}, {\"x\": 41, \"y\": 98}, {\"x\": 42, \"y\": 101}, {\"x\": 43, \"y\": 104}, {\"x\": 44, \"y\": 107}, {\"x\": 45, \"y\": 110}, {\"x\": 46, \"y\": 113}, {\"x\": 47, \"y\": 116}, {\"x\": 48, \"y\": 119}, {\"x\": 49, \"y\": 122}, {\"x\": 50, \"y\": 125}, {\"x\": 51, \"y\": 128}, {\"x\": 52, \"y\": 131}, {\"x\": 53, \"y\": 134}, {\"x\": 54, \"y\": 137}, {\"x\": 55, \"y\": 140}, {\"x\": 56, \"y\": 143}, {\"x\": 57, \"y\": 146}, {\"x\": 58, \"y\": 149}, {\"x\": 59, \"y\": 152}, {\"x\": 60, \"y\": 155}, {\"x\": 61, \"y\": 158}, {\"x\": 62, \"y\": 161}, {\"x\": 63, \"y\": 164}, {\"x\": 64, \"y\": 167}, {\"x\": 65, \"y\": 170}, {\"x\": 66, \"y\": 173}, {\"x\": 67, \"y\": 176}, {\"x\": 68, \"y\": 179}, {\"x\": 69, \"y\": 182}, {\"x\": 70, \"y\": 185}, {\"x\": 71, \"y\": 188}, {\"x\": 72, \"y\": 191}, {\"x\": 73, \"y\": 194}, {\"x\": 74, \"y\": 197}, {\"x\": 75, \"y\": 200}, {\"x\": 76, \"y\": 203}, {\"x\": 77, \"y\": 206}, {\"x\": 78, \"y\": 209}, {\"x\": 79, \"y\": 212}, {\"x\": 80, \"y\": 215}, {\"x\": 81, \"y\": 218}, {\"x\": 82, \"y\": 221}, {\"x\": 83, \"y\": 224}, {\"x\": 84, \"y\": 227}, {\"x\": 85, \"y\": 230}, {\"x\": 86, \"y\": 233}, {\"x\": 87, \"y\": 236}, {\"x\": 88, \"y\": 239}, {\"x\": 89, \"y\": 242}, {\"x\": 90, \"y\": 245}, {\"x\": 91, \"y\": 248}, {\"x\": 92, \"y\": 251}, {\"x\": 93, \"y\": 254}, {\"x\": 94, \"y\": 257}, {\"x\": 95, \"y\": 260}, {\"x\": 96, \"y\": 263}, {\"x\": 97, \"y\": 266}, {\"x\": 98, \"y\": 269}, {\"x\": 99, \"y\": 272}, {\"x\": 100, \"y\": 275}]}}, {\"mode\": \"vega-lite\"});\n",
       "</script>"
      ],
      "text/plain": [
       "alt.LayerChart(...)"
      ]
     },
     "metadata": {},
     "output_type": "display_data"
    }
   ],
   "source": [
    "df1 = get_xy_data(100, lambda x: 2.5 * x + 0)\n",
    "df2 = get_xy_data(100, lambda x: 3 * x - 5**2)\n",
    "\n",
    "plot_line_coordinate_plane([df1, df2])"
   ]
  }
 ],
 "metadata": {
  "kernelspec": {
   "display_name": ".venv",
   "language": "python",
   "name": "python3"
  },
  "language_info": {
   "codemirror_mode": {
    "name": "ipython",
    "version": 3
   },
   "file_extension": ".py",
   "mimetype": "text/x-python",
   "name": "python",
   "nbconvert_exporter": "python",
   "pygments_lexer": "ipython3",
   "version": "3.12.3"
  }
 },
 "nbformat": 4,
 "nbformat_minor": 2
}
