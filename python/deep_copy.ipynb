{
 "cells": [
  {
   "cell_type": "markdown",
   "metadata": {},
   "source": [
    "### Without deep copy\n",
    "\n",
    "Only copy the single targetted list, while the inside lists do not\n"
   ]
  },
  {
   "cell_type": "code",
   "execution_count": 49,
   "metadata": {},
   "outputs": [
    {
     "name": "stdout",
     "output_type": "stream",
     "text": [
      "a = 130654469556672\n",
      "b = 130654469570176\n",
      "a == b (False)\n",
      "Outer lists are different\n",
      "\n",
      "a[0] = 130654469568256\n",
      "b[0] = 130654469568256\n",
      "a[0] == b[0] (True)\n",
      "Inside lists are the same\n",
      "\n",
      "b[1].append(999)\n",
      "a = [[1, 2], [3, 4, 999]]\n",
      "b = [[1, 2], [3, 4, 999]]\n",
      "Both are changed, because the inside lists were not copied\n",
      "\n",
      "a.append([5,6])\n",
      "a = [[1, 2], [3, 4, 999], [5, 6]]\n",
      "b = [[1, 2], [3, 4, 999]]\n",
      "Only one is changed, because the fellow outer list was copied\n"
     ]
    }
   ],
   "source": [
    "a = [[1, 2], [3, 4]]\n",
    "b = a.copy()\n",
    "\n",
    "print(f'a = {id(a)}')\n",
    "print(f'b = {id(b)}')\n",
    "print(f'a == b ({id(a) == id(b)})')\n",
    "print('Outer lists are different\\n')\n",
    "\n",
    "print(f'a[0] = {id(a[0])}')\n",
    "print(f'b[0] = {id(b[0])}')\n",
    "print(f'a[0] == b[0] ({id(a[0]) == id(b[0])})')\n",
    "print('Inside lists are the same\\n')\n",
    "\n",
    "b[1].append(999)\n",
    "print('b[1].append(999)')\n",
    "print(f'a = {a}')\n",
    "print(f'b = {b}')\n",
    "print('Both are changed, because the inside lists were not copied\\n')\n",
    "\n",
    "a.append([5, 6])\n",
    "print('a.append([5,6])')\n",
    "print(f'a = {a}')\n",
    "print(f'b = {b}')\n",
    "print('Only one is changed, because the fellow outer list was copied')"
   ]
  },
  {
   "cell_type": "markdown",
   "metadata": {},
   "source": [
    "### With deep copy\n",
    "\n",
    "Copy a list, including all lists inside\n"
   ]
  },
  {
   "cell_type": "code",
   "execution_count": 50,
   "metadata": {},
   "outputs": [],
   "source": [
    "from copy import deepcopy"
   ]
  },
  {
   "cell_type": "code",
   "execution_count": 60,
   "metadata": {},
   "outputs": [
    {
     "name": "stdout",
     "output_type": "stream",
     "text": [
      "x = 130654469563200\n",
      "y = 130654458130240\n",
      "x == y (False)\n",
      "\n",
      "x[0] = 130654469565440\n",
      "y[0] = 130654458127616\n",
      "x[0] == y[0] (False)\n",
      "\n",
      "x[0][0] = 130654469397376\n",
      "y[0][0] = 130654458226624\n",
      "x[0][0] == y[0][0] (False)\n",
      "\n",
      "x.append([[9, 10], [11,12]])\n",
      "x = [[[1, 2], [3, 4]], [[5, 6], [7, 8]], [[9, 10], [11, 12]]]\n",
      "y = [[[1, 2], [3, 4]], [[5, 6], [7, 8]]]\n",
      "Only one list is changed\n",
      "\n",
      "y[1].append([9, 10])\n",
      "x = [[[1, 2], [3, 4]], [[5, 6], [7, 8]], [[9, 10], [11, 12]]]\n",
      "y = [[[1, 2], [3, 4]], [[5, 6], [7, 8], [9, 10]]]\n",
      "Only one list is changed\n",
      "\n",
      "y[1][2].append(999)\n",
      "x = [[[1, 2], [3, 4]], [[5, 6], [7, 8]], [[9, 10], [11, 12]]]\n",
      "y = [[[1, 2], [3, 4]], [[5, 6], [7, 8], [9, 10, 999]]]\n",
      "Only one list is changed as well\n"
     ]
    }
   ],
   "source": [
    "x = [\n",
    "    [[1, 2], [3, 4]],\n",
    "    [[5, 6], [7, 8]],\n",
    "]\n",
    "\n",
    "y = deepcopy(x)\n",
    "\n",
    "print(f'x = {id(x)}')\n",
    "print(f'y = {id(y)}')\n",
    "print(f'x == y ({id(x) == id(y)})\\n')\n",
    "\n",
    "print(f'x[0] = {id(x[0])}')\n",
    "print(f'y[0] = {id(y[0])}')\n",
    "print(f'x[0] == y[0] ({id(x[0]) == id(y[0])})\\n')\n",
    "\n",
    "print(f'x[0][0] = {id(x[0][0])}')\n",
    "print(f'y[0][0] = {id(y[0][0])}')\n",
    "print(f'x[0][0] == y[0][0] ({id(x[0][0]) == id(y[0][0])})\\n')\n",
    "\n",
    "x.append([[9, 10], [11, 12]])\n",
    "print('x.append([[9, 10], [11,12]])')\n",
    "print(f'x = {x}')\n",
    "print(f'y = {y}')\n",
    "print('Only one list is changed\\n')\n",
    "\n",
    "y[1].append([9, 10])\n",
    "print('y[1].append([9, 10])')\n",
    "print(f'x = {x}')\n",
    "print(f'y = {y}')\n",
    "print('Only one list is changed\\n')\n",
    "\n",
    "y[1][2].append(999)\n",
    "print('y[1][2].append(999)')\n",
    "print(f'x = {x}')\n",
    "print(f'y = {y}')\n",
    "print('Only one list is changed as well')"
   ]
  }
 ],
 "metadata": {
  "kernelspec": {
   "display_name": ".venv",
   "language": "python",
   "name": "python3"
  },
  "language_info": {
   "codemirror_mode": {
    "name": "ipython",
    "version": 3
   },
   "file_extension": ".py",
   "mimetype": "text/x-python",
   "name": "python",
   "nbconvert_exporter": "python",
   "pygments_lexer": "ipython3",
   "version": "3.12.3"
  }
 },
 "nbformat": 4,
 "nbformat_minor": 2
}
