{
 "cells": [
  {
   "cell_type": "markdown",
   "metadata": {},
   "source": [
    "## Regular Expressions (Regex)\n"
   ]
  },
  {
   "cell_type": "markdown",
   "metadata": {},
   "source": [
    "Regular expressions (regex) are a powerful tool for pattern matching and text manipulation. They are used to search, match, and replace patterns in strings. Here's a basic overview of some common regex components\n"
   ]
  },
  {
   "cell_type": "markdown",
   "metadata": {},
   "source": [
    "### Basic Syntax\n",
    "\n",
    "1. **Literals**: Match exact characters.\n",
    "\n",
    "   - `a`: Matches the character 'a'.\n",
    "\n",
    "2. **Metacharacters**: Special characters with specific meanings.\n",
    "\n",
    "   - `.`: Matches any single character except newline.\n",
    "   - `\\d`: Matches any digit (0-9).\n",
    "   - `\\D`: Matches any non-digit.\n",
    "   - `\\w`: Matches any word character (alphanumeric + underscore).\n",
    "   - `\\W`: Matches any non-word character.\n",
    "   - `\\s`: Matches any whitespace character.\n",
    "   - `\\S`: Matches any non-whitespace character.\n",
    "\n",
    "3. **Anchors**: Specify positions in the string.\n",
    "\n",
    "   - `^`: Matches the start of a string.\n",
    "   - `$`: Matches the end of a string.\n",
    "\n",
    "4. **Character Classes**: Define a set of characters.\n",
    "\n",
    "   - `[abc]`: Matches any one of the characters a, b, or c.\n",
    "   - `[^abc]`: Matches any character except a, b, or c.\n",
    "   - `[a-z]`: Matches any lowercase letter.\n",
    "   - `[0-9]`: Matches any digit.\n",
    "\n",
    "5. **Quantifiers**: Specify the number of occurrences.\n",
    "\n",
    "   - `*`: Matches 0 or more times.\n",
    "   - `+`: Matches 1 or more times.\n",
    "   - `?`: Matches 0 or 1 time.\n",
    "   - `{n}`: Matches exactly n times.\n",
    "   - `{n,}`: Matches n or more times.\n",
    "   - `{n,m}`: Matches between n and m times.\n",
    "\n",
    "6. **Groups and Alternation**:\n",
    "\n",
    "   - `()`: Groups patterns.\n",
    "   - `|`: Alternates between patterns.\n",
    "\n",
    "7. **Escape Sequences**:\n",
    "   - `\\`: Escapes metacharacters (e.g., `\\.` matches a literal dot).\n"
   ]
  },
  {
   "cell_type": "markdown",
   "metadata": {},
   "source": [
    "### Extended Syntax\n",
    "\n",
    "1. **Lookahead and Lookbehind**:\n",
    "\n",
    "   - **Lookahead**: `(?=pattern)` Matches if the pattern follows.\n",
    "     - Example: `\\d(?=\\D)` matches a digit followed by a non-digit.\n",
    "   - **Negative Lookahead**: `(?!pattern)` Matches if the pattern does not follow.\n",
    "     - Example: `\\d(?!\\d)` matches a digit not followed by another digit.\n",
    "   - **Lookbehind**: `(?<=pattern)` Matches if the pattern precedes.\n",
    "     - Example: `(?<=@)\\w+` matches a word preceded by '@'.\n",
    "   - **Negative Lookbehind**: `(?<!pattern)` Matches if the pattern does not precede.\n",
    "     - Example: `(?<!@)\\w+` matches a word not preceded by '@'.\n",
    "\n",
    "2. **Non-capturing Groups**: `(?:pattern)` Groups patterns without capturing them for back-references.\n",
    "\n",
    "3. **Named Capturing Groups**: `(?P<name>pattern)` Captures a pattern with a name.\n",
    "\n",
    "   - Example: `(?P<year>\\d{4})` captures four digits as \"year\".\n",
    "\n",
    "4. **Flags**: Modify regex behavior.\n",
    "   - `i`: Case-insensitive matching.\n",
    "   - `m`: Multiline mode (affects `^` and `$`).\n",
    "   - `s`: Dot matches newline.\n",
    "   - `x`: Allows comments and whitespace in the regex.\n"
   ]
  }
 ],
 "metadata": {
  "language_info": {
   "name": "python"
  }
 },
 "nbformat": 4,
 "nbformat_minor": 2
}
