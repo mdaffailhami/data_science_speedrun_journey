{
 "cells": [
  {
   "cell_type": "markdown",
   "id": "0a320eab",
   "metadata": {
    "papermill": {
     "duration": 0.006277,
     "end_time": "2024-07-19T22:10:10.852035",
     "exception": false,
     "start_time": "2024-07-19T22:10:10.845758",
     "status": "completed"
    },
    "tags": []
   },
   "source": [
    "**This notebook is an exercise in the [Intro to Programming](https://www.kaggle.com/learn/intro-to-programming) course.  You can reference the tutorial at [this link](https://www.kaggle.com/alexisbcook/functions).**\n",
    "\n",
    "---\n"
   ]
  },
  {
   "cell_type": "markdown",
   "id": "79cce9fa",
   "metadata": {
    "papermill": {
     "duration": 0.005146,
     "end_time": "2024-07-19T22:10:10.863141",
     "exception": false,
     "start_time": "2024-07-19T22:10:10.857995",
     "status": "completed"
    },
    "tags": []
   },
   "source": [
    "In the tutorial, you learned about functions. In this exercise, you'll write some of your own!\n",
    "\n",
    "# Set up the notebook\n",
    "\n",
    "Run the next code cell without changes to set up the notebook."
   ]
  },
  {
   "cell_type": "code",
   "execution_count": 1,
   "id": "ff79f6e7",
   "metadata": {
    "execution": {
     "iopub.execute_input": "2024-07-19T22:10:10.875786Z",
     "iopub.status.busy": "2024-07-19T22:10:10.875393Z",
     "iopub.status.idle": "2024-07-19T22:10:11.796016Z",
     "shell.execute_reply": "2024-07-19T22:10:11.794714Z"
    },
    "papermill": {
     "duration": 0.930172,
     "end_time": "2024-07-19T22:10:11.798847",
     "exception": false,
     "start_time": "2024-07-19T22:10:10.868675",
     "status": "completed"
    },
    "tags": []
   },
   "outputs": [
    {
     "name": "stdout",
     "output_type": "stream",
     "text": [
      "Setup complete.\n"
     ]
    }
   ],
   "source": [
    "# Set up the exercise\n",
    "import math\n",
    "from learntools.core import binder\n",
    "binder.bind(globals())\n",
    "from learntools.intro_to_programming.ex2 import *\n",
    "print('Setup complete.')"
   ]
  },
  {
   "cell_type": "markdown",
   "id": "c0e017b6",
   "metadata": {
    "papermill": {
     "duration": 0.005781,
     "end_time": "2024-07-19T22:10:11.810489",
     "exception": false,
     "start_time": "2024-07-19T22:10:11.804708",
     "status": "completed"
    },
    "tags": []
   },
   "source": [
    "# Question 1\n",
    "\n",
    "In the [House Prices - Advanced Regression Techniques competition](https://www.kaggle.com/c/house-prices-advanced-regression-techniques/overview), you need to use information like the number of bedrooms and bathrooms to predict the price of a house.  Inspired by this competition, you'll write your own function to do this.\n",
    "\n",
    "In the next code cell, create a function `get_expected_cost()` that has two arguments:\n",
    "- `beds` - number of bedrooms \n",
    "- `baths` - number of bathrooms\n",
    "\n",
    "It should return the expected cost of a house with that number of bedrooms and bathrooms.  Assume that:\n",
    "- the expected cost for a house with 0 bedrooms and 0 bathrooms is `80000`.  \n",
    "- each bedroom adds `30000` to the expected cost\n",
    "- each bathroom adds `10000` to the expected cost.\n",
    "\n",
    "For instance, \n",
    "- a house with 1 bedroom and 1 bathroom has an expected cost of `120000`, and \n",
    "- a house with 2 bedrooms and 1 bathroom has an expected cost of `150000`."
   ]
  },
  {
   "cell_type": "code",
   "execution_count": 2,
   "id": "2cb7a9d9",
   "metadata": {
    "execution": {
     "iopub.execute_input": "2024-07-19T22:10:11.823607Z",
     "iopub.status.busy": "2024-07-19T22:10:11.823062Z",
     "iopub.status.idle": "2024-07-19T22:10:11.834107Z",
     "shell.execute_reply": "2024-07-19T22:10:11.832981Z"
    },
    "papermill": {
     "duration": 0.020429,
     "end_time": "2024-07-19T22:10:11.836528",
     "exception": false,
     "start_time": "2024-07-19T22:10:11.816099",
     "status": "completed"
    },
    "tags": []
   },
   "outputs": [
    {
     "data": {
      "application/javascript": [
       "parent.postMessage({\"jupyterEvent\": \"custom.exercise_interaction\", \"data\": {\"outcomeType\": 1, \"valueTowardsCompletion\": 0.2, \"interactionType\": 1, \"questionType\": 2, \"questionId\": \"1_GetExpectedCost\", \"learnToolsVersion\": \"0.3.4\", \"failureMessage\": \"\", \"exceptionClass\": \"\", \"trace\": \"\"}}, \"*\")"
      ],
      "text/plain": [
       "<IPython.core.display.Javascript object>"
      ]
     },
     "metadata": {},
     "output_type": "display_data"
    },
    {
     "data": {
      "text/markdown": [
       "<span style=\"color:#33cc33\">Correct</span>"
      ],
      "text/plain": [
       "Correct"
      ]
     },
     "metadata": {},
     "output_type": "display_data"
    }
   ],
   "source": [
    "# TODO: Complete the function\n",
    "def get_expected_cost(beds, baths):\n",
    "    value = 80_000 + (30_000 * beds) + (10_000 * baths)\n",
    "    return value\n",
    "\n",
    "# Check your answer \n",
    "q1.check()"
   ]
  },
  {
   "cell_type": "code",
   "execution_count": 3,
   "id": "24ccb7de",
   "metadata": {
    "execution": {
     "iopub.execute_input": "2024-07-19T22:10:11.850650Z",
     "iopub.status.busy": "2024-07-19T22:10:11.850193Z",
     "iopub.status.idle": "2024-07-19T22:10:11.855240Z",
     "shell.execute_reply": "2024-07-19T22:10:11.854096Z"
    },
    "papermill": {
     "duration": 0.014956,
     "end_time": "2024-07-19T22:10:11.857582",
     "exception": false,
     "start_time": "2024-07-19T22:10:11.842626",
     "status": "completed"
    },
    "tags": []
   },
   "outputs": [],
   "source": [
    "# Uncomment to see a hint\n",
    "#q1.hint()\n",
    "\n",
    "# Uncomment to view the solution\n",
    "#q1.solution()"
   ]
  },
  {
   "cell_type": "markdown",
   "id": "e61f3eb0",
   "metadata": {
    "papermill": {
     "duration": 0.005635,
     "end_time": "2024-07-19T22:10:11.869307",
     "exception": false,
     "start_time": "2024-07-19T22:10:11.863672",
     "status": "completed"
    },
    "tags": []
   },
   "source": [
    "# Question 2\n",
    "\n",
    "You are thinking about buying a home and want to get an idea of how much you will spend, based on the number of bedrooms and bathrooms.  You are trying to decide between four different options:\n",
    "- Option 1: house with two bedrooms and three bathrooms\n",
    "- Option 2: house with three bedrooms and two bathrooms\n",
    "- Option 3: house with three bedrooms and three bathrooms\n",
    "- Option 4: house with three bedrooms and four bathrooms\n",
    "\n",
    "Use the `get_expected_cost()` function you defined in question 1 to set `option_1`, `option_2`, `option_3`, and `option_4` to the expected cost of each option."
   ]
  },
  {
   "cell_type": "code",
   "execution_count": 4,
   "id": "d8bf7780",
   "metadata": {
    "execution": {
     "iopub.execute_input": "2024-07-19T22:10:11.882391Z",
     "iopub.status.busy": "2024-07-19T22:10:11.881988Z",
     "iopub.status.idle": "2024-07-19T22:10:11.892474Z",
     "shell.execute_reply": "2024-07-19T22:10:11.891259Z"
    },
    "papermill": {
     "duration": 0.019575,
     "end_time": "2024-07-19T22:10:11.894612",
     "exception": false,
     "start_time": "2024-07-19T22:10:11.875037",
     "status": "completed"
    },
    "tags": []
   },
   "outputs": [
    {
     "name": "stdout",
     "output_type": "stream",
     "text": [
      "170000\n",
      "190000\n",
      "200000\n",
      "210000\n"
     ]
    },
    {
     "data": {
      "application/javascript": [
       "parent.postMessage({\"jupyterEvent\": \"custom.exercise_interaction\", \"data\": {\"outcomeType\": 1, \"valueTowardsCompletion\": 0.2, \"interactionType\": 1, \"questionType\": 1, \"questionId\": \"2_RunGetExpectedCost\", \"learnToolsVersion\": \"0.3.4\", \"failureMessage\": \"\", \"exceptionClass\": \"\", \"trace\": \"\"}}, \"*\")"
      ],
      "text/plain": [
       "<IPython.core.display.Javascript object>"
      ]
     },
     "metadata": {},
     "output_type": "display_data"
    },
    {
     "data": {
      "text/markdown": [
       "<span style=\"color:#33cc33\">Correct</span>"
      ],
      "text/plain": [
       "Correct"
      ]
     },
     "metadata": {},
     "output_type": "display_data"
    }
   ],
   "source": [
    "# TODO: Use the get_expected_cost function to fill in each value\n",
    "option_one = get_expected_cost(2, 3)\n",
    "option_two = get_expected_cost(3, 2)\n",
    "option_three = get_expected_cost(3, 3)\n",
    "option_four = get_expected_cost(3, 4)\n",
    "\n",
    "print(option_one)\n",
    "print(option_two)\n",
    "print(option_three)\n",
    "print(option_four)\n",
    "\n",
    "# Check your answer\n",
    "q2.check()"
   ]
  },
  {
   "cell_type": "code",
   "execution_count": 5,
   "id": "773752eb",
   "metadata": {
    "execution": {
     "iopub.execute_input": "2024-07-19T22:10:11.909271Z",
     "iopub.status.busy": "2024-07-19T22:10:11.908240Z",
     "iopub.status.idle": "2024-07-19T22:10:11.912987Z",
     "shell.execute_reply": "2024-07-19T22:10:11.911950Z"
    },
    "papermill": {
     "duration": 0.014463,
     "end_time": "2024-07-19T22:10:11.915243",
     "exception": false,
     "start_time": "2024-07-19T22:10:11.900780",
     "status": "completed"
    },
    "tags": []
   },
   "outputs": [],
   "source": [
    "# Uncomment to see a hint\n",
    "#q2.hint()\n",
    "\n",
    "# Uncomment to view the solution\n",
    "#q2.solution()"
   ]
  },
  {
   "cell_type": "markdown",
   "id": "e782b92f",
   "metadata": {
    "papermill": {
     "duration": 0.005958,
     "end_time": "2024-07-19T22:10:11.927611",
     "exception": false,
     "start_time": "2024-07-19T22:10:11.921653",
     "status": "completed"
    },
    "tags": []
   },
   "source": [
    "# Question 3\n",
    "\n",
    "You're a home decorator, and you'd like to use Python to streamline some of your work.  Specifically, you're creating a tool that you intend to use to calculate the cost of painting a room.\n",
    "\n",
    "As a first step, define a function `get_cost()` that takes as input:\n",
    "- `sqft_walls` = total square feet of walls to be painted\n",
    "- `sqft_ceiling` = square feet of ceiling to be painted\n",
    "- `sqft_per_gallon` = number of square feet that you can cover with one gallon of paint\n",
    "- `cost_per_gallon` = cost (in dollars) of one gallon of paint\n",
    "\n",
    "It should return the cost (in dollars) of putting one coat of paint on all walls and the ceiling.  Assume you can buy the exact amount of paint that you need, so you can buy partial gallons (e.g., if you need 7.523 gallons, you can buy that exact amount, instead of needing to buy 8 gallons and waste some paint).  Do not round your answer."
   ]
  },
  {
   "cell_type": "code",
   "execution_count": 6,
   "id": "3617a26a",
   "metadata": {
    "execution": {
     "iopub.execute_input": "2024-07-19T22:10:11.942178Z",
     "iopub.status.busy": "2024-07-19T22:10:11.941170Z",
     "iopub.status.idle": "2024-07-19T22:10:11.950488Z",
     "shell.execute_reply": "2024-07-19T22:10:11.949354Z"
    },
    "papermill": {
     "duration": 0.019345,
     "end_time": "2024-07-19T22:10:11.953111",
     "exception": false,
     "start_time": "2024-07-19T22:10:11.933766",
     "status": "completed"
    },
    "tags": []
   },
   "outputs": [
    {
     "data": {
      "application/javascript": [
       "parent.postMessage({\"jupyterEvent\": \"custom.exercise_interaction\", \"data\": {\"outcomeType\": 1, \"valueTowardsCompletion\": 0.2, \"interactionType\": 1, \"questionType\": 2, \"questionId\": \"3_GetCostPaint\", \"learnToolsVersion\": \"0.3.4\", \"failureMessage\": \"\", \"exceptionClass\": \"\", \"trace\": \"\"}}, \"*\")"
      ],
      "text/plain": [
       "<IPython.core.display.Javascript object>"
      ]
     },
     "metadata": {},
     "output_type": "display_data"
    },
    {
     "data": {
      "text/markdown": [
       "<span style=\"color:#33cc33\">Correct</span>"
      ],
      "text/plain": [
       "Correct"
      ]
     },
     "metadata": {},
     "output_type": "display_data"
    }
   ],
   "source": [
    "# TODO: Finish defining the function\n",
    "def get_cost(sqft_walls, sqft_ceiling, sqft_per_gallon, cost_per_gallon):\n",
    "    gallons = sqft_walls / sqft_per_gallon + sqft_ceiling / sqft_per_gallon\n",
    "    cost = gallons * cost_per_gallon\n",
    "    return cost\n",
    "\n",
    "# Check your answer\n",
    "q3.check()"
   ]
  },
  {
   "cell_type": "code",
   "execution_count": 7,
   "id": "52bb31f7",
   "metadata": {
    "execution": {
     "iopub.execute_input": "2024-07-19T22:10:11.967962Z",
     "iopub.status.busy": "2024-07-19T22:10:11.967591Z",
     "iopub.status.idle": "2024-07-19T22:10:11.972502Z",
     "shell.execute_reply": "2024-07-19T22:10:11.971393Z"
    },
    "papermill": {
     "duration": 0.015073,
     "end_time": "2024-07-19T22:10:11.974822",
     "exception": false,
     "start_time": "2024-07-19T22:10:11.959749",
     "status": "completed"
    },
    "tags": []
   },
   "outputs": [],
   "source": [
    "# Uncomment to see a hint\n",
    "#q3.hint()\n",
    "\n",
    "# Uncomment to view the solution\n",
    "#q3.solution()"
   ]
  },
  {
   "cell_type": "markdown",
   "id": "4d247f88",
   "metadata": {
    "papermill": {
     "duration": 0.006245,
     "end_time": "2024-07-19T22:10:11.987691",
     "exception": false,
     "start_time": "2024-07-19T22:10:11.981446",
     "status": "completed"
    },
    "tags": []
   },
   "source": [
    "# Question 4\n",
    "\n",
    "Use the `get_cost()` function you defined in Question 3 to calculate the cost of applying one coat of paint to a room with:\n",
    "- 432 square feet of walls, and\n",
    "- 144 square feet of ceiling.\n",
    "\n",
    "Assume that one gallon of paint covers 400 square feet and costs $15.  As in Question 3, assume you can buy partial gallons of paint.  Do not round your answer."
   ]
  },
  {
   "cell_type": "code",
   "execution_count": 8,
   "id": "f4e44274",
   "metadata": {
    "execution": {
     "iopub.execute_input": "2024-07-19T22:10:12.003250Z",
     "iopub.status.busy": "2024-07-19T22:10:12.002873Z",
     "iopub.status.idle": "2024-07-19T22:10:12.011715Z",
     "shell.execute_reply": "2024-07-19T22:10:12.010672Z"
    },
    "papermill": {
     "duration": 0.019794,
     "end_time": "2024-07-19T22:10:12.013994",
     "exception": false,
     "start_time": "2024-07-19T22:10:11.994200",
     "status": "completed"
    },
    "tags": []
   },
   "outputs": [
    {
     "data": {
      "application/javascript": [
       "parent.postMessage({\"jupyterEvent\": \"custom.exercise_interaction\", \"data\": {\"outcomeType\": 1, \"valueTowardsCompletion\": 0.2, \"interactionType\": 1, \"questionType\": 1, \"questionId\": \"4_GetCostPaintExample\", \"learnToolsVersion\": \"0.3.4\", \"failureMessage\": \"\", \"exceptionClass\": \"\", \"trace\": \"\"}}, \"*\")"
      ],
      "text/plain": [
       "<IPython.core.display.Javascript object>"
      ]
     },
     "metadata": {},
     "output_type": "display_data"
    },
    {
     "data": {
      "text/markdown": [
       "<span style=\"color:#33cc33\">Correct</span>"
      ],
      "text/plain": [
       "Correct"
      ]
     },
     "metadata": {},
     "output_type": "display_data"
    }
   ],
   "source": [
    "# TODO: Set the project_cost variable to the cost of the project\n",
    "project_cost = get_cost(432, 144, 400, 15)\n",
    "\n",
    "# Check your answer\n",
    "q4.check()"
   ]
  },
  {
   "cell_type": "code",
   "execution_count": 9,
   "id": "f55cd7ce",
   "metadata": {
    "execution": {
     "iopub.execute_input": "2024-07-19T22:10:12.029724Z",
     "iopub.status.busy": "2024-07-19T22:10:12.028886Z",
     "iopub.status.idle": "2024-07-19T22:10:12.033929Z",
     "shell.execute_reply": "2024-07-19T22:10:12.032840Z"
    },
    "papermill": {
     "duration": 0.015432,
     "end_time": "2024-07-19T22:10:12.036233",
     "exception": false,
     "start_time": "2024-07-19T22:10:12.020801",
     "status": "completed"
    },
    "tags": []
   },
   "outputs": [],
   "source": [
    "# Uncomment to see a hint\n",
    "#q4.hint()\n",
    "\n",
    "# Uncomment to view the solution\n",
    "#q4.solution()"
   ]
  },
  {
   "cell_type": "markdown",
   "id": "65c0e317",
   "metadata": {
    "papermill": {
     "duration": 0.006701,
     "end_time": "2024-07-19T22:10:12.049915",
     "exception": false,
     "start_time": "2024-07-19T22:10:12.043214",
     "status": "completed"
    },
    "tags": []
   },
   "source": [
    "# 🌶️ Question 5\n",
    "\n",
    "Now say you can no longer buy fractions of a gallon.  (For instance, if you need 4.3 gallons to do a project, then you have to buy 5 gallons of paint.)\n",
    "\n",
    "With this new scenario, you will create a new function `get_actual_cost` that uses the same inputs and calculates the cost of your project.\n",
    "\n",
    "One function that you'll need to use to do this is `math.ceil()`.  We demonstrate usage of this function in the code cell below.  It takes as a number as input and rounds the number up to the nearest integer.  \n",
    "\n",
    "Run the next code cell to test this function for yourself.  Feel free to change the value of `test_value` and make sure `math.ceil()` returns the number you expect."
   ]
  },
  {
   "cell_type": "code",
   "execution_count": 10,
   "id": "10d77dd4",
   "metadata": {
    "execution": {
     "iopub.execute_input": "2024-07-19T22:10:12.065689Z",
     "iopub.status.busy": "2024-07-19T22:10:12.065266Z",
     "iopub.status.idle": "2024-07-19T22:10:12.071223Z",
     "shell.execute_reply": "2024-07-19T22:10:12.069923Z"
    },
    "papermill": {
     "duration": 0.017014,
     "end_time": "2024-07-19T22:10:12.073745",
     "exception": false,
     "start_time": "2024-07-19T22:10:12.056731",
     "status": "completed"
    },
    "tags": []
   },
   "outputs": [
    {
     "name": "stdout",
     "output_type": "stream",
     "text": [
      "3\n"
     ]
    }
   ],
   "source": [
    "test_value = 2.17\n",
    "\n",
    "rounded_value = math.ceil(test_value)\n",
    "print(rounded_value)"
   ]
  },
  {
   "cell_type": "markdown",
   "id": "cc01f362",
   "metadata": {
    "papermill": {
     "duration": 0.006874,
     "end_time": "2024-07-19T22:10:12.087527",
     "exception": false,
     "start_time": "2024-07-19T22:10:12.080653",
     "status": "completed"
    },
    "tags": []
   },
   "source": [
    "Use the next code cell to define the function `get_actual_cost()`.  You'll need to use the `math.ceil()` function to do this.\n",
    "\n",
    "When answering this question, note that it's completely valid to define a function that makes use of another function.  For instance, we can define a function `round_up_and_divide_by_three` that makes use of the `math.ceil` function:\n",
    "```\n",
    "def round_up_and_divide_by_three(num):\n",
    "    new_value = math.ceil(num)\n",
    "    final_value = new_value / 3\n",
    "    return final_value\n",
    "```"
   ]
  },
  {
   "cell_type": "code",
   "execution_count": 11,
   "id": "02617480",
   "metadata": {
    "execution": {
     "iopub.execute_input": "2024-07-19T22:10:12.103133Z",
     "iopub.status.busy": "2024-07-19T22:10:12.102751Z",
     "iopub.status.idle": "2024-07-19T22:10:12.112280Z",
     "shell.execute_reply": "2024-07-19T22:10:12.111219Z"
    },
    "papermill": {
     "duration": 0.020224,
     "end_time": "2024-07-19T22:10:12.114689",
     "exception": false,
     "start_time": "2024-07-19T22:10:12.094465",
     "status": "completed"
    },
    "tags": []
   },
   "outputs": [
    {
     "data": {
      "application/javascript": [
       "parent.postMessage({\"jupyterEvent\": \"custom.exercise_interaction\", \"data\": {\"outcomeType\": 1, \"valueTowardsCompletion\": 0.2, \"interactionType\": 1, \"questionType\": 2, \"questionId\": \"5_NoMoreFractions\", \"learnToolsVersion\": \"0.3.4\", \"failureMessage\": \"\", \"exceptionClass\": \"\", \"trace\": \"\"}}, \"*\")"
      ],
      "text/plain": [
       "<IPython.core.display.Javascript object>"
      ]
     },
     "metadata": {},
     "output_type": "display_data"
    },
    {
     "data": {
      "text/markdown": [
       "<span style=\"color:#33cc33\">Correct</span>"
      ],
      "text/plain": [
       "Correct"
      ]
     },
     "metadata": {},
     "output_type": "display_data"
    }
   ],
   "source": [
    "def get_actual_cost(sqft_walls, sqft_ceiling, sqft_per_gallon, cost_per_gallon):\n",
    "    gallons = sqft_walls / sqft_per_gallon + sqft_ceiling / sqft_per_gallon\n",
    "    gallons = math.ceil(gallons)\n",
    "    cost = gallons * cost_per_gallon\n",
    "    \n",
    "    return cost\n",
    "\n",
    "# Check your answer\n",
    "q5.check()"
   ]
  },
  {
   "cell_type": "code",
   "execution_count": 12,
   "id": "23e71307",
   "metadata": {
    "execution": {
     "iopub.execute_input": "2024-07-19T22:10:12.131451Z",
     "iopub.status.busy": "2024-07-19T22:10:12.131040Z",
     "iopub.status.idle": "2024-07-19T22:10:12.135518Z",
     "shell.execute_reply": "2024-07-19T22:10:12.134507Z"
    },
    "papermill": {
     "duration": 0.01522,
     "end_time": "2024-07-19T22:10:12.137626",
     "exception": false,
     "start_time": "2024-07-19T22:10:12.122406",
     "status": "completed"
    },
    "tags": []
   },
   "outputs": [],
   "source": [
    "# Uncomment to see a hint\n",
    "#q5.hint()\n",
    "\n",
    "# Uncomment to view the solution\n",
    "#q5.solution()"
   ]
  },
  {
   "cell_type": "markdown",
   "id": "de531e06",
   "metadata": {
    "papermill": {
     "duration": 0.006766,
     "end_time": "2024-07-19T22:10:12.151562",
     "exception": false,
     "start_time": "2024-07-19T22:10:12.144796",
     "status": "completed"
    },
    "tags": []
   },
   "source": [
    "Once your function is verified as correct, run the next code cell to calculate the updated cost of your project."
   ]
  },
  {
   "cell_type": "code",
   "execution_count": 13,
   "id": "ca04a418",
   "metadata": {
    "execution": {
     "iopub.execute_input": "2024-07-19T22:10:12.167440Z",
     "iopub.status.busy": "2024-07-19T22:10:12.167039Z",
     "iopub.status.idle": "2024-07-19T22:10:12.174537Z",
     "shell.execute_reply": "2024-07-19T22:10:12.173261Z"
    },
    "papermill": {
     "duration": 0.018241,
     "end_time": "2024-07-19T22:10:12.176806",
     "exception": false,
     "start_time": "2024-07-19T22:10:12.158565",
     "status": "completed"
    },
    "tags": []
   },
   "outputs": [
    {
     "data": {
      "text/plain": [
       "30"
      ]
     },
     "execution_count": 13,
     "metadata": {},
     "output_type": "execute_result"
    }
   ],
   "source": [
    "get_actual_cost(432, 144, 400, 15) "
   ]
  },
  {
   "cell_type": "markdown",
   "id": "f874c02f",
   "metadata": {
    "papermill": {
     "duration": 0.006982,
     "end_time": "2024-07-19T22:10:12.191167",
     "exception": false,
     "start_time": "2024-07-19T22:10:12.184185",
     "status": "completed"
    },
    "tags": []
   },
   "source": [
    "Say you're working with a slightly larger room.  Run the next code cell to calculate the cost of the project."
   ]
  },
  {
   "cell_type": "code",
   "execution_count": 14,
   "id": "aec2b6f8",
   "metadata": {
    "execution": {
     "iopub.execute_input": "2024-07-19T22:10:12.208130Z",
     "iopub.status.busy": "2024-07-19T22:10:12.207766Z",
     "iopub.status.idle": "2024-07-19T22:10:12.214647Z",
     "shell.execute_reply": "2024-07-19T22:10:12.213525Z"
    },
    "papermill": {
     "duration": 0.018017,
     "end_time": "2024-07-19T22:10:12.217009",
     "exception": false,
     "start_time": "2024-07-19T22:10:12.198992",
     "status": "completed"
    },
    "tags": []
   },
   "outputs": [
    {
     "data": {
      "text/plain": [
       "45"
      ]
     },
     "execution_count": 14,
     "metadata": {},
     "output_type": "execute_result"
    }
   ],
   "source": [
    "get_actual_cost(594, 288, 400, 15) "
   ]
  },
  {
   "cell_type": "markdown",
   "id": "af763070",
   "metadata": {
    "papermill": {
     "duration": 0.007006,
     "end_time": "2024-07-19T22:10:12.231456",
     "exception": false,
     "start_time": "2024-07-19T22:10:12.224450",
     "status": "completed"
    },
    "tags": []
   },
   "source": [
    "# Keep going\n",
    "\n",
    "Continue to learn about **[data types](https://www.kaggle.com/alexisbcook/data-types)**."
   ]
  },
  {
   "cell_type": "markdown",
   "id": "d1d74d03",
   "metadata": {
    "papermill": {
     "duration": 0.00749,
     "end_time": "2024-07-19T22:10:12.246240",
     "exception": false,
     "start_time": "2024-07-19T22:10:12.238750",
     "status": "completed"
    },
    "tags": []
   },
   "source": [
    "---\n",
    "\n",
    "\n",
    "\n",
    "\n",
    "*Have questions or comments? Visit the [course discussion forum](https://www.kaggle.com/learn/intro-to-programming/discussion) to chat with other learners.*"
   ]
  }
 ],
 "metadata": {
  "kaggle": {
   "accelerator": "none",
   "dataSources": [],
   "isGpuEnabled": false,
   "isInternetEnabled": false,
   "language": "python",
   "sourceType": "notebook"
  },
  "kernelspec": {
   "display_name": "Python 3",
   "language": "python",
   "name": "python3"
  },
  "language_info": {
   "codemirror_mode": {
    "name": "ipython",
    "version": 3
   },
   "file_extension": ".py",
   "mimetype": "text/x-python",
   "name": "python",
   "nbconvert_exporter": "python",
   "pygments_lexer": "ipython3",
   "version": "3.10.13"
  },
  "papermill": {
   "default_parameters": {},
   "duration": 4.730633,
   "end_time": "2024-07-19T22:10:12.774699",
   "environment_variables": {},
   "exception": null,
   "input_path": "__notebook__.ipynb",
   "output_path": "__notebook__.ipynb",
   "parameters": {},
   "start_time": "2024-07-19T22:10:08.044066",
   "version": "2.5.0"
  }
 },
 "nbformat": 4,
 "nbformat_minor": 5
}
