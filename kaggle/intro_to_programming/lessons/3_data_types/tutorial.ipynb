{
 "cells": [
  {
   "cell_type": "markdown",
   "id": "e81e8e75",
   "metadata": {
    "papermill": {
     "duration": 0.009032,
     "end_time": "2023-04-20T18:12:48.805165",
     "exception": false,
     "start_time": "2023-04-20T18:12:48.796133",
     "status": "completed"
    },
    "tags": []
   },
   "source": [
    "# Introduction\n",
    "\n",
    "Whenever you create a variable in Python, it has a value with a corresponding data type.  There are many different data types, such as integers, floats, booleans, and strings, all of which we'll cover in this lesson.  (This is just a small subset of the available data types -- there are also dictionaries, sets, lists, tuples, and much more.)\n",
    "\n",
    "Data types are important, because they determine what kinds of actions you can do with them.  For instance, you can divide two floats, but you cannot divide two strings.  For instance, `12.0/2.0` makes sense, but `\"cat\"/\"dog\"` does not.\n",
    "\n",
    "To avoid errors, we need to make sure that the actions match the data types that we have."
   ]
  },
  {
   "cell_type": "markdown",
   "id": "1b265eb6",
   "metadata": {
    "papermill": {
     "duration": 0.007639,
     "end_time": "2023-04-20T18:12:48.821203",
     "exception": false,
     "start_time": "2023-04-20T18:12:48.813564",
     "status": "completed"
    },
    "tags": []
   },
   "source": [
    "# Integers \n",
    "\n",
    "Integers are numbers without any fractional part and can be positive (`1`, `2`, `3`, ...), negative (`-1`, `-2`, `-3`, ...), or zero (`0`).    \n",
    "\n",
    "In the code cell below, we set a variable `x` to an integer.  We then verify the data type with `type()`, and need only pass the variable name into the parentheses."
   ]
  },
  {
   "cell_type": "code",
   "execution_count": 1,
   "id": "aaafe769",
   "metadata": {
    "execution": {
     "iopub.execute_input": "2023-04-20T18:12:48.838601Z",
     "iopub.status.busy": "2023-04-20T18:12:48.837882Z",
     "iopub.status.idle": "2023-04-20T18:12:48.848462Z",
     "shell.execute_reply": "2023-04-20T18:12:48.847421Z"
    },
    "papermill": {
     "duration": 0.022605,
     "end_time": "2023-04-20T18:12:48.851461",
     "exception": false,
     "start_time": "2023-04-20T18:12:48.828856",
     "status": "completed"
    },
    "tags": []
   },
   "outputs": [
    {
     "name": "stdout",
     "output_type": "stream",
     "text": [
      "14\n",
      "<class 'int'>\n"
     ]
    }
   ],
   "source": [
    "x = 14\n",
    "print(x)\n",
    "print(type(x))"
   ]
  },
  {
   "cell_type": "markdown",
   "id": "599b02fb",
   "metadata": {
    "papermill": {
     "duration": 0.007298,
     "end_time": "2023-04-20T18:12:48.866563",
     "exception": false,
     "start_time": "2023-04-20T18:12:48.859265",
     "status": "completed"
    },
    "tags": []
   },
   "source": [
    "In the output above, `<class 'int'>` refers to the **int**eger data type.\n",
    "\n",
    "# Floats\n",
    "\n",
    "Floats are numbers with fractional parts. They can have many numbers after decimal."
   ]
  },
  {
   "cell_type": "code",
   "execution_count": 2,
   "id": "6494240d",
   "metadata": {
    "execution": {
     "iopub.execute_input": "2023-04-20T18:12:48.884336Z",
     "iopub.status.busy": "2023-04-20T18:12:48.883370Z",
     "iopub.status.idle": "2023-04-20T18:12:48.890340Z",
     "shell.execute_reply": "2023-04-20T18:12:48.889047Z"
    },
    "papermill": {
     "duration": 0.018296,
     "end_time": "2023-04-20T18:12:48.892425",
     "exception": false,
     "start_time": "2023-04-20T18:12:48.874129",
     "status": "completed"
    },
    "tags": []
   },
   "outputs": [
    {
     "name": "stdout",
     "output_type": "stream",
     "text": [
      "3.141592653589793\n",
      "<class 'float'>\n"
     ]
    }
   ],
   "source": [
    "nearly_pi = 3.141592653589793238462643383279502884197169399375105820974944\n",
    "print(nearly_pi)\n",
    "print(type(nearly_pi))"
   ]
  },
  {
   "cell_type": "markdown",
   "id": "d2fca38d",
   "metadata": {
    "papermill": {
     "duration": 0.007324,
     "end_time": "2023-04-20T18:12:48.907679",
     "exception": false,
     "start_time": "2023-04-20T18:12:48.900355",
     "status": "completed"
    },
    "tags": []
   },
   "source": [
    "We can also specify a float with a fraction."
   ]
  },
  {
   "cell_type": "code",
   "execution_count": 3,
   "id": "12af8ec9",
   "metadata": {
    "execution": {
     "iopub.execute_input": "2023-04-20T18:12:48.925459Z",
     "iopub.status.busy": "2023-04-20T18:12:48.924654Z",
     "iopub.status.idle": "2023-04-20T18:12:48.930253Z",
     "shell.execute_reply": "2023-04-20T18:12:48.929001Z"
    },
    "papermill": {
     "duration": 0.017111,
     "end_time": "2023-04-20T18:12:48.932530",
     "exception": false,
     "start_time": "2023-04-20T18:12:48.915419",
     "status": "completed"
    },
    "tags": []
   },
   "outputs": [
    {
     "name": "stdout",
     "output_type": "stream",
     "text": [
      "3.142857142857143\n",
      "<class 'float'>\n"
     ]
    }
   ],
   "source": [
    "almost_pi = 22/7\n",
    "print(almost_pi)\n",
    "print(type(almost_pi))"
   ]
  },
  {
   "cell_type": "markdown",
   "id": "cbbd29bd",
   "metadata": {
    "papermill": {
     "duration": 0.007432,
     "end_time": "2023-04-20T18:12:48.948720",
     "exception": false,
     "start_time": "2023-04-20T18:12:48.941288",
     "status": "completed"
    },
    "tags": []
   },
   "source": [
    "One function that is particularly useful for fractions is the `round()` function.  It lets you round a number to a specified number of decimal places.  "
   ]
  },
  {
   "cell_type": "code",
   "execution_count": 4,
   "id": "0780b4c1",
   "metadata": {
    "execution": {
     "iopub.execute_input": "2023-04-20T18:12:48.966118Z",
     "iopub.status.busy": "2023-04-20T18:12:48.965721Z",
     "iopub.status.idle": "2023-04-20T18:12:48.971769Z",
     "shell.execute_reply": "2023-04-20T18:12:48.970508Z"
    },
    "papermill": {
     "duration": 0.017849,
     "end_time": "2023-04-20T18:12:48.974323",
     "exception": false,
     "start_time": "2023-04-20T18:12:48.956474",
     "status": "completed"
    },
    "tags": []
   },
   "outputs": [
    {
     "name": "stdout",
     "output_type": "stream",
     "text": [
      "3.14286\n",
      "<class 'float'>\n"
     ]
    }
   ],
   "source": [
    "# Round to 5 decimal places\n",
    "rounded_pi = round(almost_pi, 5)\n",
    "print(rounded_pi)\n",
    "print(type(rounded_pi))"
   ]
  },
  {
   "cell_type": "markdown",
   "id": "1af7b052",
   "metadata": {
    "papermill": {
     "duration": 0.007603,
     "end_time": "2023-04-20T18:12:48.989657",
     "exception": false,
     "start_time": "2023-04-20T18:12:48.982054",
     "status": "completed"
    },
    "tags": []
   },
   "source": [
    "Whenever you write an number with a decimal point, Python recognizes it as a float data type.  \n",
    "\n",
    "For instance, `1.` (or `1.0`, `1.00`, etc) will be recognized as a float.  This is the case, even though these numbers technically have no fractional part!"
   ]
  },
  {
   "cell_type": "code",
   "execution_count": 5,
   "id": "d3a37e4a",
   "metadata": {
    "execution": {
     "iopub.execute_input": "2023-04-20T18:12:49.007778Z",
     "iopub.status.busy": "2023-04-20T18:12:49.006888Z",
     "iopub.status.idle": "2023-04-20T18:12:49.013527Z",
     "shell.execute_reply": "2023-04-20T18:12:49.012492Z"
    },
    "papermill": {
     "duration": 0.018091,
     "end_time": "2023-04-20T18:12:49.015882",
     "exception": false,
     "start_time": "2023-04-20T18:12:48.997791",
     "status": "completed"
    },
    "tags": []
   },
   "outputs": [
    {
     "name": "stdout",
     "output_type": "stream",
     "text": [
      "1.0\n",
      "<class 'float'>\n"
     ]
    }
   ],
   "source": [
    "y_float = 1.\n",
    "print(y_float)\n",
    "print(type(y_float))"
   ]
  },
  {
   "cell_type": "markdown",
   "id": "c0d8b14c",
   "metadata": {
    "papermill": {
     "duration": 0.007527,
     "end_time": "2023-04-20T18:12:49.031020",
     "exception": false,
     "start_time": "2023-04-20T18:12:49.023493",
     "status": "completed"
    },
    "tags": []
   },
   "source": [
    "# Booleans\n",
    "\n",
    "Booleans represent one of two values: `True` or `False`.  In the code cell below, `z_one` is set to a boolean with value `True`."
   ]
  },
  {
   "cell_type": "code",
   "execution_count": 6,
   "id": "87b8a0a7",
   "metadata": {
    "execution": {
     "iopub.execute_input": "2023-04-20T18:12:49.048927Z",
     "iopub.status.busy": "2023-04-20T18:12:49.048164Z",
     "iopub.status.idle": "2023-04-20T18:12:49.054750Z",
     "shell.execute_reply": "2023-04-20T18:12:49.053500Z"
    },
    "papermill": {
     "duration": 0.018309,
     "end_time": "2023-04-20T18:12:49.057026",
     "exception": false,
     "start_time": "2023-04-20T18:12:49.038717",
     "status": "completed"
    },
    "tags": []
   },
   "outputs": [
    {
     "name": "stdout",
     "output_type": "stream",
     "text": [
      "True\n",
      "<class 'bool'>\n"
     ]
    }
   ],
   "source": [
    "z_one = True\n",
    "print(z_one)\n",
    "print(type(z_one))"
   ]
  },
  {
   "cell_type": "markdown",
   "id": "afcf68e2",
   "metadata": {
    "papermill": {
     "duration": 0.007739,
     "end_time": "2023-04-20T18:12:49.072851",
     "exception": false,
     "start_time": "2023-04-20T18:12:49.065112",
     "status": "completed"
    },
    "tags": []
   },
   "source": [
    "Next, `z_two` is set to a boolean with value `False`."
   ]
  },
  {
   "cell_type": "code",
   "execution_count": 7,
   "id": "9e787dbc",
   "metadata": {
    "execution": {
     "iopub.execute_input": "2023-04-20T18:12:49.090993Z",
     "iopub.status.busy": "2023-04-20T18:12:49.090244Z",
     "iopub.status.idle": "2023-04-20T18:12:49.095899Z",
     "shell.execute_reply": "2023-04-20T18:12:49.094835Z"
    },
    "papermill": {
     "duration": 0.017452,
     "end_time": "2023-04-20T18:12:49.098110",
     "exception": false,
     "start_time": "2023-04-20T18:12:49.080658",
     "status": "completed"
    },
    "tags": []
   },
   "outputs": [
    {
     "name": "stdout",
     "output_type": "stream",
     "text": [
      "False\n",
      "<class 'bool'>\n"
     ]
    }
   ],
   "source": [
    "z_two = False\n",
    "print(z_two)\n",
    "print(type(z_two))"
   ]
  },
  {
   "cell_type": "markdown",
   "id": "705b674c",
   "metadata": {
    "papermill": {
     "duration": 0.007616,
     "end_time": "2023-04-20T18:12:49.113703",
     "exception": false,
     "start_time": "2023-04-20T18:12:49.106087",
     "status": "completed"
    },
    "tags": []
   },
   "source": [
    "Booleans are used to represent the truth value of an expression.  Since `1 < 2` is a true statement, `z_three` takes on a value of `True`."
   ]
  },
  {
   "cell_type": "code",
   "execution_count": 8,
   "id": "59c09293",
   "metadata": {
    "execution": {
     "iopub.execute_input": "2023-04-20T18:12:49.132553Z",
     "iopub.status.busy": "2023-04-20T18:12:49.131902Z",
     "iopub.status.idle": "2023-04-20T18:12:49.136931Z",
     "shell.execute_reply": "2023-04-20T18:12:49.135919Z"
    },
    "papermill": {
     "duration": 0.016984,
     "end_time": "2023-04-20T18:12:49.139120",
     "exception": false,
     "start_time": "2023-04-20T18:12:49.122136",
     "status": "completed"
    },
    "tags": []
   },
   "outputs": [
    {
     "name": "stdout",
     "output_type": "stream",
     "text": [
      "True\n",
      "<class 'bool'>\n"
     ]
    }
   ],
   "source": [
    "z_three = (1 < 2)\n",
    "print(z_three)\n",
    "print(type(z_three))"
   ]
  },
  {
   "cell_type": "markdown",
   "id": "196534ee",
   "metadata": {
    "papermill": {
     "duration": 0.007959,
     "end_time": "2023-04-20T18:12:49.155185",
     "exception": false,
     "start_time": "2023-04-20T18:12:49.147226",
     "status": "completed"
    },
    "tags": []
   },
   "source": [
    "Similarly, since `5 < 3` is a false statement, `z_four` takes on a value of `False`."
   ]
  },
  {
   "cell_type": "code",
   "execution_count": 9,
   "id": "c1f1d54b",
   "metadata": {
    "execution": {
     "iopub.execute_input": "2023-04-20T18:12:49.173704Z",
     "iopub.status.busy": "2023-04-20T18:12:49.172961Z",
     "iopub.status.idle": "2023-04-20T18:12:49.178137Z",
     "shell.execute_reply": "2023-04-20T18:12:49.177350Z"
    },
    "papermill": {
     "duration": 0.01701,
     "end_time": "2023-04-20T18:12:49.180175",
     "exception": false,
     "start_time": "2023-04-20T18:12:49.163165",
     "status": "completed"
    },
    "tags": []
   },
   "outputs": [
    {
     "name": "stdout",
     "output_type": "stream",
     "text": [
      "False\n",
      "<class 'bool'>\n"
     ]
    }
   ],
   "source": [
    "z_four = (5 < 3)\n",
    "print(z_four)\n",
    "print(type(z_four))"
   ]
  },
  {
   "cell_type": "markdown",
   "id": "1cdce419",
   "metadata": {
    "papermill": {
     "duration": 0.008026,
     "end_time": "2023-04-20T18:12:49.196706",
     "exception": false,
     "start_time": "2023-04-20T18:12:49.188680",
     "status": "completed"
    },
    "tags": []
   },
   "source": [
    "We can switch the value of a boolean by using `not`.  So, `not True` is equivalent to `False`, and `not False` becomes `True`."
   ]
  },
  {
   "cell_type": "code",
   "execution_count": 10,
   "id": "6bdd450b",
   "metadata": {
    "execution": {
     "iopub.execute_input": "2023-04-20T18:12:49.215613Z",
     "iopub.status.busy": "2023-04-20T18:12:49.214845Z",
     "iopub.status.idle": "2023-04-20T18:12:49.220979Z",
     "shell.execute_reply": "2023-04-20T18:12:49.219781Z"
    },
    "papermill": {
     "duration": 0.018227,
     "end_time": "2023-04-20T18:12:49.223154",
     "exception": false,
     "start_time": "2023-04-20T18:12:49.204927",
     "status": "completed"
    },
    "tags": []
   },
   "outputs": [
    {
     "name": "stdout",
     "output_type": "stream",
     "text": [
      "True\n",
      "<class 'bool'>\n"
     ]
    }
   ],
   "source": [
    "z_five = not z_four\n",
    "print(z_five)\n",
    "print(type(z_five))"
   ]
  },
  {
   "cell_type": "markdown",
   "id": "a3ebd52e",
   "metadata": {
    "papermill": {
     "duration": 0.007987,
     "end_time": "2023-04-20T18:12:49.239361",
     "exception": false,
     "start_time": "2023-04-20T18:12:49.231374",
     "status": "completed"
    },
    "tags": []
   },
   "source": [
    "Booleans will be important in the next lesson, when you learn about conditions and conditional statements.\n",
    "\n",
    "# Strings\n",
    "\n",
    "The string data type is a collection of characters (like alphabet letters, punctuation, numerical digits, or symbols) contained in quotation marks.  Strings are commonly used to represent text."
   ]
  },
  {
   "cell_type": "code",
   "execution_count": 11,
   "id": "8f846d7b",
   "metadata": {
    "execution": {
     "iopub.execute_input": "2023-04-20T18:12:49.258584Z",
     "iopub.status.busy": "2023-04-20T18:12:49.257837Z",
     "iopub.status.idle": "2023-04-20T18:12:49.263077Z",
     "shell.execute_reply": "2023-04-20T18:12:49.262179Z"
    },
    "papermill": {
     "duration": 0.017389,
     "end_time": "2023-04-20T18:12:49.265084",
     "exception": false,
     "start_time": "2023-04-20T18:12:49.247695",
     "status": "completed"
    },
    "tags": []
   },
   "outputs": [
    {
     "name": "stdout",
     "output_type": "stream",
     "text": [
      "Hello, Python!\n",
      "<class 'str'>\n"
     ]
    }
   ],
   "source": [
    "w = \"Hello, Python!\"\n",
    "print(w)\n",
    "print(type(w))"
   ]
  },
  {
   "cell_type": "markdown",
   "id": "7a710fe6",
   "metadata": {
    "papermill": {
     "duration": 0.007952,
     "end_time": "2023-04-20T18:12:49.281292",
     "exception": false,
     "start_time": "2023-04-20T18:12:49.273340",
     "status": "completed"
    },
    "tags": []
   },
   "source": [
    "You can get the length of a string with `len()`.  `\"Hello, Python!\"` has length 14, because it has 14 characters, including the space, comma, and exclamation mark.  Note that the quotation marks are not included when calculating the length."
   ]
  },
  {
   "cell_type": "code",
   "execution_count": 12,
   "id": "e854735d",
   "metadata": {
    "execution": {
     "iopub.execute_input": "2023-04-20T18:12:49.299898Z",
     "iopub.status.busy": "2023-04-20T18:12:49.299134Z",
     "iopub.status.idle": "2023-04-20T18:12:49.304920Z",
     "shell.execute_reply": "2023-04-20T18:12:49.303801Z"
    },
    "papermill": {
     "duration": 0.017666,
     "end_time": "2023-04-20T18:12:49.307177",
     "exception": false,
     "start_time": "2023-04-20T18:12:49.289511",
     "status": "completed"
    },
    "tags": []
   },
   "outputs": [
    {
     "name": "stdout",
     "output_type": "stream",
     "text": [
      "14\n"
     ]
    }
   ],
   "source": [
    "print(len(w))"
   ]
  },
  {
   "cell_type": "markdown",
   "id": "7cd1e629",
   "metadata": {
    "papermill": {
     "duration": 0.007983,
     "end_time": "2023-04-20T18:12:49.323473",
     "exception": false,
     "start_time": "2023-04-20T18:12:49.315490",
     "status": "completed"
    },
    "tags": []
   },
   "source": [
    "One special type of string is the empty string, which has length zero."
   ]
  },
  {
   "cell_type": "code",
   "execution_count": 13,
   "id": "6e9791fd",
   "metadata": {
    "execution": {
     "iopub.execute_input": "2023-04-20T18:12:49.342494Z",
     "iopub.status.busy": "2023-04-20T18:12:49.341348Z",
     "iopub.status.idle": "2023-04-20T18:12:49.347707Z",
     "shell.execute_reply": "2023-04-20T18:12:49.346572Z"
    },
    "papermill": {
     "duration": 0.018115,
     "end_time": "2023-04-20T18:12:49.350024",
     "exception": false,
     "start_time": "2023-04-20T18:12:49.331909",
     "status": "completed"
    },
    "tags": []
   },
   "outputs": [
    {
     "name": "stdout",
     "output_type": "stream",
     "text": [
      "<class 'str'>\n",
      "0\n"
     ]
    }
   ],
   "source": [
    "shortest_string = \"\"\n",
    "print(type(shortest_string))\n",
    "print(len(shortest_string))"
   ]
  },
  {
   "cell_type": "markdown",
   "id": "8a3b487a",
   "metadata": {
    "papermill": {
     "duration": 0.008248,
     "end_time": "2023-04-20T18:12:49.366532",
     "exception": false,
     "start_time": "2023-04-20T18:12:49.358284",
     "status": "completed"
    },
    "tags": []
   },
   "source": [
    "If you put a number in quotation marks, it has a string data type."
   ]
  },
  {
   "cell_type": "code",
   "execution_count": 14,
   "id": "50b8fd6c",
   "metadata": {
    "execution": {
     "iopub.execute_input": "2023-04-20T18:12:49.386042Z",
     "iopub.status.busy": "2023-04-20T18:12:49.385046Z",
     "iopub.status.idle": "2023-04-20T18:12:49.391055Z",
     "shell.execute_reply": "2023-04-20T18:12:49.389936Z"
    },
    "papermill": {
     "duration": 0.018445,
     "end_time": "2023-04-20T18:12:49.393423",
     "exception": false,
     "start_time": "2023-04-20T18:12:49.374978",
     "status": "completed"
    },
    "tags": []
   },
   "outputs": [
    {
     "name": "stdout",
     "output_type": "stream",
     "text": [
      "1.12321\n",
      "<class 'str'>\n"
     ]
    }
   ],
   "source": [
    "my_number = \"1.12321\"\n",
    "print(my_number)\n",
    "print(type(my_number))"
   ]
  },
  {
   "cell_type": "markdown",
   "id": "36535077",
   "metadata": {
    "papermill": {
     "duration": 0.008233,
     "end_time": "2023-04-20T18:12:49.410243",
     "exception": false,
     "start_time": "2023-04-20T18:12:49.402010",
     "status": "completed"
    },
    "tags": []
   },
   "source": [
    "If we have a string that is convertible to a float, we can use `float()`.  \n",
    "\n",
    "This won't always work!  For instance, we can convert `\"10.43430\"` and `\"3\"` to floats, but we cannot convert `\"Hello, Python!\"` to a float."
   ]
  },
  {
   "cell_type": "code",
   "execution_count": 15,
   "id": "d654a3c7",
   "metadata": {
    "execution": {
     "iopub.execute_input": "2023-04-20T18:12:49.429391Z",
     "iopub.status.busy": "2023-04-20T18:12:49.428218Z",
     "iopub.status.idle": "2023-04-20T18:12:49.434849Z",
     "shell.execute_reply": "2023-04-20T18:12:49.433766Z"
    },
    "papermill": {
     "duration": 0.018534,
     "end_time": "2023-04-20T18:12:49.436976",
     "exception": false,
     "start_time": "2023-04-20T18:12:49.418442",
     "status": "completed"
    },
    "tags": []
   },
   "outputs": [
    {
     "name": "stdout",
     "output_type": "stream",
     "text": [
      "1.12321\n",
      "<class 'float'>\n"
     ]
    }
   ],
   "source": [
    "also_my_number = float(my_number)\n",
    "print(also_my_number)\n",
    "print(type(also_my_number))"
   ]
  },
  {
   "cell_type": "markdown",
   "id": "c9c6000d",
   "metadata": {
    "papermill": {
     "duration": 0.008288,
     "end_time": "2023-04-20T18:12:49.453821",
     "exception": false,
     "start_time": "2023-04-20T18:12:49.445533",
     "status": "completed"
    },
    "tags": []
   },
   "source": [
    "Just like you can add two numbers (floats or integers), you can also add two strings.  It results in a longer string that combines the two original strings by concatenating them."
   ]
  },
  {
   "cell_type": "code",
   "execution_count": 16,
   "id": "18d9ff90",
   "metadata": {
    "execution": {
     "iopub.execute_input": "2023-04-20T18:12:49.472714Z",
     "iopub.status.busy": "2023-04-20T18:12:49.472281Z",
     "iopub.status.idle": "2023-04-20T18:12:49.476855Z",
     "shell.execute_reply": "2023-04-20T18:12:49.476051Z"
    },
    "papermill": {
     "duration": 0.016882,
     "end_time": "2023-04-20T18:12:49.479201",
     "exception": false,
     "start_time": "2023-04-20T18:12:49.462319",
     "status": "completed"
    },
    "tags": []
   },
   "outputs": [
    {
     "name": "stdout",
     "output_type": "stream",
     "text": [
      "abcdef\n",
      "<class 'str'>\n"
     ]
    }
   ],
   "source": [
    "new_string = \"abc\" + \"def\"\n",
    "print(new_string)\n",
    "print(type(new_string))"
   ]
  },
  {
   "cell_type": "markdown",
   "id": "e47622b3",
   "metadata": {
    "papermill": {
     "duration": 0.008506,
     "end_time": "2023-04-20T18:12:49.496700",
     "exception": false,
     "start_time": "2023-04-20T18:12:49.488194",
     "status": "completed"
    },
    "tags": []
   },
   "source": [
    "Note that it's not possible to do subtraction or division with two strings.  You also can't multiply two strings, but you can multiply a string by an integer.  This again results in a string that's just the original string concatenated with itself a specified number of times."
   ]
  },
  {
   "cell_type": "code",
   "execution_count": 17,
   "id": "3121b696",
   "metadata": {
    "execution": {
     "iopub.execute_input": "2023-04-20T18:12:49.516237Z",
     "iopub.status.busy": "2023-04-20T18:12:49.515631Z",
     "iopub.status.idle": "2023-04-20T18:12:49.521342Z",
     "shell.execute_reply": "2023-04-20T18:12:49.520307Z"
    },
    "papermill": {
     "duration": 0.018198,
     "end_time": "2023-04-20T18:12:49.523555",
     "exception": false,
     "start_time": "2023-04-20T18:12:49.505357",
     "status": "completed"
    },
    "tags": []
   },
   "outputs": [
    {
     "name": "stdout",
     "output_type": "stream",
     "text": [
      "abcabcabc\n",
      "<class 'str'>\n"
     ]
    }
   ],
   "source": [
    "newest_string = \"abc\" * 3\n",
    "print(newest_string)\n",
    "print(type(newest_string))"
   ]
  },
  {
   "cell_type": "markdown",
   "id": "d7e499b4",
   "metadata": {
    "papermill": {
     "duration": 0.008454,
     "end_time": "2023-04-20T18:12:49.540647",
     "exception": false,
     "start_time": "2023-04-20T18:12:49.532193",
     "status": "completed"
    },
    "tags": []
   },
   "source": [
    "Note that you cannot multiply a string by a float!  Trying to do so will return an error."
   ]
  },
  {
   "cell_type": "code",
   "execution_count": 18,
   "id": "2607fb9e",
   "metadata": {
    "execution": {
     "iopub.execute_input": "2023-04-20T18:12:49.560119Z",
     "iopub.status.busy": "2023-04-20T18:12:49.559686Z",
     "iopub.status.idle": "2023-04-20T18:12:49.626943Z",
     "shell.execute_reply": "2023-04-20T18:12:49.625905Z"
    },
    "papermill": {
     "duration": 0.080189,
     "end_time": "2023-04-20T18:12:49.629564",
     "exception": false,
     "start_time": "2023-04-20T18:12:49.549375",
     "status": "completed"
    },
    "tags": []
   },
   "outputs": [
    {
     "ename": "TypeError",
     "evalue": "can't multiply sequence by non-int of type 'float'",
     "output_type": "error",
     "traceback": [
      "\u001b[0;31m---------------------------------------------------------------------------\u001b[0m",
      "\u001b[0;31mTypeError\u001b[0m                                 Traceback (most recent call last)",
      "\u001b[0;32m/tmp/ipykernel_19/2386798361.py\u001b[0m in \u001b[0;36m<module>\u001b[0;34m\u001b[0m\n\u001b[0;32m----> 1\u001b[0;31m \u001b[0mwill_not_work\u001b[0m \u001b[0;34m=\u001b[0m \u001b[0;34m\"abc\"\u001b[0m \u001b[0;34m*\u001b[0m \u001b[0;36m3.\u001b[0m\u001b[0;34m\u001b[0m\u001b[0;34m\u001b[0m\u001b[0m\n\u001b[0m",
      "\u001b[0;31mTypeError\u001b[0m: can't multiply sequence by non-int of type 'float'"
     ]
    }
   ],
   "source": [
    "will_not_work = \"abc\" * 3."
   ]
  },
  {
   "cell_type": "markdown",
   "id": "6ccdeb99",
   "metadata": {
    "papermill": {
     "duration": 0.008639,
     "end_time": "2023-04-20T18:12:49.647361",
     "exception": false,
     "start_time": "2023-04-20T18:12:49.638722",
     "status": "completed"
    },
    "tags": []
   },
   "source": [
    "In the error, the \"sequence\" is the string `\"abc\"`, and the \"non-int of type 'float'\" is the float (`3.`).  So, the error message can be reworded to say \"can't multiply string by float\".  \n",
    "\n",
    "# Your turn\n",
    "\n",
    "Write your own code to **[explore different data types](https://www.kaggle.com/kernels/fork/25258226)**."
   ]
  },
  {
   "cell_type": "markdown",
   "id": "494ad3a3",
   "metadata": {
    "papermill": {
     "duration": 0.008588,
     "end_time": "2023-04-20T18:12:49.664853",
     "exception": false,
     "start_time": "2023-04-20T18:12:49.656265",
     "status": "completed"
    },
    "tags": []
   },
   "source": [
    "---\n",
    "\n",
    "\n",
    "\n",
    "\n",
    "*Have questions or comments? Visit the [course discussion forum](https://www.kaggle.com/learn/intro-to-programming/discussion) to chat with other learners.*"
   ]
  }
 ],
 "metadata": {
  "kernelspec": {
   "display_name": "Python 3",
   "language": "python",
   "name": "python3"
  },
  "language_info": {
   "codemirror_mode": {
    "name": "ipython",
    "version": 3
   },
   "file_extension": ".py",
   "mimetype": "text/x-python",
   "name": "python",
   "nbconvert_exporter": "python",
   "pygments_lexer": "ipython3",
   "version": "3.7.12"
  },
  "papermill": {
   "default_parameters": {},
   "duration": 11.629152,
   "end_time": "2023-04-20T18:12:50.295094",
   "environment_variables": {},
   "exception": null,
   "input_path": "__notebook__.ipynb",
   "output_path": "__notebook__.ipynb",
   "parameters": {},
   "start_time": "2023-04-20T18:12:38.665942",
   "version": "2.3.3"
  }
 },
 "nbformat": 4,
 "nbformat_minor": 5
}
