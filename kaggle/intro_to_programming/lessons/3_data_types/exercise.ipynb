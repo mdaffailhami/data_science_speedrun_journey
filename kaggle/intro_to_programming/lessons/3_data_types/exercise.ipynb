{
 "cells": [
  {
   "cell_type": "markdown",
   "id": "d2409b10",
   "metadata": {
    "papermill": {
     "duration": 0.006896,
     "end_time": "2024-07-24T11:46:53.678256",
     "exception": false,
     "start_time": "2024-07-24T11:46:53.671360",
     "status": "completed"
    },
    "tags": []
   },
   "source": [
    "**This notebook is an exercise in the [Intro to Programming](https://www.kaggle.com/learn/intro-to-programming) course.  You can reference the tutorial at [this link](https://www.kaggle.com/alexisbcook/data-types).**\n",
    "\n",
    "---\n"
   ]
  },
  {
   "cell_type": "markdown",
   "id": "dd8925e5",
   "metadata": {
    "papermill": {
     "duration": 0.005889,
     "end_time": "2024-07-24T11:46:53.690836",
     "exception": false,
     "start_time": "2024-07-24T11:46:53.684947",
     "status": "completed"
    },
    "tags": []
   },
   "source": [
    "In the tutorial, you learned about four different data types: floats, integers, strings, and booleans.  In this exercise, you'll experiment with them.\n",
    "\n",
    "# Set up the notebook\n",
    "\n",
    "Run the next code cell without changes to set up the notebook."
   ]
  },
  {
   "cell_type": "code",
   "execution_count": 1,
   "id": "1c775241",
   "metadata": {
    "execution": {
     "iopub.execute_input": "2024-07-24T11:46:53.704398Z",
     "iopub.status.busy": "2024-07-24T11:46:53.704013Z",
     "iopub.status.idle": "2024-07-24T11:46:54.592172Z",
     "shell.execute_reply": "2024-07-24T11:46:54.591128Z"
    },
    "papermill": {
     "duration": 0.898163,
     "end_time": "2024-07-24T11:46:54.595040",
     "exception": false,
     "start_time": "2024-07-24T11:46:53.696877",
     "status": "completed"
    },
    "tags": []
   },
   "outputs": [
    {
     "name": "stdout",
     "output_type": "stream",
     "text": [
      "Setup complete.\n"
     ]
    }
   ],
   "source": [
    "# Set up the exercise\n",
    "from learntools.core import binder\n",
    "binder.bind(globals())\n",
    "from learntools.intro_to_programming.ex3 import *\n",
    "print('Setup complete.')"
   ]
  },
  {
   "cell_type": "markdown",
   "id": "79278eb9",
   "metadata": {
    "papermill": {
     "duration": 0.00656,
     "end_time": "2024-07-24T11:46:54.608544",
     "exception": false,
     "start_time": "2024-07-24T11:46:54.601984",
     "status": "completed"
    },
    "tags": []
   },
   "source": [
    "# Question 1\n",
    "\n",
    "You have seen how to convert a float to an integer with the `int` function.  Try this out yourself by running the code cell below."
   ]
  },
  {
   "cell_type": "code",
   "execution_count": 2,
   "id": "5fa1c8d2",
   "metadata": {
    "execution": {
     "iopub.execute_input": "2024-07-24T11:46:54.622633Z",
     "iopub.status.busy": "2024-07-24T11:46:54.622131Z",
     "iopub.status.idle": "2024-07-24T11:46:54.627953Z",
     "shell.execute_reply": "2024-07-24T11:46:54.627029Z"
    },
    "papermill": {
     "duration": 0.01548,
     "end_time": "2024-07-24T11:46:54.630175",
     "exception": false,
     "start_time": "2024-07-24T11:46:54.614695",
     "status": "completed"
    },
    "tags": []
   },
   "outputs": [
    {
     "name": "stdout",
     "output_type": "stream",
     "text": [
      "1.0\n",
      "<class 'float'>\n",
      "1\n",
      "<class 'int'>\n"
     ]
    }
   ],
   "source": [
    "# Define a float\n",
    "y = 1.\n",
    "print(y)\n",
    "print(type(y))\n",
    "\n",
    "# Convert float to integer with the int function\n",
    "z = int(y)\n",
    "print(z)\n",
    "print(type(z))"
   ]
  },
  {
   "cell_type": "markdown",
   "id": "b1c352d9",
   "metadata": {
    "papermill": {
     "duration": 0.005879,
     "end_time": "2024-07-24T11:46:54.642214",
     "exception": false,
     "start_time": "2024-07-24T11:46:54.636335",
     "status": "completed"
    },
    "tags": []
   },
   "source": [
    "In this case, the float you are using has no numbers after the decimal.  \n",
    "- But what happens when you try to convert a float with a fractional part to an integer?  \n",
    "- How does the outcome of the `int` function change for positive and negative numbers?\n",
    "\n",
    "Use the next code cell to investigate and answer these questions.  Feel free to add or remove any lines of code -- it is your workspace!"
   ]
  },
  {
   "cell_type": "code",
   "execution_count": 3,
   "id": "80c53f79",
   "metadata": {
    "execution": {
     "iopub.execute_input": "2024-07-24T11:46:54.657971Z",
     "iopub.status.busy": "2024-07-24T11:46:54.657085Z",
     "iopub.status.idle": "2024-07-24T11:46:54.662938Z",
     "shell.execute_reply": "2024-07-24T11:46:54.661852Z"
    },
    "papermill": {
     "duration": 0.016915,
     "end_time": "2024-07-24T11:46:54.665391",
     "exception": false,
     "start_time": "2024-07-24T11:46:54.648476",
     "status": "completed"
    },
    "tags": []
   },
   "outputs": [
    {
     "name": "stdout",
     "output_type": "stream",
     "text": [
      "1\n",
      "1\n",
      "-3\n",
      "-2\n"
     ]
    }
   ],
   "source": [
    "# Uncomment and run this code to get started!\n",
    "print(int(1.2321))\n",
    "print(int(1.747))\n",
    "print(int(-3.94535))\n",
    "print(int(-2.19774))"
   ]
  },
  {
   "cell_type": "markdown",
   "id": "6fb071b1",
   "metadata": {
    "papermill": {
     "duration": 0.006061,
     "end_time": "2024-07-24T11:46:54.677603",
     "exception": false,
     "start_time": "2024-07-24T11:46:54.671542",
     "status": "completed"
    },
    "tags": []
   },
   "source": [
    "Once you have an answer, run the code cell below to see the solution.  Viewing the solution will give you credit for answering the problem."
   ]
  },
  {
   "cell_type": "code",
   "execution_count": 4,
   "id": "c79d0295",
   "metadata": {
    "execution": {
     "iopub.execute_input": "2024-07-24T11:46:54.691704Z",
     "iopub.status.busy": "2024-07-24T11:46:54.690984Z",
     "iopub.status.idle": "2024-07-24T11:46:54.699831Z",
     "shell.execute_reply": "2024-07-24T11:46:54.698856Z"
    },
    "papermill": {
     "duration": 0.018268,
     "end_time": "2024-07-24T11:46:54.701994",
     "exception": false,
     "start_time": "2024-07-24T11:46:54.683726",
     "status": "completed"
    },
    "tags": []
   },
   "outputs": [
    {
     "data": {
      "application/javascript": [
       "parent.postMessage({\"jupyterEvent\": \"custom.exercise_interaction\", \"data\": {\"outcomeType\": 1, \"valueTowardsCompletion\": 0.2, \"interactionType\": 1, \"questionType\": 4, \"questionId\": \"1_FloatToInt\", \"learnToolsVersion\": \"0.3.4\", \"failureMessage\": \"\", \"exceptionClass\": \"\", \"trace\": \"\"}}, \"*\")"
      ],
      "text/plain": [
       "<IPython.core.display.Javascript object>"
      ]
     },
     "metadata": {},
     "output_type": "display_data"
    },
    {
     "data": {
      "text/markdown": [
       "<span style=\"color:#33cc33\">Correct:</span> \n",
       "\n",
       "Negative floats are always rounded UP to the closest integer (for instance, both -1.1 and -1.9 are rounded up to -1). Positive floats are always rounded DOWN to the closest integer (for instance, 2.1 and 2.9 are rounded down to 2)."
      ],
      "text/plain": [
       "Correct: \n",
       "\n",
       "Negative floats are always rounded UP to the closest integer (for instance, both -1.1 and -1.9 are rounded up to -1). Positive floats are always rounded DOWN to the closest integer (for instance, 2.1 and 2.9 are rounded down to 2)."
      ]
     },
     "metadata": {},
     "output_type": "display_data"
    }
   ],
   "source": [
    "# Check your answer (Run this code cell to receive credit!)\n",
    "q1.check()"
   ]
  },
  {
   "cell_type": "markdown",
   "id": "b5135886",
   "metadata": {
    "papermill": {
     "duration": 0.006206,
     "end_time": "2024-07-24T11:46:54.714934",
     "exception": false,
     "start_time": "2024-07-24T11:46:54.708728",
     "status": "completed"
    },
    "tags": []
   },
   "source": [
    "# Question 2\n",
    "\n",
    "In the tutorial, you learned about booleans (which can take a value of `True` or `False`), in addition to integers, floats, and strings.  For this question, your goal is to determine what happens when you multiply a boolean by any of these data types.  Specifically, \n",
    "- What happens when you multiply an integer or float by `True`?  What happens when you multiply them by `False`?  How does the answer change if the numbers are positive or negative?\n",
    "- What happens when you multiply a string by `True`?  By `False`?\n",
    "\n",
    "Use the next code cell for your investigation. "
   ]
  },
  {
   "cell_type": "code",
   "execution_count": 5,
   "id": "8bf9f137",
   "metadata": {
    "execution": {
     "iopub.execute_input": "2024-07-24T11:46:54.729255Z",
     "iopub.status.busy": "2024-07-24T11:46:54.728866Z",
     "iopub.status.idle": "2024-07-24T11:46:54.734849Z",
     "shell.execute_reply": "2024-07-24T11:46:54.733855Z"
    },
    "papermill": {
     "duration": 0.01605,
     "end_time": "2024-07-24T11:46:54.737347",
     "exception": false,
     "start_time": "2024-07-24T11:46:54.721297",
     "status": "completed"
    },
    "tags": []
   },
   "outputs": [
    {
     "name": "stdout",
     "output_type": "stream",
     "text": [
      "3\n",
      "-3.1\n",
      "<class 'str'>\n",
      "0\n"
     ]
    }
   ],
   "source": [
    "# Uncomment and run this code to get started!\n",
    "print(3 * True)\n",
    "print(-3.1 * True)\n",
    "print(type(\"abc\" * False))\n",
    "print(len(\"abc\" * False))"
   ]
  },
  {
   "cell_type": "markdown",
   "id": "b1d1a078",
   "metadata": {
    "papermill": {
     "duration": 0.006462,
     "end_time": "2024-07-24T11:46:54.750715",
     "exception": false,
     "start_time": "2024-07-24T11:46:54.744253",
     "status": "completed"
    },
    "tags": []
   },
   "source": [
    "Once you have an answer, run the code cell below to see the solution.  Viewing the solution will give you credit for answering the problem."
   ]
  },
  {
   "cell_type": "code",
   "execution_count": 6,
   "id": "3028c73e",
   "metadata": {
    "execution": {
     "iopub.execute_input": "2024-07-24T11:46:54.765821Z",
     "iopub.status.busy": "2024-07-24T11:46:54.765458Z",
     "iopub.status.idle": "2024-07-24T11:46:54.773990Z",
     "shell.execute_reply": "2024-07-24T11:46:54.772826Z"
    },
    "papermill": {
     "duration": 0.018626,
     "end_time": "2024-07-24T11:46:54.776247",
     "exception": false,
     "start_time": "2024-07-24T11:46:54.757621",
     "status": "completed"
    },
    "tags": []
   },
   "outputs": [
    {
     "data": {
      "application/javascript": [
       "parent.postMessage({\"jupyterEvent\": \"custom.exercise_interaction\", \"data\": {\"outcomeType\": 1, \"valueTowardsCompletion\": 0.2, \"interactionType\": 1, \"questionType\": 4, \"questionId\": \"2_MultiplyBooleans\", \"learnToolsVersion\": \"0.3.4\", \"failureMessage\": \"\", \"exceptionClass\": \"\", \"trace\": \"\"}}, \"*\")"
      ],
      "text/plain": [
       "<IPython.core.display.Javascript object>"
      ]
     },
     "metadata": {},
     "output_type": "display_data"
    },
    {
     "data": {
      "text/markdown": [
       "<span style=\"color:#33cc33\">Correct:</span> \n",
       "\n",
       "When you multiple an integer or float by a boolean with value `True`, it just returns that same integer or float (and is equivalent to multiplying by 1).  If you multiply an integer or float by a boolean with value `False`, it always returns 0.  This is true for both positive and negative numbers.  If you multiply a string by a boolean with value `True`, it just returns that same string.  And if you multiply a string by a boolean with value `False`, it returns an empty string (or a string with length zero)."
      ],
      "text/plain": [
       "Correct: \n",
       "\n",
       "When you multiple an integer or float by a boolean with value `True`, it just returns that same integer or float (and is equivalent to multiplying by 1).  If you multiply an integer or float by a boolean with value `False`, it always returns 0.  This is true for both positive and negative numbers.  If you multiply a string by a boolean with value `True`, it just returns that same string.  And if you multiply a string by a boolean with value `False`, it returns an empty string (or a string with length zero)."
      ]
     },
     "metadata": {},
     "output_type": "display_data"
    }
   ],
   "source": [
    "# Check your answer (Run this code cell to receive credit!)\n",
    "q2.check()"
   ]
  },
  {
   "cell_type": "markdown",
   "id": "f0969160",
   "metadata": {
    "papermill": {
     "duration": 0.00663,
     "end_time": "2024-07-24T11:46:54.790760",
     "exception": false,
     "start_time": "2024-07-24T11:46:54.784130",
     "status": "completed"
    },
    "tags": []
   },
   "source": [
    "# Question 3\n",
    "\n",
    "In this question, you will build off your work from the previous exercise to write a function that estimates the value of a house.\n",
    "\n",
    "Use the next code cell to create a function `get_expected_cost` that takes as input three variables:\n",
    "- `beds` - number of bedrooms (data type float)\n",
    "- `baths` - number of bathrooms (data type float)\n",
    "- `has_basement` - whether or not the house has a basement (data type boolean)\n",
    "\n",
    "It should return the expected cost of a house with those characteristics. Assume that:\n",
    "- the expected cost for a house with 0 bedrooms and 0 bathrooms, and no basement is 80000, \n",
    "- each bedroom adds 30000 to the expected cost,\n",
    "- each bathroom adds 10000 to the expected cost, and\n",
    "- a basement adds 40000 to the expected cost.\n",
    "\n",
    "For instance,\n",
    "- a house with 1 bedroom, 1 bathroom, and no basement has an expected cost of 80000 + 30000 + 10000 = 120000.  This value will be calculated with `get_expected_cost(1, 1, False)`.\n",
    "- a house with 2 bedrooms, 1 bathroom, and a basement has an expected cost of 80000 + 2*30000 + 10000 + 40000 = 190000.  This value will be calculated with `get_expected_cost(2, 1, True)`.\n",
    "\n",
    "Remember you can always get a hint by uncommenting `q3.hint()` in the code cell following the next!"
   ]
  },
  {
   "cell_type": "code",
   "execution_count": 7,
   "id": "6f1ce0f6",
   "metadata": {
    "execution": {
     "iopub.execute_input": "2024-07-24T11:46:54.806828Z",
     "iopub.status.busy": "2024-07-24T11:46:54.805887Z",
     "iopub.status.idle": "2024-07-24T11:46:54.815333Z",
     "shell.execute_reply": "2024-07-24T11:46:54.814251Z"
    },
    "papermill": {
     "duration": 0.019892,
     "end_time": "2024-07-24T11:46:54.817565",
     "exception": false,
     "start_time": "2024-07-24T11:46:54.797673",
     "status": "completed"
    },
    "tags": []
   },
   "outputs": [
    {
     "data": {
      "application/javascript": [
       "parent.postMessage({\"jupyterEvent\": \"custom.exercise_interaction\", \"data\": {\"outcomeType\": 1, \"valueTowardsCompletion\": 0.2, \"interactionType\": 1, \"questionType\": 2, \"questionId\": \"3_EstimateHouseValueBool\", \"learnToolsVersion\": \"0.3.4\", \"failureMessage\": \"\", \"exceptionClass\": \"\", \"trace\": \"\"}}, \"*\")"
      ],
      "text/plain": [
       "<IPython.core.display.Javascript object>"
      ]
     },
     "metadata": {},
     "output_type": "display_data"
    },
    {
     "data": {
      "text/markdown": [
       "<span style=\"color:#33cc33\">Correct</span>"
      ],
      "text/plain": [
       "Correct"
      ]
     },
     "metadata": {},
     "output_type": "display_data"
    }
   ],
   "source": [
    "# TODO: Complete the function\n",
    "def get_expected_cost(beds, baths, has_basement):\n",
    "    value = 80_000\n",
    "    value += 30_000 * beds + 10_000 * baths\n",
    "    if has_basement:\n",
    "        value += 40_000\n",
    "        \n",
    "    return value\n",
    "\n",
    "# Check your answer \n",
    "q3.check()"
   ]
  },
  {
   "cell_type": "code",
   "execution_count": 8,
   "id": "cc529f40",
   "metadata": {
    "execution": {
     "iopub.execute_input": "2024-07-24T11:46:54.834301Z",
     "iopub.status.busy": "2024-07-24T11:46:54.833896Z",
     "iopub.status.idle": "2024-07-24T11:46:54.838255Z",
     "shell.execute_reply": "2024-07-24T11:46:54.837235Z"
    },
    "papermill": {
     "duration": 0.015056,
     "end_time": "2024-07-24T11:46:54.840486",
     "exception": false,
     "start_time": "2024-07-24T11:46:54.825430",
     "status": "completed"
    },
    "tags": []
   },
   "outputs": [],
   "source": [
    "# Uncomment to see a hint\n",
    "#q3.hint()\n",
    "\n",
    "# Uncomment to view the solution\n",
    "#q3.solution()"
   ]
  },
  {
   "cell_type": "markdown",
   "id": "1ddec5cf",
   "metadata": {
    "papermill": {
     "duration": 0.006988,
     "end_time": "2024-07-24T11:46:54.854831",
     "exception": false,
     "start_time": "2024-07-24T11:46:54.847843",
     "status": "completed"
    },
    "tags": []
   },
   "source": [
    "# Question 4\n",
    "\n",
    "We'll continue our study of boolean arithmetic.  For this question, your task is to provide a description of what happpens when you add booleans. \n",
    "\n",
    "Use the next code cell for your investigation.  Feel free to add or remove any lines of code - use it as your workspace!"
   ]
  },
  {
   "cell_type": "code",
   "execution_count": 9,
   "id": "dee656e0",
   "metadata": {
    "execution": {
     "iopub.execute_input": "2024-07-24T11:46:54.871165Z",
     "iopub.status.busy": "2024-07-24T11:46:54.870743Z",
     "iopub.status.idle": "2024-07-24T11:46:54.876666Z",
     "shell.execute_reply": "2024-07-24T11:46:54.875499Z"
    },
    "papermill": {
     "duration": 0.016702,
     "end_time": "2024-07-24T11:46:54.878951",
     "exception": false,
     "start_time": "2024-07-24T11:46:54.862249",
     "status": "completed"
    },
    "tags": []
   },
   "outputs": [
    {
     "name": "stdout",
     "output_type": "stream",
     "text": [
      "0\n",
      "1\n",
      "1\n",
      "2\n",
      "3\n"
     ]
    }
   ],
   "source": [
    "print(False + False)\n",
    "print(True + False)\n",
    "print(False + True)\n",
    "print(True + True)\n",
    "print(False + True + True + True)"
   ]
  },
  {
   "cell_type": "markdown",
   "id": "dbdda662",
   "metadata": {
    "papermill": {
     "duration": 0.00708,
     "end_time": "2024-07-24T11:46:54.893628",
     "exception": false,
     "start_time": "2024-07-24T11:46:54.886548",
     "status": "completed"
    },
    "tags": []
   },
   "source": [
    "Once you have an answer, run the code cell below to see the solution.  Viewing the solution will give you credit for answering the problem."
   ]
  },
  {
   "cell_type": "code",
   "execution_count": 10,
   "id": "8f1a678d",
   "metadata": {
    "execution": {
     "iopub.execute_input": "2024-07-24T11:46:54.910349Z",
     "iopub.status.busy": "2024-07-24T11:46:54.909622Z",
     "iopub.status.idle": "2024-07-24T11:46:54.917687Z",
     "shell.execute_reply": "2024-07-24T11:46:54.916706Z"
    },
    "papermill": {
     "duration": 0.019178,
     "end_time": "2024-07-24T11:46:54.920199",
     "exception": false,
     "start_time": "2024-07-24T11:46:54.901021",
     "status": "completed"
    },
    "tags": []
   },
   "outputs": [
    {
     "data": {
      "application/javascript": [
       "parent.postMessage({\"jupyterEvent\": \"custom.exercise_interaction\", \"data\": {\"outcomeType\": 1, \"valueTowardsCompletion\": 0.2, \"interactionType\": 1, \"questionType\": 4, \"questionId\": \"4_AddingBooleans\", \"learnToolsVersion\": \"0.3.4\", \"failureMessage\": \"\", \"exceptionClass\": \"\", \"trace\": \"\"}}, \"*\")"
      ],
      "text/plain": [
       "<IPython.core.display.Javascript object>"
      ]
     },
     "metadata": {},
     "output_type": "display_data"
    },
    {
     "data": {
      "text/markdown": [
       "<span style=\"color:#33cc33\">Correct:</span> \n",
       "\n",
       "When you add booleans, adding `False` is equivalent to adding 0, and adding `True` is equivalent to adding 1."
      ],
      "text/plain": [
       "Correct: \n",
       "\n",
       "When you add booleans, adding `False` is equivalent to adding 0, and adding `True` is equivalent to adding 1."
      ]
     },
     "metadata": {},
     "output_type": "display_data"
    }
   ],
   "source": [
    "# Check your answer (Run this code cell to receive credit!)\n",
    "q4.check()"
   ]
  },
  {
   "cell_type": "markdown",
   "id": "0c2ba936",
   "metadata": {
    "papermill": {
     "duration": 0.007139,
     "end_time": "2024-07-24T11:46:54.934772",
     "exception": false,
     "start_time": "2024-07-24T11:46:54.927633",
     "status": "completed"
    },
    "tags": []
   },
   "source": [
    "# 🌶️ Question 5\n",
    "\n",
    "You own an online shop where you sell rings with custom engravings.  You offer both gold plated and solid gold rings.\n",
    "- Gold plated rings have a base cost of \\\\$50, and you charge \\\\$7 per engraved unit.  \n",
    "- Solid gold rings have a base cost of \\\\$100, and you charge \\\\$10 per engraved unit.\n",
    "- Spaces and punctuation are counted as engraved units.\n",
    "\n",
    "Write a function `cost_of_project()` that takes two arguments:\n",
    "- `engraving` - a Python string with the text of the engraving\n",
    "- `solid_gold` - a Boolean that indicates whether the ring is solid gold\n",
    "\n",
    "It should return the cost of the project.  This question should be fairly challenging, and you may need a hint."
   ]
  },
  {
   "cell_type": "code",
   "execution_count": 11,
   "id": "f7fa3677",
   "metadata": {
    "execution": {
     "iopub.execute_input": "2024-07-24T11:46:54.951877Z",
     "iopub.status.busy": "2024-07-24T11:46:54.950931Z",
     "iopub.status.idle": "2024-07-24T11:46:54.960282Z",
     "shell.execute_reply": "2024-07-24T11:46:54.959192Z"
    },
    "papermill": {
     "duration": 0.020296,
     "end_time": "2024-07-24T11:46:54.962587",
     "exception": false,
     "start_time": "2024-07-24T11:46:54.942291",
     "status": "completed"
    },
    "tags": []
   },
   "outputs": [
    {
     "data": {
      "application/javascript": [
       "parent.postMessage({\"jupyterEvent\": \"custom.exercise_interaction\", \"data\": {\"outcomeType\": 1, \"valueTowardsCompletion\": 0.2, \"interactionType\": 1, \"questionType\": 2, \"questionId\": \"5_CustomEngravings\", \"learnToolsVersion\": \"0.3.4\", \"failureMessage\": \"\", \"exceptionClass\": \"\", \"trace\": \"\"}}, \"*\")"
      ],
      "text/plain": [
       "<IPython.core.display.Javascript object>"
      ]
     },
     "metadata": {},
     "output_type": "display_data"
    },
    {
     "data": {
      "text/markdown": [
       "<span style=\"color:#33cc33\">Correct</span>"
      ],
      "text/plain": [
       "Correct"
      ]
     },
     "metadata": {},
     "output_type": "display_data"
    }
   ],
   "source": [
    "def cost_of_project(engraving, solid_gold):\n",
    "    cost = 0\n",
    "    \n",
    "    if solid_gold:\n",
    "        cost = 100\n",
    "        cost += 10 * len(engraving)\n",
    "    else:\n",
    "        cost = 50\n",
    "        cost += 7 * len(engraving)\n",
    "    return cost\n",
    "\n",
    "# Check your answer\n",
    "q5.check()"
   ]
  },
  {
   "cell_type": "code",
   "execution_count": 12,
   "id": "8f2323e4",
   "metadata": {
    "execution": {
     "iopub.execute_input": "2024-07-24T11:46:54.980418Z",
     "iopub.status.busy": "2024-07-24T11:46:54.980029Z",
     "iopub.status.idle": "2024-07-24T11:46:54.984570Z",
     "shell.execute_reply": "2024-07-24T11:46:54.983473Z"
    },
    "papermill": {
     "duration": 0.015765,
     "end_time": "2024-07-24T11:46:54.986818",
     "exception": false,
     "start_time": "2024-07-24T11:46:54.971053",
     "status": "completed"
    },
    "tags": []
   },
   "outputs": [],
   "source": [
    "# Uncomment to see a hint\n",
    "#q5.hint()\n",
    "\n",
    "# Uncomment to view the solution\n",
    "#q5.solution()"
   ]
  },
  {
   "cell_type": "markdown",
   "id": "107544b9",
   "metadata": {
    "papermill": {
     "duration": 0.008275,
     "end_time": "2024-07-24T11:46:55.002993",
     "exception": false,
     "start_time": "2024-07-24T11:46:54.994718",
     "status": "completed"
    },
    "tags": []
   },
   "source": [
    "Run the next code cell to calculate the cost of engraving `Charlie+Denver` on a solid gold ring."
   ]
  },
  {
   "cell_type": "code",
   "execution_count": 13,
   "id": "9637d20c",
   "metadata": {
    "execution": {
     "iopub.execute_input": "2024-07-24T11:46:55.020571Z",
     "iopub.status.busy": "2024-07-24T11:46:55.019811Z",
     "iopub.status.idle": "2024-07-24T11:46:55.025256Z",
     "shell.execute_reply": "2024-07-24T11:46:55.024199Z"
    },
    "papermill": {
     "duration": 0.016721,
     "end_time": "2024-07-24T11:46:55.027640",
     "exception": false,
     "start_time": "2024-07-24T11:46:55.010919",
     "status": "completed"
    },
    "tags": []
   },
   "outputs": [
    {
     "name": "stdout",
     "output_type": "stream",
     "text": [
      "240\n"
     ]
    }
   ],
   "source": [
    "project_one = cost_of_project(\"Charlie+Denver\", True)\n",
    "print(project_one)"
   ]
  },
  {
   "cell_type": "markdown",
   "id": "3373a52c",
   "metadata": {
    "papermill": {
     "duration": 0.008051,
     "end_time": "2024-07-24T11:46:55.043579",
     "exception": false,
     "start_time": "2024-07-24T11:46:55.035528",
     "status": "completed"
    },
    "tags": []
   },
   "source": [
    "Use the next code cell to calculate the cost of engraving `08/10/2000` on a gold plated ring."
   ]
  },
  {
   "cell_type": "code",
   "execution_count": 14,
   "id": "d3f0ccf9",
   "metadata": {
    "execution": {
     "iopub.execute_input": "2024-07-24T11:46:55.060864Z",
     "iopub.status.busy": "2024-07-24T11:46:55.060493Z",
     "iopub.status.idle": "2024-07-24T11:46:55.065949Z",
     "shell.execute_reply": "2024-07-24T11:46:55.064940Z"
    },
    "papermill": {
     "duration": 0.017467,
     "end_time": "2024-07-24T11:46:55.068837",
     "exception": false,
     "start_time": "2024-07-24T11:46:55.051370",
     "status": "completed"
    },
    "tags": []
   },
   "outputs": [
    {
     "name": "stdout",
     "output_type": "stream",
     "text": [
      "120\n"
     ]
    }
   ],
   "source": [
    "project_two = cost_of_project(\"08/10/2000\", False)\n",
    "print(project_two)"
   ]
  },
  {
   "cell_type": "markdown",
   "id": "2ac1ac38",
   "metadata": {
    "papermill": {
     "duration": 0.007597,
     "end_time": "2024-07-24T11:46:55.084426",
     "exception": false,
     "start_time": "2024-07-24T11:46:55.076829",
     "status": "completed"
    },
    "tags": []
   },
   "source": [
    "# Keep going\n",
    "\n",
    "Continue to the next lesson to **[learn about conditions and conditional statements](https://www.kaggle.com/alexisbcook/conditions-and-conditional-statements)**."
   ]
  },
  {
   "cell_type": "markdown",
   "id": "f7660338",
   "metadata": {
    "papermill": {
     "duration": 0.007809,
     "end_time": "2024-07-24T11:46:55.100295",
     "exception": false,
     "start_time": "2024-07-24T11:46:55.092486",
     "status": "completed"
    },
    "tags": []
   },
   "source": [
    "---\n",
    "\n",
    "\n",
    "\n",
    "\n",
    "*Have questions or comments? Visit the [course discussion forum](https://www.kaggle.com/learn/intro-to-programming/discussion) to chat with other learners.*"
   ]
  }
 ],
 "metadata": {
  "kaggle": {
   "accelerator": "none",
   "dataSources": [],
   "isGpuEnabled": false,
   "isInternetEnabled": false,
   "language": "python",
   "sourceType": "notebook"
  },
  "kernelspec": {
   "display_name": "Python 3",
   "language": "python",
   "name": "python3"
  },
  "language_info": {
   "codemirror_mode": {
    "name": "ipython",
    "version": 3
   },
   "file_extension": ".py",
   "mimetype": "text/x-python",
   "name": "python",
   "nbconvert_exporter": "python",
   "pygments_lexer": "ipython3",
   "version": "3.10.13"
  },
  "papermill": {
   "default_parameters": {},
   "duration": 4.53613,
   "end_time": "2024-07-24T11:46:55.528638",
   "environment_variables": {},
   "exception": null,
   "input_path": "__notebook__.ipynb",
   "output_path": "__notebook__.ipynb",
   "parameters": {},
   "start_time": "2024-07-24T11:46:50.992508",
   "version": "2.3.3"
  }
 },
 "nbformat": 4,
 "nbformat_minor": 5
}
