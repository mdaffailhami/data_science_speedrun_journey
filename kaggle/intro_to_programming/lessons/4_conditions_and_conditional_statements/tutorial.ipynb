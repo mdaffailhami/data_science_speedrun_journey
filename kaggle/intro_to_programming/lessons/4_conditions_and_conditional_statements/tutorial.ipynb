{
 "cells": [
  {
   "cell_type": "markdown",
   "id": "8adb6900",
   "metadata": {
    "papermill": {
     "duration": 0.008353,
     "end_time": "2023-04-20T18:12:48.605236",
     "exception": false,
     "start_time": "2023-04-20T18:12:48.596883",
     "status": "completed"
    },
    "tags": []
   },
   "source": [
    "# Introduction\n",
    "\n",
    "You have already seen that when you change the input value to a function, you often get a different output.  For instance, consider an `add_five()` function that just adds five to any number and returns the result.  Then `add_five(7)` will return an output of 12 (=7+5), and `add_five(8)` will return an output of 13 (=8+5).  Note that no matter what the input is, the action that the function performs is always the same: it always adds five.\n",
    "\n",
    "But you might instead need a function that performs an action that depends on the input.  For instance, you might need a function `add_three_or_eight()` that adds three if the input is less than 10, and adds eight if the input is 10 or more.  Then `add_three_or_eight(1)` will return 4 (= 1+3), but `add_three_or_eight(11)` will return 19 (=11+8).  In this case, the action that the function performs varies with the input.\n",
    "\n",
    "In this lesson, you will learn how to use conditions and conditional statements to modify how your functions run.\n",
    "\n",
    "# Conditions\n",
    "\n",
    "In programming, **conditions** are statements that are either `True` or `False`.  There are many different ways to write conditions in Python, but some of the most common ways of writing conditions just compare two different values.  For instance, you can check if 2 is greater than 3."
   ]
  },
  {
   "cell_type": "code",
   "execution_count": 1,
   "id": "65edb505",
   "metadata": {
    "execution": {
     "iopub.execute_input": "2023-04-20T18:12:48.621581Z",
     "iopub.status.busy": "2023-04-20T18:12:48.621173Z",
     "iopub.status.idle": "2023-04-20T18:12:48.632939Z",
     "shell.execute_reply": "2023-04-20T18:12:48.631514Z"
    },
    "papermill": {
     "duration": 0.022938,
     "end_time": "2023-04-20T18:12:48.635488",
     "exception": false,
     "start_time": "2023-04-20T18:12:48.612550",
     "status": "completed"
    },
    "tags": []
   },
   "outputs": [
    {
     "name": "stdout",
     "output_type": "stream",
     "text": [
      "False\n"
     ]
    }
   ],
   "source": [
    "print(2 > 3)"
   ]
  },
  {
   "cell_type": "markdown",
   "id": "cb9acb47",
   "metadata": {
    "papermill": {
     "duration": 0.007511,
     "end_time": "2023-04-20T18:12:48.650332",
     "exception": false,
     "start_time": "2023-04-20T18:12:48.642821",
     "status": "completed"
    },
    "tags": []
   },
   "source": [
    "Python identifies this as False, since 2 is not greater than 3.\n",
    "\n",
    "You can also use conditions to compare the values of variables.  In the next code cell, `var_one` has a value of 1, and `var_two` has a value of two.  In the conditions, we check if `var_one` is less than 1 (which is `False`), and we check if `var_two` is greater than or equal to `var_one` (which is `True`)."
   ]
  },
  {
   "cell_type": "code",
   "execution_count": 2,
   "id": "410927c4",
   "metadata": {
    "execution": {
     "iopub.execute_input": "2023-04-20T18:12:48.667658Z",
     "iopub.status.busy": "2023-04-20T18:12:48.667175Z",
     "iopub.status.idle": "2023-04-20T18:12:48.673909Z",
     "shell.execute_reply": "2023-04-20T18:12:48.672467Z"
    },
    "papermill": {
     "duration": 0.018293,
     "end_time": "2023-04-20T18:12:48.676365",
     "exception": false,
     "start_time": "2023-04-20T18:12:48.658072",
     "status": "completed"
    },
    "tags": []
   },
   "outputs": [
    {
     "name": "stdout",
     "output_type": "stream",
     "text": [
      "False\n",
      "True\n"
     ]
    }
   ],
   "source": [
    "var_one = 1\n",
    "var_two = 2\n",
    "\n",
    "print(var_one < 1)\n",
    "print(var_two >= var_one)"
   ]
  },
  {
   "cell_type": "markdown",
   "id": "f4b037bf",
   "metadata": {
    "papermill": {
     "duration": 0.007052,
     "end_time": "2023-04-20T18:12:48.690810",
     "exception": false,
     "start_time": "2023-04-20T18:12:48.683758",
     "status": "completed"
    },
    "tags": []
   },
   "source": [
    "For a list of common symbols you can use to construct conditions, check out the chart below.\n",
    "\n",
    "<table style=\"width: 100%;\">\n",
    "<tbody>\n",
    "<tr><th><b>Symbol</b></th><th><b>Meaning</b></th></tr>\n",
    "<tr>\n",
    "<td>==</td>\n",
    "<td>equals</td>\n",
    "</tr>\n",
    "<tr>\n",
    "<td>!=</td>\n",
    "<td>does not equal</td>\n",
    "</tr>\n",
    "<tr>\n",
    "<td>&#60;</td>\n",
    "<td>less than</td>\n",
    "</tr>\n",
    "<tr>\n",
    "<td>&#60;=</td>\n",
    "<td>less than or equal to</td>\n",
    "</tr>\n",
    "<tr>\n",
    "<td>&#62;</td>\n",
    "<td>greater than</td>\n",
    "</tr>\n",
    "<tr>\n",
    "<td>&#62;=</td>\n",
    "<td>greater than or equal to</td>\n",
    "</tr>\n",
    "</tbody>\n",
    "</table>"
   ]
  },
  {
   "cell_type": "markdown",
   "id": "c96ae289",
   "metadata": {
    "papermill": {
     "duration": 0.007013,
     "end_time": "2023-04-20T18:12:48.705085",
     "exception": false,
     "start_time": "2023-04-20T18:12:48.698072",
     "status": "completed"
    },
    "tags": []
   },
   "source": [
    "**Important Note**: When you check two values are equal, make sure you use the == sign, and not the = sign.  \n",
    "- `var_one==1` checks if the value of `var_one` is 1, but \n",
    "- `var_one=1` sets the value of `var_one` to 1."
   ]
  },
  {
   "cell_type": "markdown",
   "id": "02d8b959",
   "metadata": {
    "papermill": {
     "duration": 0.007555,
     "end_time": "2023-04-20T18:12:48.720409",
     "exception": false,
     "start_time": "2023-04-20T18:12:48.712854",
     "status": "completed"
    },
    "tags": []
   },
   "source": [
    "# Conditional statements\n",
    "\n",
    "**Conditional statements** use conditions to modify how your function runs.  They check the value of a condition, and if the condition evaluates to `True`, then a certain block of code is executed.  (Otherwise, if the condition is `False`, then the code is not run.)  \n",
    "\n",
    "You will see several examples of this in the following sections.\n",
    "\n",
    "## \"if\" statements\n",
    "\n",
    "The simplest type of conditional statement is an \"if\" statement.  You can see an example of this in the `evaluate_temp()` function below.  The function accepts a body temperature (in Celcius) as input.\n",
    "- Initially, `message` is set to `\"Normal temperature\"`.  \n",
    "- Then, if `temp > 38` is `True` (e.g., the body temperature is greater than 38°C), the message is updated to `\"Fever!\"`.  Otherwise, if `temp > 38` is False, then the message is not updated.\n",
    "- Finally, `message` is returned by the function.  "
   ]
  },
  {
   "cell_type": "code",
   "execution_count": 3,
   "id": "9de289f9",
   "metadata": {
    "execution": {
     "iopub.execute_input": "2023-04-20T18:12:48.738398Z",
     "iopub.status.busy": "2023-04-20T18:12:48.737950Z",
     "iopub.status.idle": "2023-04-20T18:12:48.742996Z",
     "shell.execute_reply": "2023-04-20T18:12:48.742047Z"
    },
    "papermill": {
     "duration": 0.017591,
     "end_time": "2023-04-20T18:12:48.745358",
     "exception": false,
     "start_time": "2023-04-20T18:12:48.727767",
     "status": "completed"
    },
    "tags": []
   },
   "outputs": [],
   "source": [
    "def evaluate_temp(temp):\n",
    "    # Set an initial message\n",
    "    message = \"Normal temperature.\"\n",
    "    # Update value of message only if temperature greater than 38\n",
    "    if temp > 38:\n",
    "        message = \"Fever!\"\n",
    "    return message"
   ]
  },
  {
   "cell_type": "markdown",
   "id": "655cce5a",
   "metadata": {
    "papermill": {
     "duration": 0.006981,
     "end_time": "2023-04-20T18:12:48.760012",
     "exception": false,
     "start_time": "2023-04-20T18:12:48.753031",
     "status": "completed"
    },
    "tags": []
   },
   "source": [
    "In the next code cell, we call the function, where the temperature is 37°C. The message is `\"Normal temperature\"`, because the temperature is less than 38°C (`temp > 38` evaluates to `False`) in this case.  "
   ]
  },
  {
   "cell_type": "code",
   "execution_count": 4,
   "id": "4a7a702a",
   "metadata": {
    "execution": {
     "iopub.execute_input": "2023-04-20T18:12:48.776388Z",
     "iopub.status.busy": "2023-04-20T18:12:48.775980Z",
     "iopub.status.idle": "2023-04-20T18:12:48.781614Z",
     "shell.execute_reply": "2023-04-20T18:12:48.780405Z"
    },
    "papermill": {
     "duration": 0.017153,
     "end_time": "2023-04-20T18:12:48.784491",
     "exception": false,
     "start_time": "2023-04-20T18:12:48.767338",
     "status": "completed"
    },
    "tags": []
   },
   "outputs": [
    {
     "name": "stdout",
     "output_type": "stream",
     "text": [
      "Normal temperature.\n"
     ]
    }
   ],
   "source": [
    "print(evaluate_temp(37))"
   ]
  },
  {
   "cell_type": "markdown",
   "id": "6216e883",
   "metadata": {
    "papermill": {
     "duration": 0.007234,
     "end_time": "2023-04-20T18:12:48.799058",
     "exception": false,
     "start_time": "2023-04-20T18:12:48.791824",
     "status": "completed"
    },
    "tags": []
   },
   "source": [
    "However, if the temperature is instead 39°C, since this is greater than 38°C, the message is updated to `\"Fever!\"`."
   ]
  },
  {
   "cell_type": "code",
   "execution_count": 5,
   "id": "6bdcb2cf",
   "metadata": {
    "execution": {
     "iopub.execute_input": "2023-04-20T18:12:48.816201Z",
     "iopub.status.busy": "2023-04-20T18:12:48.815753Z",
     "iopub.status.idle": "2023-04-20T18:12:48.821839Z",
     "shell.execute_reply": "2023-04-20T18:12:48.820436Z"
    },
    "papermill": {
     "duration": 0.018107,
     "end_time": "2023-04-20T18:12:48.824749",
     "exception": false,
     "start_time": "2023-04-20T18:12:48.806642",
     "status": "completed"
    },
    "tags": []
   },
   "outputs": [
    {
     "name": "stdout",
     "output_type": "stream",
     "text": [
      "Fever!\n"
     ]
    }
   ],
   "source": [
    "print(evaluate_temp(39))"
   ]
  },
  {
   "cell_type": "markdown",
   "id": "15a51a64",
   "metadata": {
    "papermill": {
     "duration": 0.007637,
     "end_time": "2023-04-20T18:12:48.840526",
     "exception": false,
     "start_time": "2023-04-20T18:12:48.832889",
     "status": "completed"
    },
    "tags": []
   },
   "source": [
    "Note that there are two levels of indentation:\n",
    "- The first level of indentation is because we always need to indent the code block inside a function.\n",
    "- The second level of indentation is because we also need to indent the code block belonging to the \"if\" statement.  (As you'll see, we'll also need to indent the code blocks for \"elif\" and \"else\" statements.)\n",
    "\n",
    "Note that because the return statement is not indented under the \"if\" statement, it is always executed, whether `temp > 38` is `True` or `False`."
   ]
  },
  {
   "cell_type": "markdown",
   "id": "918bdbf6",
   "metadata": {
    "papermill": {
     "duration": 0.008058,
     "end_time": "2023-04-20T18:12:48.856624",
     "exception": false,
     "start_time": "2023-04-20T18:12:48.848566",
     "status": "completed"
    },
    "tags": []
   },
   "source": [
    "## \"if ... else\" statements\n",
    "\n",
    "We can use \"else\" statements to run code if a statement is False.  The code under the \"if\" statement is run if the statement is `True`, and the code under \"else\" is run if the statement is `False`."
   ]
  },
  {
   "cell_type": "code",
   "execution_count": 6,
   "id": "a497271b",
   "metadata": {
    "execution": {
     "iopub.execute_input": "2023-04-20T18:12:48.875278Z",
     "iopub.status.busy": "2023-04-20T18:12:48.874855Z",
     "iopub.status.idle": "2023-04-20T18:12:48.881220Z",
     "shell.execute_reply": "2023-04-20T18:12:48.879882Z"
    },
    "papermill": {
     "duration": 0.019201,
     "end_time": "2023-04-20T18:12:48.883938",
     "exception": false,
     "start_time": "2023-04-20T18:12:48.864737",
     "status": "completed"
    },
    "tags": []
   },
   "outputs": [],
   "source": [
    "def evaluate_temp_with_else(temp):\n",
    "    if temp > 38:\n",
    "        message = \"Fever!\"\n",
    "    else:\n",
    "        message = \"Normal temperature.\"\n",
    "    return message"
   ]
  },
  {
   "cell_type": "markdown",
   "id": "eb4dc0c1",
   "metadata": {
    "papermill": {
     "duration": 0.007208,
     "end_time": "2023-04-20T18:12:48.899174",
     "exception": false,
     "start_time": "2023-04-20T18:12:48.891966",
     "status": "completed"
    },
    "tags": []
   },
   "source": [
    "This `evaluate_temp_with_else()` function has equivalent behavior to the `evaluate_temp()` function.\n",
    "\n",
    "In the next code cell, we call this new function, where the temperature is 37°C.  In this case, `temp > 38` evaluates to `False`, so the code under the \"else\" statement is executed, and the `Normal temperature.` message is returned."
   ]
  },
  {
   "cell_type": "code",
   "execution_count": 7,
   "id": "c8afa31e",
   "metadata": {
    "execution": {
     "iopub.execute_input": "2023-04-20T18:12:48.917571Z",
     "iopub.status.busy": "2023-04-20T18:12:48.916463Z",
     "iopub.status.idle": "2023-04-20T18:12:48.924722Z",
     "shell.execute_reply": "2023-04-20T18:12:48.923188Z"
    },
    "papermill": {
     "duration": 0.021172,
     "end_time": "2023-04-20T18:12:48.927866",
     "exception": false,
     "start_time": "2023-04-20T18:12:48.906694",
     "status": "completed"
    },
    "tags": []
   },
   "outputs": [
    {
     "name": "stdout",
     "output_type": "stream",
     "text": [
      "Normal temperature.\n"
     ]
    }
   ],
   "source": [
    "print(evaluate_temp_with_else(37))"
   ]
  },
  {
   "cell_type": "markdown",
   "id": "41cb8832",
   "metadata": {
    "papermill": {
     "duration": 0.007679,
     "end_time": "2023-04-20T18:12:48.943814",
     "exception": false,
     "start_time": "2023-04-20T18:12:48.936135",
     "status": "completed"
    },
    "tags": []
   },
   "source": [
    "As with the previous function, we indent the code blocks after the \"if\" and \"else\" statements.  \n",
    "\n",
    "## \"if ... elif ... else\" statements\n",
    "\n",
    "We can use \"elif\" (which is short for \"else if\") to check if multiple conditions might be true.  The function below:\n",
    "- First checks if `temp > 38`.  If this is true, then the message is set to `\"Fever!\"`.\n",
    "- As long as the message has not already been set, the function then checks if `temp > 35`.  If this is true, then the message is set to `\"Normal temperature.\"`.\n",
    "- Then, if still no message has been set, the \"else\" statement ensures that the message is set to `\"Low temperature.\"` message is printed.\n",
    "\n",
    "You can think of \"elif\" as saying ... \"okay, that previous condition (e.g., `temp > 38`) was false, so let's check if this new condition (e.g., `temp > 35`) might be true!\""
   ]
  },
  {
   "cell_type": "code",
   "execution_count": 8,
   "id": "c63010ff",
   "metadata": {
    "execution": {
     "iopub.execute_input": "2023-04-20T18:12:48.968036Z",
     "iopub.status.busy": "2023-04-20T18:12:48.967506Z",
     "iopub.status.idle": "2023-04-20T18:12:48.977816Z",
     "shell.execute_reply": "2023-04-20T18:12:48.975954Z"
    },
    "papermill": {
     "duration": 0.028412,
     "end_time": "2023-04-20T18:12:48.981275",
     "exception": false,
     "start_time": "2023-04-20T18:12:48.952863",
     "status": "completed"
    },
    "tags": []
   },
   "outputs": [],
   "source": [
    "def evaluate_temp_with_elif(temp):\n",
    "    if temp > 38:\n",
    "        message = \"Fever!\"\n",
    "    elif temp > 35:\n",
    "        message = \"Normal temperature.\"\n",
    "    else:\n",
    "        message = \"Low temperature.\"\n",
    "    return message"
   ]
  },
  {
   "cell_type": "markdown",
   "id": "d57ff041",
   "metadata": {
    "papermill": {
     "duration": 0.008635,
     "end_time": "2023-04-20T18:12:48.999965",
     "exception": false,
     "start_time": "2023-04-20T18:12:48.991330",
     "status": "completed"
    },
    "tags": []
   },
   "source": [
    "In the code cell below, we run the code under the \"elif\" statement, because `temp > 38` is `False`, and `temp > 35` is `True`.  Once this code is run, the function skips over the \"else\" statement and returns the message."
   ]
  },
  {
   "cell_type": "code",
   "execution_count": 9,
   "id": "bba6d04b",
   "metadata": {
    "execution": {
     "iopub.execute_input": "2023-04-20T18:12:49.020348Z",
     "iopub.status.busy": "2023-04-20T18:12:49.019215Z",
     "iopub.status.idle": "2023-04-20T18:12:49.028958Z",
     "shell.execute_reply": "2023-04-20T18:12:49.027698Z"
    },
    "papermill": {
     "duration": 0.020951,
     "end_time": "2023-04-20T18:12:49.031299",
     "exception": false,
     "start_time": "2023-04-20T18:12:49.010348",
     "status": "completed"
    },
    "tags": []
   },
   "outputs": [
    {
     "data": {
      "text/plain": [
       "'Normal temperature.'"
      ]
     },
     "execution_count": 9,
     "metadata": {},
     "output_type": "execute_result"
    }
   ],
   "source": [
    "evaluate_temp_with_elif(36)"
   ]
  },
  {
   "cell_type": "markdown",
   "id": "c69820c4",
   "metadata": {
    "papermill": {
     "duration": 0.007279,
     "end_time": "2023-04-20T18:12:49.046252",
     "exception": false,
     "start_time": "2023-04-20T18:12:49.038973",
     "status": "completed"
    },
    "tags": []
   },
   "source": [
    "Finally, we try out a case where the temperature is less than 35°C.  Since the conditionals in the \"if\" and \"elif\" statements both evaluate to `False`, the code block inside the \"else\" statement is executed."
   ]
  },
  {
   "cell_type": "code",
   "execution_count": 10,
   "id": "2209371c",
   "metadata": {
    "execution": {
     "iopub.execute_input": "2023-04-20T18:12:49.064758Z",
     "iopub.status.busy": "2023-04-20T18:12:49.063345Z",
     "iopub.status.idle": "2023-04-20T18:12:49.070762Z",
     "shell.execute_reply": "2023-04-20T18:12:49.069815Z"
    },
    "papermill": {
     "duration": 0.018821,
     "end_time": "2023-04-20T18:12:49.073003",
     "exception": false,
     "start_time": "2023-04-20T18:12:49.054182",
     "status": "completed"
    },
    "tags": []
   },
   "outputs": [
    {
     "data": {
      "text/plain": [
       "'Low temperature.'"
      ]
     },
     "execution_count": 10,
     "metadata": {},
     "output_type": "execute_result"
    }
   ],
   "source": [
    "evaluate_temp_with_elif(34)"
   ]
  },
  {
   "cell_type": "markdown",
   "id": "63c571d3",
   "metadata": {
    "papermill": {
     "duration": 0.007537,
     "end_time": "2023-04-20T18:12:49.088765",
     "exception": false,
     "start_time": "2023-04-20T18:12:49.081228",
     "status": "completed"
    },
    "tags": []
   },
   "source": [
    "# Example - Calculations\n",
    "\n",
    "In the examples so far, conditional statements were used to decide how to set the values of variables.  But you can also use conditional statements to perform different calculations.\n",
    "\n",
    "In this next example, say you live in a country with only two tax brackets.  Everyone earning less than 12,000 pays 25% in taxes, and anyone earning 12,000 or more pays 30%.  The function below calculates how much tax is owed."
   ]
  },
  {
   "cell_type": "code",
   "execution_count": 11,
   "id": "a04e2583",
   "metadata": {
    "execution": {
     "iopub.execute_input": "2023-04-20T18:12:49.106256Z",
     "iopub.status.busy": "2023-04-20T18:12:49.105809Z",
     "iopub.status.idle": "2023-04-20T18:12:49.111978Z",
     "shell.execute_reply": "2023-04-20T18:12:49.110659Z"
    },
    "papermill": {
     "duration": 0.018084,
     "end_time": "2023-04-20T18:12:49.114745",
     "exception": false,
     "start_time": "2023-04-20T18:12:49.096661",
     "status": "completed"
    },
    "tags": []
   },
   "outputs": [],
   "source": [
    "def get_taxes(earnings):\n",
    "    if earnings < 12000:\n",
    "        tax_owed = .25 * earnings\n",
    "    else:\n",
    "        tax_owed = .30 * earnings\n",
    "    return tax_owed"
   ]
  },
  {
   "cell_type": "markdown",
   "id": "79028289",
   "metadata": {
    "papermill": {
     "duration": 0.007515,
     "end_time": "2023-04-20T18:12:49.130202",
     "exception": false,
     "start_time": "2023-04-20T18:12:49.122687",
     "status": "completed"
    },
    "tags": []
   },
   "source": [
    "The next code cell uses the function."
   ]
  },
  {
   "cell_type": "code",
   "execution_count": 12,
   "id": "cbf56dc9",
   "metadata": {
    "execution": {
     "iopub.execute_input": "2023-04-20T18:12:49.147948Z",
     "iopub.status.busy": "2023-04-20T18:12:49.147535Z",
     "iopub.status.idle": "2023-04-20T18:12:49.154210Z",
     "shell.execute_reply": "2023-04-20T18:12:49.152685Z"
    },
    "papermill": {
     "duration": 0.019109,
     "end_time": "2023-04-20T18:12:49.156990",
     "exception": false,
     "start_time": "2023-04-20T18:12:49.137881",
     "status": "completed"
    },
    "tags": []
   },
   "outputs": [
    {
     "name": "stdout",
     "output_type": "stream",
     "text": [
      "2250.0\n",
      "4500.0\n"
     ]
    }
   ],
   "source": [
    "ana_taxes = get_taxes(9000)\n",
    "bob_taxes = get_taxes(15000)\n",
    "\n",
    "print(ana_taxes)\n",
    "print(bob_taxes)"
   ]
  },
  {
   "cell_type": "markdown",
   "id": "b23096ed",
   "metadata": {
    "papermill": {
     "duration": 0.007942,
     "end_time": "2023-04-20T18:12:49.172913",
     "exception": false,
     "start_time": "2023-04-20T18:12:49.164971",
     "status": "completed"
    },
    "tags": []
   },
   "source": [
    "In each case, we call the `get_taxes()` function and use the value that is returned to set the value of a variable.\n",
    "- For `ana_taxes`, we calculate taxes owed by a person who earns 9,000.  In this case, we call the `get_taxes()` function with `earnings` set to `9000`.  Thus, `earnings < 12000` is `True`, and `tax_owed` is set to `.25 * 9000`.  Then we return the value of `tax_owed`.\n",
    "- For `bob_taxes`, we calculate taxes owed by a person who earns 15,000.  In this case, we call the `get_taxes()` function with `earnings` set to `15000`.  Thus, `earnings < 12000` is `False`, and `tax_owed` is set to `.30 * 15000`.  Then we return the value of `tax_owed`.\n",
    "\n",
    "Before we move on to another example - remember the `add_three_or_eight()` function from the introduction?  It accepts a number as input and adds three if the input is less than 10, and otherwise adds eight.  Can you figure out how you would write this function?  Once you have an answer, click on the \"Show hidden code\" button below to see the solution."
   ]
  },
  {
   "cell_type": "code",
   "execution_count": 13,
   "id": "f79c543c",
   "metadata": {
    "_kg_hide-input": true,
    "execution": {
     "iopub.execute_input": "2023-04-20T18:12:49.191955Z",
     "iopub.status.busy": "2023-04-20T18:12:49.191527Z",
     "iopub.status.idle": "2023-04-20T18:12:49.197044Z",
     "shell.execute_reply": "2023-04-20T18:12:49.195808Z"
    },
    "papermill": {
     "duration": 0.019049,
     "end_time": "2023-04-20T18:12:49.199905",
     "exception": false,
     "start_time": "2023-04-20T18:12:49.180856",
     "status": "completed"
    },
    "tags": []
   },
   "outputs": [],
   "source": [
    "\n",
    "def add_three_or_eight(number):\n",
    "    if number < 10:\n",
    "        result = number + 3\n",
    "    else:\n",
    "        result = number + 8\n",
    "    return result"
   ]
  },
  {
   "cell_type": "markdown",
   "id": "f2d29007",
   "metadata": {
    "papermill": {
     "duration": 0.008617,
     "end_time": "2023-04-20T18:12:49.216704",
     "exception": false,
     "start_time": "2023-04-20T18:12:49.208087",
     "status": "completed"
    },
    "tags": []
   },
   "source": [
    "# Example - Multiple \"elif\" statements\n",
    "\n",
    "So far, you have seen \"elif\" used only once in a function.  But there's no limit to the number of \"elif\" statements you can use.  For instance, the next block of code calculates the dose of medication (in milliliters) to give to a child, based on weight (in kilograms).\n",
    "\n",
    "Note: This function should not be used as medical advice, and represents a fake medication."
   ]
  },
  {
   "cell_type": "code",
   "execution_count": 14,
   "id": "ffd5b461",
   "metadata": {
    "execution": {
     "iopub.execute_input": "2023-04-20T18:12:49.235127Z",
     "iopub.status.busy": "2023-04-20T18:12:49.234669Z",
     "iopub.status.idle": "2023-04-20T18:12:49.241406Z",
     "shell.execute_reply": "2023-04-20T18:12:49.240070Z"
    },
    "papermill": {
     "duration": 0.018713,
     "end_time": "2023-04-20T18:12:49.243913",
     "exception": false,
     "start_time": "2023-04-20T18:12:49.225200",
     "status": "completed"
    },
    "tags": []
   },
   "outputs": [],
   "source": [
    "def get_dose(weight):\n",
    "    # Dosage is 1.25 ml for anyone under 5.2 kg\n",
    "    if weight < 5.2:\n",
    "        dose = 1.25\n",
    "    elif weight < 7.9:\n",
    "        dose = 2.5\n",
    "    elif weight < 10.4:\n",
    "        dose = 3.75\n",
    "    elif weight < 15.9:\n",
    "        dose = 5\n",
    "    elif weight < 21.2:\n",
    "        dose = 7.5\n",
    "    # Dosage is 10 ml for anyone 21.2 kg or over\n",
    "    else:\n",
    "        dose = 10\n",
    "    return dose"
   ]
  },
  {
   "cell_type": "markdown",
   "id": "258112b3",
   "metadata": {
    "papermill": {
     "duration": 0.007739,
     "end_time": "2023-04-20T18:12:49.259632",
     "exception": false,
     "start_time": "2023-04-20T18:12:49.251893",
     "status": "completed"
    },
    "tags": []
   },
   "source": [
    "The next code cell runs the function.  Make sure that the output makes sense to you!\n",
    "- In this case, the \"if\" statement was `False`, and all of the \"elif\" statements evaluate to `False`, until we get to `weight < 15.9`, which is `True`, and `dose` is set to 5.\n",
    "- Once an \"elif\" statement evaluates to `True` and the code block is run, the function skips over all remaining \"elif\" and \"else\" statements.  After skipping these, all that is left is the return statement, which returns the value of `dose`.\n",
    "- The order of the `elif` statements does matter here!  Re-ordering the statements will return a very different result."
   ]
  },
  {
   "cell_type": "code",
   "execution_count": 15,
   "id": "0cddcfac",
   "metadata": {
    "execution": {
     "iopub.execute_input": "2023-04-20T18:12:49.278403Z",
     "iopub.status.busy": "2023-04-20T18:12:49.277384Z",
     "iopub.status.idle": "2023-04-20T18:12:49.283890Z",
     "shell.execute_reply": "2023-04-20T18:12:49.282573Z"
    },
    "papermill": {
     "duration": 0.019103,
     "end_time": "2023-04-20T18:12:49.286754",
     "exception": false,
     "start_time": "2023-04-20T18:12:49.267651",
     "status": "completed"
    },
    "tags": []
   },
   "outputs": [
    {
     "name": "stdout",
     "output_type": "stream",
     "text": [
      "5\n"
     ]
    }
   ],
   "source": [
    "print(get_dose(12))"
   ]
  },
  {
   "cell_type": "markdown",
   "id": "c430d167",
   "metadata": {
    "papermill": {
     "duration": 0.007916,
     "end_time": "2023-04-20T18:12:49.302928",
     "exception": false,
     "start_time": "2023-04-20T18:12:49.295012",
     "status": "completed"
    },
    "tags": []
   },
   "source": [
    "Make sure this makes sense to you!  Once you're ready, use the link below to move on to the exercise.\n",
    "\n",
    "# Your turn\n",
    "\n",
    "Use what you have learned to **[write your own conditionals and conditional statements](https://www.kaggle.com/kernels/fork/25880622)**."
   ]
  },
  {
   "cell_type": "markdown",
   "id": "2b52f120",
   "metadata": {
    "papermill": {
     "duration": 0.008437,
     "end_time": "2023-04-20T18:12:49.319468",
     "exception": false,
     "start_time": "2023-04-20T18:12:49.311031",
     "status": "completed"
    },
    "tags": []
   },
   "source": [
    "---\n",
    "\n",
    "\n",
    "\n",
    "\n",
    "*Have questions or comments? Visit the [course discussion forum](https://www.kaggle.com/learn/intro-to-programming/discussion) to chat with other learners.*"
   ]
  }
 ],
 "metadata": {
  "kernelspec": {
   "display_name": "Python 3",
   "language": "python",
   "name": "python3"
  },
  "language_info": {
   "codemirror_mode": {
    "name": "ipython",
    "version": 3
   },
   "file_extension": ".py",
   "mimetype": "text/x-python",
   "name": "python",
   "nbconvert_exporter": "python",
   "pygments_lexer": "ipython3",
   "version": "3.7.12"
  },
  "papermill": {
   "default_parameters": {},
   "duration": 11.924603,
   "end_time": "2023-04-20T18:12:50.051138",
   "environment_variables": {},
   "exception": null,
   "input_path": "__notebook__.ipynb",
   "output_path": "__notebook__.ipynb",
   "parameters": {},
   "start_time": "2023-04-20T18:12:38.126535",
   "version": "2.4.0"
  }
 },
 "nbformat": 4,
 "nbformat_minor": 5
}
