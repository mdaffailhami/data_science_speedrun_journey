{
 "cells": [
  {
   "cell_type": "markdown",
   "id": "d1b421f9",
   "metadata": {
    "papermill": {
     "duration": 0.009679,
     "end_time": "2024-07-24T23:50:47.308501",
     "exception": false,
     "start_time": "2024-07-24T23:50:47.298822",
     "status": "completed"
    },
    "tags": []
   },
   "source": [
    "**This notebook is an exercise in the [Intro to Programming](https://www.kaggle.com/learn/intro-to-programming) course.  You can reference the tutorial at [this link](https://www.kaggle.com/alexisbcook/conditions-and-conditional-statements).**\n",
    "\n",
    "---\n"
   ]
  },
  {
   "cell_type": "markdown",
   "id": "6cf91961",
   "metadata": {
    "papermill": {
     "duration": 0.00891,
     "end_time": "2024-07-24T23:50:47.326638",
     "exception": false,
     "start_time": "2024-07-24T23:50:47.317728",
     "status": "completed"
    },
    "tags": []
   },
   "source": [
    "In the tutorial, you learned about conditions and conditional statements. In this exercise, you will use what you learned to answer several questions.\n",
    "\n",
    "# Set up the notebook\n",
    "\n",
    "Run the next code cell without changes to set up the notebook."
   ]
  },
  {
   "cell_type": "code",
   "execution_count": 1,
   "id": "cfa10657",
   "metadata": {
    "execution": {
     "iopub.execute_input": "2024-07-24T23:50:47.346848Z",
     "iopub.status.busy": "2024-07-24T23:50:47.346354Z",
     "iopub.status.idle": "2024-07-24T23:50:48.506119Z",
     "shell.execute_reply": "2024-07-24T23:50:48.504604Z"
    },
    "papermill": {
     "duration": 1.173373,
     "end_time": "2024-07-24T23:50:48.509162",
     "exception": false,
     "start_time": "2024-07-24T23:50:47.335789",
     "status": "completed"
    },
    "tags": []
   },
   "outputs": [
    {
     "name": "stdout",
     "output_type": "stream",
     "text": [
      "Setup complete.\n"
     ]
    }
   ],
   "source": [
    "from learntools.core import binder\n",
    "binder.bind(globals())\n",
    "from learntools.intro_to_programming.ex4 import *\n",
    "print('Setup complete.')"
   ]
  },
  {
   "cell_type": "markdown",
   "id": "0fdd00f6",
   "metadata": {
    "papermill": {
     "duration": 0.009051,
     "end_time": "2024-07-24T23:50:48.527887",
     "exception": false,
     "start_time": "2024-07-24T23:50:48.518836",
     "status": "completed"
    },
    "tags": []
   },
   "source": [
    "# Question 1\n",
    "\n",
    "You work at a college admissions office.  When inspecting a dataset of college applicants, you notice that some students have represented their grades with letters (`\"A\"`, `\"B\"`, `\"C\"`, `\"D\"`, `\"F\"`), whereas others have represented their grades with a number between 0 and 100.\n",
    "\n",
    "You realize that for consistency, all of the grades should be formatted in the same way, and you decide to format them all as letters.  For the conversion, you decide to assign:\n",
    "- `\"A\"` - any grade 90-100, inclusive\n",
    "- `\"B\"` - any grade 80-89, inclusive\n",
    "- `\"C\"` - any grade 70-79, inclusive\n",
    "- `\"D\"` - any grade 60-69, inclusive\n",
    "- `\"F\"` - any grade <60\n",
    "\n",
    "Write a function `get_grade()` that takes as input:\n",
    "- `score` - an integer 0-100 corresponding to a numerical grade\n",
    "\n",
    "It should return a Python string with the letter grade that it corresponds to.  For instance,\n",
    "- A score of 85 corresponds to a B grade.  In other words, `get_grade(85)` should return `\"B\"`.\n",
    "- A score of 49 corresponds to an F grade.  In other words, `get_grade(49)` should return `\"F\"`.\n",
    "\n",
    "Make sure that when supplying the grade that is returned by the function, it is enclosed in quotes.  (For instance, if you want to return `\"A\"`, you should write `return \"A\"` and not `return A`.)"
   ]
  },
  {
   "cell_type": "code",
   "execution_count": 2,
   "id": "43dc204f",
   "metadata": {
    "execution": {
     "iopub.execute_input": "2024-07-24T23:50:48.548698Z",
     "iopub.status.busy": "2024-07-24T23:50:48.548129Z",
     "iopub.status.idle": "2024-07-24T23:50:48.561865Z",
     "shell.execute_reply": "2024-07-24T23:50:48.560473Z"
    },
    "papermill": {
     "duration": 0.027422,
     "end_time": "2024-07-24T23:50:48.564807",
     "exception": false,
     "start_time": "2024-07-24T23:50:48.537385",
     "status": "completed"
    },
    "tags": []
   },
   "outputs": [
    {
     "data": {
      "application/javascript": [
       "parent.postMessage({\"jupyterEvent\": \"custom.exercise_interaction\", \"data\": {\"outcomeType\": 1, \"valueTowardsCompletion\": 0.2, \"interactionType\": 1, \"questionType\": 2, \"questionId\": \"1_GetGrade\", \"learnToolsVersion\": \"0.3.4\", \"failureMessage\": \"\", \"exceptionClass\": \"\", \"trace\": \"\"}}, \"*\")"
      ],
      "text/plain": [
       "<IPython.core.display.Javascript object>"
      ]
     },
     "metadata": {},
     "output_type": "display_data"
    },
    {
     "data": {
      "text/markdown": [
       "<span style=\"color:#33cc33\">Correct</span>"
      ],
      "text/plain": [
       "Correct"
      ]
     },
     "metadata": {},
     "output_type": "display_data"
    }
   ],
   "source": [
    "# TODO: Edit the function to return the correct grade for different scores\n",
    "def get_grade(score):\n",
    "    grade = ''\n",
    "    if score >= 90:\n",
    "        grade = 'A'\n",
    "    elif score >= 80:\n",
    "        grade = 'B'\n",
    "    elif score >= 70:\n",
    "        grade = 'C'\n",
    "    elif score >= 60:\n",
    "        grade = 'D'\n",
    "    else:\n",
    "        grade = 'F'\n",
    "        \n",
    "    return grade\n",
    "    \n",
    "# Check your answer\n",
    "q1.check()"
   ]
  },
  {
   "cell_type": "code",
   "execution_count": 3,
   "id": "709ac373",
   "metadata": {
    "execution": {
     "iopub.execute_input": "2024-07-24T23:50:48.586003Z",
     "iopub.status.busy": "2024-07-24T23:50:48.585600Z",
     "iopub.status.idle": "2024-07-24T23:50:48.590769Z",
     "shell.execute_reply": "2024-07-24T23:50:48.589562Z"
    },
    "papermill": {
     "duration": 0.018513,
     "end_time": "2024-07-24T23:50:48.593122",
     "exception": false,
     "start_time": "2024-07-24T23:50:48.574609",
     "status": "completed"
    },
    "tags": []
   },
   "outputs": [],
   "source": [
    "# Uncomment to see a hint\n",
    "#q1.hint()\n",
    "\n",
    "# Uncomment to see the solution\n",
    "#q1.solution()"
   ]
  },
  {
   "cell_type": "markdown",
   "id": "a765d8b5",
   "metadata": {
    "papermill": {
     "duration": 0.009797,
     "end_time": "2024-07-24T23:50:48.612593",
     "exception": false,
     "start_time": "2024-07-24T23:50:48.602796",
     "status": "completed"
    },
    "tags": []
   },
   "source": [
    "# Question 2\n",
    "\n",
    "In the exercise for the previous lesson, you wrote a function `cost_of_project()` that estimated the price of rings for an online shop that sells rings with custom engravings.  This function did not use conditional statements.  In this exercise, you will rewrite the function to use conditional statements.  Recall that the online shop has the following price structure:\n",
    "- Gold plated rings have a base cost of \\\\$50, and you charge \\\\$7 per engraved unit.  \n",
    "- Solid gold rings have a base cost of \\\\$100, and you charge \\\\$10 per engraved unit.\n",
    "- Spaces and punctuation are counted as engraved units.\n",
    "\n",
    "Your function `cost_of_project()` takes two arguments:\n",
    "- `engraving` - a Python string with the text of the engraving\n",
    "- `solid_gold` - a Boolean that indicates whether the ring is solid gold\n",
    "\n",
    "It should return the cost of the project.  \n",
    "\n",
    "The function has been partially completed for you, and you need to fill in the blanks to complete the function."
   ]
  },
  {
   "cell_type": "code",
   "execution_count": 4,
   "id": "1e5d1050",
   "metadata": {
    "execution": {
     "iopub.execute_input": "2024-07-24T23:50:48.634182Z",
     "iopub.status.busy": "2024-07-24T23:50:48.633768Z",
     "iopub.status.idle": "2024-07-24T23:50:48.645641Z",
     "shell.execute_reply": "2024-07-24T23:50:48.644437Z"
    },
    "papermill": {
     "duration": 0.025847,
     "end_time": "2024-07-24T23:50:48.648487",
     "exception": false,
     "start_time": "2024-07-24T23:50:48.622640",
     "status": "completed"
    },
    "tags": []
   },
   "outputs": [
    {
     "data": {
      "application/javascript": [
       "parent.postMessage({\"jupyterEvent\": \"custom.exercise_interaction\", \"data\": {\"outcomeType\": 1, \"valueTowardsCompletion\": 0.2, \"interactionType\": 1, \"questionType\": 2, \"questionId\": \"2_CostProjectPartDeux\", \"learnToolsVersion\": \"0.3.4\", \"failureMessage\": \"\", \"exceptionClass\": \"\", \"trace\": \"\"}}, \"*\")"
      ],
      "text/plain": [
       "<IPython.core.display.Javascript object>"
      ]
     },
     "metadata": {},
     "output_type": "display_data"
    },
    {
     "data": {
      "text/markdown": [
       "<span style=\"color:#33cc33\">Correct</span>"
      ],
      "text/plain": [
       "Correct"
      ]
     },
     "metadata": {},
     "output_type": "display_data"
    }
   ],
   "source": [
    "def cost_of_project(engraving, solid_gold):\n",
    "    cost = 0\n",
    "    \n",
    "    if solid_gold == True:\n",
    "        cost = 100 + 10 * len(engraving)\n",
    "    else:\n",
    "        cost = 50 + 7 * len(engraving)\n",
    "        \n",
    "    return cost\n",
    "\n",
    "# Check your answer\n",
    "q2.check()"
   ]
  },
  {
   "cell_type": "code",
   "execution_count": 5,
   "id": "b8c14c96",
   "metadata": {
    "execution": {
     "iopub.execute_input": "2024-07-24T23:50:48.670631Z",
     "iopub.status.busy": "2024-07-24T23:50:48.670199Z",
     "iopub.status.idle": "2024-07-24T23:50:48.675240Z",
     "shell.execute_reply": "2024-07-24T23:50:48.674113Z"
    },
    "papermill": {
     "duration": 0.019361,
     "end_time": "2024-07-24T23:50:48.678073",
     "exception": false,
     "start_time": "2024-07-24T23:50:48.658712",
     "status": "completed"
    },
    "tags": []
   },
   "outputs": [],
   "source": [
    "# Uncomment to see a hint\n",
    "#q2.hint()\n",
    "\n",
    "# Uncomment to see the solution\n",
    "#q2.solution()"
   ]
  },
  {
   "cell_type": "markdown",
   "id": "7d2eea7d",
   "metadata": {
    "papermill": {
     "duration": 0.010895,
     "end_time": "2024-07-24T23:50:48.699267",
     "exception": false,
     "start_time": "2024-07-24T23:50:48.688372",
     "status": "completed"
    },
    "tags": []
   },
   "source": [
    "# Question 3\n",
    "\n",
    "You are a programmer at a water agency.  Recently, you have been tasked to write a function `get_water_bill()` that takes as input:\n",
    "- `num_gallons` = the number of gallons of water that a customer used that month.  (This will always be an integer with no decimal part.)\n",
    "\n",
    "It should output the water bill.  \n",
    "\n",
    "The water agency uses this pricing structure:\n",
    "<table style=\"width: 100%;\">\n",
    "<tbody>\n",
    "<tr><th><b>Tier</b></th><th><b>Amount in gallons</b></th><th><b>Price per 1000 gallons</b></th></tr>\n",
    "<tr>\n",
    "<td>Tier 1</td>\n",
    "<td>0 - 8,000</td>\n",
    "<td>\\$5</td>\n",
    "</tr>\n",
    "<tr>\n",
    "<td>Tier 2</td>\n",
    "<td>8,001 - 22,000</td>\n",
    "<td>\\$6</td>\n",
    "</tr>\n",
    "<tr>\n",
    "<td>Tier 3</td>\n",
    "<td>22,001 - 30,000</td>\n",
    "<td>\\$7</td>\n",
    "</tr>\n",
    "<tr>\n",
    "<td>Tier 4</td>\n",
    "<td>30,001+</td>\n",
    "<td>\\$10</td>\n",
    "</tr>\n",
    "</tbody>\n",
    "</table>\n",
    "\n",
    "For example: \n",
    "- Someone who uses 10,000 gallons of water in a month is placed in Tier 2, and needs to pay a water bill of \\\\$6 * 10 = \\\\$60.  In other words, `get_water_bill(10000)` should return `60.0`.\n",
    "- Someone who uses 25,000 gallons of water in a month is placed in Tier 3, and needs to pay a water bill of \\\\$7 * 25 = \\\\$175.  In other words, `get_water_bill(25000)` should return `175.0`.\n",
    "\n",
    "**Do not round your answer.**  So, your answer might return fractions of a penny."
   ]
  },
  {
   "cell_type": "code",
   "execution_count": 6,
   "id": "9b90883f",
   "metadata": {
    "execution": {
     "iopub.execute_input": "2024-07-24T23:50:48.722307Z",
     "iopub.status.busy": "2024-07-24T23:50:48.721736Z",
     "iopub.status.idle": "2024-07-24T23:50:48.735322Z",
     "shell.execute_reply": "2024-07-24T23:50:48.734018Z"
    },
    "papermill": {
     "duration": 0.028441,
     "end_time": "2024-07-24T23:50:48.737843",
     "exception": false,
     "start_time": "2024-07-24T23:50:48.709402",
     "status": "completed"
    },
    "tags": []
   },
   "outputs": [
    {
     "data": {
      "application/javascript": [
       "parent.postMessage({\"jupyterEvent\": \"custom.exercise_interaction\", \"data\": {\"outcomeType\": 1, \"valueTowardsCompletion\": 0.2, \"interactionType\": 1, \"questionType\": 2, \"questionId\": \"3_GetWaterBill\", \"learnToolsVersion\": \"0.3.4\", \"failureMessage\": \"\", \"exceptionClass\": \"\", \"trace\": \"\"}}, \"*\")"
      ],
      "text/plain": [
       "<IPython.core.display.Javascript object>"
      ]
     },
     "metadata": {},
     "output_type": "display_data"
    },
    {
     "data": {
      "text/markdown": [
       "<span style=\"color:#33cc33\">Correct</span>"
      ],
      "text/plain": [
       "Correct"
      ]
     },
     "metadata": {},
     "output_type": "display_data"
    }
   ],
   "source": [
    "# TODO: Edit the function to return the correct bill for different\n",
    "# values of num_gallons\n",
    "def get_water_bill(num_gallons):\n",
    "    bill = 0\n",
    "    \n",
    "    if 0 <= num_gallons <= 8_000:\n",
    "        bill = 5 * int(num_gallons / 1_000)\n",
    "    elif num_gallons <= 22_000:\n",
    "        bill = 6 * int(num_gallons / 1_000)\n",
    "    elif num_gallons <= 30_000:\n",
    "        bill = 7 * int(num_gallons / 1_000)\n",
    "    else:\n",
    "        bill = 10 * int(num_gallons / 1_000)\n",
    "    \n",
    "    return bill\n",
    "\n",
    "# Check your answer\n",
    "q3.check()"
   ]
  },
  {
   "cell_type": "code",
   "execution_count": 7,
   "id": "4ad29946",
   "metadata": {
    "execution": {
     "iopub.execute_input": "2024-07-24T23:50:48.760398Z",
     "iopub.status.busy": "2024-07-24T23:50:48.759959Z",
     "iopub.status.idle": "2024-07-24T23:50:48.765603Z",
     "shell.execute_reply": "2024-07-24T23:50:48.763924Z"
    },
    "papermill": {
     "duration": 0.019974,
     "end_time": "2024-07-24T23:50:48.768236",
     "exception": false,
     "start_time": "2024-07-24T23:50:48.748262",
     "status": "completed"
    },
    "tags": []
   },
   "outputs": [],
   "source": [
    "# Uncomment to see a hint\n",
    "#q3.hint()\n",
    "\n",
    "# Uncomment to see the solution\n",
    "#q3.solution()"
   ]
  },
  {
   "cell_type": "markdown",
   "id": "fedab3dd",
   "metadata": {
    "papermill": {
     "duration": 0.010355,
     "end_time": "2024-07-24T23:50:48.789318",
     "exception": false,
     "start_time": "2024-07-24T23:50:48.778963",
     "status": "completed"
    },
    "tags": []
   },
   "source": [
    "# Question 4\n",
    "\n",
    "You work for a company that provides data services.  For \\\\$100/month, your company provides 15 gigabytes (GB) of data.  Then, any additional data is billed at \\\\$0.10/MB (or \\\\$100/GB, since 1,000 MB are in 1 GB).\n",
    "\n",
    "Use the next code cell to write a function `get_phone_bill()` that takes as input:\n",
    "- `gb` = number of GB that the customer used in a month\n",
    "\n",
    "It should return the customer's total phone bill.\n",
    "\n",
    "For instance:\n",
    "- A customer who uses 10 GB of data in one month is billed only \\\\$100, since the usage stayed under 15 GB.  In other words, `get_phone_bill(10)` should return `100`.\n",
    "- A customer who uses 15.1 GB (or 15 GB + 100 MB) of data in one month has gone over by .1 GB, so they must pay \\\\$100 (cost of plan), plus \\\\$0.10 * 100 = \\\\$10, for a total bill of \\\\$110.  In other words, `get_phone_bill(15.1)` should return `110`.\n",
    "\n",
    "Do not round your answer."
   ]
  },
  {
   "cell_type": "code",
   "execution_count": 8,
   "id": "9c5338cb",
   "metadata": {
    "execution": {
     "iopub.execute_input": "2024-07-24T23:50:48.812273Z",
     "iopub.status.busy": "2024-07-24T23:50:48.811876Z",
     "iopub.status.idle": "2024-07-24T23:50:48.823327Z",
     "shell.execute_reply": "2024-07-24T23:50:48.822173Z"
    },
    "papermill": {
     "duration": 0.025895,
     "end_time": "2024-07-24T23:50:48.825993",
     "exception": false,
     "start_time": "2024-07-24T23:50:48.800098",
     "status": "completed"
    },
    "tags": []
   },
   "outputs": [
    {
     "data": {
      "application/javascript": [
       "parent.postMessage({\"jupyterEvent\": \"custom.exercise_interaction\", \"data\": {\"outcomeType\": 1, \"valueTowardsCompletion\": 0.2, \"interactionType\": 1, \"questionType\": 2, \"questionId\": \"4_GetPhoneBill\", \"learnToolsVersion\": \"0.3.4\", \"failureMessage\": \"\", \"exceptionClass\": \"\", \"trace\": \"\"}}, \"*\")"
      ],
      "text/plain": [
       "<IPython.core.display.Javascript object>"
      ]
     },
     "metadata": {},
     "output_type": "display_data"
    },
    {
     "data": {
      "text/markdown": [
       "<span style=\"color:#33cc33\">Correct</span>"
      ],
      "text/plain": [
       "Correct"
      ]
     },
     "metadata": {},
     "output_type": "display_data"
    }
   ],
   "source": [
    "# TODO: Edit the function to return the correct bill for different\n",
    "# values of GB\n",
    "def get_phone_bill(gb):\n",
    "    bill = 100\n",
    "    base = 15\n",
    "    \n",
    "    if gb > base:\n",
    "        additional_gb = gb - base\n",
    "        bill += additional_gb * 100\n",
    "        \n",
    "    return bill\n",
    "\n",
    "# Check your answer\n",
    "q4.check()"
   ]
  },
  {
   "cell_type": "code",
   "execution_count": 9,
   "id": "4ac860d7",
   "metadata": {
    "execution": {
     "iopub.execute_input": "2024-07-24T23:50:48.849998Z",
     "iopub.status.busy": "2024-07-24T23:50:48.849542Z",
     "iopub.status.idle": "2024-07-24T23:50:48.855553Z",
     "shell.execute_reply": "2024-07-24T23:50:48.854004Z"
    },
    "papermill": {
     "duration": 0.021613,
     "end_time": "2024-07-24T23:50:48.858321",
     "exception": false,
     "start_time": "2024-07-24T23:50:48.836708",
     "status": "completed"
    },
    "tags": []
   },
   "outputs": [],
   "source": [
    "# Uncomment to see a hint\n",
    "#q4.hint()\n",
    "\n",
    "# Uncomment to see the solution\n",
    "#q4.solution()"
   ]
  },
  {
   "cell_type": "markdown",
   "id": "02ef6537",
   "metadata": {
    "papermill": {
     "duration": 0.010437,
     "end_time": "2024-07-24T23:50:48.879524",
     "exception": false,
     "start_time": "2024-07-24T23:50:48.869087",
     "status": "completed"
    },
    "tags": []
   },
   "source": [
    "# 🌶️ Question 5\n",
    "\n",
    "In Mexico, foods and beverages that are high in saturated fat, trans fat, sugar, sodium, and/or calories appear with warning labels that are designed to help consumers make healthy food choices.\n",
    "\n",
    "For instance, the [box of cookies](https://world.openfoodfacts.org/product/7501000673209/florentinas-gamesa) in the image below appears with two labels (in the upper right corner):\n",
    "- EXCESO CALORÍAS (in English, EXCESS CALORIES)\n",
    "- EXCESO AZÚCARES (in English, EXCESS SUGAR)\n",
    "\n",
    "<center><img src=\"https://storage.googleapis.com/kaggle-media/learn/images/VXYKHnM.png\" alt=\"drawing\" width=\"500\"/></center>\n",
    "\n",
    "In this question, you'll work with a function `get_labels()` that takes the nutritional details about a food item and prints the needed warning labels.  This function takes several inputs:\n",
    "- `food_type` = one of `\"solid\"` or `\"liquid\"`\n",
    "- `serving_size` = size of one serving (if solid, in grams; if liquid, in milliliters)\n",
    "- `calories_per_serving` = calories in one serving\n",
    "- `saturated_fat_g` = grams of saturated fat in one serving\n",
    "- `trans_fat_g` = grams of trans fat in one serving\n",
    "- `sodium_mg` = mg of sodium in one serving\n",
    "- `sugars_g` = grams of sugar in one serving\n",
    "\n",
    "Note that some of the code here should feel unfamiliar to you, since we have not shared the details of how some of the functions like `excess_sugar()` or `excess_saturated_fat()` work.  But at a high level, these are functions that return a value of `True` if the food is deemed to have an excess of sugar or saturated fat, respectively.  These functions are used within the `get_labels()` function, and whenever there is an excess (of sugar or saturated fat, but also of trans fat, sodium, or calories), it prints the corresponding label."
   ]
  },
  {
   "cell_type": "code",
   "execution_count": 10,
   "id": "02fe9ab9",
   "metadata": {
    "execution": {
     "iopub.execute_input": "2024-07-24T23:50:48.903070Z",
     "iopub.status.busy": "2024-07-24T23:50:48.902606Z",
     "iopub.status.idle": "2024-07-24T23:50:48.913484Z",
     "shell.execute_reply": "2024-07-24T23:50:48.912172Z"
    },
    "papermill": {
     "duration": 0.02594,
     "end_time": "2024-07-24T23:50:48.916339",
     "exception": false,
     "start_time": "2024-07-24T23:50:48.890399",
     "status": "completed"
    },
    "tags": []
   },
   "outputs": [],
   "source": [
    "# import functions needed to make get_labels work\n",
    "from learntools.intro_to_programming.ex4q5 import excess_sugar, excess_saturated_fat, excess_trans_fat, excess_sodium, excess_calories\n",
    "\n",
    "def get_labels(food_type, serving_size, calories_per_serving, saturated_fat_g, trans_fat_g, sodium_mg, sugars_g):\n",
    "    # Print messages based on findings\n",
    "    if excess_sugar(sugars_g, calories_per_serving) == True:\n",
    "        print(\"EXCESO AZÚCARES / EXCESS SUGAR\")\n",
    "    if excess_saturated_fat(saturated_fat_g, calories_per_serving) == True:\n",
    "        print(\"EXCESO GRASAS SATURADAS / EXCESS SATURATED FAT\")\n",
    "    if excess_trans_fat(trans_fat_g, calories_per_serving) == True:\n",
    "        print(\"EXCESO GRASAS TRANS / EXCESS TRANS FAT\")\n",
    "    if excess_sodium(calories_per_serving, sodium_mg) == True:\n",
    "        print(\"EXCESO SODIO / EXCESS SODIUM\")\n",
    "    if excess_calories(food_type, calories_per_serving, serving_size) == True:\n",
    "        print(\"EXCESO CALORÍAS / EXCESS CALORIES\")"
   ]
  },
  {
   "cell_type": "markdown",
   "id": "6b61af22",
   "metadata": {
    "papermill": {
     "duration": 0.012021,
     "end_time": "2024-07-24T23:50:48.939070",
     "exception": false,
     "start_time": "2024-07-24T23:50:48.927049",
     "status": "completed"
    },
    "tags": []
   },
   "source": [
    "The next code cell demonstrates how to use `get_labels()` to get the warning labels that the food item should contain.  We begin with [bologna](https://world.openfoodfacts.org/product/4099100179378/bologna).  Here is [an image](https://storage.googleapis.com/kaggle-media/learn/images/Cfcx72e.png) with all of the nutritional information.  Note that for this food,\n",
    "- `food_type = \"solid\"` (because bologna is a solid and not a liquid)\n",
    "- `serving_size = 32` (the serving size is 32 grams)\n",
    "- `calories_per_serving = 110` (there are 110 calories per serving)\n",
    "- `saturated_fat_g = 2.5` (there are 2.5 grams of saturated fat per serving)\n",
    "- `trans_fat_g = 0` (there are 0 grams of trans fat per serving)\n",
    "- `sodium_mg = 400` (there are 400 mg of sodium per serving)\n",
    "- `sugars_g = 1` (the nutrition facts say <1g, but we will round it up to 1 gram per serving to be safe)\n",
    "\n",
    "By supplying all of these values to the function, we can print the warning labels."
   ]
  },
  {
   "cell_type": "code",
   "execution_count": 11,
   "id": "097c59be",
   "metadata": {
    "execution": {
     "iopub.execute_input": "2024-07-24T23:50:48.963118Z",
     "iopub.status.busy": "2024-07-24T23:50:48.962307Z",
     "iopub.status.idle": "2024-07-24T23:50:48.968919Z",
     "shell.execute_reply": "2024-07-24T23:50:48.967450Z"
    },
    "papermill": {
     "duration": 0.02196,
     "end_time": "2024-07-24T23:50:48.971844",
     "exception": false,
     "start_time": "2024-07-24T23:50:48.949884",
     "status": "completed"
    },
    "tags": []
   },
   "outputs": [
    {
     "name": "stdout",
     "output_type": "stream",
     "text": [
      "EXCESO GRASAS SATURADAS / EXCESS SATURATED FAT\n",
      "EXCESO SODIO / EXCESS SODIUM\n",
      "EXCESO CALORÍAS / EXCESS CALORIES\n"
     ]
    }
   ],
   "source": [
    "# bologna https://world.openfoodfacts.org/product/4099100179378/bologna\n",
    "get_labels(\"solid\", 32, 110, 2.5, 0, 400, 1)"
   ]
  },
  {
   "cell_type": "markdown",
   "id": "21720239",
   "metadata": {
    "papermill": {
     "duration": 0.010348,
     "end_time": "2024-07-24T23:50:48.993076",
     "exception": false,
     "start_time": "2024-07-24T23:50:48.982728",
     "status": "completed"
    },
    "tags": []
   },
   "source": [
    "This bologna has three labels, printed in the output above.\n",
    "\n",
    "For the rest of this question, you will use the same `get_labels()` function to determine the labels for more foods.  This question is designed to help you get practice with feeling comfortable with code that other people have written, and where you don't have time to review every single line of code before interacting with it.  For instance, when you take the [Intro to Machine Learning course](http://www.kaggle.com/learn/intro-to-machine-learning), you'll work with a Python package called \"scikit-learn\", which is a large collection of code that you'll learn how to run without reviewing all of the code in detail (as it would take too long, and you can trust that it was implemented correctly).\n",
    "\n",
    "In general, as you continue coding in Python, you will often be running code that other people have written.  This is common practice for advanced programmers.\n",
    "\n",
    "In the next code cell, fill in the values for [this cereal](https://world.openfoodfacts.org/product/7501008023624/zucaritas-kellogg-s).  Here is [an image](https://storage.googleapis.com/kaggle-media/learn/images/MUxzHVU.png) with all of the nutritional information.\n",
    "\n",
    "**Note**: running the line of code below as-is will return an error.  You have to fill in the nutritional values first."
   ]
  },
  {
   "cell_type": "code",
   "execution_count": 12,
   "id": "a7b91156",
   "metadata": {
    "execution": {
     "iopub.execute_input": "2024-07-24T23:50:49.016500Z",
     "iopub.status.busy": "2024-07-24T23:50:49.016051Z",
     "iopub.status.idle": "2024-07-24T23:50:49.023047Z",
     "shell.execute_reply": "2024-07-24T23:50:49.021552Z"
    },
    "papermill": {
     "duration": 0.021855,
     "end_time": "2024-07-24T23:50:49.025695",
     "exception": false,
     "start_time": "2024-07-24T23:50:49.003840",
     "status": "completed"
    },
    "tags": []
   },
   "outputs": [
    {
     "name": "stdout",
     "output_type": "stream",
     "text": [
      "EXCESO AZÚCARES / EXCESS SUGAR\n",
      "EXCESO SODIO / EXCESS SODIUM\n",
      "EXCESO CALORÍAS / EXCESS CALORIES\n"
     ]
    }
   ],
   "source": [
    "# zucaritas cereal https://world.openfoodfacts.org/product/7501008023624/zucaritas-kellogg-s\n",
    "# TODO: Uncomment the line below, fill in the values, and run the function\n",
    "get_labels('solid', 710 / 23.7, 2_654 / 23.7, 0, 0, 349, 41)"
   ]
  },
  {
   "cell_type": "markdown",
   "id": "c461e950",
   "metadata": {
    "papermill": {
     "duration": 0.0105,
     "end_time": "2024-07-24T23:50:49.047279",
     "exception": false,
     "start_time": "2024-07-24T23:50:49.036779",
     "status": "completed"
    },
    "tags": []
   },
   "source": [
    "Next, try [these mozzarella sticks](https://world-es.openfoodfacts.org/producto/0062325540104/mozzarella-cheese-sticks).  Here is [an image](https://storage.googleapis.com/kaggle-media/learn/images/rcdB7VH.png) with all of the nutritional information."
   ]
  },
  {
   "cell_type": "code",
   "execution_count": 13,
   "id": "c1a303fd",
   "metadata": {
    "execution": {
     "iopub.execute_input": "2024-07-24T23:50:49.071577Z",
     "iopub.status.busy": "2024-07-24T23:50:49.070577Z",
     "iopub.status.idle": "2024-07-24T23:50:49.078889Z",
     "shell.execute_reply": "2024-07-24T23:50:49.076870Z"
    },
    "papermill": {
     "duration": 0.023498,
     "end_time": "2024-07-24T23:50:49.081814",
     "exception": false,
     "start_time": "2024-07-24T23:50:49.058316",
     "status": "completed"
    },
    "tags": []
   },
   "outputs": [
    {
     "name": "stdout",
     "output_type": "stream",
     "text": [
      "EXCESO GRASAS SATURADAS / EXCESS SATURATED FAT\n",
      "EXCESO GRASAS TRANS / EXCESS TRANS FAT\n",
      "EXCESO SODIO / EXCESS SODIUM\n"
     ]
    }
   ],
   "source": [
    "# mozzarella sticks https://world-es.openfoodfacts.org/producto/0062325540104/mozzarella-cheese-sticks\n",
    "# TODO: Uncomment the line below, fill in the values, and run the function\n",
    "get_labels(\n",
    "    food_type='solid',\n",
    "    serving_size=168,\n",
    "    calories_per_serving=68,\n",
    "    saturated_fat_g=3,\n",
    "    trans_fat_g=0.2,\n",
    "    sodium_mg=208,\n",
    "    sugars_g=0\n",
    ")"
   ]
  },
  {
   "cell_type": "markdown",
   "id": "4f9a1205",
   "metadata": {
    "papermill": {
     "duration": 0.011419,
     "end_time": "2024-07-24T23:50:49.104484",
     "exception": false,
     "start_time": "2024-07-24T23:50:49.093065",
     "status": "completed"
    },
    "tags": []
   },
   "source": [
    "Feel free to skip to the end of the notebook now and run `q5.check()` to complete the exercise.  If you want to try more foods, \n",
    "- try [these cookies](https://world.openfoodfacts.org/product/0069700118545/biscuits-au-sucre-pretraches).  Here is [an image](https://storage.googleapis.com/kaggle-media/learn/images/2Bc271o.png) with all of the nutritional information.\n",
    "- try [this soda](https://world-es.openfoodfacts.org/producto/0078000113464/orange-soda-sunkist).  Here is [an image](https://storage.googleapis.com/kaggle-media/learn/images/RsBYa8E.png) with all of the nutritional information.\n",
    "\n",
    "Use the two code cells below for this."
   ]
  },
  {
   "cell_type": "code",
   "execution_count": 14,
   "id": "7da04e0a",
   "metadata": {
    "execution": {
     "iopub.execute_input": "2024-07-24T23:50:49.129103Z",
     "iopub.status.busy": "2024-07-24T23:50:49.128698Z",
     "iopub.status.idle": "2024-07-24T23:50:49.134223Z",
     "shell.execute_reply": "2024-07-24T23:50:49.132738Z"
    },
    "papermill": {
     "duration": 0.020947,
     "end_time": "2024-07-24T23:50:49.137013",
     "exception": false,
     "start_time": "2024-07-24T23:50:49.116066",
     "status": "completed"
    },
    "tags": []
   },
   "outputs": [],
   "source": [
    "# pillsbury cookies https://world.openfoodfacts.org/product/0069700118545/biscuits-au-sucre-pretraches\n",
    "# TODO: Uncomment the line below, fill in the values, and run the function\n",
    "#get_labels()"
   ]
  },
  {
   "cell_type": "code",
   "execution_count": 15,
   "id": "5744521f",
   "metadata": {
    "execution": {
     "iopub.execute_input": "2024-07-24T23:50:49.161178Z",
     "iopub.status.busy": "2024-07-24T23:50:49.160655Z",
     "iopub.status.idle": "2024-07-24T23:50:49.166187Z",
     "shell.execute_reply": "2024-07-24T23:50:49.164924Z"
    },
    "papermill": {
     "duration": 0.020663,
     "end_time": "2024-07-24T23:50:49.168872",
     "exception": false,
     "start_time": "2024-07-24T23:50:49.148209",
     "status": "completed"
    },
    "tags": []
   },
   "outputs": [],
   "source": [
    "# sunkist orange soda https://world-es.openfoodfacts.org/producto/0078000113464/orange-soda-sunkist\n",
    "# TODO: Uncomment the line below, fill in the values, and run the function\n",
    "#get_labels()"
   ]
  },
  {
   "cell_type": "markdown",
   "id": "d1249fc2",
   "metadata": {
    "papermill": {
     "duration": 0.010796,
     "end_time": "2024-07-24T23:50:49.190704",
     "exception": false,
     "start_time": "2024-07-24T23:50:49.179908",
     "status": "completed"
    },
    "tags": []
   },
   "source": [
    "Once you have finished investigating the food items in this question, run the final code cell to get credit for completing this problem."
   ]
  },
  {
   "cell_type": "code",
   "execution_count": 16,
   "id": "0732b090",
   "metadata": {
    "execution": {
     "iopub.execute_input": "2024-07-24T23:50:49.215836Z",
     "iopub.status.busy": "2024-07-24T23:50:49.215378Z",
     "iopub.status.idle": "2024-07-24T23:50:49.225593Z",
     "shell.execute_reply": "2024-07-24T23:50:49.224169Z"
    },
    "papermill": {
     "duration": 0.026193,
     "end_time": "2024-07-24T23:50:49.228504",
     "exception": false,
     "start_time": "2024-07-24T23:50:49.202311",
     "status": "completed"
    },
    "tags": []
   },
   "outputs": [
    {
     "data": {
      "application/javascript": [
       "parent.postMessage({\"jupyterEvent\": \"custom.exercise_interaction\", \"data\": {\"outcomeType\": 1, \"valueTowardsCompletion\": 0.2, \"interactionType\": 1, \"questionType\": 2, \"questionId\": \"5_GetLabels\", \"learnToolsVersion\": \"0.3.4\", \"failureMessage\": \"\", \"exceptionClass\": \"\", \"trace\": \"\"}}, \"*\")"
      ],
      "text/plain": [
       "<IPython.core.display.Javascript object>"
      ]
     },
     "metadata": {},
     "output_type": "display_data"
    },
    {
     "data": {
      "text/markdown": [
       "<span style=\"color:#33cc33\">Once you have determined the labels for all of the food items, you're ready to move on to the next lesson!</span>"
      ],
      "text/plain": [
       "Once you have determined the labels for all of the food items, you're ready to move on to the next lesson!"
      ]
     },
     "metadata": {},
     "output_type": "display_data"
    }
   ],
   "source": [
    "# Get credit for completing the problem\n",
    "q5.check()"
   ]
  },
  {
   "cell_type": "markdown",
   "id": "9e37f357",
   "metadata": {
    "papermill": {
     "duration": 0.011075,
     "end_time": "2024-07-24T23:50:49.251774",
     "exception": false,
     "start_time": "2024-07-24T23:50:49.240699",
     "status": "completed"
    },
    "tags": []
   },
   "source": [
    "# Keep going\n",
    "\n",
    "Continue to the next lesson to **[learn about Python lists](https://www.kaggle.com/alexisbcook/intro-to-lists)**."
   ]
  },
  {
   "cell_type": "markdown",
   "id": "349fa4e0",
   "metadata": {
    "papermill": {
     "duration": 0.011525,
     "end_time": "2024-07-24T23:50:49.275211",
     "exception": false,
     "start_time": "2024-07-24T23:50:49.263686",
     "status": "completed"
    },
    "tags": []
   },
   "source": [
    "---\n",
    "\n",
    "\n",
    "\n",
    "\n",
    "*Have questions or comments? Visit the [course discussion forum](https://www.kaggle.com/learn/intro-to-programming/discussion) to chat with other learners.*"
   ]
  }
 ],
 "metadata": {
  "kaggle": {
   "accelerator": "none",
   "dataSources": [],
   "isGpuEnabled": false,
   "isInternetEnabled": true,
   "language": "python",
   "sourceType": "notebook"
  },
  "kernelspec": {
   "display_name": "Python 3",
   "language": "python",
   "name": "python3"
  },
  "language_info": {
   "codemirror_mode": {
    "name": "ipython",
    "version": 3
   },
   "file_extension": ".py",
   "mimetype": "text/x-python",
   "name": "python",
   "nbconvert_exporter": "python",
   "pygments_lexer": "ipython3",
   "version": "3.10.13"
  },
  "papermill": {
   "default_parameters": {},
   "duration": 5.848036,
   "end_time": "2024-07-24T23:50:49.811092",
   "environment_variables": {},
   "exception": null,
   "input_path": "__notebook__.ipynb",
   "output_path": "__notebook__.ipynb",
   "parameters": {},
   "start_time": "2024-07-24T23:50:43.963056",
   "version": "2.5.0"
  }
 },
 "nbformat": 4,
 "nbformat_minor": 5
}
