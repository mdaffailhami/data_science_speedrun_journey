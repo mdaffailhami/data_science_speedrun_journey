{
 "cells": [
  {
   "cell_type": "markdown",
   "id": "ed47575e",
   "metadata": {
    "papermill": {
     "duration": 0.008972,
     "end_time": "2023-04-20T18:13:04.386117",
     "exception": false,
     "start_time": "2023-04-20T18:13:04.377145",
     "status": "completed"
    },
    "tags": []
   },
   "source": [
    "Welcome to the Intro to Programming course!  This course is for you if you have never written a single line of code, and you are interested in learning data science and machine learning.  (_If you do have programming experience and are just new to the Python language, the [Python course](http://www.kaggle.com/learn/python) is a better fit to get started._)\n",
    "\n",
    "In this course, you will learn how to use code to get a computer to perform certain tasks for you.  Python is one of the most popular programming languages for data science, and it's the language you'll learn in this course.  Once you complete this course, you'll be fully prepared to progress to the [Python course](http://www.kaggle.com/learn/python), followed by the [Intro to Machine Learning course](http://www.kaggle.com/learn/intro-to-machine-learning).\n",
    "\n",
    "In this tutorial, you'll see several examples of Python code.  You'll get a chance to write your own code in the exercise.  (_If you'd like to preview the exercise, feel free to **[take a look now](https://www.kaggle.com/kernels/fork/25258219)**.  We also provide a link to the exercise at the end of this tutorial._)"
   ]
  },
  {
   "cell_type": "markdown",
   "id": "cc64b6c2",
   "metadata": {
    "papermill": {
     "duration": 0.006781,
     "end_time": "2023-04-20T18:13:04.400184",
     "exception": false,
     "start_time": "2023-04-20T18:13:04.393403",
     "status": "completed"
    },
    "tags": []
   },
   "source": [
    "# Printing\n",
    "\n",
    "One of the simplest (and most important!) tasks you can ask a computer to do is to print a message.\n",
    "\n",
    "In Python, we ask a computer to print a message for us by writing `print()` and putting the message inside the parentheses and enclosed in quotation marks.  Below, we ask the computer to print the message `Hello, world!`."
   ]
  },
  {
   "cell_type": "code",
   "execution_count": 1,
   "id": "0392d0bd",
   "metadata": {
    "execution": {
     "iopub.execute_input": "2023-04-20T18:13:04.415818Z",
     "iopub.status.busy": "2023-04-20T18:13:04.415422Z",
     "iopub.status.idle": "2023-04-20T18:13:04.427614Z",
     "shell.execute_reply": "2023-04-20T18:13:04.426370Z"
    },
    "papermill": {
     "duration": 0.023324,
     "end_time": "2023-04-20T18:13:04.430304",
     "exception": false,
     "start_time": "2023-04-20T18:13:04.406980",
     "status": "completed"
    },
    "tags": []
   },
   "outputs": [
    {
     "name": "stdout",
     "output_type": "stream",
     "text": [
      "Hello, world!\n"
     ]
    }
   ],
   "source": [
    "print(\"Hello, world!\")"
   ]
  },
  {
   "cell_type": "markdown",
   "id": "ffea38ff",
   "metadata": {
    "papermill": {
     "duration": 0.006709,
     "end_time": "2023-04-20T18:13:04.444071",
     "exception": false,
     "start_time": "2023-04-20T18:13:04.437362",
     "status": "completed"
    },
    "tags": []
   },
   "source": [
    "The code is inside the box (known as a **code cell**), and the computer's response (called the **output** of the code) is shown below the box.  As you can see, the computer printed the message that we wanted.\n",
    "\n",
    "# Arithmetic\n",
    "\n",
    "We can also print the value of some arithmetic operation (such as addition, subtraction, multiplication, or division).\n",
    "\n",
    "For instance, in the next code cell, the computer adds 2 to 1 and then prints the result, which is 3.  Note that unlike when we were simply printing text, we don't use any quotation marks."
   ]
  },
  {
   "cell_type": "code",
   "execution_count": 2,
   "id": "b2e09288",
   "metadata": {
    "execution": {
     "iopub.execute_input": "2023-04-20T18:13:04.460516Z",
     "iopub.status.busy": "2023-04-20T18:13:04.459417Z",
     "iopub.status.idle": "2023-04-20T18:13:04.466049Z",
     "shell.execute_reply": "2023-04-20T18:13:04.464680Z"
    },
    "papermill": {
     "duration": 0.017615,
     "end_time": "2023-04-20T18:13:04.468681",
     "exception": false,
     "start_time": "2023-04-20T18:13:04.451066",
     "status": "completed"
    },
    "tags": []
   },
   "outputs": [
    {
     "name": "stdout",
     "output_type": "stream",
     "text": [
      "3\n"
     ]
    }
   ],
   "source": [
    "print(1 + 2)"
   ]
  },
  {
   "cell_type": "markdown",
   "id": "be3d9f32",
   "metadata": {
    "papermill": {
     "duration": 0.006743,
     "end_time": "2023-04-20T18:13:04.482444",
     "exception": false,
     "start_time": "2023-04-20T18:13:04.475701",
     "status": "completed"
    },
    "tags": []
   },
   "source": [
    "We can also do subtraction in python.  The next code cell subtracts 5 from 9 and prints the result, which is 4."
   ]
  },
  {
   "cell_type": "code",
   "execution_count": 3,
   "id": "68099076",
   "metadata": {
    "execution": {
     "iopub.execute_input": "2023-04-20T18:13:04.498162Z",
     "iopub.status.busy": "2023-04-20T18:13:04.497749Z",
     "iopub.status.idle": "2023-04-20T18:13:04.503748Z",
     "shell.execute_reply": "2023-04-20T18:13:04.502429Z"
    },
    "papermill": {
     "duration": 0.016718,
     "end_time": "2023-04-20T18:13:04.506056",
     "exception": false,
     "start_time": "2023-04-20T18:13:04.489338",
     "status": "completed"
    },
    "tags": []
   },
   "outputs": [
    {
     "name": "stdout",
     "output_type": "stream",
     "text": [
      "4\n"
     ]
    }
   ],
   "source": [
    "print(9 - 5)"
   ]
  },
  {
   "cell_type": "markdown",
   "id": "81db519a",
   "metadata": {
    "papermill": {
     "duration": 0.007752,
     "end_time": "2023-04-20T18:13:04.520818",
     "exception": false,
     "start_time": "2023-04-20T18:13:04.513066",
     "status": "completed"
    },
    "tags": []
   },
   "source": [
    "You can actually do a lot of calculations with python!  See the table below for some examples.\n",
    "\n",
    "<table style=\"width: 100%;\">\n",
    "<tbody>\n",
    "<tr><th><b>Operation</b></th><th><b>Symbol</b></th><th><b>Example</b></th></tr>\n",
    "<tr>\n",
    "<td>Addition</td>\n",
    "<td>+</td>\n",
    "<td>1 + 2 = 3</td>\n",
    "</tr>\n",
    "<tr>\n",
    "<td>Subtraction</td>\n",
    "<td>-</td>\n",
    "<td>5 - 4 = 1</td>\n",
    "</tr>\n",
    "<tr>\n",
    "<td>Multiplication</td>\n",
    "<td>*</td>\n",
    "<td>2 * 4 = 8</td>\n",
    "</tr>\n",
    "<tr>\n",
    "<td>Division</td>\n",
    "<td>/</td>\n",
    "<td>6 / 3 = 2</td>\n",
    "</tr>\n",
    "<tr>\n",
    "<td>Exponent</td>\n",
    "<td>**</td>\n",
    "<td>3 ** 2 = 9</td>\n",
    "</tr>\n",
    "</tbody>\n",
    "</table>"
   ]
  },
  {
   "cell_type": "markdown",
   "id": "ef0e2a11",
   "metadata": {
    "papermill": {
     "duration": 0.006727,
     "end_time": "2023-04-20T18:13:04.534550",
     "exception": false,
     "start_time": "2023-04-20T18:13:04.527823",
     "status": "completed"
    },
    "tags": []
   },
   "source": [
    "You can control the order of operations in long calculations with parentheses.  "
   ]
  },
  {
   "cell_type": "code",
   "execution_count": 4,
   "id": "8e1da3b1",
   "metadata": {
    "execution": {
     "iopub.execute_input": "2023-04-20T18:13:04.550654Z",
     "iopub.status.busy": "2023-04-20T18:13:04.550246Z",
     "iopub.status.idle": "2023-04-20T18:13:04.556124Z",
     "shell.execute_reply": "2023-04-20T18:13:04.554950Z"
    },
    "papermill": {
     "duration": 0.017036,
     "end_time": "2023-04-20T18:13:04.558646",
     "exception": false,
     "start_time": "2023-04-20T18:13:04.541610",
     "status": "completed"
    },
    "tags": []
   },
   "outputs": [
    {
     "name": "stdout",
     "output_type": "stream",
     "text": [
      "196.0\n"
     ]
    }
   ],
   "source": [
    "print(((1 + 3) * (9 - 2) / 2) ** 2)"
   ]
  },
  {
   "cell_type": "markdown",
   "id": "def1bab4",
   "metadata": {
    "papermill": {
     "duration": 0.006891,
     "end_time": "2023-04-20T18:13:04.572586",
     "exception": false,
     "start_time": "2023-04-20T18:13:04.565695",
     "status": "completed"
    },
    "tags": []
   },
   "source": [
    "In general, Python follows the [PEMDAS rule](https://www.mathsisfun.com/operation-order-pemdas.html) when deciding the order of operations.\n",
    "\n",
    "# Comments\n",
    "\n",
    "We use **comments** to annotate what code is doing.  They help other people to understand your code, and they can also be helpful if you haven't looked at your own code in a while.  So far, the code that we have written is very short, but annotations become more important when you have written a lot of code. \n",
    "\n",
    "For instance, in the next code cell, we multiply 3 by 2.  We also add a comment (`# Multiply 3 by 2`) above the code to describe what the code is doing."
   ]
  },
  {
   "cell_type": "code",
   "execution_count": 5,
   "id": "0aa2c486",
   "metadata": {
    "execution": {
     "iopub.execute_input": "2023-04-20T18:13:04.588831Z",
     "iopub.status.busy": "2023-04-20T18:13:04.588438Z",
     "iopub.status.idle": "2023-04-20T18:13:04.593442Z",
     "shell.execute_reply": "2023-04-20T18:13:04.592292Z"
    },
    "papermill": {
     "duration": 0.016098,
     "end_time": "2023-04-20T18:13:04.595893",
     "exception": false,
     "start_time": "2023-04-20T18:13:04.579795",
     "status": "completed"
    },
    "tags": []
   },
   "outputs": [
    {
     "name": "stdout",
     "output_type": "stream",
     "text": [
      "6\n"
     ]
    }
   ],
   "source": [
    "# Multiply 3 by 2\n",
    "print(3 * 2)"
   ]
  },
  {
   "cell_type": "markdown",
   "id": "296ac0ad",
   "metadata": {
    "papermill": {
     "duration": 0.006888,
     "end_time": "2023-04-20T18:13:04.609935",
     "exception": false,
     "start_time": "2023-04-20T18:13:04.603047",
     "status": "completed"
    },
    "tags": []
   },
   "source": [
    "To indicate to Python that a line is comment (and not Python code), you need to write a pound sign (`#`) as the very first character.  \n",
    "\n",
    "Once Python sees the pound sign and recognizes that the line is a comment, it is completely ignored by the computer.  This is important, because just like English or Hindi (or any other language!), Python is a language with very strict rules that need to be followed.  Python is stricter than a human listener, though, and will just error if it can't understand the code.\n",
    "\n",
    "We can see an example of this, in the code cell below.  Python errors if we remove the pound sign, because the text in the comment is not valid Python code, so it can't be interpreted properly."
   ]
  },
  {
   "cell_type": "code",
   "execution_count": 6,
   "id": "c01b2cc7",
   "metadata": {
    "execution": {
     "iopub.execute_input": "2023-04-20T18:13:04.626803Z",
     "iopub.status.busy": "2023-04-20T18:13:04.626387Z",
     "iopub.status.idle": "2023-04-20T18:13:04.632359Z",
     "shell.execute_reply": "2023-04-20T18:13:04.631218Z"
    },
    "papermill": {
     "duration": 0.017964,
     "end_time": "2023-04-20T18:13:04.634972",
     "exception": false,
     "start_time": "2023-04-20T18:13:04.617008",
     "status": "completed"
    },
    "tags": []
   },
   "outputs": [
    {
     "ename": "SyntaxError",
     "evalue": "invalid syntax (3750420471.py, line 1)",
     "output_type": "error",
     "traceback": [
      "\u001b[0;36m  File \u001b[0;32m\"/tmp/ipykernel_18/3750420471.py\"\u001b[0;36m, line \u001b[0;32m1\u001b[0m\n\u001b[0;31m    Multiply 3 by 2\u001b[0m\n\u001b[0m             ^\u001b[0m\n\u001b[0;31mSyntaxError\u001b[0m\u001b[0;31m:\u001b[0m invalid syntax\n"
     ]
    }
   ],
   "source": [
    "Multiply 3 by 2"
   ]
  },
  {
   "cell_type": "markdown",
   "id": "c442d069",
   "metadata": {
    "papermill": {
     "duration": 0.007024,
     "end_time": "2023-04-20T18:13:04.650103",
     "exception": false,
     "start_time": "2023-04-20T18:13:04.643079",
     "status": "completed"
    },
    "tags": []
   },
   "source": [
    "# Variables\n",
    "\n",
    "So far, you have used code to make a calculation and print the result, and the result isn't saved anywhere.  However, you can imagine that you might want to save the result to work with it later.  For this, you'll need to use **variables**.\n",
    "\n",
    "## Creating variables\n",
    "\n",
    "The next code cell creates a variable named `test_var` and assigns it the value that we get when we add 5 to 4.\n",
    "\n",
    "We then print the value that is assigned to the variable, which is 9."
   ]
  },
  {
   "cell_type": "code",
   "execution_count": 7,
   "id": "6ee0ce40",
   "metadata": {
    "execution": {
     "iopub.execute_input": "2023-04-20T18:13:04.666474Z",
     "iopub.status.busy": "2023-04-20T18:13:04.666043Z",
     "iopub.status.idle": "2023-04-20T18:13:04.672484Z",
     "shell.execute_reply": "2023-04-20T18:13:04.671208Z"
    },
    "papermill": {
     "duration": 0.017475,
     "end_time": "2023-04-20T18:13:04.674883",
     "exception": false,
     "start_time": "2023-04-20T18:13:04.657408",
     "status": "completed"
    },
    "tags": []
   },
   "outputs": [
    {
     "name": "stdout",
     "output_type": "stream",
     "text": [
      "9\n"
     ]
    }
   ],
   "source": [
    "# Create a variable called test_var and give it a value of 4+5\n",
    "test_var = 4 + 5\n",
    "\n",
    "# Print the value of test_var\n",
    "print(test_var)"
   ]
  },
  {
   "cell_type": "markdown",
   "id": "bd904a27",
   "metadata": {
    "papermill": {
     "duration": 0.007338,
     "end_time": "2023-04-20T18:13:04.689517",
     "exception": false,
     "start_time": "2023-04-20T18:13:04.682179",
     "status": "completed"
    },
    "tags": []
   },
   "source": [
    "In general, to work with a variable, you need to begin by selecting the name you want to use.  Variable names are ideally short and descriptive.  They also need to satisfy several requirements:\n",
    "- They can't have spaces (e.g., `test var` is not allowed)\n",
    "- They can only include letters, numbers, and underscores (e.g., `test_var!` is not allowed)\n",
    "- They have to start with a letter or underscore (e.g., `1_var` is not allowed)\n",
    "\n",
    "Then, to create the variable, you need to use `=` to assign the value that you want it to have. \n",
    "\n",
    "You can always take a look at the value assigned to the variable by using `print()` and putting the name of the variable in parentheses.\n",
    "\n",
    "Over time, you'll learn how to select good names for Python variables.  It's completely fine for it to feel uncomfortable now, and the best way to learn is just by viewing a lot of Python code!"
   ]
  },
  {
   "cell_type": "markdown",
   "id": "56e9fc81",
   "metadata": {
    "papermill": {
     "duration": 0.007003,
     "end_time": "2023-04-20T18:13:04.704008",
     "exception": false,
     "start_time": "2023-04-20T18:13:04.697005",
     "status": "completed"
    },
    "tags": []
   },
   "source": [
    "## Manipulating variables\n",
    "\n",
    "You can always change the value assigned to a variable by overriding the previous value.\n",
    "\n",
    "In the code cell below, we change the value of `my_var` from 3 to 100."
   ]
  },
  {
   "cell_type": "code",
   "execution_count": 8,
   "id": "a817b9b7",
   "metadata": {
    "execution": {
     "iopub.execute_input": "2023-04-20T18:13:04.720621Z",
     "iopub.status.busy": "2023-04-20T18:13:04.720186Z",
     "iopub.status.idle": "2023-04-20T18:13:04.726486Z",
     "shell.execute_reply": "2023-04-20T18:13:04.725204Z"
    },
    "papermill": {
     "duration": 0.017561,
     "end_time": "2023-04-20T18:13:04.728902",
     "exception": false,
     "start_time": "2023-04-20T18:13:04.711341",
     "status": "completed"
    },
    "tags": []
   },
   "outputs": [
    {
     "name": "stdout",
     "output_type": "stream",
     "text": [
      "3\n",
      "100\n"
     ]
    }
   ],
   "source": [
    "# Set the value of a new variable to 3\n",
    "my_var = 3\n",
    "\n",
    "# Print the value assigned to my_var\n",
    "print(my_var)\n",
    "\n",
    "# Change the value of the variable to 100\n",
    "my_var = 100\n",
    "\n",
    "# Print the new value assigned to my_var\n",
    "print(my_var)"
   ]
  },
  {
   "cell_type": "markdown",
   "id": "6c110b2c",
   "metadata": {
    "papermill": {
     "duration": 0.007085,
     "end_time": "2023-04-20T18:13:04.743689",
     "exception": false,
     "start_time": "2023-04-20T18:13:04.736604",
     "status": "completed"
    },
    "tags": []
   },
   "source": [
    "Note that in general, whenever you define a variable in a code cell, all of the code cells that follow also have access to the variable.  For instance, we use the next code cell to access the values of `my_var` (from the code cell above) and `test_var` (from earlier in this tutorial)."
   ]
  },
  {
   "cell_type": "code",
   "execution_count": 9,
   "id": "0d43150a",
   "metadata": {
    "execution": {
     "iopub.execute_input": "2023-04-20T18:13:04.760339Z",
     "iopub.status.busy": "2023-04-20T18:13:04.759834Z",
     "iopub.status.idle": "2023-04-20T18:13:04.766202Z",
     "shell.execute_reply": "2023-04-20T18:13:04.764891Z"
    },
    "papermill": {
     "duration": 0.017265,
     "end_time": "2023-04-20T18:13:04.768409",
     "exception": false,
     "start_time": "2023-04-20T18:13:04.751144",
     "status": "completed"
    },
    "tags": []
   },
   "outputs": [
    {
     "name": "stdout",
     "output_type": "stream",
     "text": [
      "100\n",
      "9\n"
     ]
    }
   ],
   "source": [
    "print(my_var)\n",
    "print(test_var)"
   ]
  },
  {
   "cell_type": "markdown",
   "id": "2f58a132",
   "metadata": {
    "papermill": {
     "duration": 0.007362,
     "end_time": "2023-04-20T18:13:04.783512",
     "exception": false,
     "start_time": "2023-04-20T18:13:04.776150",
     "status": "completed"
    },
    "tags": []
   },
   "source": [
    "The next code cell tells Python to increase the current value of `my_var` by 3.\n",
    "\n",
    "To do this, we still need to use `my_var =` like before.  And also just like before, the new value we want to assign to the variable is to the right of the `=` sign."
   ]
  },
  {
   "cell_type": "code",
   "execution_count": 10,
   "id": "3a3e341d",
   "metadata": {
    "execution": {
     "iopub.execute_input": "2023-04-20T18:13:04.800693Z",
     "iopub.status.busy": "2023-04-20T18:13:04.800208Z",
     "iopub.status.idle": "2023-04-20T18:13:04.805421Z",
     "shell.execute_reply": "2023-04-20T18:13:04.804498Z"
    },
    "papermill": {
     "duration": 0.016612,
     "end_time": "2023-04-20T18:13:04.807699",
     "exception": false,
     "start_time": "2023-04-20T18:13:04.791087",
     "status": "completed"
    },
    "tags": []
   },
   "outputs": [
    {
     "name": "stdout",
     "output_type": "stream",
     "text": [
      "103\n"
     ]
    }
   ],
   "source": [
    "# Increase the value by 3\n",
    "my_var = my_var + 3\n",
    "\n",
    "# Print the value assigned to my_var\n",
    "print(my_var)"
   ]
  },
  {
   "cell_type": "markdown",
   "id": "aaf192cf",
   "metadata": {
    "papermill": {
     "duration": 0.007219,
     "end_time": "2023-04-20T18:13:04.822554",
     "exception": false,
     "start_time": "2023-04-20T18:13:04.815335",
     "status": "completed"
    },
    "tags": []
   },
   "source": [
    "## Using multiple variables\n",
    "\n",
    "It's common for code to use multiple variables.  This is especially useful when we have to do a long calculation with multiple inputs.\n",
    "\n",
    "In the next code cell, we calculate the number of seconds in four years.  This calculation uses five inputs."
   ]
  },
  {
   "cell_type": "code",
   "execution_count": 11,
   "id": "8853df2e",
   "metadata": {
    "execution": {
     "iopub.execute_input": "2023-04-20T18:13:04.840154Z",
     "iopub.status.busy": "2023-04-20T18:13:04.839203Z",
     "iopub.status.idle": "2023-04-20T18:13:04.846678Z",
     "shell.execute_reply": "2023-04-20T18:13:04.844969Z"
    },
    "papermill": {
     "duration": 0.019299,
     "end_time": "2023-04-20T18:13:04.849379",
     "exception": false,
     "start_time": "2023-04-20T18:13:04.830080",
     "status": "completed"
    },
    "tags": []
   },
   "outputs": [
    {
     "name": "stdout",
     "output_type": "stream",
     "text": [
      "126144000\n"
     ]
    }
   ],
   "source": [
    "# Create variables\n",
    "num_years = 4\n",
    "days_per_year = 365 \n",
    "hours_per_day = 24\n",
    "mins_per_hour = 60\n",
    "secs_per_min = 60\n",
    "\n",
    "# Calculate number of seconds in four years\n",
    "total_secs = secs_per_min * mins_per_hour * hours_per_day * days_per_year * num_years\n",
    "print(total_secs)"
   ]
  },
  {
   "cell_type": "markdown",
   "id": "69606dc2",
   "metadata": {
    "papermill": {
     "duration": 0.007381,
     "end_time": "2023-04-20T18:13:04.864596",
     "exception": false,
     "start_time": "2023-04-20T18:13:04.857215",
     "status": "completed"
    },
    "tags": []
   },
   "source": [
    "As calculated above, there are 126144000 seconds in four years.  \n",
    "\n",
    "Note it is *possible* to do this calculation without variables as just `60 * 60 * 24 * 365 * 4`, but it is much harder to check that the calculation without variables does not have some error, because it is not as readable.  When we use variables (such as `num_years`, `days_per_year`, etc), we can better keep track of each part of the calculation and more easily check for and correct any mistakes.\n",
    "\n",
    "Note that it is particularly useful to use variables when the values of the inputs can change.  For instance, say we want to slightly improve our estimate by updating the value of the number of days in a year from 365 to 365.25, to account for leap years.  Then we can change the value assigned to `days_per_year` without changing any of the other variables and redo the calculation."
   ]
  },
  {
   "cell_type": "code",
   "execution_count": 12,
   "id": "d4d37e8a",
   "metadata": {
    "execution": {
     "iopub.execute_input": "2023-04-20T18:13:04.882832Z",
     "iopub.status.busy": "2023-04-20T18:13:04.882391Z",
     "iopub.status.idle": "2023-04-20T18:13:04.889475Z",
     "shell.execute_reply": "2023-04-20T18:13:04.888121Z"
    },
    "papermill": {
     "duration": 0.019119,
     "end_time": "2023-04-20T18:13:04.891707",
     "exception": false,
     "start_time": "2023-04-20T18:13:04.872588",
     "status": "completed"
    },
    "tags": []
   },
   "outputs": [
    {
     "name": "stdout",
     "output_type": "stream",
     "text": [
      "126230400.0\n"
     ]
    }
   ],
   "source": [
    "# Update to include leap years\n",
    "days_per_year = 365.25\n",
    "\n",
    "# Calculate number of seconds in four years\n",
    "total_secs = secs_per_min * mins_per_hour * hours_per_day * days_per_year * num_years\n",
    "print(total_secs)"
   ]
  },
  {
   "cell_type": "markdown",
   "id": "0be50cf0",
   "metadata": {
    "papermill": {
     "duration": 0.007606,
     "end_time": "2023-04-20T18:13:04.907117",
     "exception": false,
     "start_time": "2023-04-20T18:13:04.899511",
     "status": "completed"
    },
    "tags": []
   },
   "source": [
    "**Note**: You might have noticed the .0 added at the end of the number, which might look unnecessary.  This is caused by the fact that in the second calculation, we used a number with a fractional part (365.25), whereas the first calculation multipled just numbers with no fractional part.  You'll learn more about this in Lesson 3, when we cover data types."
   ]
  },
  {
   "cell_type": "markdown",
   "id": "f745760d",
   "metadata": {
    "papermill": {
     "duration": 0.007473,
     "end_time": "2023-04-20T18:13:04.922400",
     "exception": false,
     "start_time": "2023-04-20T18:13:04.914927",
     "status": "completed"
    },
    "tags": []
   },
   "source": [
    "## Debugging\n",
    "\n",
    "One common error when working with variables is to accidentally introduce typos.  For instance, if we spell `hours_per_day` as `hours_per_dy`, Python will error with message `NameError: name 'hours_per_dy' is not defined`. "
   ]
  },
  {
   "cell_type": "code",
   "execution_count": 13,
   "id": "f68f51ab",
   "metadata": {
    "execution": {
     "iopub.execute_input": "2023-04-20T18:13:04.940186Z",
     "iopub.status.busy": "2023-04-20T18:13:04.939785Z",
     "iopub.status.idle": "2023-04-20T18:13:05.005552Z",
     "shell.execute_reply": "2023-04-20T18:13:05.003969Z"
    },
    "papermill": {
     "duration": 0.078319,
     "end_time": "2023-04-20T18:13:05.008650",
     "exception": false,
     "start_time": "2023-04-20T18:13:04.930331",
     "status": "completed"
    },
    "tags": []
   },
   "outputs": [
    {
     "ename": "NameError",
     "evalue": "name 'hours_per_dy' is not defined",
     "output_type": "error",
     "traceback": [
      "\u001b[0;31m---------------------------------------------------------------------------\u001b[0m",
      "\u001b[0;31mNameError\u001b[0m                                 Traceback (most recent call last)",
      "\u001b[0;32m/tmp/ipykernel_18/142450907.py\u001b[0m in \u001b[0;36m<module>\u001b[0;34m\u001b[0m\n\u001b[0;32m----> 1\u001b[0;31m \u001b[0mprint\u001b[0m\u001b[0;34m(\u001b[0m\u001b[0mhours_per_dy\u001b[0m\u001b[0;34m)\u001b[0m\u001b[0;34m\u001b[0m\u001b[0;34m\u001b[0m\u001b[0m\n\u001b[0m",
      "\u001b[0;31mNameError\u001b[0m: name 'hours_per_dy' is not defined"
     ]
    }
   ],
   "source": [
    "print(hours_per_dy)"
   ]
  },
  {
   "cell_type": "markdown",
   "id": "f236e361",
   "metadata": {
    "papermill": {
     "duration": 0.008312,
     "end_time": "2023-04-20T18:13:05.025037",
     "exception": false,
     "start_time": "2023-04-20T18:13:05.016725",
     "status": "completed"
    },
    "tags": []
   },
   "source": [
    "When you see `NameError` like this, it's an indication that you should check how you have spelled the variable that it references as \"not defined\".  Then, to fix the error, you need only correct the spelling."
   ]
  },
  {
   "cell_type": "code",
   "execution_count": 14,
   "id": "9b6869dd",
   "metadata": {
    "execution": {
     "iopub.execute_input": "2023-04-20T18:13:05.044068Z",
     "iopub.status.busy": "2023-04-20T18:13:05.042953Z",
     "iopub.status.idle": "2023-04-20T18:13:05.049070Z",
     "shell.execute_reply": "2023-04-20T18:13:05.047726Z"
    },
    "papermill": {
     "duration": 0.018631,
     "end_time": "2023-04-20T18:13:05.051740",
     "exception": false,
     "start_time": "2023-04-20T18:13:05.033109",
     "status": "completed"
    },
    "tags": []
   },
   "outputs": [
    {
     "name": "stdout",
     "output_type": "stream",
     "text": [
      "24\n"
     ]
    }
   ],
   "source": [
    "print(hours_per_day)"
   ]
  },
  {
   "cell_type": "markdown",
   "id": "347f3b3c",
   "metadata": {
    "papermill": {
     "duration": 0.007675,
     "end_time": "2023-04-20T18:13:05.067791",
     "exception": false,
     "start_time": "2023-04-20T18:13:05.060116",
     "status": "completed"
    },
    "tags": []
   },
   "source": [
    "# What's next?\n",
    "\n",
    "Now it's your turn to **[practice manipulating variables with arithmetic](https://www.kaggle.com/kernels/fork/25258219)**."
   ]
  },
  {
   "cell_type": "markdown",
   "id": "a3294acd",
   "metadata": {
    "papermill": {
     "duration": 0.007616,
     "end_time": "2023-04-20T18:13:05.084133",
     "exception": false,
     "start_time": "2023-04-20T18:13:05.076517",
     "status": "completed"
    },
    "tags": []
   },
   "source": [
    "---\n",
    "\n",
    "\n",
    "\n",
    "\n",
    "*Have questions or comments? Visit the [course discussion forum](https://www.kaggle.com/learn/intro-to-programming/discussion) to chat with other learners.*"
   ]
  }
 ],
 "metadata": {
  "kernelspec": {
   "display_name": "Python 3",
   "language": "python",
   "name": "python3"
  },
  "language_info": {
   "codemirror_mode": {
    "name": "ipython",
    "version": 3
   },
   "file_extension": ".py",
   "mimetype": "text/x-python",
   "name": "python",
   "nbconvert_exporter": "python",
   "pygments_lexer": "ipython3",
   "version": "3.7.12"
  },
  "papermill": {
   "default_parameters": {},
   "duration": 12.667178,
   "end_time": "2023-04-20T18:13:05.815071",
   "environment_variables": {},
   "exception": null,
   "input_path": "__notebook__.ipynb",
   "output_path": "__notebook__.ipynb",
   "parameters": {},
   "start_time": "2023-04-20T18:12:53.147893",
   "version": "2.3.3"
  }
 },
 "nbformat": 4,
 "nbformat_minor": 5
}
