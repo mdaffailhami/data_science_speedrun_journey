{
 "cells": [
  {
   "cell_type": "markdown",
   "id": "b6b26311",
   "metadata": {
    "papermill": {
     "duration": 0.00966,
     "end_time": "2024-07-25T00:25:08.516718",
     "exception": false,
     "start_time": "2024-07-25T00:25:08.507058",
     "status": "completed"
    },
    "tags": []
   },
   "source": [
    "**This notebook is an exercise in the [Intro to Programming](https://www.kaggle.com/learn/intro-to-programming) course.  You can reference the tutorial at [this link](https://www.kaggle.com/alexisbcook/intro-to-lists).**\n",
    "\n",
    "---\n"
   ]
  },
  {
   "cell_type": "markdown",
   "id": "bc126184",
   "metadata": {
    "papermill": {
     "duration": 0.008022,
     "end_time": "2024-07-25T00:25:08.533178",
     "exception": false,
     "start_time": "2024-07-25T00:25:08.525156",
     "status": "completed"
    },
    "tags": []
   },
   "source": [
    "In the tutorial, you learned how to define and modify Python lists.  In this exercise, you will use your new knowledge to solve several problems.\n",
    "\n",
    "# Set up the notebook\n",
    "\n",
    "Run the next code cell without changes to set up the notebook."
   ]
  },
  {
   "cell_type": "code",
   "execution_count": 1,
   "id": "dea501cf",
   "metadata": {
    "execution": {
     "iopub.execute_input": "2024-07-25T00:25:08.553330Z",
     "iopub.status.busy": "2024-07-25T00:25:08.552866Z",
     "iopub.status.idle": "2024-07-25T00:25:09.634084Z",
     "shell.execute_reply": "2024-07-25T00:25:09.632530Z"
    },
    "papermill": {
     "duration": 1.094223,
     "end_time": "2024-07-25T00:25:09.637164",
     "exception": false,
     "start_time": "2024-07-25T00:25:08.542941",
     "status": "completed"
    },
    "tags": []
   },
   "outputs": [
    {
     "name": "stdout",
     "output_type": "stream",
     "text": [
      "Setup complete.\n"
     ]
    }
   ],
   "source": [
    "from learntools.core import binder\n",
    "binder.bind(globals())\n",
    "from learntools.intro_to_programming.ex5 import *\n",
    "print('Setup complete.')"
   ]
  },
  {
   "cell_type": "markdown",
   "id": "f8814328",
   "metadata": {
    "papermill": {
     "duration": 0.007898,
     "end_time": "2024-07-25T00:25:09.653595",
     "exception": false,
     "start_time": "2024-07-25T00:25:09.645697",
     "status": "completed"
    },
    "tags": []
   },
   "source": [
    "# Question 1\n",
    "\n",
    "You own a restaurant with five food dishes, organized in the Python list `menu` below.  One day, you decide to:\n",
    "- remove bean soup (`'bean soup'`) from the menu, and\n",
    "- add roasted beet salad (`'roasted beet salad'`) to the menu.\n",
    "\n",
    "Implement this change to the list below.  While completing this task, \n",
    "- do not change the line that creates the `menu` list.  \n",
    "- your answer should use `.remove()` and `.append()`.  "
   ]
  },
  {
   "cell_type": "code",
   "execution_count": 2,
   "id": "250e4270",
   "metadata": {
    "execution": {
     "iopub.execute_input": "2024-07-25T00:25:09.672519Z",
     "iopub.status.busy": "2024-07-25T00:25:09.671586Z",
     "iopub.status.idle": "2024-07-25T00:25:09.683802Z",
     "shell.execute_reply": "2024-07-25T00:25:09.682538Z"
    },
    "papermill": {
     "duration": 0.024538,
     "end_time": "2024-07-25T00:25:09.686404",
     "exception": false,
     "start_time": "2024-07-25T00:25:09.661866",
     "status": "completed"
    },
    "tags": []
   },
   "outputs": [
    {
     "data": {
      "application/javascript": [
       "parent.postMessage({\"jupyterEvent\": \"custom.exercise_interaction\", \"data\": {\"outcomeType\": 1, \"valueTowardsCompletion\": 0.2, \"interactionType\": 1, \"questionType\": 2, \"questionId\": \"1_FoodMenu\", \"learnToolsVersion\": \"0.3.4\", \"failureMessage\": \"\", \"exceptionClass\": \"\", \"trace\": \"\"}}, \"*\")"
      ],
      "text/plain": [
       "<IPython.core.display.Javascript object>"
      ]
     },
     "metadata": {},
     "output_type": "display_data"
    },
    {
     "data": {
      "text/markdown": [
       "<span style=\"color:#33cc33\">Correct</span>"
      ],
      "text/plain": [
       "Correct"
      ]
     },
     "metadata": {},
     "output_type": "display_data"
    }
   ],
   "source": [
    "# Do not change: Initial menu for your restaurant\n",
    "menu = ['stewed meat with onions', 'bean soup', 'risotto with trout and shrimp',\n",
    "       'fish soup with cream and onion', 'gyro']\n",
    "\n",
    "# TODO: remove 'bean soup', and add 'roasted beet salad' to the end of the menu\n",
    "menu.remove('bean soup')\n",
    "menu.append('roasted beet salad')\n",
    "\n",
    "# Do not change: Check your answer\n",
    "q1.check()"
   ]
  },
  {
   "cell_type": "code",
   "execution_count": 3,
   "id": "6d5ce6f8",
   "metadata": {
    "execution": {
     "iopub.execute_input": "2024-07-25T00:25:09.706318Z",
     "iopub.status.busy": "2024-07-25T00:25:09.705931Z",
     "iopub.status.idle": "2024-07-25T00:25:09.711024Z",
     "shell.execute_reply": "2024-07-25T00:25:09.709710Z"
    },
    "papermill": {
     "duration": 0.018436,
     "end_time": "2024-07-25T00:25:09.713638",
     "exception": false,
     "start_time": "2024-07-25T00:25:09.695202",
     "status": "completed"
    },
    "tags": []
   },
   "outputs": [],
   "source": [
    "# Uncomment to see a hint\n",
    "#q1.hint()\n",
    "\n",
    "# Uncomment to see the solution\n",
    "#q1.solution()"
   ]
  },
  {
   "cell_type": "markdown",
   "id": "52e2aa6b",
   "metadata": {
    "papermill": {
     "duration": 0.00841,
     "end_time": "2024-07-25T00:25:09.731177",
     "exception": false,
     "start_time": "2024-07-25T00:25:09.722767",
     "status": "completed"
    },
    "tags": []
   },
   "source": [
    "# Question 2\n",
    "\n",
    "The list `num_customers` contains the number of customers who came into your restaurant every day over the last month (which lasted thirty days).  Fill in values for each of the following:\n",
    "- `avg_first_seven` - average number of customers who visited in the first seven days\n",
    "- `avg_last_seven` - average number of customers who visited in the last seven days\n",
    "- `max_month` - number of customers on the day that got the most customers in the last month\n",
    "- `min_month` - number of customers on the day that got the least customers in the last month\n",
    "\n",
    "Answer this question by writing code.  For instance, if you have to find the minimum value in a list, use `min()` instead of scanning for the smallest value and directly filling in a number."
   ]
  },
  {
   "cell_type": "code",
   "execution_count": 4,
   "id": "703f3865",
   "metadata": {
    "execution": {
     "iopub.execute_input": "2024-07-25T00:25:09.750459Z",
     "iopub.status.busy": "2024-07-25T00:25:09.750072Z",
     "iopub.status.idle": "2024-07-25T00:25:09.763224Z",
     "shell.execute_reply": "2024-07-25T00:25:09.762020Z"
    },
    "papermill": {
     "duration": 0.025962,
     "end_time": "2024-07-25T00:25:09.765916",
     "exception": false,
     "start_time": "2024-07-25T00:25:09.739954",
     "status": "completed"
    },
    "tags": []
   },
   "outputs": [
    {
     "data": {
      "application/javascript": [
       "parent.postMessage({\"jupyterEvent\": \"custom.exercise_interaction\", \"data\": {\"outcomeType\": 1, \"valueTowardsCompletion\": 0.2, \"interactionType\": 1, \"questionType\": 1, \"questionId\": \"2_NumCustomers\", \"learnToolsVersion\": \"0.3.4\", \"failureMessage\": \"\", \"exceptionClass\": \"\", \"trace\": \"\"}}, \"*\")"
      ],
      "text/plain": [
       "<IPython.core.display.Javascript object>"
      ]
     },
     "metadata": {},
     "output_type": "display_data"
    },
    {
     "data": {
      "text/markdown": [
       "<span style=\"color:#33cc33\">Correct</span>"
      ],
      "text/plain": [
       "Correct"
      ]
     },
     "metadata": {},
     "output_type": "display_data"
    }
   ],
   "source": [
    "# Do not change: Number of customers each day for the last month\n",
    "num_customers = [137, 147, 135, 128, 170, 174, 165, 146, 126, 159,\n",
    "                 141, 148, 132, 147, 168, 153, 170, 161, 148, 152,\n",
    "                 141, 151, 131, 149, 164, 163, 143, 143, 166, 171]\n",
    "\n",
    "# TODO: Fill in values for the variables below\n",
    "avg_first_seven = sum(num_customers[:7]) / 7\n",
    "avg_last_seven = sum(num_customers[-7:]) / 7\n",
    "max_month = max(num_customers)\n",
    "min_month = min(num_customers)\n",
    "\n",
    "# Do not change: Check your answer\n",
    "q2.check()"
   ]
  },
  {
   "cell_type": "code",
   "execution_count": 5,
   "id": "04e86325",
   "metadata": {
    "execution": {
     "iopub.execute_input": "2024-07-25T00:25:09.785858Z",
     "iopub.status.busy": "2024-07-25T00:25:09.785430Z",
     "iopub.status.idle": "2024-07-25T00:25:09.790484Z",
     "shell.execute_reply": "2024-07-25T00:25:09.789273Z"
    },
    "papermill": {
     "duration": 0.018473,
     "end_time": "2024-07-25T00:25:09.793399",
     "exception": false,
     "start_time": "2024-07-25T00:25:09.774926",
     "status": "completed"
    },
    "tags": []
   },
   "outputs": [],
   "source": [
    "# Uncomment to see a hint\n",
    "#q2.hint()\n",
    "\n",
    "# Uncomment to see the solution\n",
    "#q2.solution()"
   ]
  },
  {
   "cell_type": "markdown",
   "id": "c1c1fbb7",
   "metadata": {
    "papermill": {
     "duration": 0.009255,
     "end_time": "2024-07-25T00:25:09.812864",
     "exception": false,
     "start_time": "2024-07-25T00:25:09.803609",
     "status": "completed"
    },
    "tags": []
   },
   "source": [
    "# Question 3\n",
    "\n",
    "In the tutorial, we gave an example of a Python string with information that was better as a list."
   ]
  },
  {
   "cell_type": "code",
   "execution_count": 6,
   "id": "fdda9969",
   "metadata": {
    "execution": {
     "iopub.execute_input": "2024-07-25T00:25:09.834156Z",
     "iopub.status.busy": "2024-07-25T00:25:09.833535Z",
     "iopub.status.idle": "2024-07-25T00:25:09.839871Z",
     "shell.execute_reply": "2024-07-25T00:25:09.838578Z"
    },
    "papermill": {
     "duration": 0.020379,
     "end_time": "2024-07-25T00:25:09.842598",
     "exception": false,
     "start_time": "2024-07-25T00:25:09.822219",
     "status": "completed"
    },
    "tags": []
   },
   "outputs": [],
   "source": [
    "flowers = \"pink primrose,hard-leaved pocket orchid,canterbury bells,sweet pea,english marigold,tiger lily,moon orchid,bird of paradise,monkshood,globe thistle\""
   ]
  },
  {
   "cell_type": "markdown",
   "id": "e716b49e",
   "metadata": {
    "papermill": {
     "duration": 0.009473,
     "end_time": "2024-07-25T00:25:09.861550",
     "exception": false,
     "start_time": "2024-07-25T00:25:09.852077",
     "status": "completed"
    },
    "tags": []
   },
   "source": [
    "You can actually use Python to quickly turn this string into a list with `.split()`.  In the parentheses, we need to provide the character should be used to mark the end of one list item and the beginning of another, and enclose it in quotation marks.  In this case, that character is a comma."
   ]
  },
  {
   "cell_type": "code",
   "execution_count": 7,
   "id": "3cd2a448",
   "metadata": {
    "execution": {
     "iopub.execute_input": "2024-07-25T00:25:09.883410Z",
     "iopub.status.busy": "2024-07-25T00:25:09.882977Z",
     "iopub.status.idle": "2024-07-25T00:25:09.889778Z",
     "shell.execute_reply": "2024-07-25T00:25:09.888427Z"
    },
    "papermill": {
     "duration": 0.020096,
     "end_time": "2024-07-25T00:25:09.892306",
     "exception": false,
     "start_time": "2024-07-25T00:25:09.872210",
     "status": "completed"
    },
    "tags": []
   },
   "outputs": [
    {
     "name": "stdout",
     "output_type": "stream",
     "text": [
      "['pink primrose', 'hard-leaved pocket orchid', 'canterbury bells', 'sweet pea', 'english marigold', 'tiger lily', 'moon orchid', 'bird of paradise', 'monkshood', 'globe thistle']\n"
     ]
    }
   ],
   "source": [
    " print(flowers.split(\",\"))"
   ]
  },
  {
   "cell_type": "markdown",
   "id": "4bf6ac9c",
   "metadata": {
    "papermill": {
     "duration": 0.008984,
     "end_time": "2024-07-25T00:25:09.911076",
     "exception": false,
     "start_time": "2024-07-25T00:25:09.902092",
     "status": "completed"
    },
    "tags": []
   },
   "source": [
    "Now it is your turn to try this out!  Create two Python lists:\n",
    "- `letters` should be a Python list where each entry is an uppercase letter of the English alphabet.  For instance, the first two entries should be `\"A\"` and `\"B\"`, and the final two entries should be `\"Y\"` and `\"Z\"`.  Use the string `alphabet` to create this list.\n",
    "- `address` should be a Python list where each row in `address` is a different item in the list.  Currently, each row in `address` is separated by a comma. "
   ]
  },
  {
   "cell_type": "code",
   "execution_count": 8,
   "id": "80a04ca0",
   "metadata": {
    "execution": {
     "iopub.execute_input": "2024-07-25T00:25:09.931705Z",
     "iopub.status.busy": "2024-07-25T00:25:09.931284Z",
     "iopub.status.idle": "2024-07-25T00:25:09.942705Z",
     "shell.execute_reply": "2024-07-25T00:25:09.941423Z"
    },
    "papermill": {
     "duration": 0.024906,
     "end_time": "2024-07-25T00:25:09.945416",
     "exception": false,
     "start_time": "2024-07-25T00:25:09.920510",
     "status": "completed"
    },
    "tags": []
   },
   "outputs": [
    {
     "data": {
      "application/javascript": [
       "parent.postMessage({\"jupyterEvent\": \"custom.exercise_interaction\", \"data\": {\"outcomeType\": 1, \"valueTowardsCompletion\": 0.2, \"interactionType\": 1, \"questionType\": 1, \"questionId\": \"3_SplitString\", \"learnToolsVersion\": \"0.3.4\", \"failureMessage\": \"\", \"exceptionClass\": \"\", \"trace\": \"\"}}, \"*\")"
      ],
      "text/plain": [
       "<IPython.core.display.Javascript object>"
      ]
     },
     "metadata": {},
     "output_type": "display_data"
    },
    {
     "data": {
      "text/markdown": [
       "<span style=\"color:#33cc33\">Correct</span>"
      ],
      "text/plain": [
       "Correct"
      ]
     },
     "metadata": {},
     "output_type": "display_data"
    }
   ],
   "source": [
    "# DO not change: Define two Python strings\n",
    "alphabet = \"A.B.C.D.E.F.G.H.I.J.K.L.M.N.O.P.Q.R.S.T.U.V.W.X.Y.Z\"\n",
    "address = \"Mr. H. Potter,The cupboard under the Stairs,4 Privet Drive,Little Whinging,Surrey\"\n",
    "\n",
    "# TODO: Convert strings into Python lists\n",
    "letters = alphabet.split('.')\n",
    "formatted_address = address.split(',')\n",
    "\n",
    "# Do not change: Check your answer\n",
    "q3.check()"
   ]
  },
  {
   "cell_type": "code",
   "execution_count": 9,
   "id": "6c0a9a81",
   "metadata": {
    "execution": {
     "iopub.execute_input": "2024-07-25T00:25:09.967308Z",
     "iopub.status.busy": "2024-07-25T00:25:09.966882Z",
     "iopub.status.idle": "2024-07-25T00:25:09.972268Z",
     "shell.execute_reply": "2024-07-25T00:25:09.970917Z"
    },
    "papermill": {
     "duration": 0.019603,
     "end_time": "2024-07-25T00:25:09.974822",
     "exception": false,
     "start_time": "2024-07-25T00:25:09.955219",
     "status": "completed"
    },
    "tags": []
   },
   "outputs": [],
   "source": [
    "# Uncomment to see a hint\n",
    "#q3.hint()\n",
    "\n",
    "# Uncomment to see the solution\n",
    "#q3.solution()"
   ]
  },
  {
   "cell_type": "markdown",
   "id": "6b29fa7a",
   "metadata": {
    "papermill": {
     "duration": 0.009571,
     "end_time": "2024-07-25T00:25:09.994255",
     "exception": false,
     "start_time": "2024-07-25T00:25:09.984684",
     "status": "completed"
    },
    "tags": []
   },
   "source": [
    "# Question 4\n",
    "\n",
    "In the Python course, you'll learn all about **list comprehensions**, which allow you to create a list based on the values in another list.  In this question, you'll get a brief preview of how they work.\n",
    "\n",
    "Say we're working with the list below."
   ]
  },
  {
   "cell_type": "code",
   "execution_count": 10,
   "id": "fd951c82",
   "metadata": {
    "execution": {
     "iopub.execute_input": "2024-07-25T00:25:10.016224Z",
     "iopub.status.busy": "2024-07-25T00:25:10.015773Z",
     "iopub.status.idle": "2024-07-25T00:25:10.021554Z",
     "shell.execute_reply": "2024-07-25T00:25:10.020396Z"
    },
    "papermill": {
     "duration": 0.020295,
     "end_time": "2024-07-25T00:25:10.024325",
     "exception": false,
     "start_time": "2024-07-25T00:25:10.004030",
     "status": "completed"
    },
    "tags": []
   },
   "outputs": [],
   "source": [
    "test_ratings = [1, 2, 3, 4, 5]"
   ]
  },
  {
   "cell_type": "markdown",
   "id": "133100cf",
   "metadata": {
    "papermill": {
     "duration": 0.00958,
     "end_time": "2024-07-25T00:25:10.043960",
     "exception": false,
     "start_time": "2024-07-25T00:25:10.034380",
     "status": "completed"
    },
    "tags": []
   },
   "source": [
    "Then we can use this list (`test_ratings`) to create a new list (`test_liked`) where each item has been turned into a boolean, depending on whether or not the item is greater than or equal to four."
   ]
  },
  {
   "cell_type": "code",
   "execution_count": 11,
   "id": "f22e5149",
   "metadata": {
    "execution": {
     "iopub.execute_input": "2024-07-25T00:25:10.065449Z",
     "iopub.status.busy": "2024-07-25T00:25:10.065022Z",
     "iopub.status.idle": "2024-07-25T00:25:10.072045Z",
     "shell.execute_reply": "2024-07-25T00:25:10.070441Z"
    },
    "papermill": {
     "duration": 0.021356,
     "end_time": "2024-07-25T00:25:10.075084",
     "exception": false,
     "start_time": "2024-07-25T00:25:10.053728",
     "status": "completed"
    },
    "tags": []
   },
   "outputs": [
    {
     "name": "stdout",
     "output_type": "stream",
     "text": [
      "[False, False, False, True, True]\n"
     ]
    }
   ],
   "source": [
    "test_liked = [i>=4 for i in test_ratings]\n",
    "print(test_liked)"
   ]
  },
  {
   "cell_type": "markdown",
   "id": "4648f86d",
   "metadata": {
    "papermill": {
     "duration": 0.009757,
     "end_time": "2024-07-25T00:25:10.095614",
     "exception": false,
     "start_time": "2024-07-25T00:25:10.085857",
     "status": "completed"
    },
    "tags": []
   },
   "source": [
    "In this question, you'll use this list comprehension to define a function `percentage_liked()` that takes one argument as input:\n",
    "- `ratings`: list of ratings that people gave to a movie, where each rating is a number between 1-5, inclusive\n",
    "\n",
    "We say someone liked the movie, if they gave a rating of either 4 or 5.  Your function should return the percentage of people who liked the movie.\n",
    "\n",
    "For instance, if we supply a value of `[1, 2, 3, 4, 5, 4, 5, 1]`, then 50% (4/8) of the people liked the movie, and the function should return `0.5`.\n",
    "\n",
    "Part of the function has already been completed for you.  You need only use `list_liked` to calculate `percentage_liked`."
   ]
  },
  {
   "cell_type": "code",
   "execution_count": 12,
   "id": "15989c55",
   "metadata": {
    "execution": {
     "iopub.execute_input": "2024-07-25T00:25:10.117589Z",
     "iopub.status.busy": "2024-07-25T00:25:10.117160Z",
     "iopub.status.idle": "2024-07-25T00:25:10.131019Z",
     "shell.execute_reply": "2024-07-25T00:25:10.128988Z"
    },
    "papermill": {
     "duration": 0.029081,
     "end_time": "2024-07-25T00:25:10.134497",
     "exception": false,
     "start_time": "2024-07-25T00:25:10.105416",
     "status": "completed"
    },
    "tags": []
   },
   "outputs": [
    {
     "data": {
      "application/javascript": [
       "parent.postMessage({\"jupyterEvent\": \"custom.exercise_interaction\", \"data\": {\"outcomeType\": 1, \"valueTowardsCompletion\": 0.2, \"interactionType\": 1, \"questionType\": 2, \"questionId\": \"4_PercentageLiked\", \"learnToolsVersion\": \"0.3.4\", \"failureMessage\": \"\", \"exceptionClass\": \"\", \"trace\": \"\"}}, \"*\")"
      ],
      "text/plain": [
       "<IPython.core.display.Javascript object>"
      ]
     },
     "metadata": {},
     "output_type": "display_data"
    },
    {
     "data": {
      "text/markdown": [
       "<span style=\"color:#33cc33\">Correct</span>"
      ],
      "text/plain": [
       "Correct"
      ]
     },
     "metadata": {},
     "output_type": "display_data"
    }
   ],
   "source": [
    "\n",
    "def percentage_liked(ratings):\n",
    "    list_liked = [i>=4 for i in ratings]\n",
    "    # TODO: Complete the function\n",
    "    total_like = 0\n",
    "    for liked in list_liked:\n",
    "        if liked:\n",
    "            total_like +=1\n",
    "    \n",
    "    percentage_liked = total_like / len(ratings)\n",
    "    return percentage_liked\n",
    "\n",
    "# Do not change: should return 0.5\n",
    "percentage_liked([1, 2, 3, 4, 5, 4, 5, 1])\n",
    "\n",
    "# Do not change: Check your answer\n",
    "q4.check()"
   ]
  },
  {
   "cell_type": "code",
   "execution_count": 13,
   "id": "92860ff2",
   "metadata": {
    "execution": {
     "iopub.execute_input": "2024-07-25T00:25:10.158912Z",
     "iopub.status.busy": "2024-07-25T00:25:10.158458Z",
     "iopub.status.idle": "2024-07-25T00:25:10.164025Z",
     "shell.execute_reply": "2024-07-25T00:25:10.162784Z"
    },
    "papermill": {
     "duration": 0.020842,
     "end_time": "2024-07-25T00:25:10.166841",
     "exception": false,
     "start_time": "2024-07-25T00:25:10.145999",
     "status": "completed"
    },
    "tags": []
   },
   "outputs": [],
   "source": [
    "# Uncomment to see a hint\n",
    "#q4.hint()\n",
    "\n",
    "# Uncomment to see the solution\n",
    "#q4.solution()"
   ]
  },
  {
   "cell_type": "markdown",
   "id": "97541a47",
   "metadata": {
    "papermill": {
     "duration": 0.009978,
     "end_time": "2024-07-25T00:25:10.187357",
     "exception": false,
     "start_time": "2024-07-25T00:25:10.177379",
     "status": "completed"
    },
    "tags": []
   },
   "source": [
    "# 🌶️ Question 5\n",
    " \n",
    "Say you're doing analytics for a website.  You need to write a function that returns the percentage growth in the total number of users relative to a specified number of years ago.\n",
    "\n",
    "Your function `percentage_growth()` should take two arguments as input:\n",
    "- `num_users` = Python list with the total number of users each year.  So `num_users[0]` is the total number of users in the first year, `num_users[1]` is the total number of users in the second year, and so on.  The final entry in the list gives the total number of users in the most recently completed year.\n",
    "- `yrs_ago` = number of years to go back in time when calculating the growth percentage\n",
    "\n",
    "For instance, say `num_users = [920344, 1043553, 1204334, 1458996, 1503323, 1593432, 1623463, 1843064, 1930992, 2001078]`.\n",
    "- if `yrs_ago = 1`, we want the function to return a value of about `0.036`. This corresponds to a percentage growth of approximately 3.6%, calculated as (2001078 - 1930992)/1930992.\n",
    "- if `years_ago = 7`, we would want to return approximately `0.66`.  This corresponds to a percentage growth of approximately 66%, calculated as (2001078 - 1204334)/1204334.\n",
    "\n",
    "Your coworker sent you a draft of a function, but it doesn't seem to be doing the correct calculation.  Can you figure out what has gone wrong and make the needed changes?"
   ]
  },
  {
   "cell_type": "code",
   "execution_count": 14,
   "id": "da65aa34",
   "metadata": {
    "execution": {
     "iopub.execute_input": "2024-07-25T00:25:10.209634Z",
     "iopub.status.busy": "2024-07-25T00:25:10.209219Z",
     "iopub.status.idle": "2024-07-25T00:25:10.222385Z",
     "shell.execute_reply": "2024-07-25T00:25:10.221178Z"
    },
    "papermill": {
     "duration": 0.028076,
     "end_time": "2024-07-25T00:25:10.225625",
     "exception": false,
     "start_time": "2024-07-25T00:25:10.197549",
     "status": "completed"
    },
    "tags": []
   },
   "outputs": [
    {
     "name": "stdout",
     "output_type": "stream",
     "text": [
      "0.03629533421163837\n",
      "0.6615639847417742\n"
     ]
    },
    {
     "data": {
      "application/javascript": [
       "parent.postMessage({\"jupyterEvent\": \"custom.exercise_interaction\", \"data\": {\"outcomeType\": 1, \"valueTowardsCompletion\": 0.2, \"interactionType\": 1, \"questionType\": 2, \"questionId\": \"5_WebsiteAnalytics\", \"learnToolsVersion\": \"0.3.4\", \"failureMessage\": \"\", \"exceptionClass\": \"\", \"trace\": \"\"}}, \"*\")"
      ],
      "text/plain": [
       "<IPython.core.display.Javascript object>"
      ]
     },
     "metadata": {},
     "output_type": "display_data"
    },
    {
     "data": {
      "text/markdown": [
       "<span style=\"color:#33cc33\">Correct</span>"
      ],
      "text/plain": [
       "Correct"
      ]
     },
     "metadata": {},
     "output_type": "display_data"
    }
   ],
   "source": [
    "# TODO: Edit the function\n",
    "def percentage_growth(num_users, yrs_ago):\n",
    "    target = num_users[yrs_ago * -1 - 1]\n",
    "    growth = (num_users[-1] - target) / target\n",
    "    return growth\n",
    "\n",
    "# Do not change: Variable for calculating some test examples\n",
    "num_users_test = [920344, 1043553, 1204334, 1458996, 1503323, 1593432, 1623463, 1843064, 1930992, 2001078]\n",
    "\n",
    "# Do not change: Should return .036\n",
    "print(percentage_growth(num_users_test, 1))\n",
    "\n",
    "# Do not change: Should return 0.66\n",
    "print(percentage_growth(num_users_test, 7))\n",
    "\n",
    "# Do not change: Check your answer\n",
    "q5.check()"
   ]
  },
  {
   "cell_type": "code",
   "execution_count": 15,
   "id": "be159858",
   "metadata": {
    "execution": {
     "iopub.execute_input": "2024-07-25T00:25:10.248588Z",
     "iopub.status.busy": "2024-07-25T00:25:10.248197Z",
     "iopub.status.idle": "2024-07-25T00:25:10.252839Z",
     "shell.execute_reply": "2024-07-25T00:25:10.251727Z"
    },
    "papermill": {
     "duration": 0.019083,
     "end_time": "2024-07-25T00:25:10.255214",
     "exception": false,
     "start_time": "2024-07-25T00:25:10.236131",
     "status": "completed"
    },
    "tags": []
   },
   "outputs": [],
   "source": [
    "# Uncomment to see a hint\n",
    "#q5.hint()\n",
    "\n",
    "# Uncomment to see the solution\n",
    "#q5.solution()"
   ]
  },
  {
   "cell_type": "markdown",
   "id": "d4723835",
   "metadata": {
    "papermill": {
     "duration": 0.010836,
     "end_time": "2024-07-25T00:25:10.277084",
     "exception": false,
     "start_time": "2024-07-25T00:25:10.266248",
     "status": "completed"
    },
    "tags": []
   },
   "source": [
    "# Congratulations!\n",
    "\n",
    "Congratulations for finishing the Intro to Programming course!  You should be proud of your very first steps with learning programming.  As next steps, we recommend taking:\n",
    "- the **[Python course](http://www.kaggle.com/learn/python)**, and \n",
    "- the **[Intro to Machine Learning course](https://www.kaggle.com/learn/intro-to-machine-learning)**."
   ]
  },
  {
   "cell_type": "markdown",
   "id": "6bd7b599",
   "metadata": {
    "papermill": {
     "duration": 0.010861,
     "end_time": "2024-07-25T00:25:10.299165",
     "exception": false,
     "start_time": "2024-07-25T00:25:10.288304",
     "status": "completed"
    },
    "tags": []
   },
   "source": [
    "---\n",
    "\n",
    "\n",
    "\n",
    "\n",
    "*Have questions or comments? Visit the [course discussion forum](https://www.kaggle.com/learn/intro-to-programming/discussion) to chat with other learners.*"
   ]
  }
 ],
 "metadata": {
  "kaggle": {
   "accelerator": "none",
   "dataSources": [],
   "isGpuEnabled": false,
   "isInternetEnabled": false,
   "language": "python",
   "sourceType": "notebook"
  },
  "kernelspec": {
   "display_name": "Python 3",
   "language": "python",
   "name": "python3"
  },
  "language_info": {
   "codemirror_mode": {
    "name": "ipython",
    "version": 3
   },
   "file_extension": ".py",
   "mimetype": "text/x-python",
   "name": "python",
   "nbconvert_exporter": "python",
   "pygments_lexer": "ipython3",
   "version": "3.10.13"
  },
  "papermill": {
   "default_parameters": {},
   "duration": 5.947033,
   "end_time": "2024-07-25T00:25:10.832979",
   "environment_variables": {},
   "exception": null,
   "input_path": "__notebook__.ipynb",
   "output_path": "__notebook__.ipynb",
   "parameters": {},
   "start_time": "2024-07-25T00:25:04.885946",
   "version": "2.5.0"
  }
 },
 "nbformat": 4,
 "nbformat_minor": 5
}
