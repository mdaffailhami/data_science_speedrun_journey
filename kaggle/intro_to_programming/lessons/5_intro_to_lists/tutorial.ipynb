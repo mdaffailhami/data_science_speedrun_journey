{
 "cells": [
  {
   "cell_type": "markdown",
   "id": "29fb3c9e",
   "metadata": {
    "papermill": {
     "duration": 0.007105,
     "end_time": "2023-04-20T18:12:54.275332",
     "exception": false,
     "start_time": "2023-04-20T18:12:54.268227",
     "status": "completed"
    },
    "tags": []
   },
   "source": [
    "# Introduction\n",
    "\n",
    "When doing data science, you need a way to organize your data so you can work with it efficiently.  Python has many data structures available for holding your data, such as lists, sets, dictionaries, and tuples.  In this tutorial, you will learn how to work with Python lists.\n",
    "\n",
    "# Motivation\n",
    "\n",
    "In the [Petal to the Metal competition](https://www.kaggle.com/c/tpu-getting-started), your goal is to classify the species of a flower based only on its image.  (This is a common task in computer vision, and it is called image classification.)  Towards this goal, say you organize the names of the flower species in the data.  \n",
    "\n",
    "One way to do this is by organizing the names in a Python string."
   ]
  },
  {
   "cell_type": "code",
   "execution_count": 1,
   "id": "8ec10f3a",
   "metadata": {
    "execution": {
     "iopub.execute_input": "2023-04-20T18:12:54.288572Z",
     "iopub.status.busy": "2023-04-20T18:12:54.288161Z",
     "iopub.status.idle": "2023-04-20T18:12:54.299730Z",
     "shell.execute_reply": "2023-04-20T18:12:54.298384Z"
    },
    "papermill": {
     "duration": 0.021166,
     "end_time": "2023-04-20T18:12:54.302265",
     "exception": false,
     "start_time": "2023-04-20T18:12:54.281099",
     "status": "completed"
    },
    "tags": []
   },
   "outputs": [
    {
     "name": "stdout",
     "output_type": "stream",
     "text": [
      "<class 'str'>\n",
      "pink primrose,hard-leaved pocket orchid,canterbury bells,sweet pea,english marigold,tiger lily,moon orchid,bird of paradise,monkshood,globe thistle\n"
     ]
    }
   ],
   "source": [
    "flowers = \"pink primrose,hard-leaved pocket orchid,canterbury bells,sweet pea,english marigold,tiger lily,moon orchid,bird of paradise,monkshood,globe thistle\"\n",
    "\n",
    "print(type(flowers))\n",
    "print(flowers)"
   ]
  },
  {
   "cell_type": "markdown",
   "id": "7482447e",
   "metadata": {
    "papermill": {
     "duration": 0.00552,
     "end_time": "2023-04-20T18:12:54.313630",
     "exception": false,
     "start_time": "2023-04-20T18:12:54.308110",
     "status": "completed"
    },
    "tags": []
   },
   "source": [
    "Even better is to represent the same data in a Python list.  To create a list, you need to use square brackets (`[`, `]`) and separate each item with a comma.  Every item in the list is a Python string, so each is enclosed in quotation marks."
   ]
  },
  {
   "cell_type": "code",
   "execution_count": 2,
   "id": "2025fb78",
   "metadata": {
    "execution": {
     "iopub.execute_input": "2023-04-20T18:12:54.326932Z",
     "iopub.status.busy": "2023-04-20T18:12:54.326528Z",
     "iopub.status.idle": "2023-04-20T18:12:54.333487Z",
     "shell.execute_reply": "2023-04-20T18:12:54.332260Z"
    },
    "papermill": {
     "duration": 0.016732,
     "end_time": "2023-04-20T18:12:54.336143",
     "exception": false,
     "start_time": "2023-04-20T18:12:54.319411",
     "status": "completed"
    },
    "tags": []
   },
   "outputs": [
    {
     "name": "stdout",
     "output_type": "stream",
     "text": [
      "<class 'list'>\n",
      "['pink primrose', 'hard-leaved pocket orchid', 'canterbury bells', 'sweet pea', 'english marigold', 'tiger lily', 'moon orchid', 'bird of paradise', 'monkshood', 'globe thistle']\n"
     ]
    }
   ],
   "source": [
    "flowers_list = [\"pink primrose\", \"hard-leaved pocket orchid\", \"canterbury bells\", \"sweet pea\", \"english marigold\", \"tiger lily\", \"moon orchid\", \"bird of paradise\", \"monkshood\", \"globe thistle\"]\n",
    "\n",
    "print(type(flowers_list))\n",
    "print(flowers_list)"
   ]
  },
  {
   "cell_type": "markdown",
   "id": "05b6cd56",
   "metadata": {
    "papermill": {
     "duration": 0.005428,
     "end_time": "2023-04-20T18:12:54.347639",
     "exception": false,
     "start_time": "2023-04-20T18:12:54.342211",
     "status": "completed"
    },
    "tags": []
   },
   "source": [
    "At first glance, it doesn't look too different, whether you represent the information in a Python string or list.  But as you will see, there are a lot of tasks that you can more easily do with a list.  For instance, a list will make it easier to:\n",
    "- get an item at a specified position (first, second, third, etc), \n",
    "- check the number of items, and\n",
    "- add and remove items.\n",
    "\n",
    "# Lists\n",
    "\n",
    "## Length\n",
    "\n",
    "We can count the number of entries in any list with `len()`, which is short for \"length\".  You need only supply the name of the list in the parentheses."
   ]
  },
  {
   "cell_type": "code",
   "execution_count": 3,
   "id": "dcb58212",
   "metadata": {
    "execution": {
     "iopub.execute_input": "2023-04-20T18:12:54.360921Z",
     "iopub.status.busy": "2023-04-20T18:12:54.360522Z",
     "iopub.status.idle": "2023-04-20T18:12:54.366564Z",
     "shell.execute_reply": "2023-04-20T18:12:54.365262Z"
    },
    "papermill": {
     "duration": 0.01592,
     "end_time": "2023-04-20T18:12:54.369324",
     "exception": false,
     "start_time": "2023-04-20T18:12:54.353404",
     "status": "completed"
    },
    "tags": []
   },
   "outputs": [
    {
     "name": "stdout",
     "output_type": "stream",
     "text": [
      "10\n"
     ]
    }
   ],
   "source": [
    "# The list has ten entries\n",
    "print(len(flowers_list))"
   ]
  },
  {
   "cell_type": "markdown",
   "id": "3a1fb4c9",
   "metadata": {
    "papermill": {
     "duration": 0.007157,
     "end_time": "2023-04-20T18:12:54.384763",
     "exception": false,
     "start_time": "2023-04-20T18:12:54.377606",
     "status": "completed"
    },
    "tags": []
   },
   "source": [
    "## Indexing\n",
    "\n",
    "We can refer to any item in the list according to its position in the list (first, second, third, etc).  This is called **indexing**.\n",
    "\n",
    "Note that Python uses zero-based indexing, which means that:\n",
    "- to pull the first entry in the list, you use 0,\n",
    "- to pull the second entry in the list, you use 1, and\n",
    "- to pull the final entry in the list, you use one less than the length of the list."
   ]
  },
  {
   "cell_type": "code",
   "execution_count": 4,
   "id": "b188bcab",
   "metadata": {
    "execution": {
     "iopub.execute_input": "2023-04-20T18:12:54.399888Z",
     "iopub.status.busy": "2023-04-20T18:12:54.399194Z",
     "iopub.status.idle": "2023-04-20T18:12:54.406058Z",
     "shell.execute_reply": "2023-04-20T18:12:54.404784Z"
    },
    "papermill": {
     "duration": 0.017056,
     "end_time": "2023-04-20T18:12:54.408832",
     "exception": false,
     "start_time": "2023-04-20T18:12:54.391776",
     "status": "completed"
    },
    "tags": []
   },
   "outputs": [
    {
     "name": "stdout",
     "output_type": "stream",
     "text": [
      "First entry: pink primrose\n",
      "Second entry: hard-leaved pocket orchid\n",
      "Last entry: globe thistle\n"
     ]
    }
   ],
   "source": [
    "print(\"First entry:\", flowers_list[0])\n",
    "print(\"Second entry:\", flowers_list[1])\n",
    "\n",
    "# The list has length ten, so we refer to final entry with 9\n",
    "print(\"Last entry:\", flowers_list[9])"
   ]
  },
  {
   "cell_type": "markdown",
   "id": "2368a80a",
   "metadata": {
    "papermill": {
     "duration": 0.005637,
     "end_time": "2023-04-20T18:12:54.421264",
     "exception": false,
     "start_time": "2023-04-20T18:12:54.415627",
     "status": "completed"
    },
    "tags": []
   },
   "source": [
    "**Side Note**: You may have noticed that in the code cell above, we use a single `print()` to print multiple items (both a Python string (like `\"First entry:\"`) and a value from the list (like `flowers_list[0]`).  To print multiple things in Python with a single command, we need only separate them with a comma.\n",
    "\n",
    "## Slicing\n",
    "\n",
    "You can also pull a segment of a list (for instance, the first three entries or the last two entries).  This is called **slicing**.  For instance:\n",
    "- to pull the first `x` entries, you use `[:x]`, and\n",
    "- to pull the last `y` entries, you use `[-y:]`."
   ]
  },
  {
   "cell_type": "code",
   "execution_count": 5,
   "id": "2c00b3c2",
   "metadata": {
    "execution": {
     "iopub.execute_input": "2023-04-20T18:12:54.435172Z",
     "iopub.status.busy": "2023-04-20T18:12:54.434773Z",
     "iopub.status.idle": "2023-04-20T18:12:54.441052Z",
     "shell.execute_reply": "2023-04-20T18:12:54.439756Z"
    },
    "papermill": {
     "duration": 0.016675,
     "end_time": "2023-04-20T18:12:54.443727",
     "exception": false,
     "start_time": "2023-04-20T18:12:54.427052",
     "status": "completed"
    },
    "tags": []
   },
   "outputs": [
    {
     "name": "stdout",
     "output_type": "stream",
     "text": [
      "First three entries: ['pink primrose', 'hard-leaved pocket orchid', 'canterbury bells']\n",
      "Final two entries: ['monkshood', 'globe thistle']\n"
     ]
    }
   ],
   "source": [
    "print(\"First three entries:\", flowers_list[:3])\n",
    "print(\"Final two entries:\", flowers_list[-2:])"
   ]
  },
  {
   "cell_type": "markdown",
   "id": "877b2ef0",
   "metadata": {
    "papermill": {
     "duration": 0.007405,
     "end_time": "2023-04-20T18:12:54.457509",
     "exception": false,
     "start_time": "2023-04-20T18:12:54.450104",
     "status": "completed"
    },
    "tags": []
   },
   "source": [
    "As you can see above, when we slice a list, it returns a new, shortened list.\n",
    "\n",
    "\n",
    "## Removing items\n",
    "\n",
    "Remove an item from a list with `.remove()`, and put the item you would like to remove in parentheses."
   ]
  },
  {
   "cell_type": "code",
   "execution_count": 6,
   "id": "0528f33a",
   "metadata": {
    "execution": {
     "iopub.execute_input": "2023-04-20T18:12:54.472243Z",
     "iopub.status.busy": "2023-04-20T18:12:54.471853Z",
     "iopub.status.idle": "2023-04-20T18:12:54.476837Z",
     "shell.execute_reply": "2023-04-20T18:12:54.475784Z"
    },
    "papermill": {
     "duration": 0.01637,
     "end_time": "2023-04-20T18:12:54.479768",
     "exception": false,
     "start_time": "2023-04-20T18:12:54.463398",
     "status": "completed"
    },
    "tags": []
   },
   "outputs": [
    {
     "name": "stdout",
     "output_type": "stream",
     "text": [
      "['pink primrose', 'hard-leaved pocket orchid', 'canterbury bells', 'sweet pea', 'english marigold', 'tiger lily', 'moon orchid', 'bird of paradise', 'monkshood']\n"
     ]
    }
   ],
   "source": [
    "flowers_list.remove(\"globe thistle\")\n",
    "print(flowers_list)"
   ]
  },
  {
   "cell_type": "markdown",
   "id": "2e358cfc",
   "metadata": {
    "papermill": {
     "duration": 0.005749,
     "end_time": "2023-04-20T18:12:54.491594",
     "exception": false,
     "start_time": "2023-04-20T18:12:54.485845",
     "status": "completed"
    },
    "tags": []
   },
   "source": [
    "## Adding items\n",
    "\n",
    "Add an item to a list with `.append()`, and put the item you would like to add in parentheses."
   ]
  },
  {
   "cell_type": "code",
   "execution_count": 7,
   "id": "6ec9f8f2",
   "metadata": {
    "execution": {
     "iopub.execute_input": "2023-04-20T18:12:54.507644Z",
     "iopub.status.busy": "2023-04-20T18:12:54.505801Z",
     "iopub.status.idle": "2023-04-20T18:12:54.513022Z",
     "shell.execute_reply": "2023-04-20T18:12:54.511780Z"
    },
    "papermill": {
     "duration": 0.017916,
     "end_time": "2023-04-20T18:12:54.515443",
     "exception": false,
     "start_time": "2023-04-20T18:12:54.497527",
     "status": "completed"
    },
    "tags": []
   },
   "outputs": [
    {
     "name": "stdout",
     "output_type": "stream",
     "text": [
      "['pink primrose', 'hard-leaved pocket orchid', 'canterbury bells', 'sweet pea', 'english marigold', 'tiger lily', 'moon orchid', 'bird of paradise', 'monkshood', 'snapdragon']\n"
     ]
    }
   ],
   "source": [
    "flowers_list.append(\"snapdragon\")\n",
    "print(flowers_list)"
   ]
  },
  {
   "cell_type": "markdown",
   "id": "b7cad816",
   "metadata": {
    "papermill": {
     "duration": 0.005784,
     "end_time": "2023-04-20T18:12:54.527654",
     "exception": false,
     "start_time": "2023-04-20T18:12:54.521870",
     "status": "completed"
    },
    "tags": []
   },
   "source": [
    "## Lists are not just for strings\n",
    "\n",
    "So far, we have only worked with lists where each item in the list is a string.  But lists can have items with any data type, including booleans, integers, and floats.\n",
    "\n",
    "As an example, consider hardcover book sales in the first week of April 2000 in a retail store."
   ]
  },
  {
   "cell_type": "code",
   "execution_count": 8,
   "id": "1c860ddd",
   "metadata": {
    "execution": {
     "iopub.execute_input": "2023-04-20T18:12:54.541729Z",
     "iopub.status.busy": "2023-04-20T18:12:54.541303Z",
     "iopub.status.idle": "2023-04-20T18:12:54.546469Z",
     "shell.execute_reply": "2023-04-20T18:12:54.545214Z"
    },
    "papermill": {
     "duration": 0.01518,
     "end_time": "2023-04-20T18:12:54.548900",
     "exception": false,
     "start_time": "2023-04-20T18:12:54.533720",
     "status": "completed"
    },
    "tags": []
   },
   "outputs": [],
   "source": [
    "hardcover_sales = [139, 128, 172, 139, 191, 168, 170]"
   ]
  },
  {
   "cell_type": "markdown",
   "id": "66f45efa",
   "metadata": {
    "papermill": {
     "duration": 0.005912,
     "end_time": "2023-04-20T18:12:54.560971",
     "exception": false,
     "start_time": "2023-04-20T18:12:54.555059",
     "status": "completed"
    },
    "tags": []
   },
   "source": [
    "Here, `hardcover_sales` is a list of integers.  Similar to when working with strings, you can still do things like get the length, pull individual entries, and extend the list."
   ]
  },
  {
   "cell_type": "code",
   "execution_count": 9,
   "id": "40a76179",
   "metadata": {
    "execution": {
     "iopub.execute_input": "2023-04-20T18:12:54.576237Z",
     "iopub.status.busy": "2023-04-20T18:12:54.575576Z",
     "iopub.status.idle": "2023-04-20T18:12:54.581391Z",
     "shell.execute_reply": "2023-04-20T18:12:54.580453Z"
    },
    "papermill": {
     "duration": 0.016769,
     "end_time": "2023-04-20T18:12:54.583922",
     "exception": false,
     "start_time": "2023-04-20T18:12:54.567153",
     "status": "completed"
    },
    "tags": []
   },
   "outputs": [
    {
     "name": "stdout",
     "output_type": "stream",
     "text": [
      "Length of the list: 7\n",
      "Entry at index 2: 172\n"
     ]
    }
   ],
   "source": [
    "print(\"Length of the list:\", len(hardcover_sales))\n",
    "print(\"Entry at index 2:\", hardcover_sales[2])"
   ]
  },
  {
   "cell_type": "markdown",
   "id": "4ae7c8ee",
   "metadata": {
    "papermill": {
     "duration": 0.006216,
     "end_time": "2023-04-20T18:12:54.597023",
     "exception": false,
     "start_time": "2023-04-20T18:12:54.590807",
     "status": "completed"
    },
    "tags": []
   },
   "source": [
    "You can also get the minimum with `min()` and the maximum with `max()`."
   ]
  },
  {
   "cell_type": "code",
   "execution_count": 10,
   "id": "107742c0",
   "metadata": {
    "execution": {
     "iopub.execute_input": "2023-04-20T18:12:54.611888Z",
     "iopub.status.busy": "2023-04-20T18:12:54.611445Z",
     "iopub.status.idle": "2023-04-20T18:12:54.617973Z",
     "shell.execute_reply": "2023-04-20T18:12:54.616519Z"
    },
    "papermill": {
     "duration": 0.016867,
     "end_time": "2023-04-20T18:12:54.620456",
     "exception": false,
     "start_time": "2023-04-20T18:12:54.603589",
     "status": "completed"
    },
    "tags": []
   },
   "outputs": [
    {
     "name": "stdout",
     "output_type": "stream",
     "text": [
      "Minimum: 128\n",
      "Maximum: 191\n"
     ]
    }
   ],
   "source": [
    "print(\"Minimum:\", min(hardcover_sales))\n",
    "print(\"Maximum:\", max(hardcover_sales))"
   ]
  },
  {
   "cell_type": "markdown",
   "id": "94a1ed2d",
   "metadata": {
    "papermill": {
     "duration": 0.005871,
     "end_time": "2023-04-20T18:12:54.632514",
     "exception": false,
     "start_time": "2023-04-20T18:12:54.626643",
     "status": "completed"
    },
    "tags": []
   },
   "source": [
    "To add every item in the list, use `sum()`."
   ]
  },
  {
   "cell_type": "code",
   "execution_count": 11,
   "id": "21df4576",
   "metadata": {
    "execution": {
     "iopub.execute_input": "2023-04-20T18:12:54.646928Z",
     "iopub.status.busy": "2023-04-20T18:12:54.646113Z",
     "iopub.status.idle": "2023-04-20T18:12:54.652389Z",
     "shell.execute_reply": "2023-04-20T18:12:54.651050Z"
    },
    "papermill": {
     "duration": 0.016055,
     "end_time": "2023-04-20T18:12:54.654629",
     "exception": false,
     "start_time": "2023-04-20T18:12:54.638574",
     "status": "completed"
    },
    "tags": []
   },
   "outputs": [
    {
     "name": "stdout",
     "output_type": "stream",
     "text": [
      "Total books sold in one week: 1107\n"
     ]
    }
   ],
   "source": [
    "print(\"Total books sold in one week:\", sum(hardcover_sales))"
   ]
  },
  {
   "cell_type": "markdown",
   "id": "75ea1b6e",
   "metadata": {
    "papermill": {
     "duration": 0.005942,
     "end_time": "2023-04-20T18:12:54.666720",
     "exception": false,
     "start_time": "2023-04-20T18:12:54.660778",
     "status": "completed"
    },
    "tags": []
   },
   "source": [
    "We can also do similar calculations with slices of the list.  In the next code cell, we take the sum from the first five days (`sum(hardcover_sales[:5])`), and then divide by five to get the average number of books sold in the first five days."
   ]
  },
  {
   "cell_type": "code",
   "execution_count": 12,
   "id": "935d31f8",
   "metadata": {
    "execution": {
     "iopub.execute_input": "2023-04-20T18:12:54.680888Z",
     "iopub.status.busy": "2023-04-20T18:12:54.680455Z",
     "iopub.status.idle": "2023-04-20T18:12:54.686709Z",
     "shell.execute_reply": "2023-04-20T18:12:54.685417Z"
    },
    "papermill": {
     "duration": 0.016143,
     "end_time": "2023-04-20T18:12:54.689006",
     "exception": false,
     "start_time": "2023-04-20T18:12:54.672863",
     "status": "completed"
    },
    "tags": []
   },
   "outputs": [
    {
     "name": "stdout",
     "output_type": "stream",
     "text": [
      "Average books sold in first five days: 153.8\n"
     ]
    }
   ],
   "source": [
    "print(\"Average books sold in first five days:\", sum(hardcover_sales[:5])/5)"
   ]
  },
  {
   "cell_type": "markdown",
   "id": "13cee628",
   "metadata": {
    "papermill": {
     "duration": 0.006219,
     "end_time": "2023-04-20T18:12:54.701946",
     "exception": false,
     "start_time": "2023-04-20T18:12:54.695727",
     "status": "completed"
    },
    "tags": []
   },
   "source": [
    "# Your turn\n",
    "\n",
    "Now it's your turn to **[practice creating and modifying lists](https://www.kaggle.com/kernels/fork/26034864)**."
   ]
  },
  {
   "cell_type": "markdown",
   "id": "1138a968",
   "metadata": {
    "papermill": {
     "duration": 0.006264,
     "end_time": "2023-04-20T18:12:54.715200",
     "exception": false,
     "start_time": "2023-04-20T18:12:54.708936",
     "status": "completed"
    },
    "tags": []
   },
   "source": [
    "---\n",
    "\n",
    "\n",
    "\n",
    "\n",
    "*Have questions or comments? Visit the [course discussion forum](https://www.kaggle.com/learn/intro-to-programming/discussion) to chat with other learners.*"
   ]
  }
 ],
 "metadata": {
  "kernelspec": {
   "display_name": "Python 3",
   "language": "python",
   "name": "python3"
  },
  "language_info": {
   "codemirror_mode": {
    "name": "ipython",
    "version": 3
   },
   "file_extension": ".py",
   "mimetype": "text/x-python",
   "name": "python",
   "nbconvert_exporter": "python",
   "pygments_lexer": "ipython3",
   "version": "3.7.12"
  },
  "papermill": {
   "default_parameters": {},
   "duration": 10.561739,
   "end_time": "2023-04-20T18:12:54.942872",
   "environment_variables": {},
   "exception": null,
   "input_path": "__notebook__.ipynb",
   "output_path": "__notebook__.ipynb",
   "parameters": {},
   "start_time": "2023-04-20T18:12:44.381133",
   "version": "2.4.0"
  }
 },
 "nbformat": 4,
 "nbformat_minor": 5
}
