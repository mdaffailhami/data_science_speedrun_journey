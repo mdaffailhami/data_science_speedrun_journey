{
 "cells": [
  {
   "cell_type": "markdown",
   "id": "e2972946",
   "metadata": {
    "papermill": {
     "duration": 0.00601,
     "end_time": "2024-08-28T11:38:17.000384",
     "exception": false,
     "start_time": "2024-08-28T11:38:16.994374",
     "status": "completed"
    },
    "tags": []
   },
   "source": [
    "**This notebook is an exercise in the [SQL](https://www.kaggle.com/learn/intro-to-sql) course.  You can reference the tutorial at [this link](https://www.kaggle.com/dansbecker/group-by-having-count).**\n",
    "\n",
    "---\n"
   ]
  },
  {
   "cell_type": "markdown",
   "id": "acee19ce",
   "metadata": {
    "papermill": {
     "duration": 0.004839,
     "end_time": "2024-08-28T11:38:17.010508",
     "exception": false,
     "start_time": "2024-08-28T11:38:17.005669",
     "status": "completed"
    },
    "tags": []
   },
   "source": [
    "# Introduction\n",
    "\n",
    "Queries with **GROUP BY** can be powerful. There are many small things that can trip you up (like the order of the clauses), but it will start to feel natural once you've done it a few times. Here, you'll write queries using **GROUP BY** to answer questions from the Hacker News dataset.\n",
    "\n",
    "Before you get started, run the following cell to set everything up:"
   ]
  },
  {
   "cell_type": "code",
   "execution_count": 1,
   "id": "b4120b56",
   "metadata": {
    "execution": {
     "iopub.execute_input": "2024-08-28T11:38:17.022939Z",
     "iopub.status.busy": "2024-08-28T11:38:17.022354Z",
     "iopub.status.idle": "2024-08-28T11:38:24.833632Z",
     "shell.execute_reply": "2024-08-28T11:38:24.832088Z"
    },
    "papermill": {
     "duration": 7.82045,
     "end_time": "2024-08-28T11:38:24.836097",
     "exception": false,
     "start_time": "2024-08-28T11:38:17.015647",
     "status": "completed"
    },
    "tags": []
   },
   "outputs": [
    {
     "name": "stdout",
     "output_type": "stream",
     "text": [
      "Using Kaggle's public dataset BigQuery integration.\n",
      "Setup Complete\n"
     ]
    }
   ],
   "source": [
    "# Set up feedback system\n",
    "from learntools.core import binder\n",
    "binder.bind(globals())\n",
    "from learntools.sql.ex3 import *\n",
    "print(\"Setup Complete\")"
   ]
  },
  {
   "cell_type": "markdown",
   "id": "77ca07d7",
   "metadata": {
    "papermill": {
     "duration": 0.005371,
     "end_time": "2024-08-28T11:38:24.846971",
     "exception": false,
     "start_time": "2024-08-28T11:38:24.841600",
     "status": "completed"
    },
    "tags": []
   },
   "source": [
    "The code cell below fetches the `full` table from the `hacker_news` dataset.  We also preview the first five rows of the table."
   ]
  },
  {
   "cell_type": "code",
   "execution_count": 2,
   "id": "ee9b4a44",
   "metadata": {
    "execution": {
     "iopub.execute_input": "2024-08-28T11:38:24.860067Z",
     "iopub.status.busy": "2024-08-28T11:38:24.859307Z",
     "iopub.status.idle": "2024-08-28T11:38:26.618845Z",
     "shell.execute_reply": "2024-08-28T11:38:26.617628Z"
    },
    "papermill": {
     "duration": 1.76914,
     "end_time": "2024-08-28T11:38:26.621501",
     "exception": false,
     "start_time": "2024-08-28T11:38:24.852361",
     "status": "completed"
    },
    "tags": []
   },
   "outputs": [
    {
     "name": "stdout",
     "output_type": "stream",
     "text": [
      "Using Kaggle's public dataset BigQuery integration.\n"
     ]
    },
    {
     "data": {
      "text/html": [
       "<div>\n",
       "<style scoped>\n",
       "    .dataframe tbody tr th:only-of-type {\n",
       "        vertical-align: middle;\n",
       "    }\n",
       "\n",
       "    .dataframe tbody tr th {\n",
       "        vertical-align: top;\n",
       "    }\n",
       "\n",
       "    .dataframe thead th {\n",
       "        text-align: right;\n",
       "    }\n",
       "</style>\n",
       "<table border=\"1\" class=\"dataframe\">\n",
       "  <thead>\n",
       "    <tr style=\"text-align: right;\">\n",
       "      <th></th>\n",
       "      <th>title</th>\n",
       "      <th>url</th>\n",
       "      <th>text</th>\n",
       "      <th>dead</th>\n",
       "      <th>by</th>\n",
       "      <th>score</th>\n",
       "      <th>time</th>\n",
       "      <th>timestamp</th>\n",
       "      <th>type</th>\n",
       "      <th>id</th>\n",
       "      <th>parent</th>\n",
       "      <th>descendants</th>\n",
       "      <th>ranking</th>\n",
       "      <th>deleted</th>\n",
       "    </tr>\n",
       "  </thead>\n",
       "  <tbody>\n",
       "    <tr>\n",
       "      <th>0</th>\n",
       "      <td>None</td>\n",
       "      <td>None</td>\n",
       "      <td>None</td>\n",
       "      <td>None</td>\n",
       "      <td>None</td>\n",
       "      <td>NaN</td>\n",
       "      <td>NaN</td>\n",
       "      <td>NaT</td>\n",
       "      <td>story</td>\n",
       "      <td>99684</td>\n",
       "      <td>NaN</td>\n",
       "      <td>NaN</td>\n",
       "      <td>NaN</td>\n",
       "      <td>None</td>\n",
       "    </tr>\n",
       "    <tr>\n",
       "      <th>1</th>\n",
       "      <td>None</td>\n",
       "      <td>None</td>\n",
       "      <td>None</td>\n",
       "      <td>None</td>\n",
       "      <td>None</td>\n",
       "      <td>NaN</td>\n",
       "      <td>1.438180e+09</td>\n",
       "      <td>2015-07-29 14:21:04+00:00</td>\n",
       "      <td>story</td>\n",
       "      <td>9968778</td>\n",
       "      <td>NaN</td>\n",
       "      <td>NaN</td>\n",
       "      <td>NaN</td>\n",
       "      <td>True</td>\n",
       "    </tr>\n",
       "    <tr>\n",
       "      <th>2</th>\n",
       "      <td>None</td>\n",
       "      <td>None</td>\n",
       "      <td>None</td>\n",
       "      <td>None</td>\n",
       "      <td>None</td>\n",
       "      <td>NaN</td>\n",
       "      <td>1.438181e+09</td>\n",
       "      <td>2015-07-29 14:36:05+00:00</td>\n",
       "      <td>story</td>\n",
       "      <td>9968878</td>\n",
       "      <td>NaN</td>\n",
       "      <td>NaN</td>\n",
       "      <td>NaN</td>\n",
       "      <td>True</td>\n",
       "    </tr>\n",
       "    <tr>\n",
       "      <th>3</th>\n",
       "      <td>None</td>\n",
       "      <td>None</td>\n",
       "      <td>None</td>\n",
       "      <td>None</td>\n",
       "      <td>None</td>\n",
       "      <td>NaN</td>\n",
       "      <td>1.438181e+09</td>\n",
       "      <td>2015-07-29 14:39:23+00:00</td>\n",
       "      <td>story</td>\n",
       "      <td>9968908</td>\n",
       "      <td>NaN</td>\n",
       "      <td>NaN</td>\n",
       "      <td>NaN</td>\n",
       "      <td>True</td>\n",
       "    </tr>\n",
       "    <tr>\n",
       "      <th>4</th>\n",
       "      <td>None</td>\n",
       "      <td>None</td>\n",
       "      <td>None</td>\n",
       "      <td>None</td>\n",
       "      <td>None</td>\n",
       "      <td>NaN</td>\n",
       "      <td>1.438182e+09</td>\n",
       "      <td>2015-07-29 14:54:53+00:00</td>\n",
       "      <td>story</td>\n",
       "      <td>9969016</td>\n",
       "      <td>NaN</td>\n",
       "      <td>NaN</td>\n",
       "      <td>NaN</td>\n",
       "      <td>True</td>\n",
       "    </tr>\n",
       "  </tbody>\n",
       "</table>\n",
       "</div>"
      ],
      "text/plain": [
       "  title   url  text  dead    by  score          time  \\\n",
       "0  None  None  None  None  None    NaN           NaN   \n",
       "1  None  None  None  None  None    NaN  1.438180e+09   \n",
       "2  None  None  None  None  None    NaN  1.438181e+09   \n",
       "3  None  None  None  None  None    NaN  1.438181e+09   \n",
       "4  None  None  None  None  None    NaN  1.438182e+09   \n",
       "\n",
       "                  timestamp   type       id  parent  descendants  ranking  \\\n",
       "0                       NaT  story    99684     NaN          NaN      NaN   \n",
       "1 2015-07-29 14:21:04+00:00  story  9968778     NaN          NaN      NaN   \n",
       "2 2015-07-29 14:36:05+00:00  story  9968878     NaN          NaN      NaN   \n",
       "3 2015-07-29 14:39:23+00:00  story  9968908     NaN          NaN      NaN   \n",
       "4 2015-07-29 14:54:53+00:00  story  9969016     NaN          NaN      NaN   \n",
       "\n",
       "  deleted  \n",
       "0    None  \n",
       "1    True  \n",
       "2    True  \n",
       "3    True  \n",
       "4    True  "
      ]
     },
     "execution_count": 2,
     "metadata": {},
     "output_type": "execute_result"
    }
   ],
   "source": [
    "from google.cloud import bigquery\n",
    "\n",
    "# Create a \"Client\" object\n",
    "client = bigquery.Client()\n",
    "\n",
    "# Construct a reference to the \"hacker_news\" dataset\n",
    "dataset_ref = client.dataset(\"hacker_news\", project=\"bigquery-public-data\")\n",
    "\n",
    "# API request - fetch the dataset\n",
    "dataset = client.get_dataset(dataset_ref)\n",
    "\n",
    "# Construct a reference to the \"full\" table\n",
    "table_ref = dataset_ref.table(\"full\")\n",
    "\n",
    "# API request - fetch the table\n",
    "table = client.get_table(table_ref)\n",
    "\n",
    "# Preview the first five lines of the table\n",
    "client.list_rows(table, max_results=5).to_dataframe()"
   ]
  },
  {
   "cell_type": "markdown",
   "id": "1f0e4f26",
   "metadata": {
    "papermill": {
     "duration": 0.005805,
     "end_time": "2024-08-28T11:38:26.633485",
     "exception": false,
     "start_time": "2024-08-28T11:38:26.627680",
     "status": "completed"
    },
    "tags": []
   },
   "source": [
    "# Exercises\n",
    "\n",
    "### 1) Prolific commenters\n",
    "\n",
    "Hacker News would like to send awards to everyone who has written more than 10,000 posts. Write a query that returns all authors with more than 10,000 posts as well as their post counts. Call the column with post counts `NumPosts`.\n",
    "\n",
    "In case sample query is helpful, here is a query you saw in the tutorial to answer a similar question:\n",
    "```\n",
    "query = \"\"\"\n",
    "        SELECT parent, COUNT(1) AS NumPosts\n",
    "        FROM `bigquery-public-data.hacker_news.full`\n",
    "        GROUP BY parent\n",
    "        HAVING COUNT(1) > 10\n",
    "        \"\"\"\n",
    "```"
   ]
  },
  {
   "cell_type": "code",
   "execution_count": 3,
   "id": "39877ab4",
   "metadata": {
    "execution": {
     "iopub.execute_input": "2024-08-28T11:38:26.647981Z",
     "iopub.status.busy": "2024-08-28T11:38:26.647513Z",
     "iopub.status.idle": "2024-08-28T11:38:27.721294Z",
     "shell.execute_reply": "2024-08-28T11:38:27.720299Z"
    },
    "papermill": {
     "duration": 1.084942,
     "end_time": "2024-08-28T11:38:27.724674",
     "exception": false,
     "start_time": "2024-08-28T11:38:26.639732",
     "status": "completed"
    },
    "tags": []
   },
   "outputs": [
    {
     "name": "stdout",
     "output_type": "stream",
     "text": [
      "         author  NumPosts\n",
      "0      pbhjpbhj     16457\n",
      "1       patio11     10419\n",
      "2  nostrademons     14399\n",
      "3       mooreds     18899\n",
      "4          bane     10724\n"
     ]
    },
    {
     "data": {
      "application/javascript": [
       "parent.postMessage({\"jupyterEvent\": \"custom.exercise_interaction\", \"data\": {\"outcomeType\": 1, \"valueTowardsCompletion\": 0.5, \"interactionType\": 1, \"questionType\": 2, \"questionId\": \"1_ProlificCommenters\", \"learnToolsVersion\": \"0.3.4\", \"failureMessage\": \"\", \"exceptionClass\": \"\", \"trace\": \"\"}}, \"*\")"
      ],
      "text/plain": [
       "<IPython.core.display.Javascript object>"
      ]
     },
     "metadata": {},
     "output_type": "display_data"
    },
    {
     "data": {
      "text/markdown": [
       "<span style=\"color:#33cc33\">Correct</span>"
      ],
      "text/plain": [
       "Correct"
      ]
     },
     "metadata": {},
     "output_type": "display_data"
    }
   ],
   "source": [
    "# Query to select prolific commenters and post counts\n",
    "prolific_commenters_query = \"\"\"\n",
    "    SELECT `by` AS author, COUNT(*) AS NumPosts\n",
    "    FROM `bigquery-public-data.hacker_news.full`\n",
    "    GROUP BY author\n",
    "    HAVING NumPosts > 10000\n",
    "\"\"\" # Your code goes here\n",
    "\n",
    "# Set up the query (cancel the query if it would use too much of \n",
    "# your quota, with the limit set to 1 GB)\n",
    "safe_config = bigquery.QueryJobConfig(maximum_bytes_billed=10**10)\n",
    "query_job = client.query(prolific_commenters_query, job_config=safe_config)\n",
    "\n",
    "# API request - run the query, and return a pandas DataFrame\n",
    "prolific_commenters = query_job.to_dataframe()\n",
    "\n",
    "# View top few rows of results\n",
    "print(prolific_commenters.head())\n",
    "\n",
    "# Check your answer\n",
    "q_1.check()"
   ]
  },
  {
   "cell_type": "markdown",
   "id": "cbd6c4b4",
   "metadata": {
    "papermill": {
     "duration": 0.006374,
     "end_time": "2024-08-28T11:38:27.737848",
     "exception": false,
     "start_time": "2024-08-28T11:38:27.731474",
     "status": "completed"
    },
    "tags": []
   },
   "source": [
    "For the solution, uncomment the line below."
   ]
  },
  {
   "cell_type": "code",
   "execution_count": 4,
   "id": "71432820",
   "metadata": {
    "execution": {
     "iopub.execute_input": "2024-08-28T11:38:27.753673Z",
     "iopub.status.busy": "2024-08-28T11:38:27.753177Z",
     "iopub.status.idle": "2024-08-28T11:38:27.759536Z",
     "shell.execute_reply": "2024-08-28T11:38:27.758231Z"
    },
    "papermill": {
     "duration": 0.017589,
     "end_time": "2024-08-28T11:38:27.762234",
     "exception": false,
     "start_time": "2024-08-28T11:38:27.744645",
     "status": "completed"
    },
    "tags": []
   },
   "outputs": [],
   "source": [
    "#q_1.solution()"
   ]
  },
  {
   "cell_type": "markdown",
   "id": "92a6110e",
   "metadata": {
    "papermill": {
     "duration": 0.006125,
     "end_time": "2024-08-28T11:38:27.774930",
     "exception": false,
     "start_time": "2024-08-28T11:38:27.768805",
     "status": "completed"
    },
    "tags": []
   },
   "source": [
    "### 2) Deleted comments\n",
    "\n",
    "How many comments have been deleted? (If a comment was deleted, the `deleted` column in the table will have the value `True`.)"
   ]
  },
  {
   "cell_type": "code",
   "execution_count": 5,
   "id": "ad6d8ee3",
   "metadata": {
    "execution": {
     "iopub.execute_input": "2024-08-28T11:38:27.790028Z",
     "iopub.status.busy": "2024-08-28T11:38:27.789473Z",
     "iopub.status.idle": "2024-08-28T11:38:29.035032Z",
     "shell.execute_reply": "2024-08-28T11:38:29.033536Z"
    },
    "papermill": {
     "duration": 1.256232,
     "end_time": "2024-08-28T11:38:29.037635",
     "exception": false,
     "start_time": "2024-08-28T11:38:27.781403",
     "status": "completed"
    },
    "tags": []
   },
   "outputs": [
    {
     "name": "stdout",
     "output_type": "stream",
     "text": [
      "   deleted_count\n",
      "0        1209391\n"
     ]
    }
   ],
   "source": [
    "# Write your query here and figure out the answer\n",
    "query = \"\"\"\n",
    "    SELECT COUNT(*) AS deleted_count\n",
    "    FROM `bigquery-public-data.hacker_news.full`\n",
    "    GROUP BY deleted\n",
    "    HAVING deleted = TRUE\n",
    "\"\"\" # Your code goes here\n",
    "\n",
    "# Set up the query (cancel the query if it would use too much of \n",
    "# your quota, with the limit set to 1 GB)\n",
    "safe_config = bigquery.QueryJobConfig(maximum_bytes_billed=10**10)\n",
    "query_job = client.query(query, job_config=safe_config)\n",
    "\n",
    "# API request - run the query, and return a pandas DataFrame\n",
    "df = query_job.to_dataframe()\n",
    "\n",
    "# View top few rows of results\n",
    "print(df.head())"
   ]
  },
  {
   "cell_type": "code",
   "execution_count": 6,
   "id": "da3dd0f4",
   "metadata": {
    "execution": {
     "iopub.execute_input": "2024-08-28T11:38:29.052384Z",
     "iopub.status.busy": "2024-08-28T11:38:29.051969Z",
     "iopub.status.idle": "2024-08-28T11:38:29.062092Z",
     "shell.execute_reply": "2024-08-28T11:38:29.060824Z"
    },
    "papermill": {
     "duration": 0.020564,
     "end_time": "2024-08-28T11:38:29.064739",
     "exception": false,
     "start_time": "2024-08-28T11:38:29.044175",
     "status": "completed"
    },
    "tags": []
   },
   "outputs": [
    {
     "data": {
      "application/javascript": [
       "parent.postMessage({\"jupyterEvent\": \"custom.exercise_interaction\", \"data\": {\"outcomeType\": 1, \"valueTowardsCompletion\": 0.5, \"interactionType\": 1, \"questionType\": 1, \"questionId\": \"2_NumDeletedPosts\", \"learnToolsVersion\": \"0.3.4\", \"failureMessage\": \"\", \"exceptionClass\": \"\", \"trace\": \"\"}}, \"*\")"
      ],
      "text/plain": [
       "<IPython.core.display.Javascript object>"
      ]
     },
     "metadata": {},
     "output_type": "display_data"
    },
    {
     "data": {
      "text/markdown": [
       "<span style=\"color:#33cc33\">Correct</span>"
      ],
      "text/plain": [
       "Correct"
      ]
     },
     "metadata": {},
     "output_type": "display_data"
    }
   ],
   "source": [
    "num_deleted_posts = df.iloc[0, 0] # Put your answer here\n",
    "\n",
    "# Check your answer\n",
    "q_2.check()"
   ]
  },
  {
   "cell_type": "markdown",
   "id": "71f0a102",
   "metadata": {
    "papermill": {
     "duration": 0.00671,
     "end_time": "2024-08-28T11:38:29.078680",
     "exception": false,
     "start_time": "2024-08-28T11:38:29.071970",
     "status": "completed"
    },
    "tags": []
   },
   "source": [
    "For the solution, uncomment the line below."
   ]
  },
  {
   "cell_type": "code",
   "execution_count": 7,
   "id": "1da3972d",
   "metadata": {
    "execution": {
     "iopub.execute_input": "2024-08-28T11:38:29.093836Z",
     "iopub.status.busy": "2024-08-28T11:38:29.093400Z",
     "iopub.status.idle": "2024-08-28T11:38:29.098329Z",
     "shell.execute_reply": "2024-08-28T11:38:29.097248Z"
    },
    "papermill": {
     "duration": 0.015345,
     "end_time": "2024-08-28T11:38:29.100760",
     "exception": false,
     "start_time": "2024-08-28T11:38:29.085415",
     "status": "completed"
    },
    "tags": []
   },
   "outputs": [],
   "source": [
    "#q_2.solution()"
   ]
  },
  {
   "cell_type": "markdown",
   "id": "7a94e594",
   "metadata": {
    "papermill": {
     "duration": 0.006591,
     "end_time": "2024-08-28T11:38:29.114213",
     "exception": false,
     "start_time": "2024-08-28T11:38:29.107622",
     "status": "completed"
    },
    "tags": []
   },
   "source": [
    "# Keep Going\n",
    "**[Click here](https://www.kaggle.com/dansbecker/order-by)** to move on and learn about the **ORDER BY** clause."
   ]
  },
  {
   "cell_type": "markdown",
   "id": "148772ee",
   "metadata": {
    "papermill": {
     "duration": 0.006609,
     "end_time": "2024-08-28T11:38:29.127610",
     "exception": false,
     "start_time": "2024-08-28T11:38:29.121001",
     "status": "completed"
    },
    "tags": []
   },
   "source": [
    "---\n",
    "\n",
    "\n",
    "\n",
    "\n",
    "*Have questions or comments? Visit the [course discussion forum](https://www.kaggle.com/learn/intro-to-sql/discussion) to chat with other learners.*"
   ]
  }
 ],
 "metadata": {
  "kaggle": {
   "accelerator": "none",
   "dataSources": [
    {
     "datasetId": 6057,
     "sourceId": 285982,
     "sourceType": "datasetVersion"
    }
   ],
   "isGpuEnabled": false,
   "isInternetEnabled": false,
   "language": "python",
   "sourceType": "notebook"
  },
  "kernelspec": {
   "display_name": "Python 3",
   "language": "python",
   "name": "python3"
  },
  "language_info": {
   "codemirror_mode": {
    "name": "ipython",
    "version": 3
   },
   "file_extension": ".py",
   "mimetype": "text/x-python",
   "name": "python",
   "nbconvert_exporter": "python",
   "pygments_lexer": "ipython3",
   "version": "3.10.14"
  },
  "papermill": {
   "default_parameters": {},
   "duration": 15.930693,
   "end_time": "2024-08-28T11:38:29.956505",
   "environment_variables": {},
   "exception": null,
   "input_path": "__notebook__.ipynb",
   "output_path": "__notebook__.ipynb",
   "parameters": {},
   "start_time": "2024-08-28T11:38:14.025812",
   "version": "2.6.0"
  }
 },
 "nbformat": 4,
 "nbformat_minor": 5
}
