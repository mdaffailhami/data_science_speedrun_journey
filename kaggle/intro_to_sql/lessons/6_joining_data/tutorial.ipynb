{
 "cells": [
  {
   "cell_type": "markdown",
   "id": "e658dc96",
   "metadata": {
    "papermill": {
     "duration": 0.004095,
     "end_time": "2023-04-20T18:20:39.197532",
     "exception": false,
     "start_time": "2023-04-20T18:20:39.193437",
     "status": "completed"
    },
    "tags": []
   },
   "source": [
    "# Introduction\n",
    "\n",
    "You have the tools to obtain data from a single table in whatever format you want it. But what if the data you want is spread across multiple tables?\n",
    "\n",
    "That's where **JOIN** comes in! **JOIN** is incredibly important in practical SQL workflows. So let's get started.\n",
    "\n",
    "# Example\n",
    "\n",
    "We'll use our imaginary `pets` table, which has three columns: \n",
    "- `ID` - ID number for the pet\n",
    "- `Name` - name of the pet \n",
    "- `Animal` - type of animal \n",
    "\n",
    "We'll also add another table, called `owners`.  This table also has three columns: \n",
    "- `ID` - ID number for the owner (different from the ID number for the pet)\n",
    "- `Name` - name of the owner\n",
    "- `Pet_ID` - ID number for the pet that belongs to the owner (which matches the ID number for the pet in the `pets` table)\n",
    "\n",
    "![](https://storage.googleapis.com/kaggle-media/learn/images/Rx6L4m1.png) \n",
    "\n",
    "To get information that applies to a certain pet, we match the `ID` column in the `pets` table to the `Pet_ID` column in the `owners` table.  \n",
    "\n",
    "![](https://storage.googleapis.com/kaggle-media/learn/images/eXvIORm.png)\n",
    "\n",
    "For example, \n",
    "- the `pets` table shows that Dr. Harris Bonkers is the pet with ID 1. \n",
    "- The `owners` table shows that Aubrey Little is the owner of the pet with ID 1. \n",
    "\n",
    "Putting these two facts together, Dr. Harris Bonkers is owned by Aubrey Little.\n",
    "\n",
    "Fortunately, we don't have to do this by hand to figure out which owner goes with which pet. In the next section, you'll learn how to use **JOIN** to create a new table combining information from the `pets` and `owners` tables.\n",
    "\n",
    "# JOIN\n",
    "\n",
    "Using **JOIN**, we can write a query to create a table with just two columns: the name of the pet and the name of the owner. \n",
    "\n",
    "![](https://storage.googleapis.com/kaggle-media/learn/images/fLlng42.png)\n",
    "\n",
    "We combine information from both tables by matching rows where the `ID` column in the `pets` table matches the `Pet_ID` column in the `owners` table.\n",
    "\n",
    "In the query, **ON** determines which column in each table to use to combine the tables.  Notice that since the `ID` column exists in both tables, we have to clarify which one to use.  We use `p.ID` to refer to the `ID` column from the `pets` table, and `o.Pet_ID` refers to the `Pet_ID` column from the `owners` table.\n",
    "\n",
    "> In general, when you're joining tables, it's a good habit to specify which table each of your columns comes from. That way, you don't have to pull up the schema every time you go back to read the query.\n",
    "\n",
    "The type of **JOIN** we're using today is called an **INNER JOIN**. That means that a row will only be put in the final output table if the value in the columns you're using to combine them shows up in both the tables you're joining. For example, if Tom's ID number of 4 didn't exist in the `pets` table, we would only get 3 rows back from this query. There are other types of **JOIN**, but an **INNER JOIN** is very widely used, so it's a good one to start with."
   ]
  },
  {
   "cell_type": "markdown",
   "id": "1ac405f0",
   "metadata": {
    "papermill": {
     "duration": 0.002766,
     "end_time": "2023-04-20T18:20:39.203590",
     "exception": false,
     "start_time": "2023-04-20T18:20:39.200824",
     "status": "completed"
    },
    "tags": []
   },
   "source": [
    "# Example: How many files are covered by each type of software license?\n",
    "\n",
    "GitHub is the most popular place to collaborate on software projects. A GitHub **repository** (or **repo**) is a collection of files associated with a specific project.  \n",
    "\n",
    "Most repos on GitHub are shared under a specific legal license, which determines the legal restrictions on how they are used.  For our example, we're going to look at how many different files have been released under each license. \n",
    "\n",
    "We'll work with two tables in the database.  The first table is the `licenses` table, which provides the name of each GitHub repo (in the `repo_name` column) and its corresponding license.  Here's a view of the first five rows."
   ]
  },
  {
   "cell_type": "code",
   "execution_count": 1,
   "id": "eb013872",
   "metadata": {
    "_kg_hide-input": true,
    "execution": {
     "iopub.execute_input": "2023-04-20T18:20:39.211783Z",
     "iopub.status.busy": "2023-04-20T18:20:39.211340Z",
     "iopub.status.idle": "2023-04-20T18:20:40.369549Z",
     "shell.execute_reply": "2023-04-20T18:20:40.368219Z"
    },
    "papermill": {
     "duration": 1.165589,
     "end_time": "2023-04-20T18:20:40.372150",
     "exception": false,
     "start_time": "2023-04-20T18:20:39.206561",
     "status": "completed"
    },
    "tags": []
   },
   "outputs": [
    {
     "name": "stdout",
     "output_type": "stream",
     "text": [
      "Using Kaggle's public dataset BigQuery integration.\n"
     ]
    },
    {
     "name": "stderr",
     "output_type": "stream",
     "text": [
      "/opt/conda/lib/python3.7/site-packages/ipykernel_launcher.py:19: UserWarning: Cannot use bqstorage_client if max_results is set, reverting to fetching data with the tabledata.list endpoint.\n"
     ]
    },
    {
     "data": {
      "text/html": [
       "<div>\n",
       "<style scoped>\n",
       "    .dataframe tbody tr th:only-of-type {\n",
       "        vertical-align: middle;\n",
       "    }\n",
       "\n",
       "    .dataframe tbody tr th {\n",
       "        vertical-align: top;\n",
       "    }\n",
       "\n",
       "    .dataframe thead th {\n",
       "        text-align: right;\n",
       "    }\n",
       "</style>\n",
       "<table border=\"1\" class=\"dataframe\">\n",
       "  <thead>\n",
       "    <tr style=\"text-align: right;\">\n",
       "      <th></th>\n",
       "      <th>repo_name</th>\n",
       "      <th>license</th>\n",
       "    </tr>\n",
       "  </thead>\n",
       "  <tbody>\n",
       "    <tr>\n",
       "      <th>0</th>\n",
       "      <td>autarch/Dist-Zilla-Plugin-Test-TidyAll</td>\n",
       "      <td>artistic-2.0</td>\n",
       "    </tr>\n",
       "    <tr>\n",
       "      <th>1</th>\n",
       "      <td>thundergnat/Prime-Factor</td>\n",
       "      <td>artistic-2.0</td>\n",
       "    </tr>\n",
       "    <tr>\n",
       "      <th>2</th>\n",
       "      <td>kusha-b-k/Turabian_Engin_Fan</td>\n",
       "      <td>artistic-2.0</td>\n",
       "    </tr>\n",
       "    <tr>\n",
       "      <th>3</th>\n",
       "      <td>onlinepremiumoutlet/onlinepremiumoutlet.github.io</td>\n",
       "      <td>artistic-2.0</td>\n",
       "    </tr>\n",
       "    <tr>\n",
       "      <th>4</th>\n",
       "      <td>huangyuanlove/LiaoBa_Service</td>\n",
       "      <td>artistic-2.0</td>\n",
       "    </tr>\n",
       "  </tbody>\n",
       "</table>\n",
       "</div>"
      ],
      "text/plain": [
       "                                           repo_name       license\n",
       "0             autarch/Dist-Zilla-Plugin-Test-TidyAll  artistic-2.0\n",
       "1                           thundergnat/Prime-Factor  artistic-2.0\n",
       "2                       kusha-b-k/Turabian_Engin_Fan  artistic-2.0\n",
       "3  onlinepremiumoutlet/onlinepremiumoutlet.github.io  artistic-2.0\n",
       "4                       huangyuanlove/LiaoBa_Service  artistic-2.0"
      ]
     },
     "execution_count": 1,
     "metadata": {},
     "output_type": "execute_result"
    }
   ],
   "source": [
    "\n",
    "from google.cloud import bigquery\n",
    "\n",
    "# Create a \"Client\" object\n",
    "client = bigquery.Client()\n",
    "\n",
    "# Construct a reference to the \"github_repos\" dataset\n",
    "dataset_ref = client.dataset(\"github_repos\", project=\"bigquery-public-data\")\n",
    "\n",
    "# API request - fetch the dataset\n",
    "dataset = client.get_dataset(dataset_ref)\n",
    "\n",
    "# Construct a reference to the \"licenses\" table\n",
    "licenses_ref = dataset_ref.table(\"licenses\")\n",
    "\n",
    "# API request - fetch the table\n",
    "licenses_table = client.get_table(licenses_ref)\n",
    "\n",
    "# Preview the first five lines of the \"licenses\" table\n",
    "client.list_rows(licenses_table, max_results=5).to_dataframe()"
   ]
  },
  {
   "cell_type": "markdown",
   "id": "046eacf4",
   "metadata": {
    "papermill": {
     "duration": 0.003198,
     "end_time": "2023-04-20T18:20:40.378839",
     "exception": false,
     "start_time": "2023-04-20T18:20:40.375641",
     "status": "completed"
    },
    "tags": []
   },
   "source": [
    "The second table is the `sample_files` table, which provides, among other information, the GitHub repo that each file belongs to (in the `repo_name` column).  The first several rows of this table are printed below."
   ]
  },
  {
   "cell_type": "code",
   "execution_count": 2,
   "id": "1636c39d",
   "metadata": {
    "_kg_hide-input": true,
    "execution": {
     "iopub.execute_input": "2023-04-20T18:20:40.387713Z",
     "iopub.status.busy": "2023-04-20T18:20:40.386884Z",
     "iopub.status.idle": "2023-04-20T18:20:41.251316Z",
     "shell.execute_reply": "2023-04-20T18:20:41.250155Z"
    },
    "papermill": {
     "duration": 0.871847,
     "end_time": "2023-04-20T18:20:41.253890",
     "exception": false,
     "start_time": "2023-04-20T18:20:40.382043",
     "status": "completed"
    },
    "tags": []
   },
   "outputs": [
    {
     "name": "stderr",
     "output_type": "stream",
     "text": [
      "/opt/conda/lib/python3.7/site-packages/ipykernel_launcher.py:8: UserWarning: Cannot use bqstorage_client if max_results is set, reverting to fetching data with the tabledata.list endpoint.\n",
      "  \n"
     ]
    },
    {
     "data": {
      "text/html": [
       "<div>\n",
       "<style scoped>\n",
       "    .dataframe tbody tr th:only-of-type {\n",
       "        vertical-align: middle;\n",
       "    }\n",
       "\n",
       "    .dataframe tbody tr th {\n",
       "        vertical-align: top;\n",
       "    }\n",
       "\n",
       "    .dataframe thead th {\n",
       "        text-align: right;\n",
       "    }\n",
       "</style>\n",
       "<table border=\"1\" class=\"dataframe\">\n",
       "  <thead>\n",
       "    <tr style=\"text-align: right;\">\n",
       "      <th></th>\n",
       "      <th>repo_name</th>\n",
       "      <th>ref</th>\n",
       "      <th>path</th>\n",
       "      <th>mode</th>\n",
       "      <th>id</th>\n",
       "      <th>symlink_target</th>\n",
       "    </tr>\n",
       "  </thead>\n",
       "  <tbody>\n",
       "    <tr>\n",
       "      <th>0</th>\n",
       "      <td>EOL/eol</td>\n",
       "      <td>refs/heads/master</td>\n",
       "      <td>generate/vendor/railties</td>\n",
       "      <td>40960</td>\n",
       "      <td>0338c33fb3fda57db9e812ac7de969317cad4959</td>\n",
       "      <td>/usr/share/rails-ruby1.8/railties</td>\n",
       "    </tr>\n",
       "    <tr>\n",
       "      <th>1</th>\n",
       "      <td>np/ling</td>\n",
       "      <td>refs/heads/master</td>\n",
       "      <td>tests/success/merger_seq_inferred.t/merger_seq...</td>\n",
       "      <td>40960</td>\n",
       "      <td>dd4bb3d5ecabe5044d3fa5a36e0a9bf7ca878209</td>\n",
       "      <td>../../../fixtures/all/merger_seq_inferred.ll</td>\n",
       "    </tr>\n",
       "    <tr>\n",
       "      <th>2</th>\n",
       "      <td>np/ling</td>\n",
       "      <td>refs/heads/master</td>\n",
       "      <td>fixtures/sequence/lettype.ll</td>\n",
       "      <td>40960</td>\n",
       "      <td>8fdf536def2633116d65b92b3b9257bcf06e3e45</td>\n",
       "      <td>../all/lettype.ll</td>\n",
       "    </tr>\n",
       "    <tr>\n",
       "      <th>3</th>\n",
       "      <td>np/ling</td>\n",
       "      <td>refs/heads/master</td>\n",
       "      <td>fixtures/failure/wrong_order_seq3.ll</td>\n",
       "      <td>40960</td>\n",
       "      <td>c2509ae1196c4bb79d7e60a3d679488ca4a753e9</td>\n",
       "      <td>../all/wrong_order_seq3.ll</td>\n",
       "    </tr>\n",
       "    <tr>\n",
       "      <th>4</th>\n",
       "      <td>np/ling</td>\n",
       "      <td>refs/heads/master</td>\n",
       "      <td>issues/sequence/keep.t</td>\n",
       "      <td>40960</td>\n",
       "      <td>5721de3488fb32745dfc11ec482e5dd0331fecaf</td>\n",
       "      <td>../keep.t</td>\n",
       "    </tr>\n",
       "  </tbody>\n",
       "</table>\n",
       "</div>"
      ],
      "text/plain": [
       "  repo_name                ref  \\\n",
       "0   EOL/eol  refs/heads/master   \n",
       "1   np/ling  refs/heads/master   \n",
       "2   np/ling  refs/heads/master   \n",
       "3   np/ling  refs/heads/master   \n",
       "4   np/ling  refs/heads/master   \n",
       "\n",
       "                                                path   mode  \\\n",
       "0                           generate/vendor/railties  40960   \n",
       "1  tests/success/merger_seq_inferred.t/merger_seq...  40960   \n",
       "2                       fixtures/sequence/lettype.ll  40960   \n",
       "3               fixtures/failure/wrong_order_seq3.ll  40960   \n",
       "4                             issues/sequence/keep.t  40960   \n",
       "\n",
       "                                         id  \\\n",
       "0  0338c33fb3fda57db9e812ac7de969317cad4959   \n",
       "1  dd4bb3d5ecabe5044d3fa5a36e0a9bf7ca878209   \n",
       "2  8fdf536def2633116d65b92b3b9257bcf06e3e45   \n",
       "3  c2509ae1196c4bb79d7e60a3d679488ca4a753e9   \n",
       "4  5721de3488fb32745dfc11ec482e5dd0331fecaf   \n",
       "\n",
       "                                 symlink_target  \n",
       "0             /usr/share/rails-ruby1.8/railties  \n",
       "1  ../../../fixtures/all/merger_seq_inferred.ll  \n",
       "2                             ../all/lettype.ll  \n",
       "3                    ../all/wrong_order_seq3.ll  \n",
       "4                                     ../keep.t  "
      ]
     },
     "execution_count": 2,
     "metadata": {},
     "output_type": "execute_result"
    }
   ],
   "source": [
    "\n",
    "# Construct a reference to the \"sample_files\" table\n",
    "files_ref = dataset_ref.table(\"sample_files\")\n",
    "\n",
    "# API request - fetch the table\n",
    "files_table = client.get_table(files_ref)\n",
    "\n",
    "# Preview the first five lines of the \"sample_files\" table\n",
    "client.list_rows(files_table, max_results=5).to_dataframe()"
   ]
  },
  {
   "cell_type": "markdown",
   "id": "1d4d76c9",
   "metadata": {
    "papermill": {
     "duration": 0.003438,
     "end_time": "2023-04-20T18:20:41.261209",
     "exception": false,
     "start_time": "2023-04-20T18:20:41.257771",
     "status": "completed"
    },
    "tags": []
   },
   "source": [
    "Next, we write a query that uses information in both tables to determine how many files are released in each license."
   ]
  },
  {
   "cell_type": "code",
   "execution_count": 3,
   "id": "0eafba95",
   "metadata": {
    "execution": {
     "iopub.execute_input": "2023-04-20T18:20:41.270397Z",
     "iopub.status.busy": "2023-04-20T18:20:41.269955Z",
     "iopub.status.idle": "2023-04-20T18:20:45.519768Z",
     "shell.execute_reply": "2023-04-20T18:20:45.518326Z"
    },
    "papermill": {
     "duration": 4.257857,
     "end_time": "2023-04-20T18:20:45.522654",
     "exception": false,
     "start_time": "2023-04-20T18:20:41.264797",
     "status": "completed"
    },
    "tags": []
   },
   "outputs": [
    {
     "name": "stderr",
     "output_type": "stream",
     "text": [
      "/opt/conda/lib/python3.7/site-packages/google/cloud/bigquery/client.py:440: UserWarning: Cannot create BigQuery Storage client, the dependency google-cloud-bigquery-storage is not installed.\n",
      "  \"Cannot create BigQuery Storage client, the dependency \"\n"
     ]
    }
   ],
   "source": [
    "# Query to determine the number of files per license, sorted by number of files\n",
    "query = \"\"\"\n",
    "        SELECT L.license, COUNT(1) AS number_of_files\n",
    "        FROM `bigquery-public-data.github_repos.sample_files` AS sf\n",
    "        INNER JOIN `bigquery-public-data.github_repos.licenses` AS L \n",
    "            ON sf.repo_name = L.repo_name\n",
    "        GROUP BY L.license\n",
    "        ORDER BY number_of_files DESC\n",
    "        \"\"\"\n",
    "\n",
    "# Set up the query (cancel the query if it would use too much of \n",
    "# your quota, with the limit set to 10 GB)\n",
    "safe_config = bigquery.QueryJobConfig(maximum_bytes_billed=10**10)\n",
    "query_job = client.query(query, job_config=safe_config)\n",
    "\n",
    "# API request - run the query, and convert the results to a pandas DataFrame\n",
    "file_count_by_license = query_job.to_dataframe()"
   ]
  },
  {
   "cell_type": "markdown",
   "id": "4555c357",
   "metadata": {
    "papermill": {
     "duration": 0.003844,
     "end_time": "2023-04-20T18:20:45.530992",
     "exception": false,
     "start_time": "2023-04-20T18:20:45.527148",
     "status": "completed"
    },
    "tags": []
   },
   "source": [
    "It's a big query, and so we'll investigate each piece separately.\n",
    "\n",
    "![](https://storage.googleapis.com/kaggle-media/learn/images/QeufD01.png)\n",
    "    \n",
    "We'll begin with the **JOIN** (highlighted in blue above).  This specifies the sources of data and how to join them. We use **ON** to specify that we combine the tables by matching the values in the `repo_name` columns in the tables.\n",
    "\n",
    "Next, we'll talk about **SELECT** and **GROUP BY** (highlighted in yellow).  The **GROUP BY** breaks the data into a different group for each license, before we **COUNT** the number of rows in the `sample_files` table that corresponds to each license.  (Remember that you can count the number of rows with `COUNT(1)`.) \n",
    "\n",
    "Finally, the **ORDER BY** (highlighted in purple) sorts the results so that licenses with more files appear first.\n",
    "\n",
    "It was a big query, but it gave us a nice table summarizing how many files have been committed under each license:  "
   ]
  },
  {
   "cell_type": "code",
   "execution_count": 4,
   "id": "830ddfaf",
   "metadata": {
    "execution": {
     "iopub.execute_input": "2023-04-20T18:20:45.541284Z",
     "iopub.status.busy": "2023-04-20T18:20:45.540869Z",
     "iopub.status.idle": "2023-04-20T18:20:45.551573Z",
     "shell.execute_reply": "2023-04-20T18:20:45.550476Z"
    },
    "papermill": {
     "duration": 0.01907,
     "end_time": "2023-04-20T18:20:45.554181",
     "exception": false,
     "start_time": "2023-04-20T18:20:45.535111",
     "status": "completed"
    },
    "tags": []
   },
   "outputs": [
    {
     "data": {
      "text/html": [
       "<div>\n",
       "<style scoped>\n",
       "    .dataframe tbody tr th:only-of-type {\n",
       "        vertical-align: middle;\n",
       "    }\n",
       "\n",
       "    .dataframe tbody tr th {\n",
       "        vertical-align: top;\n",
       "    }\n",
       "\n",
       "    .dataframe thead th {\n",
       "        text-align: right;\n",
       "    }\n",
       "</style>\n",
       "<table border=\"1\" class=\"dataframe\">\n",
       "  <thead>\n",
       "    <tr style=\"text-align: right;\">\n",
       "      <th></th>\n",
       "      <th>license</th>\n",
       "      <th>number_of_files</th>\n",
       "    </tr>\n",
       "  </thead>\n",
       "  <tbody>\n",
       "    <tr>\n",
       "      <th>0</th>\n",
       "      <td>mit</td>\n",
       "      <td>20560894</td>\n",
       "    </tr>\n",
       "    <tr>\n",
       "      <th>1</th>\n",
       "      <td>gpl-2.0</td>\n",
       "      <td>16608922</td>\n",
       "    </tr>\n",
       "    <tr>\n",
       "      <th>2</th>\n",
       "      <td>apache-2.0</td>\n",
       "      <td>7201141</td>\n",
       "    </tr>\n",
       "    <tr>\n",
       "      <th>3</th>\n",
       "      <td>gpl-3.0</td>\n",
       "      <td>5107676</td>\n",
       "    </tr>\n",
       "    <tr>\n",
       "      <th>4</th>\n",
       "      <td>bsd-3-clause</td>\n",
       "      <td>3465437</td>\n",
       "    </tr>\n",
       "    <tr>\n",
       "      <th>5</th>\n",
       "      <td>agpl-3.0</td>\n",
       "      <td>1372100</td>\n",
       "    </tr>\n",
       "    <tr>\n",
       "      <th>6</th>\n",
       "      <td>lgpl-2.1</td>\n",
       "      <td>799664</td>\n",
       "    </tr>\n",
       "    <tr>\n",
       "      <th>7</th>\n",
       "      <td>bsd-2-clause</td>\n",
       "      <td>692357</td>\n",
       "    </tr>\n",
       "    <tr>\n",
       "      <th>8</th>\n",
       "      <td>lgpl-3.0</td>\n",
       "      <td>582277</td>\n",
       "    </tr>\n",
       "    <tr>\n",
       "      <th>9</th>\n",
       "      <td>mpl-2.0</td>\n",
       "      <td>457000</td>\n",
       "    </tr>\n",
       "    <tr>\n",
       "      <th>10</th>\n",
       "      <td>cc0-1.0</td>\n",
       "      <td>449149</td>\n",
       "    </tr>\n",
       "    <tr>\n",
       "      <th>11</th>\n",
       "      <td>epl-1.0</td>\n",
       "      <td>322255</td>\n",
       "    </tr>\n",
       "    <tr>\n",
       "      <th>12</th>\n",
       "      <td>unlicense</td>\n",
       "      <td>208602</td>\n",
       "    </tr>\n",
       "    <tr>\n",
       "      <th>13</th>\n",
       "      <td>artistic-2.0</td>\n",
       "      <td>147391</td>\n",
       "    </tr>\n",
       "    <tr>\n",
       "      <th>14</th>\n",
       "      <td>isc</td>\n",
       "      <td>118332</td>\n",
       "    </tr>\n",
       "  </tbody>\n",
       "</table>\n",
       "</div>"
      ],
      "text/plain": [
       "         license  number_of_files\n",
       "0            mit         20560894\n",
       "1        gpl-2.0         16608922\n",
       "2     apache-2.0          7201141\n",
       "3        gpl-3.0          5107676\n",
       "4   bsd-3-clause          3465437\n",
       "5       agpl-3.0          1372100\n",
       "6       lgpl-2.1           799664\n",
       "7   bsd-2-clause           692357\n",
       "8       lgpl-3.0           582277\n",
       "9        mpl-2.0           457000\n",
       "10       cc0-1.0           449149\n",
       "11       epl-1.0           322255\n",
       "12     unlicense           208602\n",
       "13  artistic-2.0           147391\n",
       "14           isc           118332"
      ]
     },
     "execution_count": 4,
     "metadata": {},
     "output_type": "execute_result"
    }
   ],
   "source": [
    "# Print the DataFrame\n",
    "file_count_by_license"
   ]
  },
  {
   "cell_type": "markdown",
   "id": "4f6e4da0",
   "metadata": {
    "papermill": {
     "duration": 0.003881,
     "end_time": "2023-04-20T18:20:45.562284",
     "exception": false,
     "start_time": "2023-04-20T18:20:45.558403",
     "status": "completed"
    },
    "tags": []
   },
   "source": [
    "You'll use **JOIN** clauses a lot and get very efficient with them as you get some practice.\n",
    "\n",
    "# Your turn\n",
    "\n",
    "You are on the last step.  Finish it by solving **[these exercises](https://www.kaggle.com/kernels/fork/682118)**."
   ]
  },
  {
   "cell_type": "markdown",
   "id": "7f7609e4",
   "metadata": {
    "papermill": {
     "duration": 0.003722,
     "end_time": "2023-04-20T18:20:45.570033",
     "exception": false,
     "start_time": "2023-04-20T18:20:45.566311",
     "status": "completed"
    },
    "tags": []
   },
   "source": [
    "---\n",
    "\n",
    "\n",
    "\n",
    "\n",
    "*Have questions or comments? Visit the [course discussion forum](https://www.kaggle.com/learn/intro-to-sql/discussion) to chat with other learners.*"
   ]
  }
 ],
 "metadata": {
  "kernelspec": {
   "display_name": "Python 3",
   "language": "python",
   "name": "python3"
  },
  "language_info": {
   "codemirror_mode": {
    "name": "ipython",
    "version": 3
   },
   "file_extension": ".py",
   "mimetype": "text/x-python",
   "name": "python",
   "nbconvert_exporter": "python",
   "pygments_lexer": "ipython3",
   "version": "3.7.12"
  },
  "papermill": {
   "default_parameters": {},
   "duration": 17.351364,
   "end_time": "2023-04-20T18:20:46.297221",
   "environment_variables": {},
   "exception": null,
   "input_path": "__notebook__.ipynb",
   "output_path": "__notebook__.ipynb",
   "parameters": {},
   "start_time": "2023-04-20T18:20:28.945857",
   "version": "2.4.0"
  }
 },
 "nbformat": 4,
 "nbformat_minor": 5
}
