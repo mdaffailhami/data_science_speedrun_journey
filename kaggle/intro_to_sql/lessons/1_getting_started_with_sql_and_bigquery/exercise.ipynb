{
 "cells": [
  {
   "cell_type": "markdown",
   "id": "25f767bf",
   "metadata": {
    "papermill": {
     "duration": 0.005882,
     "end_time": "2024-08-26T13:59:43.648836",
     "exception": false,
     "start_time": "2024-08-26T13:59:43.642954",
     "status": "completed"
    },
    "tags": []
   },
   "source": [
    "**This notebook is an exercise in the [SQL](https://www.kaggle.com/learn/intro-to-sql) course.  You can reference the tutorial at [this link](https://www.kaggle.com/dansbecker/getting-started-with-sql-and-bigquery).**\n",
    "\n",
    "---\n"
   ]
  },
  {
   "cell_type": "markdown",
   "id": "d5c6ed2f",
   "metadata": {
    "papermill": {
     "duration": 0.005109,
     "end_time": "2024-08-26T13:59:43.659277",
     "exception": false,
     "start_time": "2024-08-26T13:59:43.654168",
     "status": "completed"
    },
    "tags": []
   },
   "source": [
    "# Introduction\n",
    "\n",
    "The first test of your new data exploration skills uses data describing crime in the city of Chicago.\n",
    "\n",
    "Before you get started, run the following cell. It sets up the automated feedback system to review your answers."
   ]
  },
  {
   "cell_type": "code",
   "execution_count": 1,
   "id": "f3a82bc0",
   "metadata": {
    "execution": {
     "iopub.execute_input": "2024-08-26T13:59:43.670897Z",
     "iopub.status.busy": "2024-08-26T13:59:43.670501Z",
     "iopub.status.idle": "2024-08-26T13:59:50.300264Z",
     "shell.execute_reply": "2024-08-26T13:59:50.299072Z"
    },
    "papermill": {
     "duration": 6.638205,
     "end_time": "2024-08-26T13:59:50.302567",
     "exception": false,
     "start_time": "2024-08-26T13:59:43.664362",
     "status": "completed"
    },
    "tags": []
   },
   "outputs": [
    {
     "name": "stdout",
     "output_type": "stream",
     "text": [
      "Using Kaggle's public dataset BigQuery integration.\n",
      "Setup Complete\n"
     ]
    }
   ],
   "source": [
    "# Set up feedack system\n",
    "from learntools.core import binder\n",
    "binder.bind(globals())\n",
    "from learntools.sql.ex1 import *\n",
    "print(\"Setup Complete\")"
   ]
  },
  {
   "cell_type": "markdown",
   "id": "0ccf2e7e",
   "metadata": {
    "papermill": {
     "duration": 0.005074,
     "end_time": "2024-08-26T13:59:50.313212",
     "exception": false,
     "start_time": "2024-08-26T13:59:50.308138",
     "status": "completed"
    },
    "tags": []
   },
   "source": [
    "Use the next code cell to fetch the dataset."
   ]
  },
  {
   "cell_type": "code",
   "execution_count": 2,
   "id": "44059a6b",
   "metadata": {
    "execution": {
     "iopub.execute_input": "2024-08-26T13:59:50.325132Z",
     "iopub.status.busy": "2024-08-26T13:59:50.324557Z",
     "iopub.status.idle": "2024-08-26T13:59:51.326051Z",
     "shell.execute_reply": "2024-08-26T13:59:51.324924Z"
    },
    "papermill": {
     "duration": 1.010207,
     "end_time": "2024-08-26T13:59:51.328455",
     "exception": false,
     "start_time": "2024-08-26T13:59:50.318248",
     "status": "completed"
    },
    "tags": []
   },
   "outputs": [
    {
     "name": "stdout",
     "output_type": "stream",
     "text": [
      "Using Kaggle's public dataset BigQuery integration.\n"
     ]
    }
   ],
   "source": [
    "from google.cloud import bigquery\n",
    "\n",
    "# Create a \"Client\" object\n",
    "client = bigquery.Client()\n",
    "\n",
    "# Construct a reference to the \"chicago_crime\" dataset\n",
    "dataset_ref = client.dataset(\"chicago_crime\", project=\"bigquery-public-data\")\n",
    "\n",
    "# API request - fetch the dataset\n",
    "dataset = client.get_dataset(dataset_ref)"
   ]
  },
  {
   "cell_type": "markdown",
   "id": "31d36081",
   "metadata": {
    "papermill": {
     "duration": 0.005154,
     "end_time": "2024-08-26T13:59:51.339003",
     "exception": false,
     "start_time": "2024-08-26T13:59:51.333849",
     "status": "completed"
    },
    "tags": []
   },
   "source": [
    "# Exercises\n",
    "\n",
    "### 1) Count tables in the dataset\n",
    "\n",
    "How many tables are in the Chicago Crime dataset?"
   ]
  },
  {
   "cell_type": "code",
   "execution_count": 3,
   "id": "7cb93191",
   "metadata": {
    "execution": {
     "iopub.execute_input": "2024-08-26T13:59:51.351407Z",
     "iopub.status.busy": "2024-08-26T13:59:51.350420Z",
     "iopub.status.idle": "2024-08-26T13:59:52.285317Z",
     "shell.execute_reply": "2024-08-26T13:59:52.284065Z"
    },
    "papermill": {
     "duration": 0.943519,
     "end_time": "2024-08-26T13:59:52.287608",
     "exception": false,
     "start_time": "2024-08-26T13:59:51.344089",
     "status": "completed"
    },
    "tags": []
   },
   "outputs": [
    {
     "name": "stdout",
     "output_type": "stream",
     "text": [
      "<class 'list'>\n",
      "[<google.cloud.bigquery.table.TableListItem object at 0x7b51a969a890>]\n",
      "crime\n"
     ]
    }
   ],
   "source": [
    "# Write the code you need here to figure out the answer\n",
    "tables = list(client.list_tables(dataset))  # Store the answer as num_tables and then run this cell\n",
    "\n",
    "print(type(tables))\n",
    "print(tables)\n",
    "\n",
    "for table in tables:\n",
    "    print(table.table_id)"
   ]
  },
  {
   "cell_type": "code",
   "execution_count": 4,
   "id": "276395ee",
   "metadata": {
    "execution": {
     "iopub.execute_input": "2024-08-26T13:59:52.299910Z",
     "iopub.status.busy": "2024-08-26T13:59:52.299505Z",
     "iopub.status.idle": "2024-08-26T13:59:52.309584Z",
     "shell.execute_reply": "2024-08-26T13:59:52.308649Z"
    },
    "papermill": {
     "duration": 0.018735,
     "end_time": "2024-08-26T13:59:52.311759",
     "exception": false,
     "start_time": "2024-08-26T13:59:52.293024",
     "status": "completed"
    },
    "tags": []
   },
   "outputs": [
    {
     "name": "stdout",
     "output_type": "stream",
     "text": [
      "1\n"
     ]
    },
    {
     "data": {
      "application/javascript": [
       "parent.postMessage({\"jupyterEvent\": \"custom.exercise_interaction\", \"data\": {\"outcomeType\": 1, \"valueTowardsCompletion\": 0.3333333333333333, \"interactionType\": 1, \"questionType\": 1, \"questionId\": \"1_CountTables\", \"learnToolsVersion\": \"0.3.4\", \"failureMessage\": \"\", \"exceptionClass\": \"\", \"trace\": \"\"}}, \"*\")"
      ],
      "text/plain": [
       "<IPython.core.display.Javascript object>"
      ]
     },
     "metadata": {},
     "output_type": "display_data"
    },
    {
     "data": {
      "text/markdown": [
       "<span style=\"color:#33cc33\">Correct</span>"
      ],
      "text/plain": [
       "Correct"
      ]
     },
     "metadata": {},
     "output_type": "display_data"
    }
   ],
   "source": [
    "num_tables = len(tables)  # Store the answer as num_tables and then run this cell\n",
    "\n",
    "print(num_tables)\n",
    "\n",
    "# Check your answer\n",
    "q_1.check()"
   ]
  },
  {
   "cell_type": "markdown",
   "id": "6476f586",
   "metadata": {
    "papermill": {
     "duration": 0.005181,
     "end_time": "2024-08-26T13:59:52.322446",
     "exception": false,
     "start_time": "2024-08-26T13:59:52.317265",
     "status": "completed"
    },
    "tags": []
   },
   "source": [
    "For a hint or the solution, uncomment the appropriate line below."
   ]
  },
  {
   "cell_type": "code",
   "execution_count": 5,
   "id": "fea0b9cd",
   "metadata": {
    "execution": {
     "iopub.execute_input": "2024-08-26T13:59:52.335173Z",
     "iopub.status.busy": "2024-08-26T13:59:52.334443Z",
     "iopub.status.idle": "2024-08-26T13:59:52.338637Z",
     "shell.execute_reply": "2024-08-26T13:59:52.337697Z"
    },
    "papermill": {
     "duration": 0.013061,
     "end_time": "2024-08-26T13:59:52.340831",
     "exception": false,
     "start_time": "2024-08-26T13:59:52.327770",
     "status": "completed"
    },
    "tags": []
   },
   "outputs": [],
   "source": [
    "#q_1.hint()\n",
    "#q_1.solution()"
   ]
  },
  {
   "cell_type": "markdown",
   "id": "379df4d6",
   "metadata": {
    "papermill": {
     "duration": 0.005187,
     "end_time": "2024-08-26T13:59:52.351594",
     "exception": false,
     "start_time": "2024-08-26T13:59:52.346407",
     "status": "completed"
    },
    "tags": []
   },
   "source": [
    "### 2) Explore the table schema\n",
    "\n",
    "How many columns in the `crime` table have `TIMESTAMP` data?"
   ]
  },
  {
   "cell_type": "code",
   "execution_count": 6,
   "id": "2a36780a",
   "metadata": {
    "execution": {
     "iopub.execute_input": "2024-08-26T13:59:52.364829Z",
     "iopub.status.busy": "2024-08-26T13:59:52.363730Z",
     "iopub.status.idle": "2024-08-26T13:59:53.351564Z",
     "shell.execute_reply": "2024-08-26T13:59:53.350637Z"
    },
    "papermill": {
     "duration": 0.996878,
     "end_time": "2024-08-26T13:59:53.353921",
     "exception": false,
     "start_time": "2024-08-26T13:59:52.357043",
     "status": "completed"
    },
    "tags": []
   },
   "outputs": [],
   "source": [
    "# Write the code to figure out the answer\n",
    "table_ref = dataset_ref.table('crime')\n",
    "\n",
    "table = client.get_table(table_ref)\n",
    "\n",
    "answer = 0\n",
    "\n",
    "for field in table.schema:\n",
    "    if field.field_type == 'TIMESTAMP':\n",
    "        answer += 1"
   ]
  },
  {
   "cell_type": "code",
   "execution_count": 7,
   "id": "7d83e237",
   "metadata": {
    "execution": {
     "iopub.execute_input": "2024-08-26T13:59:53.367222Z",
     "iopub.status.busy": "2024-08-26T13:59:53.366472Z",
     "iopub.status.idle": "2024-08-26T13:59:53.376283Z",
     "shell.execute_reply": "2024-08-26T13:59:53.375099Z"
    },
    "papermill": {
     "duration": 0.018589,
     "end_time": "2024-08-26T13:59:53.378273",
     "exception": false,
     "start_time": "2024-08-26T13:59:53.359684",
     "status": "completed"
    },
    "tags": []
   },
   "outputs": [
    {
     "name": "stdout",
     "output_type": "stream",
     "text": [
      "2\n"
     ]
    },
    {
     "data": {
      "application/javascript": [
       "parent.postMessage({\"jupyterEvent\": \"custom.exercise_interaction\", \"data\": {\"outcomeType\": 1, \"valueTowardsCompletion\": 0.3333333333333333, \"interactionType\": 1, \"questionType\": 1, \"questionId\": \"2_CountTimestampFields\", \"learnToolsVersion\": \"0.3.4\", \"failureMessage\": \"\", \"exceptionClass\": \"\", \"trace\": \"\"}}, \"*\")"
      ],
      "text/plain": [
       "<IPython.core.display.Javascript object>"
      ]
     },
     "metadata": {},
     "output_type": "display_data"
    },
    {
     "data": {
      "text/markdown": [
       "<span style=\"color:#33cc33\">Correct</span>"
      ],
      "text/plain": [
       "Correct"
      ]
     },
     "metadata": {},
     "output_type": "display_data"
    }
   ],
   "source": [
    "num_timestamp_fields = answer # Put your answer here\n",
    "\n",
    "print(num_timestamp_fields)\n",
    "\n",
    "# Check your answer\n",
    "q_2.check()"
   ]
  },
  {
   "cell_type": "markdown",
   "id": "4dcca1b2",
   "metadata": {
    "papermill": {
     "duration": 0.005591,
     "end_time": "2024-08-26T13:59:53.389762",
     "exception": false,
     "start_time": "2024-08-26T13:59:53.384171",
     "status": "completed"
    },
    "tags": []
   },
   "source": [
    "For a hint or the solution, uncomment the appropriate line below."
   ]
  },
  {
   "cell_type": "code",
   "execution_count": 8,
   "id": "956447af",
   "metadata": {
    "execution": {
     "iopub.execute_input": "2024-08-26T13:59:53.403431Z",
     "iopub.status.busy": "2024-08-26T13:59:53.402635Z",
     "iopub.status.idle": "2024-08-26T13:59:53.407108Z",
     "shell.execute_reply": "2024-08-26T13:59:53.406114Z"
    },
    "papermill": {
     "duration": 0.013548,
     "end_time": "2024-08-26T13:59:53.409207",
     "exception": false,
     "start_time": "2024-08-26T13:59:53.395659",
     "status": "completed"
    },
    "tags": []
   },
   "outputs": [],
   "source": [
    "#q_2.hint()\n",
    "#q_2.solution()"
   ]
  },
  {
   "cell_type": "markdown",
   "id": "8a46da15",
   "metadata": {
    "papermill": {
     "duration": 0.00565,
     "end_time": "2024-08-26T13:59:53.420764",
     "exception": false,
     "start_time": "2024-08-26T13:59:53.415114",
     "status": "completed"
    },
    "tags": []
   },
   "source": [
    "### 3) Create a crime map\n",
    "\n",
    "If you wanted to create a map with a dot at the location of each crime, what are the names of the two fields you likely need to pull out of the `crime` table to plot the crimes on a map?"
   ]
  },
  {
   "cell_type": "code",
   "execution_count": 9,
   "id": "017adb87",
   "metadata": {
    "execution": {
     "iopub.execute_input": "2024-08-26T13:59:53.434292Z",
     "iopub.status.busy": "2024-08-26T13:59:53.433879Z",
     "iopub.status.idle": "2024-08-26T13:59:55.129601Z",
     "shell.execute_reply": "2024-08-26T13:59:55.128554Z"
    },
    "papermill": {
     "duration": 1.705088,
     "end_time": "2024-08-26T13:59:55.131745",
     "exception": false,
     "start_time": "2024-08-26T13:59:53.426657",
     "status": "completed"
    },
    "tags": []
   },
   "outputs": [
    {
     "data": {
      "text/html": [
       "<div>\n",
       "<style scoped>\n",
       "    .dataframe tbody tr th:only-of-type {\n",
       "        vertical-align: middle;\n",
       "    }\n",
       "\n",
       "    .dataframe tbody tr th {\n",
       "        vertical-align: top;\n",
       "    }\n",
       "\n",
       "    .dataframe thead th {\n",
       "        text-align: right;\n",
       "    }\n",
       "</style>\n",
       "<table border=\"1\" class=\"dataframe\">\n",
       "  <thead>\n",
       "    <tr style=\"text-align: right;\">\n",
       "      <th></th>\n",
       "      <th>unique_key</th>\n",
       "      <th>case_number</th>\n",
       "      <th>date</th>\n",
       "      <th>block</th>\n",
       "      <th>iucr</th>\n",
       "      <th>primary_type</th>\n",
       "      <th>description</th>\n",
       "      <th>location_description</th>\n",
       "      <th>arrest</th>\n",
       "      <th>domestic</th>\n",
       "      <th>...</th>\n",
       "      <th>ward</th>\n",
       "      <th>community_area</th>\n",
       "      <th>fbi_code</th>\n",
       "      <th>x_coordinate</th>\n",
       "      <th>y_coordinate</th>\n",
       "      <th>year</th>\n",
       "      <th>updated_on</th>\n",
       "      <th>latitude</th>\n",
       "      <th>longitude</th>\n",
       "      <th>location</th>\n",
       "    </tr>\n",
       "  </thead>\n",
       "  <tbody>\n",
       "    <tr>\n",
       "      <th>0</th>\n",
       "      <td>11647156</td>\n",
       "      <td>JC214800</td>\n",
       "      <td>2019-04-07 02:45:00+00:00</td>\n",
       "      <td>0000X W LAKE ST</td>\n",
       "      <td>0291</td>\n",
       "      <td>CRIM SEXUAL ASSAULT</td>\n",
       "      <td>ATTEMPT NON-AGGRAVATED</td>\n",
       "      <td>SIDEWALK</td>\n",
       "      <td>False</td>\n",
       "      <td>False</td>\n",
       "      <td>...</td>\n",
       "      <td>42</td>\n",
       "      <td>32</td>\n",
       "      <td>02</td>\n",
       "      <td>1176122.0</td>\n",
       "      <td>1901745.0</td>\n",
       "      <td>2019</td>\n",
       "      <td>2019-04-14 16:04:11+00:00</td>\n",
       "      <td>41.885750</td>\n",
       "      <td>-87.628697</td>\n",
       "      <td>(41.88575001, -87.628696601)</td>\n",
       "    </tr>\n",
       "    <tr>\n",
       "      <th>1</th>\n",
       "      <td>7758108</td>\n",
       "      <td>HS566131</td>\n",
       "      <td>2010-10-10 16:30:00+00:00</td>\n",
       "      <td>004XX W JACKSON BLVD</td>\n",
       "      <td>0313</td>\n",
       "      <td>ROBBERY</td>\n",
       "      <td>ARMED: OTHER DANGEROUS WEAPON</td>\n",
       "      <td>SIDEWALK</td>\n",
       "      <td>False</td>\n",
       "      <td>False</td>\n",
       "      <td>...</td>\n",
       "      <td>2</td>\n",
       "      <td>28</td>\n",
       "      <td>03</td>\n",
       "      <td>1173388.0</td>\n",
       "      <td>1898918.0</td>\n",
       "      <td>2010</td>\n",
       "      <td>2018-02-10 15:50:01+00:00</td>\n",
       "      <td>41.878054</td>\n",
       "      <td>-87.638820</td>\n",
       "      <td>(41.878053708, -87.638820324)</td>\n",
       "    </tr>\n",
       "    <tr>\n",
       "      <th>2</th>\n",
       "      <td>2439005</td>\n",
       "      <td>HH761613</td>\n",
       "      <td>2002-11-05 21:43:08+00:00</td>\n",
       "      <td>003XX S CANAL ST</td>\n",
       "      <td>031A</td>\n",
       "      <td>ROBBERY</td>\n",
       "      <td>ARMED: HANDGUN</td>\n",
       "      <td>PARKING LOT/GARAGE(NON.RESID.)</td>\n",
       "      <td>False</td>\n",
       "      <td>False</td>\n",
       "      <td>...</td>\n",
       "      <td>2</td>\n",
       "      <td>28</td>\n",
       "      <td>03</td>\n",
       "      <td>1173190.0</td>\n",
       "      <td>1898749.0</td>\n",
       "      <td>2002</td>\n",
       "      <td>2018-02-28 15:56:25+00:00</td>\n",
       "      <td>41.877594</td>\n",
       "      <td>-87.639552</td>\n",
       "      <td>(41.877594356, -87.639552342)</td>\n",
       "    </tr>\n",
       "    <tr>\n",
       "      <th>3</th>\n",
       "      <td>5946964</td>\n",
       "      <td>HN746118</td>\n",
       "      <td>2007-12-06 22:55:00+00:00</td>\n",
       "      <td>001XX N FRANKLIN ST</td>\n",
       "      <td>031A</td>\n",
       "      <td>ROBBERY</td>\n",
       "      <td>ARMED: HANDGUN</td>\n",
       "      <td>GROCERY FOOD STORE</td>\n",
       "      <td>False</td>\n",
       "      <td>False</td>\n",
       "      <td>...</td>\n",
       "      <td>42</td>\n",
       "      <td>32</td>\n",
       "      <td>03</td>\n",
       "      <td>1174297.0</td>\n",
       "      <td>1901591.0</td>\n",
       "      <td>2007</td>\n",
       "      <td>2018-02-28 15:56:25+00:00</td>\n",
       "      <td>41.885368</td>\n",
       "      <td>-87.635403</td>\n",
       "      <td>(41.885368351, -87.635402906)</td>\n",
       "    </tr>\n",
       "    <tr>\n",
       "      <th>4</th>\n",
       "      <td>6884758</td>\n",
       "      <td>HR288439</td>\n",
       "      <td>2009-04-25 18:15:00+00:00</td>\n",
       "      <td>005XX W JACKSON BLVD</td>\n",
       "      <td>031A</td>\n",
       "      <td>ROBBERY</td>\n",
       "      <td>ARMED: HANDGUN</td>\n",
       "      <td>ABANDONED BUILDING</td>\n",
       "      <td>False</td>\n",
       "      <td>False</td>\n",
       "      <td>...</td>\n",
       "      <td>2</td>\n",
       "      <td>28</td>\n",
       "      <td>03</td>\n",
       "      <td>1173084.0</td>\n",
       "      <td>1898910.0</td>\n",
       "      <td>2009</td>\n",
       "      <td>2018-02-28 15:56:25+00:00</td>\n",
       "      <td>41.878039</td>\n",
       "      <td>-87.639937</td>\n",
       "      <td>(41.878038501, -87.639936767)</td>\n",
       "    </tr>\n",
       "  </tbody>\n",
       "</table>\n",
       "<p>5 rows × 22 columns</p>\n",
       "</div>"
      ],
      "text/plain": [
       "   unique_key case_number                      date                 block  \\\n",
       "0    11647156    JC214800 2019-04-07 02:45:00+00:00       0000X W LAKE ST   \n",
       "1     7758108    HS566131 2010-10-10 16:30:00+00:00  004XX W JACKSON BLVD   \n",
       "2     2439005    HH761613 2002-11-05 21:43:08+00:00      003XX S CANAL ST   \n",
       "3     5946964    HN746118 2007-12-06 22:55:00+00:00   001XX N FRANKLIN ST   \n",
       "4     6884758    HR288439 2009-04-25 18:15:00+00:00  005XX W JACKSON BLVD   \n",
       "\n",
       "   iucr         primary_type                    description  \\\n",
       "0  0291  CRIM SEXUAL ASSAULT         ATTEMPT NON-AGGRAVATED   \n",
       "1  0313              ROBBERY  ARMED: OTHER DANGEROUS WEAPON   \n",
       "2  031A              ROBBERY                 ARMED: HANDGUN   \n",
       "3  031A              ROBBERY                 ARMED: HANDGUN   \n",
       "4  031A              ROBBERY                 ARMED: HANDGUN   \n",
       "\n",
       "             location_description  arrest  domestic  ...  ward  \\\n",
       "0                        SIDEWALK   False     False  ...    42   \n",
       "1                        SIDEWALK   False     False  ...     2   \n",
       "2  PARKING LOT/GARAGE(NON.RESID.)   False     False  ...     2   \n",
       "3              GROCERY FOOD STORE   False     False  ...    42   \n",
       "4              ABANDONED BUILDING   False     False  ...     2   \n",
       "\n",
       "   community_area  fbi_code  x_coordinate y_coordinate  year  \\\n",
       "0              32        02     1176122.0    1901745.0  2019   \n",
       "1              28        03     1173388.0    1898918.0  2010   \n",
       "2              28        03     1173190.0    1898749.0  2002   \n",
       "3              32        03     1174297.0    1901591.0  2007   \n",
       "4              28        03     1173084.0    1898910.0  2009   \n",
       "\n",
       "                 updated_on   latitude  longitude  \\\n",
       "0 2019-04-14 16:04:11+00:00  41.885750 -87.628697   \n",
       "1 2018-02-10 15:50:01+00:00  41.878054 -87.638820   \n",
       "2 2018-02-28 15:56:25+00:00  41.877594 -87.639552   \n",
       "3 2018-02-28 15:56:25+00:00  41.885368 -87.635403   \n",
       "4 2018-02-28 15:56:25+00:00  41.878039 -87.639937   \n",
       "\n",
       "                        location  \n",
       "0   (41.88575001, -87.628696601)  \n",
       "1  (41.878053708, -87.638820324)  \n",
       "2  (41.877594356, -87.639552342)  \n",
       "3  (41.885368351, -87.635402906)  \n",
       "4  (41.878038501, -87.639936767)  \n",
       "\n",
       "[5 rows x 22 columns]"
      ]
     },
     "metadata": {},
     "output_type": "display_data"
    },
    {
     "data": {
      "text/html": [
       "<div>\n",
       "<style scoped>\n",
       "    .dataframe tbody tr th:only-of-type {\n",
       "        vertical-align: middle;\n",
       "    }\n",
       "\n",
       "    .dataframe tbody tr th {\n",
       "        vertical-align: top;\n",
       "    }\n",
       "\n",
       "    .dataframe thead th {\n",
       "        text-align: right;\n",
       "    }\n",
       "</style>\n",
       "<table border=\"1\" class=\"dataframe\">\n",
       "  <thead>\n",
       "    <tr style=\"text-align: right;\">\n",
       "      <th></th>\n",
       "      <th>latitude</th>\n",
       "      <th>longitude</th>\n",
       "    </tr>\n",
       "  </thead>\n",
       "  <tbody>\n",
       "    <tr>\n",
       "      <th>0</th>\n",
       "      <td>41.885750</td>\n",
       "      <td>-87.628697</td>\n",
       "    </tr>\n",
       "    <tr>\n",
       "      <th>1</th>\n",
       "      <td>41.878054</td>\n",
       "      <td>-87.638820</td>\n",
       "    </tr>\n",
       "    <tr>\n",
       "      <th>2</th>\n",
       "      <td>41.877594</td>\n",
       "      <td>-87.639552</td>\n",
       "    </tr>\n",
       "    <tr>\n",
       "      <th>3</th>\n",
       "      <td>41.885368</td>\n",
       "      <td>-87.635403</td>\n",
       "    </tr>\n",
       "    <tr>\n",
       "      <th>4</th>\n",
       "      <td>41.878039</td>\n",
       "      <td>-87.639937</td>\n",
       "    </tr>\n",
       "  </tbody>\n",
       "</table>\n",
       "</div>"
      ],
      "text/plain": [
       "    latitude  longitude\n",
       "0  41.885750 -87.628697\n",
       "1  41.878054 -87.638820\n",
       "2  41.877594 -87.639552\n",
       "3  41.885368 -87.635403\n",
       "4  41.878039 -87.639937"
      ]
     },
     "metadata": {},
     "output_type": "display_data"
    }
   ],
   "source": [
    "# Write the code here to explore the data so you can find the answer\n",
    "df = client.list_rows(table, max_results=5).to_dataframe()\n",
    "\n",
    "selected_fields = []\n",
    "\n",
    "for field in table.schema:\n",
    "    if 'tude' in field.name:\n",
    "        selected_fields.append(field)\n",
    "\n",
    "df_coordinates = client.list_rows(\n",
    "    table, \n",
    "    selected_fields=selected_fields,\n",
    "    max_results=5\n",
    ").to_dataframe()\n",
    "\n",
    "display(df)\n",
    "display(df_coordinates)"
   ]
  },
  {
   "cell_type": "code",
   "execution_count": 10,
   "id": "f1d733a4",
   "metadata": {
    "execution": {
     "iopub.execute_input": "2024-08-26T13:59:55.146379Z",
     "iopub.status.busy": "2024-08-26T13:59:55.146011Z",
     "iopub.status.idle": "2024-08-26T13:59:55.155393Z",
     "shell.execute_reply": "2024-08-26T13:59:55.154381Z"
    },
    "papermill": {
     "duration": 0.019416,
     "end_time": "2024-08-26T13:59:55.157635",
     "exception": false,
     "start_time": "2024-08-26T13:59:55.138219",
     "status": "completed"
    },
    "tags": []
   },
   "outputs": [
    {
     "name": "stdout",
     "output_type": "stream",
     "text": [
      "['latitude', 'longitude']\n"
     ]
    },
    {
     "data": {
      "application/javascript": [
       "parent.postMessage({\"jupyterEvent\": \"custom.exercise_interaction\", \"data\": {\"outcomeType\": 1, \"valueTowardsCompletion\": 0.3333333333333333, \"interactionType\": 1, \"questionType\": 2, \"questionId\": \"3_IdentifyFieldsForPlotting\", \"learnToolsVersion\": \"0.3.4\", \"failureMessage\": \"\", \"exceptionClass\": \"\", \"trace\": \"\"}}, \"*\")"
      ],
      "text/plain": [
       "<IPython.core.display.Javascript object>"
      ]
     },
     "metadata": {},
     "output_type": "display_data"
    },
    {
     "data": {
      "text/markdown": [
       "<span style=\"color:#33cc33\">Correct</span>"
      ],
      "text/plain": [
       "Correct"
      ]
     },
     "metadata": {},
     "output_type": "display_data"
    }
   ],
   "source": [
    "fields_for_plotting = list(df_coordinates.columns) # Put your answers here\n",
    "\n",
    "print(fields_for_plotting)\n",
    "\n",
    "# Check your answer\n",
    "q_3.check()"
   ]
  },
  {
   "cell_type": "markdown",
   "id": "6658f55f",
   "metadata": {
    "papermill": {
     "duration": 0.006922,
     "end_time": "2024-08-26T13:59:55.171374",
     "exception": false,
     "start_time": "2024-08-26T13:59:55.164452",
     "status": "completed"
    },
    "tags": []
   },
   "source": [
    "For a hint or the solution, uncomment the appropriate line below."
   ]
  },
  {
   "cell_type": "code",
   "execution_count": 11,
   "id": "ab4ba91a",
   "metadata": {
    "execution": {
     "iopub.execute_input": "2024-08-26T13:59:55.186520Z",
     "iopub.status.busy": "2024-08-26T13:59:55.186146Z",
     "iopub.status.idle": "2024-08-26T13:59:55.190591Z",
     "shell.execute_reply": "2024-08-26T13:59:55.189581Z"
    },
    "papermill": {
     "duration": 0.01458,
     "end_time": "2024-08-26T13:59:55.192698",
     "exception": false,
     "start_time": "2024-08-26T13:59:55.178118",
     "status": "completed"
    },
    "tags": []
   },
   "outputs": [],
   "source": [
    "#q_3.hint()\n",
    "#q_3.solution()"
   ]
  },
  {
   "cell_type": "markdown",
   "id": "54f66328",
   "metadata": {
    "papermill": {
     "duration": 0.006614,
     "end_time": "2024-08-26T13:59:55.206137",
     "exception": false,
     "start_time": "2024-08-26T13:59:55.199523",
     "status": "completed"
    },
    "tags": []
   },
   "source": [
    "Thinking about the question above, there are a few columns that appear to have geographic data. Look at a few values (with the `list_rows()` command) to see if you can determine their relationship.  Two columns will still be hard to interpret. But it should be obvious how the `location` column relates to `latitude` and `longitude`."
   ]
  },
  {
   "cell_type": "code",
   "execution_count": 12,
   "id": "afcaf01f",
   "metadata": {
    "execution": {
     "iopub.execute_input": "2024-08-26T13:59:55.221702Z",
     "iopub.status.busy": "2024-08-26T13:59:55.220734Z",
     "iopub.status.idle": "2024-08-26T13:59:55.228411Z",
     "shell.execute_reply": "2024-08-26T13:59:55.227359Z"
    },
    "papermill": {
     "duration": 0.017614,
     "end_time": "2024-08-26T13:59:55.230532",
     "exception": false,
     "start_time": "2024-08-26T13:59:55.212918",
     "status": "completed"
    },
    "tags": []
   },
   "outputs": [
    {
     "data": {
      "text/plain": [
       "0     (41.88575001, -87.628696601)\n",
       "1    (41.878053708, -87.638820324)\n",
       "2    (41.877594356, -87.639552342)\n",
       "3    (41.885368351, -87.635402906)\n",
       "4    (41.878038501, -87.639936767)\n",
       "Name: location, dtype: object"
      ]
     },
     "execution_count": 12,
     "metadata": {},
     "output_type": "execute_result"
    }
   ],
   "source": [
    "# Scratch space for your code\n",
    "df['location']"
   ]
  },
  {
   "cell_type": "markdown",
   "id": "6dad21b4",
   "metadata": {
    "papermill": {
     "duration": 0.007077,
     "end_time": "2024-08-26T13:59:55.244695",
     "exception": false,
     "start_time": "2024-08-26T13:59:55.237618",
     "status": "completed"
    },
    "tags": []
   },
   "source": [
    "# Keep going\n",
    "\n",
    "You've looked at the schema, but you haven't yet done anything exciting with the data itself. Things get more interesting when you get to the data, so keep going to **[write your first SQL query](https://www.kaggle.com/dansbecker/select-from-where).**"
   ]
  },
  {
   "cell_type": "markdown",
   "id": "ad514b81",
   "metadata": {
    "papermill": {
     "duration": 0.006581,
     "end_time": "2024-08-26T13:59:55.258183",
     "exception": false,
     "start_time": "2024-08-26T13:59:55.251602",
     "status": "completed"
    },
    "tags": []
   },
   "source": [
    "---\n",
    "\n",
    "\n",
    "\n",
    "\n",
    "*Have questions or comments? Visit the [course discussion forum](https://www.kaggle.com/learn/intro-to-sql/discussion) to chat with other learners.*"
   ]
  }
 ],
 "metadata": {
  "kaggle": {
   "accelerator": "none",
   "dataSources": [
    {
     "datasetId": 22090,
     "sourceId": 28376,
     "sourceType": "datasetVersion"
    },
    {
     "datasetId": 6057,
     "sourceId": 285982,
     "sourceType": "datasetVersion"
    }
   ],
   "isGpuEnabled": false,
   "isInternetEnabled": false,
   "language": "python",
   "sourceType": "notebook"
  },
  "kernelspec": {
   "display_name": "Python 3",
   "language": "python",
   "name": "python3"
  },
  "language_info": {
   "codemirror_mode": {
    "name": "ipython",
    "version": 3
   },
   "file_extension": ".py",
   "mimetype": "text/x-python",
   "name": "python",
   "nbconvert_exporter": "python",
   "pygments_lexer": "ipython3",
   "version": "3.10.14"
  },
  "papermill": {
   "default_parameters": {},
   "duration": 14.981133,
   "end_time": "2024-08-26T13:59:55.985615",
   "environment_variables": {},
   "exception": null,
   "input_path": "__notebook__.ipynb",
   "output_path": "__notebook__.ipynb",
   "parameters": {},
   "start_time": "2024-08-26T13:59:41.004482",
   "version": "2.6.0"
  }
 },
 "nbformat": 4,
 "nbformat_minor": 5
}
