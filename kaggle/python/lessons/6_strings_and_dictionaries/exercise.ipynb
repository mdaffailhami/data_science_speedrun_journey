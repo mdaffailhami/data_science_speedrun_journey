{
 "cells": [
  {
   "cell_type": "markdown",
   "id": "68ea952e",
   "metadata": {
    "papermill": {
     "duration": 0.008106,
     "end_time": "2024-08-03T11:17:40.523868",
     "exception": false,
     "start_time": "2024-08-03T11:17:40.515762",
     "status": "completed"
    },
    "tags": []
   },
   "source": [
    "**This notebook is an exercise in the [Python](https://www.kaggle.com/learn/python) course.  You can reference the tutorial at [this link](https://www.kaggle.com/colinmorris/strings-and-dictionaries).**\n",
    "\n",
    "---\n"
   ]
  },
  {
   "cell_type": "markdown",
   "id": "e67beaa2",
   "metadata": {
    "papermill": {
     "duration": 0.007102,
     "end_time": "2024-08-03T11:17:40.538629",
     "exception": false,
     "start_time": "2024-08-03T11:17:40.531527",
     "status": "completed"
    },
    "tags": []
   },
   "source": [
    "You are almost done with the course. Nice job!\n",
    "\n",
    "We have a couple more interesting problems for you before you go. \n",
    "\n",
    "As always, run the setup code below before working on the questions."
   ]
  },
  {
   "cell_type": "code",
   "execution_count": 1,
   "id": "77435f47",
   "metadata": {
    "execution": {
     "iopub.execute_input": "2024-08-03T11:17:40.557106Z",
     "iopub.status.busy": "2024-08-03T11:17:40.556645Z",
     "iopub.status.idle": "2024-08-03T11:17:41.715968Z",
     "shell.execute_reply": "2024-08-03T11:17:41.714738Z"
    },
    "papermill": {
     "duration": 1.172574,
     "end_time": "2024-08-03T11:17:41.718938",
     "exception": false,
     "start_time": "2024-08-03T11:17:40.546364",
     "status": "completed"
    },
    "tags": []
   },
   "outputs": [
    {
     "name": "stdout",
     "output_type": "stream",
     "text": [
      "Setup complete.\n"
     ]
    }
   ],
   "source": [
    "from learntools.core import binder; binder.bind(globals())\n",
    "from learntools.python.ex6 import *\n",
    "print('Setup complete.')"
   ]
  },
  {
   "cell_type": "markdown",
   "id": "aa21f4f6",
   "metadata": {
    "papermill": {
     "duration": 0.007898,
     "end_time": "2024-08-03T11:17:41.734445",
     "exception": false,
     "start_time": "2024-08-03T11:17:41.726547",
     "status": "completed"
    },
    "tags": []
   },
   "source": [
    "Let's start with a string lightning round to warm up. What are the lengths of the strings below?\n",
    "\n",
    "For each of the five strings below, predict what `len()` would return when passed that string. Use the variable `length` to record your answer, then run the cell to check whether you were right.  \n",
    "\n",
    "# 0a."
   ]
  },
  {
   "cell_type": "code",
   "execution_count": 2,
   "id": "7b6ffe7d",
   "metadata": {
    "execution": {
     "iopub.execute_input": "2024-08-03T11:17:41.752316Z",
     "iopub.status.busy": "2024-08-03T11:17:41.750974Z",
     "iopub.status.idle": "2024-08-03T11:17:41.762130Z",
     "shell.execute_reply": "2024-08-03T11:17:41.760929Z"
    },
    "papermill": {
     "duration": 0.022441,
     "end_time": "2024-08-03T11:17:41.764540",
     "exception": false,
     "start_time": "2024-08-03T11:17:41.742099",
     "status": "completed"
    },
    "tags": []
   },
   "outputs": [
    {
     "data": {
      "application/javascript": [
       "parent.postMessage({\"jupyterEvent\": \"custom.exercise_interaction\", \"data\": {\"outcomeType\": 1, \"valueTowardsCompletion\": 0.3333333333333333, \"interactionType\": 1, \"questionType\": 1, \"questionId\": \"0.1_ZA\", \"learnToolsVersion\": \"0.3.4\", \"failureMessage\": \"\", \"exceptionClass\": \"\", \"trace\": \"\"}}, \"*\")"
      ],
      "text/plain": [
       "<IPython.core.display.Javascript object>"
      ]
     },
     "metadata": {},
     "output_type": "display_data"
    },
    {
     "data": {
      "text/markdown": [
       "<span style=\"color:#33cc33\">Correct:</span> \n",
       "\n",
       "The empty string has length zero. Note that the empty string is also the only string that Python considers as False when converting to boolean."
      ],
      "text/plain": [
       "Correct: \n",
       "\n",
       "The empty string has length zero. Note that the empty string is also the only string that Python considers as False when converting to boolean."
      ]
     },
     "metadata": {},
     "output_type": "display_data"
    }
   ],
   "source": [
    "a = \"\"\n",
    "length = 0\n",
    "q0.a.check()"
   ]
  },
  {
   "cell_type": "markdown",
   "id": "aab19b91",
   "metadata": {
    "papermill": {
     "duration": 0.007486,
     "end_time": "2024-08-03T11:17:41.780049",
     "exception": false,
     "start_time": "2024-08-03T11:17:41.772563",
     "status": "completed"
    },
    "tags": []
   },
   "source": [
    "# 0b."
   ]
  },
  {
   "cell_type": "code",
   "execution_count": 3,
   "id": "eba8022f",
   "metadata": {
    "execution": {
     "iopub.execute_input": "2024-08-03T11:17:41.797573Z",
     "iopub.status.busy": "2024-08-03T11:17:41.797175Z",
     "iopub.status.idle": "2024-08-03T11:17:41.807955Z",
     "shell.execute_reply": "2024-08-03T11:17:41.806489Z"
    },
    "papermill": {
     "duration": 0.022703,
     "end_time": "2024-08-03T11:17:41.810554",
     "exception": false,
     "start_time": "2024-08-03T11:17:41.787851",
     "status": "completed"
    },
    "tags": []
   },
   "outputs": [
    {
     "data": {
      "application/javascript": [
       "parent.postMessage({\"jupyterEvent\": \"custom.exercise_interaction\", \"data\": {\"outcomeType\": 1, \"valueTowardsCompletion\": 0.3333333333333333, \"interactionType\": 1, \"questionType\": 1, \"questionId\": \"0.2_ZB\", \"learnToolsVersion\": \"0.3.4\", \"failureMessage\": \"\", \"exceptionClass\": \"\", \"trace\": \"\"}}, \"*\")"
      ],
      "text/plain": [
       "<IPython.core.display.Javascript object>"
      ]
     },
     "metadata": {},
     "output_type": "display_data"
    },
    {
     "data": {
      "text/markdown": [
       "<span style=\"color:#33cc33\">Correct:</span> \n",
       "\n",
       "Keep in mind Python includes spaces (and punctuation) when counting string length."
      ],
      "text/plain": [
       "Correct: \n",
       "\n",
       "Keep in mind Python includes spaces (and punctuation) when counting string length."
      ]
     },
     "metadata": {},
     "output_type": "display_data"
    }
   ],
   "source": [
    "b = \"it's ok\"\n",
    "length = 7\n",
    "q0.b.check()"
   ]
  },
  {
   "cell_type": "markdown",
   "id": "546fab78",
   "metadata": {
    "papermill": {
     "duration": 0.007783,
     "end_time": "2024-08-03T11:17:41.826530",
     "exception": false,
     "start_time": "2024-08-03T11:17:41.818747",
     "status": "completed"
    },
    "tags": []
   },
   "source": [
    "# 0c."
   ]
  },
  {
   "cell_type": "code",
   "execution_count": 4,
   "id": "2b1ad6b1",
   "metadata": {
    "execution": {
     "iopub.execute_input": "2024-08-03T11:17:41.845473Z",
     "iopub.status.busy": "2024-08-03T11:17:41.845023Z",
     "iopub.status.idle": "2024-08-03T11:17:41.855418Z",
     "shell.execute_reply": "2024-08-03T11:17:41.854187Z"
    },
    "papermill": {
     "duration": 0.022662,
     "end_time": "2024-08-03T11:17:41.858028",
     "exception": false,
     "start_time": "2024-08-03T11:17:41.835366",
     "status": "completed"
    },
    "tags": []
   },
   "outputs": [
    {
     "data": {
      "application/javascript": [
       "parent.postMessage({\"jupyterEvent\": \"custom.exercise_interaction\", \"data\": {\"outcomeType\": 1, \"valueTowardsCompletion\": 0.3333333333333333, \"interactionType\": 1, \"questionType\": 1, \"questionId\": \"0.3_ZC\", \"learnToolsVersion\": \"0.3.4\", \"failureMessage\": \"\", \"exceptionClass\": \"\", \"trace\": \"\"}}, \"*\")"
      ],
      "text/plain": [
       "<IPython.core.display.Javascript object>"
      ]
     },
     "metadata": {},
     "output_type": "display_data"
    },
    {
     "data": {
      "text/markdown": [
       "<span style=\"color:#33cc33\">Correct:</span> \n",
       "\n",
       "Even though we use different syntax to create it, the string `c` is identical to `b`. In particular, note that the backslash is not part of the string, so it doesn't contribute to its length."
      ],
      "text/plain": [
       "Correct: \n",
       "\n",
       "Even though we use different syntax to create it, the string `c` is identical to `b`. In particular, note that the backslash is not part of the string, so it doesn't contribute to its length."
      ]
     },
     "metadata": {},
     "output_type": "display_data"
    }
   ],
   "source": [
    "c = 'it\\'s ok'\n",
    "length = 7\n",
    "q0.c.check()"
   ]
  },
  {
   "cell_type": "markdown",
   "id": "a5d182ab",
   "metadata": {
    "papermill": {
     "duration": 0.008348,
     "end_time": "2024-08-03T11:17:41.874939",
     "exception": false,
     "start_time": "2024-08-03T11:17:41.866591",
     "status": "completed"
    },
    "tags": []
   },
   "source": [
    "# 0d."
   ]
  },
  {
   "cell_type": "code",
   "execution_count": 5,
   "id": "762f2217",
   "metadata": {
    "execution": {
     "iopub.execute_input": "2024-08-03T11:17:41.893802Z",
     "iopub.status.busy": "2024-08-03T11:17:41.893367Z",
     "iopub.status.idle": "2024-08-03T11:17:41.904141Z",
     "shell.execute_reply": "2024-08-03T11:17:41.902866Z"
    },
    "papermill": {
     "duration": 0.023372,
     "end_time": "2024-08-03T11:17:41.906853",
     "exception": false,
     "start_time": "2024-08-03T11:17:41.883481",
     "status": "completed"
    },
    "tags": []
   },
   "outputs": [
    {
     "data": {
      "application/javascript": [
       "parent.postMessage({\"jupyterEvent\": \"custom.exercise_interaction\", \"data\": {\"outcomeType\": 1, \"valueTowardsCompletion\": 0.3333333333333333, \"interactionType\": 1, \"questionType\": 1, \"questionId\": \"0.4_ZD\", \"learnToolsVersion\": \"0.3.4\", \"failureMessage\": \"\", \"exceptionClass\": \"\", \"trace\": \"\"}}, \"*\")"
      ],
      "text/plain": [
       "<IPython.core.display.Javascript object>"
      ]
     },
     "metadata": {},
     "output_type": "display_data"
    },
    {
     "data": {
      "text/markdown": [
       "<span style=\"color:#33cc33\">Correct:</span> \n",
       "\n",
       "The fact that this string was created using triple-quote syntax doesn't make any difference in terms of its content or length. This string is exactly the same as `'hey'`."
      ],
      "text/plain": [
       "Correct: \n",
       "\n",
       "The fact that this string was created using triple-quote syntax doesn't make any difference in terms of its content or length. This string is exactly the same as `'hey'`."
      ]
     },
     "metadata": {},
     "output_type": "display_data"
    }
   ],
   "source": [
    "d = \"\"\"hey\"\"\"\n",
    "length = 3\n",
    "q0.d.check()"
   ]
  },
  {
   "cell_type": "markdown",
   "id": "c31b7985",
   "metadata": {
    "papermill": {
     "duration": 0.0093,
     "end_time": "2024-08-03T11:17:41.925905",
     "exception": false,
     "start_time": "2024-08-03T11:17:41.916605",
     "status": "completed"
    },
    "tags": []
   },
   "source": [
    "# 0e."
   ]
  },
  {
   "cell_type": "code",
   "execution_count": 6,
   "id": "3ea6f42c",
   "metadata": {
    "execution": {
     "iopub.execute_input": "2024-08-03T11:17:41.948148Z",
     "iopub.status.busy": "2024-08-03T11:17:41.947746Z",
     "iopub.status.idle": "2024-08-03T11:17:41.958296Z",
     "shell.execute_reply": "2024-08-03T11:17:41.956564Z"
    },
    "papermill": {
     "duration": 0.024944,
     "end_time": "2024-08-03T11:17:41.961138",
     "exception": false,
     "start_time": "2024-08-03T11:17:41.936194",
     "status": "completed"
    },
    "tags": []
   },
   "outputs": [
    {
     "data": {
      "application/javascript": [
       "parent.postMessage({\"jupyterEvent\": \"custom.exercise_interaction\", \"data\": {\"outcomeType\": 1, \"valueTowardsCompletion\": 0.3333333333333333, \"interactionType\": 1, \"questionType\": 1, \"questionId\": \"0.5_ZE\", \"learnToolsVersion\": \"0.3.4\", \"failureMessage\": \"\", \"exceptionClass\": \"\", \"trace\": \"\"}}, \"*\")"
      ],
      "text/plain": [
       "<IPython.core.display.Javascript object>"
      ]
     },
     "metadata": {},
     "output_type": "display_data"
    },
    {
     "data": {
      "text/markdown": [
       "<span style=\"color:#33cc33\">Correct:</span> \n",
       "\n",
       "The newline character is just a single character! (Even though we represent it to Python using a combination of two characters.)"
      ],
      "text/plain": [
       "Correct: \n",
       "\n",
       "The newline character is just a single character! (Even though we represent it to Python using a combination of two characters.)"
      ]
     },
     "metadata": {},
     "output_type": "display_data"
    }
   ],
   "source": [
    "e = '\\n'\n",
    "length = 1\n",
    "q0.e.check()"
   ]
  },
  {
   "cell_type": "markdown",
   "id": "3336fc30",
   "metadata": {
    "papermill": {
     "duration": 0.010151,
     "end_time": "2024-08-03T11:17:41.980942",
     "exception": false,
     "start_time": "2024-08-03T11:17:41.970791",
     "status": "completed"
    },
    "tags": []
   },
   "source": [
    "# 1.\n",
    "\n",
    "There is a saying that \"Data scientists spend 80% of their time cleaning data, and 20% of their time complaining about cleaning data.\" Let's see if you can write a function to help clean US zip code data. Given a string, it should return whether or not that string represents a valid zip code. For our purposes, a valid zip code is any string consisting of exactly 5 digits.\n",
    "\n",
    "HINT: `str` has a method that will be useful here. Use `help(str)` to review a list of string methods."
   ]
  },
  {
   "cell_type": "code",
   "execution_count": 7,
   "id": "59b65c19",
   "metadata": {
    "execution": {
     "iopub.execute_input": "2024-08-03T11:17:42.001700Z",
     "iopub.status.busy": "2024-08-03T11:17:42.001259Z",
     "iopub.status.idle": "2024-08-03T11:17:42.012112Z",
     "shell.execute_reply": "2024-08-03T11:17:42.010875Z"
    },
    "papermill": {
     "duration": 0.024176,
     "end_time": "2024-08-03T11:17:42.014684",
     "exception": false,
     "start_time": "2024-08-03T11:17:41.990508",
     "status": "completed"
    },
    "tags": []
   },
   "outputs": [
    {
     "data": {
      "application/javascript": [
       "parent.postMessage({\"jupyterEvent\": \"custom.exercise_interaction\", \"data\": {\"outcomeType\": 1, \"valueTowardsCompletion\": 0.3333333333333333, \"interactionType\": 1, \"questionType\": 2, \"questionId\": \"1_ZipValidator\", \"learnToolsVersion\": \"0.3.4\", \"failureMessage\": \"\", \"exceptionClass\": \"\", \"trace\": \"\"}}, \"*\")"
      ],
      "text/plain": [
       "<IPython.core.display.Javascript object>"
      ]
     },
     "metadata": {},
     "output_type": "display_data"
    },
    {
     "data": {
      "text/markdown": [
       "<span style=\"color:#33cc33\">Correct</span>"
      ],
      "text/plain": [
       "Correct"
      ]
     },
     "metadata": {},
     "output_type": "display_data"
    }
   ],
   "source": [
    "def is_valid_zip(zip_code):\n",
    "    \"\"\"Returns whether the input string is a valid (5 digit) zip code\n",
    "    \"\"\"\n",
    "    return zip_code.isnumeric() and len(zip_code) == 5\n",
    "\n",
    "# Check your answer\n",
    "q1.check()"
   ]
  },
  {
   "cell_type": "code",
   "execution_count": 8,
   "id": "1ff64229",
   "metadata": {
    "execution": {
     "iopub.execute_input": "2024-08-03T11:17:42.035773Z",
     "iopub.status.busy": "2024-08-03T11:17:42.035348Z",
     "iopub.status.idle": "2024-08-03T11:17:42.040571Z",
     "shell.execute_reply": "2024-08-03T11:17:42.039363Z"
    },
    "papermill": {
     "duration": 0.018922,
     "end_time": "2024-08-03T11:17:42.043198",
     "exception": false,
     "start_time": "2024-08-03T11:17:42.024276",
     "status": "completed"
    },
    "tags": []
   },
   "outputs": [],
   "source": [
    "#q1.hint()\n",
    "#q1.solution()"
   ]
  },
  {
   "cell_type": "markdown",
   "id": "9ed401ca",
   "metadata": {
    "papermill": {
     "duration": 0.009425,
     "end_time": "2024-08-03T11:17:42.062505",
     "exception": false,
     "start_time": "2024-08-03T11:17:42.053080",
     "status": "completed"
    },
    "tags": []
   },
   "source": [
    "# 2.\n",
    "\n",
    "A researcher has gathered thousands of news articles. But she wants to focus her attention on articles including a specific word. Complete the function below to help her filter her list of articles.\n",
    "\n",
    "Your function should meet the following criteria:\n",
    "\n",
    "- Do not include documents where the keyword string shows up only as a part of a larger word. For example, if she were looking for the keyword “closed”, you would not include the string “enclosed.” \n",
    "- She does not want you to distinguish upper case from lower case letters. So the phrase “Closed the case.” would be included when the keyword is “closed”\n",
    "- Do not let periods or commas affect what is matched. “It is closed.” would be included when the keyword is “closed”. But you can assume there are no other types of punctuation."
   ]
  },
  {
   "cell_type": "code",
   "execution_count": 9,
   "id": "86a5f1bd",
   "metadata": {
    "execution": {
     "iopub.execute_input": "2024-08-03T11:17:42.083966Z",
     "iopub.status.busy": "2024-08-03T11:17:42.083535Z",
     "iopub.status.idle": "2024-08-03T11:17:42.095734Z",
     "shell.execute_reply": "2024-08-03T11:17:42.094581Z"
    },
    "papermill": {
     "duration": 0.026002,
     "end_time": "2024-08-03T11:17:42.098270",
     "exception": false,
     "start_time": "2024-08-03T11:17:42.072268",
     "status": "completed"
    },
    "tags": []
   },
   "outputs": [
    {
     "data": {
      "application/javascript": [
       "parent.postMessage({\"jupyterEvent\": \"custom.exercise_interaction\", \"data\": {\"outcomeType\": 1, \"valueTowardsCompletion\": 0.3333333333333333, \"interactionType\": 1, \"questionType\": 2, \"questionId\": \"2_WordSearch\", \"learnToolsVersion\": \"0.3.4\", \"failureMessage\": \"\", \"exceptionClass\": \"\", \"trace\": \"\"}}, \"*\")"
      ],
      "text/plain": [
       "<IPython.core.display.Javascript object>"
      ]
     },
     "metadata": {},
     "output_type": "display_data"
    },
    {
     "data": {
      "text/markdown": [
       "<span style=\"color:#33cc33\">Correct</span>"
      ],
      "text/plain": [
       "Correct"
      ]
     },
     "metadata": {},
     "output_type": "display_data"
    }
   ],
   "source": [
    "def word_search(doc_list, keyword):\n",
    "    \"\"\"\n",
    "    Takes a list of documents (each document is a string) and a keyword. \n",
    "    Returns list of the index values into the original list for all documents \n",
    "    containing the keyword.\n",
    "\n",
    "    Example:\n",
    "    doc_list = [\"The Learn Python Challenge Casino.\", \"They bought a car\", \"Casinoville\"]\n",
    "    >>> word_search(doc_list, 'casino')\n",
    "    >>> [0]\n",
    "    \"\"\"\n",
    "    \n",
    "    result = []\n",
    "\n",
    "    for i, doc in enumerate(doc_list):\n",
    "        doc = doc.upper()\n",
    "        doc = doc.replace(',', '')\n",
    "        doc = doc.replace('.', '')\n",
    "        doc = doc.split(' ')\n",
    "        \n",
    "        if keyword.upper() in doc:\n",
    "            result.append(i)\n",
    "            \n",
    "    return result\n",
    "\n",
    "# Check your answer\n",
    "q2.check()"
   ]
  },
  {
   "cell_type": "code",
   "execution_count": 10,
   "id": "4c51d718",
   "metadata": {
    "execution": {
     "iopub.execute_input": "2024-08-03T11:17:42.120746Z",
     "iopub.status.busy": "2024-08-03T11:17:42.120332Z",
     "iopub.status.idle": "2024-08-03T11:17:42.125316Z",
     "shell.execute_reply": "2024-08-03T11:17:42.123934Z"
    },
    "papermill": {
     "duration": 0.019661,
     "end_time": "2024-08-03T11:17:42.127885",
     "exception": false,
     "start_time": "2024-08-03T11:17:42.108224",
     "status": "completed"
    },
    "tags": []
   },
   "outputs": [],
   "source": [
    "#q2.hint()\n",
    "#q2.solution()"
   ]
  },
  {
   "cell_type": "markdown",
   "id": "cf001c8e",
   "metadata": {
    "papermill": {
     "duration": 0.009669,
     "end_time": "2024-08-03T11:17:42.148023",
     "exception": false,
     "start_time": "2024-08-03T11:17:42.138354",
     "status": "completed"
    },
    "tags": []
   },
   "source": [
    "# 3.\n",
    "\n",
    "Now the researcher wants to supply multiple keywords to search for. Complete the function below to help her.\n",
    "\n",
    "(You're encouraged to use the `word_search` function you just wrote when implementing this function. Reusing code in this way makes your programs more robust and readable - and it saves typing!)"
   ]
  },
  {
   "cell_type": "code",
   "execution_count": 11,
   "id": "c53c89b6",
   "metadata": {
    "execution": {
     "iopub.execute_input": "2024-08-03T11:17:42.169655Z",
     "iopub.status.busy": "2024-08-03T11:17:42.169270Z",
     "iopub.status.idle": "2024-08-03T11:17:42.180726Z",
     "shell.execute_reply": "2024-08-03T11:17:42.179620Z"
    },
    "papermill": {
     "duration": 0.025456,
     "end_time": "2024-08-03T11:17:42.183492",
     "exception": false,
     "start_time": "2024-08-03T11:17:42.158036",
     "status": "completed"
    },
    "tags": []
   },
   "outputs": [
    {
     "data": {
      "application/javascript": [
       "parent.postMessage({\"jupyterEvent\": \"custom.exercise_interaction\", \"data\": {\"outcomeType\": 1, \"valueTowardsCompletion\": 0.3333333333333333, \"interactionType\": 1, \"questionType\": 2, \"questionId\": \"3_MultiWordSearch\", \"learnToolsVersion\": \"0.3.4\", \"failureMessage\": \"\", \"exceptionClass\": \"\", \"trace\": \"\"}}, \"*\")"
      ],
      "text/plain": [
       "<IPython.core.display.Javascript object>"
      ]
     },
     "metadata": {},
     "output_type": "display_data"
    },
    {
     "data": {
      "text/markdown": [
       "<span style=\"color:#33cc33\">Correct</span>"
      ],
      "text/plain": [
       "Correct"
      ]
     },
     "metadata": {},
     "output_type": "display_data"
    }
   ],
   "source": [
    "def multi_word_search(doc_list, keywords):\n",
    "    \"\"\"\n",
    "    Takes list of documents (each document is a string) and a list of keywords.  \n",
    "    Returns a dictionary where each key is a keyword, and the value is a list of indices\n",
    "    (from doc_list) of the documents containing that keyword\n",
    "\n",
    "    >>> doc_list = [\"The Learn Python Challenge Casino.\", \"They bought a car and a casino\", \"Casinoville\"]\n",
    "    >>> keywords = ['casino', 'they']\n",
    "    >>> multi_word_search(doc_list, keywords)\n",
    "    {'casino': [0, 1], 'they': [1]}\n",
    "    \"\"\"\n",
    "    \n",
    "    result = {}\n",
    "    \n",
    "    for keyword in keywords:\n",
    "        result[keyword] = word_search(doc_list, keyword)\n",
    "        \n",
    "    return result\n",
    "    \n",
    "\n",
    "# Check your answer\n",
    "q3.check()"
   ]
  },
  {
   "cell_type": "code",
   "execution_count": 12,
   "id": "a03e3f38",
   "metadata": {
    "execution": {
     "iopub.execute_input": "2024-08-03T11:17:42.206389Z",
     "iopub.status.busy": "2024-08-03T11:17:42.205979Z",
     "iopub.status.idle": "2024-08-03T11:17:42.211245Z",
     "shell.execute_reply": "2024-08-03T11:17:42.210190Z"
    },
    "papermill": {
     "duration": 0.020117,
     "end_time": "2024-08-03T11:17:42.214048",
     "exception": false,
     "start_time": "2024-08-03T11:17:42.193931",
     "status": "completed"
    },
    "tags": []
   },
   "outputs": [],
   "source": [
    "#q3.solution()"
   ]
  },
  {
   "cell_type": "markdown",
   "id": "d3a06bc1",
   "metadata": {
    "papermill": {
     "duration": 0.010162,
     "end_time": "2024-08-03T11:17:42.234499",
     "exception": false,
     "start_time": "2024-08-03T11:17:42.224337",
     "status": "completed"
    },
    "tags": []
   },
   "source": [
    "# Keep Going\n",
    "\n",
    "You've learned a lot. But even the best programmers rely heavily on \"libraries\" of code from other programmers. You'll learn about that in **[the last lesson](https://www.kaggle.com/colinmorris/working-with-external-libraries)**.\n"
   ]
  },
  {
   "cell_type": "markdown",
   "id": "33241dfe",
   "metadata": {
    "papermill": {
     "duration": 0.010179,
     "end_time": "2024-08-03T11:17:42.254884",
     "exception": false,
     "start_time": "2024-08-03T11:17:42.244705",
     "status": "completed"
    },
    "tags": []
   },
   "source": [
    "---\n",
    "\n",
    "\n",
    "\n",
    "\n",
    "*Have questions or comments? Visit the [course discussion forum](https://www.kaggle.com/learn/python/discussion) to chat with other learners.*"
   ]
  }
 ],
 "metadata": {
  "kaggle": {
   "accelerator": "none",
   "dataSources": [],
   "isGpuEnabled": false,
   "isInternetEnabled": false,
   "language": "python",
   "sourceType": "notebook"
  },
  "kernelspec": {
   "display_name": "Python 3",
   "language": "python",
   "name": "python3"
  },
  "language_info": {
   "codemirror_mode": {
    "name": "ipython",
    "version": 3
   },
   "file_extension": ".py",
   "mimetype": "text/x-python",
   "name": "python",
   "nbconvert_exporter": "python",
   "pygments_lexer": "ipython3",
   "version": "3.10.13"
  },
  "learntools_metadata": {
   "lesson_index": 5,
   "type": "exercise"
  },
  "papermill": {
   "default_parameters": {},
   "duration": 5.709411,
   "end_time": "2024-08-03T11:17:42.788332",
   "environment_variables": {},
   "exception": null,
   "input_path": "__notebook__.ipynb",
   "output_path": "__notebook__.ipynb",
   "parameters": {},
   "start_time": "2024-08-03T11:17:37.078921",
   "version": "2.5.0"
  }
 },
 "nbformat": 4,
 "nbformat_minor": 5
}
