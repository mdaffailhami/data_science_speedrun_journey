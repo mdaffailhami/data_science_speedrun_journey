{
 "cells": [
  {
   "cell_type": "markdown",
   "id": "641240b3",
   "metadata": {
    "papermill": {
     "duration": 0.008607,
     "end_time": "2024-07-26T03:35:47.092728",
     "exception": false,
     "start_time": "2024-07-26T03:35:47.084121",
     "status": "completed"
    },
    "tags": []
   },
   "source": [
    "**This notebook is an exercise in the [Python](https://www.kaggle.com/learn/python) course.  You can reference the tutorial at [this link](https://www.kaggle.com/colinmorris/booleans-and-conditionals).**\n",
    "\n",
    "---\n"
   ]
  },
  {
   "cell_type": "markdown",
   "id": "c380677a",
   "metadata": {
    "papermill": {
     "duration": 0.008573,
     "end_time": "2024-07-26T03:35:47.109593",
     "exception": false,
     "start_time": "2024-07-26T03:35:47.101020",
     "status": "completed"
    },
    "tags": []
   },
   "source": [
    "In this exercise, you'll put to work what you have learned about booleans and conditionals.\n",
    "\n",
    "To get started, **run the setup code below** before writing your own code (and if you leave this notebook and come back later, don't forget to run the setup code again)."
   ]
  },
  {
   "cell_type": "code",
   "execution_count": 1,
   "id": "ad25d499",
   "metadata": {
    "execution": {
     "iopub.execute_input": "2024-07-26T03:35:47.130611Z",
     "iopub.status.busy": "2024-07-26T03:35:47.130199Z",
     "iopub.status.idle": "2024-07-26T03:35:48.288556Z",
     "shell.execute_reply": "2024-07-26T03:35:48.287349Z"
    },
    "papermill": {
     "duration": 1.171649,
     "end_time": "2024-07-26T03:35:48.290878",
     "exception": false,
     "start_time": "2024-07-26T03:35:47.119229",
     "status": "completed"
    },
    "tags": []
   },
   "outputs": [
    {
     "name": "stdout",
     "output_type": "stream",
     "text": [
      "Setup complete.\n"
     ]
    }
   ],
   "source": [
    "from learntools.core import binder; binder.bind(globals())\n",
    "from learntools.python.ex3 import *\n",
    "print('Setup complete.')"
   ]
  },
  {
   "cell_type": "markdown",
   "id": "c2c050af",
   "metadata": {
    "papermill": {
     "duration": 0.007842,
     "end_time": "2024-07-26T03:35:48.307154",
     "exception": false,
     "start_time": "2024-07-26T03:35:48.299312",
     "status": "completed"
    },
    "tags": []
   },
   "source": [
    "# 1.\n",
    "\n",
    "Many programming languages have [`sign`](https://en.wikipedia.org/wiki/Sign_function) available as a built-in function. Python doesn't, but we can define our own!\n",
    "\n",
    "In the cell below, define a function called `sign` which takes a numerical argument and returns -1 if it's negative, 1 if it's positive, and 0 if it's 0."
   ]
  },
  {
   "cell_type": "code",
   "execution_count": 2,
   "id": "317e79ef",
   "metadata": {
    "execution": {
     "iopub.execute_input": "2024-07-26T03:35:48.327825Z",
     "iopub.status.busy": "2024-07-26T03:35:48.326525Z",
     "iopub.status.idle": "2024-07-26T03:35:48.338074Z",
     "shell.execute_reply": "2024-07-26T03:35:48.336999Z"
    },
    "papermill": {
     "duration": 0.024586,
     "end_time": "2024-07-26T03:35:48.341419",
     "exception": false,
     "start_time": "2024-07-26T03:35:48.316833",
     "status": "completed"
    },
    "tags": []
   },
   "outputs": [
    {
     "data": {
      "application/javascript": [
       "parent.postMessage({\"jupyterEvent\": \"custom.exercise_interaction\", \"data\": {\"outcomeType\": 1, \"valueTowardsCompletion\": 0.2, \"interactionType\": 1, \"questionType\": 2, \"questionId\": \"1_SignFunctionProblem\", \"learnToolsVersion\": \"0.3.4\", \"failureMessage\": \"\", \"exceptionClass\": \"\", \"trace\": \"\"}}, \"*\")"
      ],
      "text/plain": [
       "<IPython.core.display.Javascript object>"
      ]
     },
     "metadata": {},
     "output_type": "display_data"
    },
    {
     "data": {
      "text/markdown": [
       "<span style=\"color:#33cc33\">Correct</span>"
      ],
      "text/plain": [
       "Correct"
      ]
     },
     "metadata": {},
     "output_type": "display_data"
    }
   ],
   "source": [
    "# Your code goes here. Define a function called 'sign'\n",
    "def sign(a):\n",
    "    if a == 0:\n",
    "        return 0\n",
    "    elif a > 0:\n",
    "        return 1\n",
    "    else:\n",
    "        return -1\n",
    "    \n",
    "    \n",
    "# Check your answer\n",
    "q1.check()"
   ]
  },
  {
   "cell_type": "code",
   "execution_count": 3,
   "id": "30cc5ecf",
   "metadata": {
    "execution": {
     "iopub.execute_input": "2024-07-26T03:35:48.364938Z",
     "iopub.status.busy": "2024-07-26T03:35:48.364562Z",
     "iopub.status.idle": "2024-07-26T03:35:48.370724Z",
     "shell.execute_reply": "2024-07-26T03:35:48.369195Z"
    },
    "papermill": {
     "duration": 0.022061,
     "end_time": "2024-07-26T03:35:48.374759",
     "exception": false,
     "start_time": "2024-07-26T03:35:48.352698",
     "status": "completed"
    },
    "tags": []
   },
   "outputs": [],
   "source": [
    "#q1.solution()"
   ]
  },
  {
   "cell_type": "markdown",
   "id": "4d6a5e9b",
   "metadata": {
    "papermill": {
     "duration": 0.008301,
     "end_time": "2024-07-26T03:35:48.395059",
     "exception": false,
     "start_time": "2024-07-26T03:35:48.386758",
     "status": "completed"
    },
    "tags": []
   },
   "source": [
    "# 2.\n",
    "\n",
    "We've decided to add \"logging\" to our `to_smash` function from the previous exercise."
   ]
  },
  {
   "cell_type": "code",
   "execution_count": 4,
   "id": "09808fd2",
   "metadata": {
    "execution": {
     "iopub.execute_input": "2024-07-26T03:35:48.416869Z",
     "iopub.status.busy": "2024-07-26T03:35:48.415801Z",
     "iopub.status.idle": "2024-07-26T03:35:48.426763Z",
     "shell.execute_reply": "2024-07-26T03:35:48.425260Z"
    },
    "papermill": {
     "duration": 0.023816,
     "end_time": "2024-07-26T03:35:48.429326",
     "exception": false,
     "start_time": "2024-07-26T03:35:48.405510",
     "status": "completed"
    },
    "tags": []
   },
   "outputs": [
    {
     "name": "stdout",
     "output_type": "stream",
     "text": [
      "Splitting 91 candies\n"
     ]
    },
    {
     "data": {
      "text/plain": [
       "1"
      ]
     },
     "execution_count": 4,
     "metadata": {},
     "output_type": "execute_result"
    }
   ],
   "source": [
    "def to_smash(total_candies):\n",
    "    \"\"\"Return the number of leftover candies that must be smashed after distributing\n",
    "    the given number of candies evenly between 3 friends.\n",
    "    \n",
    "    >>> to_smash(91)\n",
    "    1\n",
    "    \"\"\"\n",
    "    print(\"Splitting\", total_candies, \"candies\")\n",
    "    return total_candies % 3\n",
    "\n",
    "to_smash(91)"
   ]
  },
  {
   "cell_type": "markdown",
   "id": "5758f609",
   "metadata": {
    "papermill": {
     "duration": 0.00847,
     "end_time": "2024-07-26T03:35:48.447369",
     "exception": false,
     "start_time": "2024-07-26T03:35:48.438899",
     "status": "completed"
    },
    "tags": []
   },
   "source": [
    "What happens if we call it with `total_candies = 1`?"
   ]
  },
  {
   "cell_type": "code",
   "execution_count": 5,
   "id": "4bb6efd9",
   "metadata": {
    "execution": {
     "iopub.execute_input": "2024-07-26T03:35:48.470570Z",
     "iopub.status.busy": "2024-07-26T03:35:48.470077Z",
     "iopub.status.idle": "2024-07-26T03:35:48.479264Z",
     "shell.execute_reply": "2024-07-26T03:35:48.478301Z"
    },
    "papermill": {
     "duration": 0.023488,
     "end_time": "2024-07-26T03:35:48.481423",
     "exception": false,
     "start_time": "2024-07-26T03:35:48.457935",
     "status": "completed"
    },
    "tags": []
   },
   "outputs": [
    {
     "name": "stdout",
     "output_type": "stream",
     "text": [
      "Splitting 1 candies\n"
     ]
    },
    {
     "data": {
      "text/plain": [
       "1"
      ]
     },
     "execution_count": 5,
     "metadata": {},
     "output_type": "execute_result"
    }
   ],
   "source": [
    "to_smash(1)"
   ]
  },
  {
   "cell_type": "markdown",
   "id": "dc77e6e7",
   "metadata": {
    "papermill": {
     "duration": 0.008671,
     "end_time": "2024-07-26T03:35:48.499319",
     "exception": false,
     "start_time": "2024-07-26T03:35:48.490648",
     "status": "completed"
    },
    "tags": []
   },
   "source": [
    "That isn't great grammar!\n",
    "\n",
    "Modify the definition in the cell below to correct the grammar of our print statement. (If there's only one candy, we should use the singular \"candy\" instead of the plural \"candies\")"
   ]
  },
  {
   "cell_type": "code",
   "execution_count": 6,
   "id": "09d2069f",
   "metadata": {
    "execution": {
     "iopub.execute_input": "2024-07-26T03:35:48.519885Z",
     "iopub.status.busy": "2024-07-26T03:35:48.519220Z",
     "iopub.status.idle": "2024-07-26T03:35:48.530458Z",
     "shell.execute_reply": "2024-07-26T03:35:48.529246Z"
    },
    "papermill": {
     "duration": 0.024277,
     "end_time": "2024-07-26T03:35:48.533019",
     "exception": false,
     "start_time": "2024-07-26T03:35:48.508742",
     "status": "completed"
    },
    "tags": []
   },
   "outputs": [
    {
     "name": "stdout",
     "output_type": "stream",
     "text": [
      "Splitting 91 candies\n",
      "Splitting 1 candy\n"
     ]
    },
    {
     "data": {
      "text/plain": [
       "1"
      ]
     },
     "execution_count": 6,
     "metadata": {},
     "output_type": "execute_result"
    }
   ],
   "source": [
    "def to_smash(total_candies):\n",
    "    \"\"\"Return the number of leftover candies that must be smashed after distributing\n",
    "    the given number of candies evenly between 3 friends.\n",
    "    \n",
    "    >>> to_smash(91)\n",
    "    1\n",
    "    \"\"\"\n",
    "    if total_candies == 1:\n",
    "        print(\"Splitting\", total_candies, \"candy\")\n",
    "    else:\n",
    "        print(\"Splitting\", total_candies, \"candies\")\n",
    "    return total_candies % 3\n",
    "\n",
    "to_smash(91)\n",
    "to_smash(1)"
   ]
  },
  {
   "cell_type": "markdown",
   "id": "86de643b",
   "metadata": {
    "papermill": {
     "duration": 0.008876,
     "end_time": "2024-07-26T03:35:48.552016",
     "exception": false,
     "start_time": "2024-07-26T03:35:48.543140",
     "status": "completed"
    },
    "tags": []
   },
   "source": [
    "To get credit for completing this problem, and to see the official answer, run the code cell below."
   ]
  },
  {
   "cell_type": "code",
   "execution_count": 7,
   "id": "b5159419",
   "metadata": {
    "execution": {
     "iopub.execute_input": "2024-07-26T03:35:48.573410Z",
     "iopub.status.busy": "2024-07-26T03:35:48.572913Z",
     "iopub.status.idle": "2024-07-26T03:35:48.583459Z",
     "shell.execute_reply": "2024-07-26T03:35:48.582286Z"
    },
    "papermill": {
     "duration": 0.024142,
     "end_time": "2024-07-26T03:35:48.586003",
     "exception": false,
     "start_time": "2024-07-26T03:35:48.561861",
     "status": "completed"
    },
    "tags": []
   },
   "outputs": [
    {
     "data": {
      "application/javascript": [
       "parent.postMessage({\"jupyterEvent\": \"custom.exercise_interaction\", \"data\": {\"interactionType\": 3, \"questionType\": 4, \"questionId\": \"2_PluralizationProblem\", \"learnToolsVersion\": \"0.3.4\", \"valueTowardsCompletion\": 0.0, \"failureMessage\": \"\", \"exceptionClass\": \"\", \"trace\": \"\", \"outcomeType\": 4}}, \"*\")"
      ],
      "text/plain": [
       "<IPython.core.display.Javascript object>"
      ]
     },
     "metadata": {},
     "output_type": "display_data"
    },
    {
     "data": {
      "text/markdown": [
       "<span style=\"color:#33cc99\">Solution:</span> A straightforward (and totally fine) solution is to replace the original `print` call with:\n",
       "\n",
       "```python\n",
       "if total_candies == 1:\n",
       "    print(\"Splitting 1 candy\")\n",
       "else:\n",
       "    print(\"Splitting\", total_candies, \"candies\")\n",
       "```\n",
       "\n",
       "Here's a slightly more succinct solution using a conditional expression:\n",
       "\n",
       "```python\n",
       "print(\"Splitting\", total_candies, \"candy\" if total_candies == 1 else \"candies\")\n",
       "```"
      ],
      "text/plain": [
       "Solution: A straightforward (and totally fine) solution is to replace the original `print` call with:\n",
       "\n",
       "```python\n",
       "if total_candies == 1:\n",
       "    print(\"Splitting 1 candy\")\n",
       "else:\n",
       "    print(\"Splitting\", total_candies, \"candies\")\n",
       "```\n",
       "\n",
       "Here's a slightly more succinct solution using a conditional expression:\n",
       "\n",
       "```python\n",
       "print(\"Splitting\", total_candies, \"candy\" if total_candies == 1 else \"candies\")\n",
       "```"
      ]
     },
     "metadata": {},
     "output_type": "display_data"
    }
   ],
   "source": [
    "# Check your answer (Run this code cell to receive credit!)\n",
    "q2.solution()"
   ]
  },
  {
   "cell_type": "markdown",
   "id": "e99f681e",
   "metadata": {
    "papermill": {
     "duration": 0.013576,
     "end_time": "2024-07-26T03:35:48.613817",
     "exception": false,
     "start_time": "2024-07-26T03:35:48.600241",
     "status": "completed"
    },
    "tags": []
   },
   "source": [
    "# 3. <span title=\"A bit spicy\" style=\"color: darkgreen \">🌶️</span>\n",
    "\n",
    "In the tutorial, we talked about deciding whether we're prepared for the weather. I said that I'm safe from today's weather if...\n",
    "- I have an umbrella...\n",
    "- or if the rain isn't too heavy and I have a hood...\n",
    "- otherwise, I'm still fine unless it's raining *and* it's a workday\n",
    "\n",
    "The function below uses our first attempt at turning this logic into a Python expression. I claimed that there was a bug in that code. Can you find it?\n",
    "\n",
    "To prove that `prepared_for_weather` is buggy, come up with a set of inputs where either:\n",
    "- the function returns `False` (but should have returned `True`), or\n",
    "- the function returned `True` (but should have returned `False`).\n",
    "\n",
    "To get credit for completing this question, your code should return a <font color='#33cc33'>Correct</font> result."
   ]
  },
  {
   "cell_type": "code",
   "execution_count": 8,
   "id": "27426f6f",
   "metadata": {
    "execution": {
     "iopub.execute_input": "2024-07-26T03:35:48.640296Z",
     "iopub.status.busy": "2024-07-26T03:35:48.639809Z",
     "iopub.status.idle": "2024-07-26T03:35:48.654289Z",
     "shell.execute_reply": "2024-07-26T03:35:48.652993Z"
    },
    "papermill": {
     "duration": 0.029106,
     "end_time": "2024-07-26T03:35:48.656854",
     "exception": false,
     "start_time": "2024-07-26T03:35:48.627748",
     "status": "completed"
    },
    "tags": []
   },
   "outputs": [
    {
     "name": "stdout",
     "output_type": "stream",
     "text": [
      "False\n"
     ]
    },
    {
     "data": {
      "application/javascript": [
       "parent.postMessage({\"jupyterEvent\": \"custom.exercise_interaction\", \"data\": {\"outcomeType\": 1, \"valueTowardsCompletion\": 0.2, \"interactionType\": 1, \"questionType\": 1, \"questionId\": \"3_WeatherDebug\", \"learnToolsVersion\": \"0.3.4\", \"failureMessage\": \"\", \"exceptionClass\": \"\", \"trace\": \"\"}}, \"*\")"
      ],
      "text/plain": [
       "<IPython.core.display.Javascript object>"
      ]
     },
     "metadata": {},
     "output_type": "display_data"
    },
    {
     "data": {
      "text/markdown": [
       "<span style=\"color:#33cc33\">Correct:</span> \n",
       "\n",
       "One example of a failing test case is:\n",
       "\n",
       "```python\n",
       "have_umbrella = False\n",
       "rain_level = 0.0\n",
       "have_hood = False\n",
       "is_workday = False\n",
       "```\n",
       "\n",
       "Clearly we're prepared for the weather in this case. It's not raining. Not only that, it's not a workday, so we don't even need to leave the house! But our function will return False on these inputs.\n",
       "\n",
       "The key problem is that Python implictly parenthesizes the last part as:\n",
       "\n",
       "```python\n",
       "(not (rain_level > 0)) and is_workday\n",
       "```\n",
       "\n",
       "Whereas what we were trying to express would look more like:\n",
       "\n",
       "```python\n",
       "not (rain_level > 0 and is_workday)\n",
       "```\n"
      ],
      "text/plain": [
       "Correct: \n",
       "\n",
       "One example of a failing test case is:\n",
       "\n",
       "```python\n",
       "have_umbrella = False\n",
       "rain_level = 0.0\n",
       "have_hood = False\n",
       "is_workday = False\n",
       "```\n",
       "\n",
       "Clearly we're prepared for the weather in this case. It's not raining. Not only that, it's not a workday, so we don't even need to leave the house! But our function will return False on these inputs.\n",
       "\n",
       "The key problem is that Python implictly parenthesizes the last part as:\n",
       "\n",
       "```python\n",
       "(not (rain_level > 0)) and is_workday\n",
       "```\n",
       "\n",
       "Whereas what we were trying to express would look more like:\n",
       "\n",
       "```python\n",
       "not (rain_level > 0 and is_workday)\n",
       "```"
      ]
     },
     "metadata": {},
     "output_type": "display_data"
    }
   ],
   "source": [
    "def prepared_for_weather(have_umbrella, rain_level, have_hood, is_workday):\n",
    "    # Don't change this code. Our goal is just to find the bug, not fix it!\n",
    "    return have_umbrella or rain_level < 5 and have_hood or not rain_level > 0 and is_workday\n",
    "\n",
    "# Change the values of these inputs so they represent a case where prepared_for_weather\n",
    "# returns the wrong answer.\n",
    "# have_umbrella = True\n",
    "# rain_level = 0.0\n",
    "# have_hood = True\n",
    "# is_workday = True\n",
    "have_umbrella = False\n",
    "rain_level = 10\n",
    "have_hood = False\n",
    "is_workday = False\n",
    "\n",
    "# Check what the function returns given the current values of the variables above\n",
    "actual = prepared_for_weather(have_umbrella, rain_level, have_hood, is_workday)\n",
    "print(actual)\n",
    "\n",
    "# Check your answer\n",
    "q3.check()"
   ]
  },
  {
   "cell_type": "code",
   "execution_count": 9,
   "id": "f3b6f881",
   "metadata": {
    "execution": {
     "iopub.execute_input": "2024-07-26T03:35:48.683108Z",
     "iopub.status.busy": "2024-07-26T03:35:48.682615Z",
     "iopub.status.idle": "2024-07-26T03:35:48.688833Z",
     "shell.execute_reply": "2024-07-26T03:35:48.687384Z"
    },
    "papermill": {
     "duration": 0.023727,
     "end_time": "2024-07-26T03:35:48.691324",
     "exception": false,
     "start_time": "2024-07-26T03:35:48.667597",
     "status": "completed"
    },
    "tags": []
   },
   "outputs": [],
   "source": [
    "#q3.hint()\n",
    "#q3.solution()"
   ]
  },
  {
   "cell_type": "markdown",
   "id": "867f23df",
   "metadata": {
    "papermill": {
     "duration": 0.010016,
     "end_time": "2024-07-26T03:35:48.712369",
     "exception": false,
     "start_time": "2024-07-26T03:35:48.702353",
     "status": "completed"
    },
    "tags": []
   },
   "source": [
    "# 4.\n",
    "\n",
    "The function `is_negative` below is implemented correctly - it returns True if the given number is negative and False otherwise.\n",
    "\n",
    "However, it's more verbose than it needs to be. We can actually reduce the number of lines of code in this function by *75%* while keeping the same behaviour. \n",
    "\n",
    "See if you can come up with an equivalent body that uses just **one line** of code, and put it in the function `concise_is_negative`. (HINT: you don't even need Python's ternary syntax)"
   ]
  },
  {
   "cell_type": "code",
   "execution_count": 10,
   "id": "f2e1a7d5",
   "metadata": {
    "execution": {
     "iopub.execute_input": "2024-07-26T03:35:48.736639Z",
     "iopub.status.busy": "2024-07-26T03:35:48.735369Z",
     "iopub.status.idle": "2024-07-26T03:35:48.746148Z",
     "shell.execute_reply": "2024-07-26T03:35:48.744978Z"
    },
    "papermill": {
     "duration": 0.024581,
     "end_time": "2024-07-26T03:35:48.748412",
     "exception": false,
     "start_time": "2024-07-26T03:35:48.723831",
     "status": "completed"
    },
    "tags": []
   },
   "outputs": [
    {
     "data": {
      "application/javascript": [
       "parent.postMessage({\"jupyterEvent\": \"custom.exercise_interaction\", \"data\": {\"outcomeType\": 1, \"valueTowardsCompletion\": 0.2, \"interactionType\": 1, \"questionType\": 2, \"questionId\": \"4_ConciseIsNegative\", \"learnToolsVersion\": \"0.3.4\", \"failureMessage\": \"\", \"exceptionClass\": \"\", \"trace\": \"\"}}, \"*\")"
      ],
      "text/plain": [
       "<IPython.core.display.Javascript object>"
      ]
     },
     "metadata": {},
     "output_type": "display_data"
    },
    {
     "data": {
      "text/markdown": [
       "<span style=\"color:#33cc33\">Correct</span>"
      ],
      "text/plain": [
       "Correct"
      ]
     },
     "metadata": {},
     "output_type": "display_data"
    }
   ],
   "source": [
    "def is_negative(number):\n",
    "    if number < 0:\n",
    "        return True\n",
    "    else:\n",
    "        return False\n",
    "\n",
    "def concise_is_negative(number):\n",
    "    return number < 0 # Your code goes here (try to keep it to one line!)\n",
    "\n",
    "# Check your answer\n",
    "q4.check()"
   ]
  },
  {
   "cell_type": "code",
   "execution_count": 11,
   "id": "0f2c5867",
   "metadata": {
    "execution": {
     "iopub.execute_input": "2024-07-26T03:35:48.772301Z",
     "iopub.status.busy": "2024-07-26T03:35:48.771302Z",
     "iopub.status.idle": "2024-07-26T03:35:48.777301Z",
     "shell.execute_reply": "2024-07-26T03:35:48.775756Z"
    },
    "papermill": {
     "duration": 0.021662,
     "end_time": "2024-07-26T03:35:48.780426",
     "exception": false,
     "start_time": "2024-07-26T03:35:48.758764",
     "status": "completed"
    },
    "tags": []
   },
   "outputs": [],
   "source": [
    "#q4.hint()\n",
    "#q4.solution()"
   ]
  },
  {
   "cell_type": "markdown",
   "id": "1d282c5f",
   "metadata": {
    "papermill": {
     "duration": 0.010535,
     "end_time": "2024-07-26T03:35:48.801908",
     "exception": false,
     "start_time": "2024-07-26T03:35:48.791373",
     "status": "completed"
    },
    "tags": []
   },
   "source": [
    "# 5a.\n",
    "\n",
    "The boolean variables `ketchup`, `mustard` and `onion` represent whether a customer wants a particular topping on their hot dog. We want to implement a number of boolean functions that correspond to some yes-or-no questions about the customer's order. For example:"
   ]
  },
  {
   "cell_type": "code",
   "execution_count": 12,
   "id": "1ac86b00",
   "metadata": {
    "execution": {
     "iopub.execute_input": "2024-07-26T03:35:48.832445Z",
     "iopub.status.busy": "2024-07-26T03:35:48.832036Z",
     "iopub.status.idle": "2024-07-26T03:35:48.839229Z",
     "shell.execute_reply": "2024-07-26T03:35:48.837160Z"
    },
    "papermill": {
     "duration": 0.02726,
     "end_time": "2024-07-26T03:35:48.842162",
     "exception": false,
     "start_time": "2024-07-26T03:35:48.814902",
     "status": "completed"
    },
    "tags": []
   },
   "outputs": [],
   "source": [
    "def onionless(ketchup, mustard, onion):\n",
    "    \"\"\"Return whether the customer doesn't want onions.\n",
    "    \"\"\"\n",
    "    return not onion"
   ]
  },
  {
   "cell_type": "code",
   "execution_count": 13,
   "id": "d08e7601",
   "metadata": {
    "execution": {
     "iopub.execute_input": "2024-07-26T03:35:48.874270Z",
     "iopub.status.busy": "2024-07-26T03:35:48.873287Z",
     "iopub.status.idle": "2024-07-26T03:35:48.885182Z",
     "shell.execute_reply": "2024-07-26T03:35:48.884150Z"
    },
    "papermill": {
     "duration": 0.031531,
     "end_time": "2024-07-26T03:35:48.887732",
     "exception": false,
     "start_time": "2024-07-26T03:35:48.856201",
     "status": "completed"
    },
    "tags": []
   },
   "outputs": [
    {
     "data": {
      "application/javascript": [
       "parent.postMessage({\"jupyterEvent\": \"custom.exercise_interaction\", \"data\": {\"outcomeType\": 1, \"valueTowardsCompletion\": 0.2, \"interactionType\": 1, \"questionType\": 2, \"questionId\": \"5.1_AllToppings\", \"learnToolsVersion\": \"0.3.4\", \"failureMessage\": \"\", \"exceptionClass\": \"\", \"trace\": \"\"}}, \"*\")"
      ],
      "text/plain": [
       "<IPython.core.display.Javascript object>"
      ]
     },
     "metadata": {},
     "output_type": "display_data"
    },
    {
     "data": {
      "text/markdown": [
       "<span style=\"color:#33cc33\">Correct</span>"
      ],
      "text/plain": [
       "Correct"
      ]
     },
     "metadata": {},
     "output_type": "display_data"
    }
   ],
   "source": [
    "def wants_all_toppings(ketchup, mustard, onion):\n",
    "    \"\"\"Return whether the customer wants \"the works\" (all 3 toppings)\n",
    "    \"\"\"\n",
    "    return ketchup and mustard and onion\n",
    "\n",
    "# Check your answer\n",
    "q5.a.check()"
   ]
  },
  {
   "cell_type": "code",
   "execution_count": 14,
   "id": "712c4a9f",
   "metadata": {
    "execution": {
     "iopub.execute_input": "2024-07-26T03:35:48.913170Z",
     "iopub.status.busy": "2024-07-26T03:35:48.912706Z",
     "iopub.status.idle": "2024-07-26T03:35:48.917841Z",
     "shell.execute_reply": "2024-07-26T03:35:48.916579Z"
    },
    "papermill": {
     "duration": 0.020646,
     "end_time": "2024-07-26T03:35:48.920357",
     "exception": false,
     "start_time": "2024-07-26T03:35:48.899711",
     "status": "completed"
    },
    "tags": []
   },
   "outputs": [],
   "source": [
    "#q5.a.hint()\n",
    "#q5.a.solution()"
   ]
  },
  {
   "cell_type": "markdown",
   "id": "70ad1b81",
   "metadata": {
    "papermill": {
     "duration": 0.011435,
     "end_time": "2024-07-26T03:35:48.942959",
     "exception": false,
     "start_time": "2024-07-26T03:35:48.931524",
     "status": "completed"
    },
    "tags": []
   },
   "source": [
    "# 5b.\n",
    "\n",
    "For the next function, fill in the body to match the English description in the docstring. "
   ]
  },
  {
   "cell_type": "code",
   "execution_count": 15,
   "id": "9b303a2c",
   "metadata": {
    "execution": {
     "iopub.execute_input": "2024-07-26T03:35:48.967730Z",
     "iopub.status.busy": "2024-07-26T03:35:48.967241Z",
     "iopub.status.idle": "2024-07-26T03:35:48.978028Z",
     "shell.execute_reply": "2024-07-26T03:35:48.976946Z"
    },
    "papermill": {
     "duration": 0.026769,
     "end_time": "2024-07-26T03:35:48.981344",
     "exception": false,
     "start_time": "2024-07-26T03:35:48.954575",
     "status": "completed"
    },
    "tags": []
   },
   "outputs": [
    {
     "data": {
      "application/javascript": [
       "parent.postMessage({\"jupyterEvent\": \"custom.exercise_interaction\", \"data\": {\"outcomeType\": 1, \"valueTowardsCompletion\": 0.2, \"interactionType\": 1, \"questionType\": 2, \"questionId\": \"5.2_PlainDog\", \"learnToolsVersion\": \"0.3.4\", \"failureMessage\": \"\", \"exceptionClass\": \"\", \"trace\": \"\"}}, \"*\")"
      ],
      "text/plain": [
       "<IPython.core.display.Javascript object>"
      ]
     },
     "metadata": {},
     "output_type": "display_data"
    },
    {
     "data": {
      "text/markdown": [
       "<span style=\"color:#33cc33\">Correct:</span> \n",
       "\n",
       "One solution looks like:\n",
       "```python\n",
       "return not ketchup and not mustard and not onion\n",
       "```\n",
       "\n",
       "We can also [\"factor out\" the nots](https://en.wikipedia.org/wiki/De_Morgan%27s_laws) to get:\n",
       "\n",
       "```python\n",
       "return not (ketchup or mustard or onion)\n",
       "```"
      ],
      "text/plain": [
       "Correct: \n",
       "\n",
       "One solution looks like:\n",
       "```python\n",
       "return not ketchup and not mustard and not onion\n",
       "```\n",
       "\n",
       "We can also [\"factor out\" the nots](https://en.wikipedia.org/wiki/De_Morgan%27s_laws) to get:\n",
       "\n",
       "```python\n",
       "return not (ketchup or mustard or onion)\n",
       "```"
      ]
     },
     "metadata": {},
     "output_type": "display_data"
    }
   ],
   "source": [
    "def wants_plain_hotdog(ketchup, mustard, onion):\n",
    "    \"\"\"Return whether the customer wants a plain hot dog with no toppings.\n",
    "    \"\"\"\n",
    "    return not ketchup and not mustard and not onion\n",
    "\n",
    "# Check your answer\n",
    "q5.b.check()"
   ]
  },
  {
   "cell_type": "code",
   "execution_count": 16,
   "id": "c5a79b4a",
   "metadata": {
    "execution": {
     "iopub.execute_input": "2024-07-26T03:35:49.011432Z",
     "iopub.status.busy": "2024-07-26T03:35:49.010337Z",
     "iopub.status.idle": "2024-07-26T03:35:49.015607Z",
     "shell.execute_reply": "2024-07-26T03:35:49.014320Z"
    },
    "papermill": {
     "duration": 0.02063,
     "end_time": "2024-07-26T03:35:49.017968",
     "exception": false,
     "start_time": "2024-07-26T03:35:48.997338",
     "status": "completed"
    },
    "tags": []
   },
   "outputs": [],
   "source": [
    "#q5.b.hint()\n",
    "#q5.b.solution()"
   ]
  },
  {
   "cell_type": "markdown",
   "id": "7d1bca54",
   "metadata": {
    "papermill": {
     "duration": 0.011864,
     "end_time": "2024-07-26T03:35:49.040753",
     "exception": false,
     "start_time": "2024-07-26T03:35:49.028889",
     "status": "completed"
    },
    "tags": []
   },
   "source": [
    "# 5c.\n",
    "\n",
    "You know what to do: for the next function, fill in the body to match the English description in the docstring."
   ]
  },
  {
   "cell_type": "code",
   "execution_count": 17,
   "id": "499ca289",
   "metadata": {
    "execution": {
     "iopub.execute_input": "2024-07-26T03:35:49.067069Z",
     "iopub.status.busy": "2024-07-26T03:35:49.066588Z",
     "iopub.status.idle": "2024-07-26T03:35:49.077384Z",
     "shell.execute_reply": "2024-07-26T03:35:49.076320Z"
    },
    "papermill": {
     "duration": 0.027333,
     "end_time": "2024-07-26T03:35:49.080112",
     "exception": false,
     "start_time": "2024-07-26T03:35:49.052779",
     "status": "completed"
    },
    "tags": []
   },
   "outputs": [
    {
     "data": {
      "application/javascript": [
       "parent.postMessage({\"jupyterEvent\": \"custom.exercise_interaction\", \"data\": {\"outcomeType\": 1, \"valueTowardsCompletion\": 0.2, \"interactionType\": 1, \"questionType\": 2, \"questionId\": \"5.3_OneSauce\", \"learnToolsVersion\": \"0.3.4\", \"failureMessage\": \"\", \"exceptionClass\": \"\", \"trace\": \"\"}}, \"*\")"
      ],
      "text/plain": [
       "<IPython.core.display.Javascript object>"
      ]
     },
     "metadata": {},
     "output_type": "display_data"
    },
    {
     "data": {
      "text/markdown": [
       "<span style=\"color:#33cc33\">Correct</span>"
      ],
      "text/plain": [
       "Correct"
      ]
     },
     "metadata": {},
     "output_type": "display_data"
    }
   ],
   "source": [
    "def exactly_one_sauce(ketchup, mustard, onion):\n",
    "    \"\"\"Return whether the customer wants either ketchup or mustard, but not both.\n",
    "    (You may be familiar with this operation under the name \"exclusive or\")\n",
    "    \"\"\"\n",
    "    return (ketchup or mustard) and not (ketchup and mustard)\n",
    "\n",
    "# Check your answer\n",
    "q5.c.check()"
   ]
  },
  {
   "cell_type": "code",
   "execution_count": 18,
   "id": "cf8e3efc",
   "metadata": {
    "execution": {
     "iopub.execute_input": "2024-07-26T03:35:49.111332Z",
     "iopub.status.busy": "2024-07-26T03:35:49.110914Z",
     "iopub.status.idle": "2024-07-26T03:35:49.115743Z",
     "shell.execute_reply": "2024-07-26T03:35:49.114581Z"
    },
    "papermill": {
     "duration": 0.021048,
     "end_time": "2024-07-26T03:35:49.118138",
     "exception": false,
     "start_time": "2024-07-26T03:35:49.097090",
     "status": "completed"
    },
    "tags": []
   },
   "outputs": [],
   "source": [
    "#q5.c.hint()\n",
    "#q5.c.solution()"
   ]
  },
  {
   "cell_type": "markdown",
   "id": "a8ae6f6f",
   "metadata": {
    "papermill": {
     "duration": 0.010835,
     "end_time": "2024-07-26T03:35:49.141033",
     "exception": false,
     "start_time": "2024-07-26T03:35:49.130198",
     "status": "completed"
    },
    "tags": []
   },
   "source": [
    "# 6. <span title=\"A bit spicy\" style=\"color: darkgreen \">🌶️</span>\n",
    "\n",
    "We’ve seen that calling `bool()` on an integer returns `False` if it’s equal to 0 and `True` otherwise. What happens if we call `int()` on a bool? Try it out in the notebook cell below.\n",
    "\n",
    "Can you take advantage of this to write a succinct function that corresponds to the English sentence \"does the customer want exactly one topping?\"?"
   ]
  },
  {
   "cell_type": "code",
   "execution_count": 19,
   "id": "0519737e",
   "metadata": {
    "execution": {
     "iopub.execute_input": "2024-07-26T03:35:49.164851Z",
     "iopub.status.busy": "2024-07-26T03:35:49.164430Z",
     "iopub.status.idle": "2024-07-26T03:35:49.175120Z",
     "shell.execute_reply": "2024-07-26T03:35:49.173985Z"
    },
    "papermill": {
     "duration": 0.025083,
     "end_time": "2024-07-26T03:35:49.177204",
     "exception": false,
     "start_time": "2024-07-26T03:35:49.152121",
     "status": "completed"
    },
    "tags": []
   },
   "outputs": [
    {
     "data": {
      "application/javascript": [
       "parent.postMessage({\"jupyterEvent\": \"custom.exercise_interaction\", \"data\": {\"outcomeType\": 1, \"valueTowardsCompletion\": 0.2, \"interactionType\": 1, \"questionType\": 2, \"questionId\": \"6_OneTopping\", \"learnToolsVersion\": \"0.3.4\", \"failureMessage\": \"\", \"exceptionClass\": \"\", \"trace\": \"\"}}, \"*\")"
      ],
      "text/plain": [
       "<IPython.core.display.Javascript object>"
      ]
     },
     "metadata": {},
     "output_type": "display_data"
    },
    {
     "data": {
      "text/markdown": [
       "<span style=\"color:#33cc33\">Correct:</span> \n",
       "\n",
       "This condition would be pretty complicated to express using just `and`, `or` and `not`, but using boolean-to-integer conversion gives us this short solution:\n",
       "```python\n",
       "return (int(ketchup) + int(mustard) + int(onion)) == 1\n",
       "```\n",
       "\n",
       "Fun fact: we don't technically need to call `int` on the arguments. Just by doing addition with booleans, Python implicitly does the integer conversion. So we could also write...\n",
       "\n",
       "```python\n",
       "return (ketchup + mustard + onion) == 1\n",
       "```"
      ],
      "text/plain": [
       "Correct: \n",
       "\n",
       "This condition would be pretty complicated to express using just `and`, `or` and `not`, but using boolean-to-integer conversion gives us this short solution:\n",
       "```python\n",
       "return (int(ketchup) + int(mustard) + int(onion)) == 1\n",
       "```\n",
       "\n",
       "Fun fact: we don't technically need to call `int` on the arguments. Just by doing addition with booleans, Python implicitly does the integer conversion. So we could also write...\n",
       "\n",
       "```python\n",
       "return (ketchup + mustard + onion) == 1\n",
       "```"
      ]
     },
     "metadata": {},
     "output_type": "display_data"
    }
   ],
   "source": [
    "def exactly_one_topping(ketchup, mustard, onion):\n",
    "    \"\"\"Return whether the customer wants exactly one of the three available toppings\n",
    "    on their hot dog.\n",
    "    \"\"\"\n",
    "    value = int(ketchup) + int(mustard) + int(onion)\n",
    "    return value == 1\n",
    "\n",
    "# Check your answer\n",
    "q6.check()"
   ]
  },
  {
   "cell_type": "code",
   "execution_count": 20,
   "id": "8b1db5c9",
   "metadata": {
    "execution": {
     "iopub.execute_input": "2024-07-26T03:35:49.202627Z",
     "iopub.status.busy": "2024-07-26T03:35:49.201757Z",
     "iopub.status.idle": "2024-07-26T03:35:49.207828Z",
     "shell.execute_reply": "2024-07-26T03:35:49.206666Z"
    },
    "papermill": {
     "duration": 0.022516,
     "end_time": "2024-07-26T03:35:49.211172",
     "exception": false,
     "start_time": "2024-07-26T03:35:49.188656",
     "status": "completed"
    },
    "tags": []
   },
   "outputs": [],
   "source": [
    "#q6.hint()\n",
    "#q6.solution()"
   ]
  },
  {
   "cell_type": "markdown",
   "id": "3a9653a4",
   "metadata": {
    "papermill": {
     "duration": 0.01101,
     "end_time": "2024-07-26T03:35:49.233938",
     "exception": false,
     "start_time": "2024-07-26T03:35:49.222928",
     "status": "completed"
    },
    "tags": []
   },
   "source": [
    "# 7. <span title=\"A bit spicy\" style=\"color: darkgreen \">🌶️</span> (Optional)\n",
    "\n",
    "In this problem we'll be working with a simplified version of [blackjack](https://en.wikipedia.org/wiki/Blackjack) (aka twenty-one). In this version there is one player (who you'll control) and a dealer. Play proceeds as follows:\n",
    "\n",
    "- The player is dealt two face-up cards. The dealer is dealt one face-up card.\n",
    "- The player may ask to be dealt another card ('hit') as many times as they wish. If the sum of their cards exceeds 21, they lose the round immediately.\n",
    "- The dealer then deals additional cards to himself until either:\n",
    "    - the sum of the dealer's cards exceeds 21, in which case the player wins the round\n",
    "    - the sum of the dealer's cards is greater than or equal to 17. If the player's total is greater than the dealer's, the player wins. Otherwise, the dealer wins (even in case of a tie).\n",
    "    \n",
    "When calculating the sum of cards, Jack, Queen, and King count for 10. Aces can count as 1 or 11 (when referring to a player's \"total\" above, we mean the largest total that can be made without exceeding 21. So e.g. A+8 = 19, A+8+8 = 17)\n",
    "\n",
    "For this problem, you'll write a function representing the player's decision-making strategy in this game. We've provided a very unintelligent implementation below:"
   ]
  },
  {
   "cell_type": "code",
   "execution_count": 21,
   "id": "59bb244c",
   "metadata": {
    "execution": {
     "iopub.execute_input": "2024-07-26T03:35:49.259395Z",
     "iopub.status.busy": "2024-07-26T03:35:49.259015Z",
     "iopub.status.idle": "2024-07-26T03:35:49.265439Z",
     "shell.execute_reply": "2024-07-26T03:35:49.263971Z"
    },
    "papermill": {
     "duration": 0.021832,
     "end_time": "2024-07-26T03:35:49.267867",
     "exception": false,
     "start_time": "2024-07-26T03:35:49.246035",
     "status": "completed"
    },
    "tags": []
   },
   "outputs": [],
   "source": [
    "def should_hit(dealer_total, player_total, player_low_aces, player_high_aces):\n",
    "    \"\"\"Return True if the player should hit (request another card) given the current game\n",
    "    state, or False if the player should stay.\n",
    "    When calculating a hand's total value, we count aces as \"high\" (with value 11) if doing so\n",
    "    doesn't bring the total above 21, otherwise we count them as low (with value 1). \n",
    "    For example, if the player's hand is {A, A, A, 7}, we will count it as 11 + 1 + 1 + 7,\n",
    "    and therefore set player_total=20, player_low_aces=2, player_high_aces=1.\n",
    "    \"\"\"\n",
    "    return False"
   ]
  },
  {
   "cell_type": "markdown",
   "id": "406d436b",
   "metadata": {
    "papermill": {
     "duration": 0.011983,
     "end_time": "2024-07-26T03:35:49.352073",
     "exception": false,
     "start_time": "2024-07-26T03:35:49.340090",
     "status": "completed"
    },
    "tags": []
   },
   "source": [
    "This very conservative agent *always* sticks with the hand of two cards that they're dealt.\n",
    "\n",
    "We'll be simulating games between your player agent and our own dealer agent by calling your function.\n",
    "\n",
    "Try running the function below to see an example of a simulated game:"
   ]
  },
  {
   "cell_type": "code",
   "execution_count": 22,
   "id": "754e8eb6",
   "metadata": {
    "execution": {
     "iopub.execute_input": "2024-07-26T03:35:49.378079Z",
     "iopub.status.busy": "2024-07-26T03:35:49.377302Z",
     "iopub.status.idle": "2024-07-26T03:35:49.383868Z",
     "shell.execute_reply": "2024-07-26T03:35:49.382549Z"
    },
    "papermill": {
     "duration": 0.02282,
     "end_time": "2024-07-26T03:35:49.386846",
     "exception": false,
     "start_time": "2024-07-26T03:35:49.364026",
     "status": "completed"
    },
    "tags": []
   },
   "outputs": [
    {
     "name": "stdout",
     "output_type": "stream",
     "text": [
      "Player starts with 7 and 9 (total = 16)\n",
      "Dealer starts with J\n",
      "\n",
      "__Player's turn__\n",
      "Player stays\n",
      "\n",
      "__Dealer's turn__\n",
      "Dealer hits and receives 3. (total = 13)\n",
      "Dealer hits and receives 3. (total = 16)\n",
      "Dealer hits and receives 4. (total = 20)\n",
      "Dealer stands.\n",
      "Dealer wins. 20 >= 16\n"
     ]
    }
   ],
   "source": [
    "q7.simulate_one_game()"
   ]
  },
  {
   "cell_type": "markdown",
   "id": "460d9a50",
   "metadata": {
    "papermill": {
     "duration": 0.01141,
     "end_time": "2024-07-26T03:35:49.410805",
     "exception": false,
     "start_time": "2024-07-26T03:35:49.399395",
     "status": "completed"
    },
    "tags": []
   },
   "source": [
    "The real test of your agent's mettle is their average win rate over many games. Try calling the function below to simulate 50000 games of blackjack (it may take a couple seconds):"
   ]
  },
  {
   "cell_type": "code",
   "execution_count": 23,
   "id": "12f28d47",
   "metadata": {
    "execution": {
     "iopub.execute_input": "2024-07-26T03:35:49.437294Z",
     "iopub.status.busy": "2024-07-26T03:35:49.436829Z",
     "iopub.status.idle": "2024-07-26T03:35:50.837725Z",
     "shell.execute_reply": "2024-07-26T03:35:50.836165Z"
    },
    "papermill": {
     "duration": 1.416915,
     "end_time": "2024-07-26T03:35:50.840162",
     "exception": false,
     "start_time": "2024-07-26T03:35:49.423247",
     "status": "completed"
    },
    "tags": []
   },
   "outputs": [
    {
     "name": "stdout",
     "output_type": "stream",
     "text": [
      "Player won 18821 out of 50000 games (win rate = 37.6%)\n"
     ]
    }
   ],
   "source": [
    "q7.simulate(n_games=50000)"
   ]
  },
  {
   "cell_type": "markdown",
   "id": "72b36575",
   "metadata": {
    "papermill": {
     "duration": 0.011891,
     "end_time": "2024-07-26T03:35:50.864266",
     "exception": false,
     "start_time": "2024-07-26T03:35:50.852375",
     "status": "completed"
    },
    "tags": []
   },
   "source": [
    "Our dumb agent that completely ignores the game state still manages to win shockingly often!\n",
    "\n",
    "Try adding some more smarts to the `should_hit` function and see how it affects the results."
   ]
  },
  {
   "cell_type": "code",
   "execution_count": 24,
   "id": "65276d35",
   "metadata": {
    "execution": {
     "iopub.execute_input": "2024-07-26T03:35:50.889199Z",
     "iopub.status.busy": "2024-07-26T03:35:50.888835Z",
     "iopub.status.idle": "2024-07-26T03:35:52.275352Z",
     "shell.execute_reply": "2024-07-26T03:35:52.273516Z"
    },
    "papermill": {
     "duration": 1.402115,
     "end_time": "2024-07-26T03:35:52.278008",
     "exception": false,
     "start_time": "2024-07-26T03:35:50.875893",
     "status": "completed"
    },
    "tags": []
   },
   "outputs": [
    {
     "name": "stdout",
     "output_type": "stream",
     "text": [
      "Player won 19086 out of 50000 games (win rate = 38.2%)\n"
     ]
    }
   ],
   "source": [
    "def should_hit(dealer_total, player_total, player_low_aces, player_high_aces):\n",
    "    \"\"\"Return True if the player should hit (request another card) given the current game\n",
    "    state, or False if the player should stay.\n",
    "    When calculating a hand's total value, we count aces as \"high\" (with value 11) if doing so\n",
    "    doesn't bring the total above 21, otherwise we count them as low (with value 1). \n",
    "    For example, if the player's hand is {A, A, A, 7}, we will count it as 11 + 1 + 1 + 7,\n",
    "    and therefore set player_total=20, player_low_aces=2, player_high_aces=1.\n",
    "    \"\"\"\n",
    "    return False\n",
    "\n",
    "q7.simulate(n_games=50000)"
   ]
  },
  {
   "cell_type": "markdown",
   "id": "afdb2990",
   "metadata": {
    "papermill": {
     "duration": 0.012223,
     "end_time": "2024-07-26T03:35:52.303208",
     "exception": false,
     "start_time": "2024-07-26T03:35:52.290985",
     "status": "completed"
    },
    "tags": []
   },
   "source": [
    "# Keep Going\n",
    "\n",
    "Learn about **[lists and tuples](https://www.kaggle.com/colinmorris/lists)** to handle multiple items of data in a systematic way."
   ]
  },
  {
   "cell_type": "markdown",
   "id": "f3280f6e",
   "metadata": {
    "papermill": {
     "duration": 0.011575,
     "end_time": "2024-07-26T03:35:52.326961",
     "exception": false,
     "start_time": "2024-07-26T03:35:52.315386",
     "status": "completed"
    },
    "tags": []
   },
   "source": [
    "---\n",
    "\n",
    "\n",
    "\n",
    "\n",
    "*Have questions or comments? Visit the [course discussion forum](https://www.kaggle.com/learn/python/discussion) to chat with other learners.*"
   ]
  }
 ],
 "metadata": {
  "kaggle": {
   "accelerator": "none",
   "dataSources": [],
   "isGpuEnabled": false,
   "isInternetEnabled": false,
   "language": "python",
   "sourceType": "notebook"
  },
  "kernelspec": {
   "display_name": "Python 3",
   "language": "python",
   "name": "python3"
  },
  "language_info": {
   "codemirror_mode": {
    "name": "ipython",
    "version": 3
   },
   "file_extension": ".py",
   "mimetype": "text/x-python",
   "name": "python",
   "nbconvert_exporter": "python",
   "pygments_lexer": "ipython3",
   "version": "3.10.13"
  },
  "learntools_metadata": {
   "lesson_index": 2,
   "type": "exercise"
  },
  "papermill": {
   "default_parameters": {},
   "duration": 8.717424,
   "end_time": "2024-07-26T03:35:52.861058",
   "environment_variables": {},
   "exception": null,
   "input_path": "__notebook__.ipynb",
   "output_path": "__notebook__.ipynb",
   "parameters": {},
   "start_time": "2024-07-26T03:35:44.143634",
   "version": "2.5.0"
  }
 },
 "nbformat": 4,
 "nbformat_minor": 5
}
