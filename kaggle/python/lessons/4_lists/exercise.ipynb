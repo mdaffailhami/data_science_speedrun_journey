{
 "cells": [
  {
   "cell_type": "markdown",
   "id": "a4458feb",
   "metadata": {
    "papermill": {
     "duration": 0.005333,
     "end_time": "2024-07-26T22:33:23.958575",
     "exception": false,
     "start_time": "2024-07-26T22:33:23.953242",
     "status": "completed"
    },
    "tags": []
   },
   "source": [
    "**This notebook is an exercise in the [Python](https://www.kaggle.com/learn/python) course.  You can reference the tutorial at [this link](https://www.kaggle.com/colinmorris/lists).**\n",
    "\n",
    "---\n"
   ]
  },
  {
   "cell_type": "markdown",
   "id": "4dd94547",
   "metadata": {
    "papermill": {
     "duration": 0.004418,
     "end_time": "2024-07-26T22:33:23.967901",
     "exception": false,
     "start_time": "2024-07-26T22:33:23.963483",
     "status": "completed"
    },
    "tags": []
   },
   "source": [
    "Things get more interesting with lists. You'll apply your new knowledge to solve the questions below. Remember to run the following cell first."
   ]
  },
  {
   "cell_type": "code",
   "execution_count": 1,
   "id": "0997d6d0",
   "metadata": {
    "execution": {
     "iopub.execute_input": "2024-07-26T22:33:23.978763Z",
     "iopub.status.busy": "2024-07-26T22:33:23.978366Z",
     "iopub.status.idle": "2024-07-26T22:33:24.861726Z",
     "shell.execute_reply": "2024-07-26T22:33:24.860539Z"
    },
    "papermill": {
     "duration": 0.891706,
     "end_time": "2024-07-26T22:33:24.864238",
     "exception": false,
     "start_time": "2024-07-26T22:33:23.972532",
     "status": "completed"
    },
    "tags": []
   },
   "outputs": [
    {
     "name": "stdout",
     "output_type": "stream",
     "text": [
      "Setup complete.\n"
     ]
    }
   ],
   "source": [
    "from learntools.core import binder; binder.bind(globals())\n",
    "from learntools.python.ex4 import *\n",
    "print('Setup complete.')"
   ]
  },
  {
   "cell_type": "markdown",
   "id": "8b3521a0",
   "metadata": {
    "papermill": {
     "duration": 0.004407,
     "end_time": "2024-07-26T22:33:24.873443",
     "exception": false,
     "start_time": "2024-07-26T22:33:24.869036",
     "status": "completed"
    },
    "tags": []
   },
   "source": [
    "# 1.\n",
    "\n",
    "Complete the function below according to its docstring."
   ]
  },
  {
   "cell_type": "code",
   "execution_count": 2,
   "id": "2e39d58f",
   "metadata": {
    "execution": {
     "iopub.execute_input": "2024-07-26T22:33:24.884854Z",
     "iopub.status.busy": "2024-07-26T22:33:24.884012Z",
     "iopub.status.idle": "2024-07-26T22:33:24.894493Z",
     "shell.execute_reply": "2024-07-26T22:33:24.893295Z"
    },
    "papermill": {
     "duration": 0.018702,
     "end_time": "2024-07-26T22:33:24.896833",
     "exception": false,
     "start_time": "2024-07-26T22:33:24.878131",
     "status": "completed"
    },
    "tags": []
   },
   "outputs": [
    {
     "data": {
      "application/javascript": [
       "parent.postMessage({\"jupyterEvent\": \"custom.exercise_interaction\", \"data\": {\"outcomeType\": 1, \"valueTowardsCompletion\": 0.2, \"interactionType\": 1, \"questionType\": 2, \"questionId\": \"1_SelectSecondItem\", \"learnToolsVersion\": \"0.3.4\", \"failureMessage\": \"\", \"exceptionClass\": \"\", \"trace\": \"\"}}, \"*\")"
      ],
      "text/plain": [
       "<IPython.core.display.Javascript object>"
      ]
     },
     "metadata": {},
     "output_type": "display_data"
    },
    {
     "data": {
      "text/markdown": [
       "<span style=\"color:#33cc33\">Correct</span>"
      ],
      "text/plain": [
       "Correct"
      ]
     },
     "metadata": {},
     "output_type": "display_data"
    }
   ],
   "source": [
    "def select_second(L):\n",
    "    \"\"\"Return the second element of the given list. If the list has no second\n",
    "    element, return None.\n",
    "    \"\"\"\n",
    "    return L[1] if len(L) > 1 else None\n",
    "\n",
    "# Check your answer\n",
    "q1.check()"
   ]
  },
  {
   "cell_type": "code",
   "execution_count": 3,
   "id": "a8bef4da",
   "metadata": {
    "collapsed": true,
    "execution": {
     "iopub.execute_input": "2024-07-26T22:33:24.908962Z",
     "iopub.status.busy": "2024-07-26T22:33:24.908554Z",
     "iopub.status.idle": "2024-07-26T22:33:24.913097Z",
     "shell.execute_reply": "2024-07-26T22:33:24.911893Z"
    },
    "jupyter": {
     "outputs_hidden": true
    },
    "papermill": {
     "duration": 0.012956,
     "end_time": "2024-07-26T22:33:24.915220",
     "exception": false,
     "start_time": "2024-07-26T22:33:24.902264",
     "status": "completed"
    },
    "tags": []
   },
   "outputs": [],
   "source": [
    "#q1.hint()\n",
    "#q1.solution()"
   ]
  },
  {
   "cell_type": "markdown",
   "id": "1220b075",
   "metadata": {
    "papermill": {
     "duration": 0.004777,
     "end_time": "2024-07-26T22:33:24.925182",
     "exception": false,
     "start_time": "2024-07-26T22:33:24.920405",
     "status": "completed"
    },
    "tags": []
   },
   "source": [
    "# 2.\n",
    "\n",
    "You are analyzing sports teams.  Members of each team are stored in a list. The Coach is the first name in the list, the captain is the second name in the list, and other players are listed after that. \n",
    "These lists are stored in another list, which starts with the best team and proceeds through the list to the worst team last.  Complete the function below to select the **captain** of the worst team."
   ]
  },
  {
   "cell_type": "code",
   "execution_count": 4,
   "id": "0fb7d87a",
   "metadata": {
    "execution": {
     "iopub.execute_input": "2024-07-26T22:33:24.937330Z",
     "iopub.status.busy": "2024-07-26T22:33:24.936521Z",
     "iopub.status.idle": "2024-07-26T22:33:24.945599Z",
     "shell.execute_reply": "2024-07-26T22:33:24.944600Z"
    },
    "papermill": {
     "duration": 0.01738,
     "end_time": "2024-07-26T22:33:24.947593",
     "exception": false,
     "start_time": "2024-07-26T22:33:24.930213",
     "status": "completed"
    },
    "tags": []
   },
   "outputs": [
    {
     "data": {
      "application/javascript": [
       "parent.postMessage({\"jupyterEvent\": \"custom.exercise_interaction\", \"data\": {\"outcomeType\": 1, \"valueTowardsCompletion\": 0.2, \"interactionType\": 1, \"questionType\": 2, \"questionId\": \"2_LosingTeamCaptain\", \"learnToolsVersion\": \"0.3.4\", \"failureMessage\": \"\", \"exceptionClass\": \"\", \"trace\": \"\"}}, \"*\")"
      ],
      "text/plain": [
       "<IPython.core.display.Javascript object>"
      ]
     },
     "metadata": {},
     "output_type": "display_data"
    },
    {
     "data": {
      "text/markdown": [
       "<span style=\"color:#33cc33\">Correct</span>"
      ],
      "text/plain": [
       "Correct"
      ]
     },
     "metadata": {},
     "output_type": "display_data"
    }
   ],
   "source": [
    "def losing_team_captain(teams):\n",
    "    \"\"\"Given a list of teams, where each team is a list of names, return the 2nd player (captain)\n",
    "    from the last listed team\n",
    "    \"\"\"\n",
    "    return teams[-1][1]\n",
    "\n",
    "# Check your answer\n",
    "q2.check()"
   ]
  },
  {
   "cell_type": "code",
   "execution_count": 5,
   "id": "766fe5e8",
   "metadata": {
    "collapsed": true,
    "execution": {
     "iopub.execute_input": "2024-07-26T22:33:24.959923Z",
     "iopub.status.busy": "2024-07-26T22:33:24.959543Z",
     "iopub.status.idle": "2024-07-26T22:33:24.963949Z",
     "shell.execute_reply": "2024-07-26T22:33:24.962977Z"
    },
    "jupyter": {
     "outputs_hidden": true
    },
    "papermill": {
     "duration": 0.013008,
     "end_time": "2024-07-26T22:33:24.966046",
     "exception": false,
     "start_time": "2024-07-26T22:33:24.953038",
     "status": "completed"
    },
    "tags": []
   },
   "outputs": [],
   "source": [
    "#q2.hint()\n",
    "#q2.solution()"
   ]
  },
  {
   "cell_type": "markdown",
   "id": "d2368b6b",
   "metadata": {
    "papermill": {
     "duration": 0.005151,
     "end_time": "2024-07-26T22:33:24.976510",
     "exception": false,
     "start_time": "2024-07-26T22:33:24.971359",
     "status": "completed"
    },
    "tags": []
   },
   "source": [
    "# 3.\n",
    "\n",
    "The next iteration of Mario Kart will feature an extra-infuriating new item, the *Purple Shell*. When used, it warps the last place racer into first place and the first place racer into last place. Complete the function below to implement the Purple Shell's effect."
   ]
  },
  {
   "cell_type": "code",
   "execution_count": 6,
   "id": "1b497cee",
   "metadata": {
    "execution": {
     "iopub.execute_input": "2024-07-26T22:33:24.988640Z",
     "iopub.status.busy": "2024-07-26T22:33:24.988255Z",
     "iopub.status.idle": "2024-07-26T22:33:24.997139Z",
     "shell.execute_reply": "2024-07-26T22:33:24.996175Z"
    },
    "papermill": {
     "duration": 0.017493,
     "end_time": "2024-07-26T22:33:24.999293",
     "exception": false,
     "start_time": "2024-07-26T22:33:24.981800",
     "status": "completed"
    },
    "tags": []
   },
   "outputs": [
    {
     "data": {
      "application/javascript": [
       "parent.postMessage({\"jupyterEvent\": \"custom.exercise_interaction\", \"data\": {\"outcomeType\": 1, \"valueTowardsCompletion\": 0.2, \"interactionType\": 1, \"questionType\": 2, \"questionId\": \"3_PurpleShell\", \"learnToolsVersion\": \"0.3.4\", \"failureMessage\": \"\", \"exceptionClass\": \"\", \"trace\": \"\"}}, \"*\")"
      ],
      "text/plain": [
       "<IPython.core.display.Javascript object>"
      ]
     },
     "metadata": {},
     "output_type": "display_data"
    },
    {
     "data": {
      "text/markdown": [
       "<span style=\"color:#33cc33\">Correct</span>"
      ],
      "text/plain": [
       "Correct"
      ]
     },
     "metadata": {},
     "output_type": "display_data"
    }
   ],
   "source": [
    "def purple_shell(racers):\n",
    "    \"\"\"Given a list of racers, set the first place racer (at the front of the list) to last\n",
    "    place and vice versa.\n",
    "    \n",
    "    >>> r = [\"Mario\", \"Bowser\", \"Luigi\"]\n",
    "    >>> purple_shell(r)\n",
    "    >>> r\n",
    "    [\"Luigi\", \"Bowser\", \"Mario\"]\n",
    "    \"\"\"\n",
    "    racers[0], racers[-1] = (racers[-1], racers[0])\n",
    "\n",
    "# Check your answer\n",
    "q3.check()"
   ]
  },
  {
   "cell_type": "code",
   "execution_count": 7,
   "id": "75df98cf",
   "metadata": {
    "collapsed": true,
    "execution": {
     "iopub.execute_input": "2024-07-26T22:33:25.012051Z",
     "iopub.status.busy": "2024-07-26T22:33:25.011656Z",
     "iopub.status.idle": "2024-07-26T22:33:25.015882Z",
     "shell.execute_reply": "2024-07-26T22:33:25.014853Z"
    },
    "jupyter": {
     "outputs_hidden": true
    },
    "papermill": {
     "duration": 0.012872,
     "end_time": "2024-07-26T22:33:25.017868",
     "exception": false,
     "start_time": "2024-07-26T22:33:25.004996",
     "status": "completed"
    },
    "tags": []
   },
   "outputs": [],
   "source": [
    "#q3.hint()\n",
    "#q3.solution()"
   ]
  },
  {
   "cell_type": "markdown",
   "id": "a01505b5",
   "metadata": {
    "papermill": {
     "duration": 0.005278,
     "end_time": "2024-07-26T22:33:25.028773",
     "exception": false,
     "start_time": "2024-07-26T22:33:25.023495",
     "status": "completed"
    },
    "tags": []
   },
   "source": [
    "# 4.\n",
    "\n",
    "What are the lengths of the following lists? Fill in the variable `lengths` with your predictions. (Try to make a prediction for each list *without* just calling `len()` on it.)"
   ]
  },
  {
   "cell_type": "code",
   "execution_count": 8,
   "id": "52808295",
   "metadata": {
    "execution": {
     "iopub.execute_input": "2024-07-26T22:33:25.042129Z",
     "iopub.status.busy": "2024-07-26T22:33:25.041691Z",
     "iopub.status.idle": "2024-07-26T22:33:25.051733Z",
     "shell.execute_reply": "2024-07-26T22:33:25.050769Z"
    },
    "papermill": {
     "duration": 0.019469,
     "end_time": "2024-07-26T22:33:25.053856",
     "exception": false,
     "start_time": "2024-07-26T22:33:25.034387",
     "status": "completed"
    },
    "tags": []
   },
   "outputs": [
    {
     "data": {
      "application/javascript": [
       "parent.postMessage({\"jupyterEvent\": \"custom.exercise_interaction\", \"data\": {\"outcomeType\": 1, \"valueTowardsCompletion\": 0.2, \"interactionType\": 1, \"questionType\": 1, \"questionId\": \"4_UnderstandLen\", \"learnToolsVersion\": \"0.3.4\", \"failureMessage\": \"\", \"exceptionClass\": \"\", \"trace\": \"\"}}, \"*\")"
      ],
      "text/plain": [
       "<IPython.core.display.Javascript object>"
      ]
     },
     "metadata": {},
     "output_type": "display_data"
    },
    {
     "data": {
      "text/markdown": [
       "<span style=\"color:#33cc33\">Correct:</span> \n",
       "\n",
       "\n",
       "- a: There are three items in this list. Nothing tricky yet.\n",
       "- b: The list `[2, 3]` counts as a single item. It has one item before it. So we have 2 items in the list\n",
       "- c: The empty list has 0 items\n",
       "- d: The expression is the same as the list `[2, 3]`, which has length 2."
      ],
      "text/plain": [
       "Correct: \n",
       "\n",
       "\n",
       "- a: There are three items in this list. Nothing tricky yet.\n",
       "- b: The list `[2, 3]` counts as a single item. It has one item before it. So we have 2 items in the list\n",
       "- c: The empty list has 0 items\n",
       "- d: The expression is the same as the list `[2, 3]`, which has length 2."
      ]
     },
     "metadata": {},
     "output_type": "display_data"
    }
   ],
   "source": [
    "a = [1, 2, 3]\n",
    "b = [1, [2, 3]]\n",
    "c = []\n",
    "d = [1, 2, 3][1:]\n",
    "\n",
    "# Put your predictions in the list below. Lengths should contain 4 numbers, the\n",
    "# first being the length of a, the second being the length of b and so on.\n",
    "lengths = [3, 2, 0, 2]\n",
    "\n",
    "# Check your answer\n",
    "q4.check()"
   ]
  },
  {
   "cell_type": "code",
   "execution_count": 9,
   "id": "4f1f12c6",
   "metadata": {
    "collapsed": true,
    "execution": {
     "iopub.execute_input": "2024-07-26T22:33:25.067797Z",
     "iopub.status.busy": "2024-07-26T22:33:25.066973Z",
     "iopub.status.idle": "2024-07-26T22:33:25.072195Z",
     "shell.execute_reply": "2024-07-26T22:33:25.070866Z"
    },
    "jupyter": {
     "outputs_hidden": true
    },
    "papermill": {
     "duration": 0.014686,
     "end_time": "2024-07-26T22:33:25.074512",
     "exception": false,
     "start_time": "2024-07-26T22:33:25.059826",
     "status": "completed"
    },
    "tags": []
   },
   "outputs": [],
   "source": [
    "# line below provides some explanation\n",
    "#q4.solution()"
   ]
  },
  {
   "cell_type": "markdown",
   "id": "b4aacd38",
   "metadata": {
    "papermill": {
     "duration": 0.00565,
     "end_time": "2024-07-26T22:33:25.086196",
     "exception": false,
     "start_time": "2024-07-26T22:33:25.080546",
     "status": "completed"
    },
    "tags": []
   },
   "source": [
    "# 5. <span title=\"A bit spicy\" style=\"color: darkgreen \">🌶️</span>\n",
    "\n",
    "We're using lists to record people who attended our party and what order they arrived in. For example, the following list represents a party with 7 guests, in which Adela showed up first and Ford was the last to arrive:\n",
    "\n",
    "    party_attendees = ['Adela', 'Fleda', 'Owen', 'May', 'Mona', 'Gilbert', 'Ford']\n",
    "\n",
    "A guest is considered 'fashionably late' if they arrived after at least half of the party's guests. However, they must not be the very last guest (that's taking it too far). In the above example, Mona and Gilbert are the only guests who were fashionably late.\n",
    "\n",
    "Complete the function below which takes a list of party attendees as well as a person, and tells us whether that person is fashionably late."
   ]
  },
  {
   "cell_type": "code",
   "execution_count": 10,
   "id": "f87b03cb",
   "metadata": {
    "execution": {
     "iopub.execute_input": "2024-07-26T22:33:25.100713Z",
     "iopub.status.busy": "2024-07-26T22:33:25.100032Z",
     "iopub.status.idle": "2024-07-26T22:33:25.109882Z",
     "shell.execute_reply": "2024-07-26T22:33:25.108922Z"
    },
    "papermill": {
     "duration": 0.019398,
     "end_time": "2024-07-26T22:33:25.112214",
     "exception": false,
     "start_time": "2024-07-26T22:33:25.092816",
     "status": "completed"
    },
    "tags": []
   },
   "outputs": [
    {
     "data": {
      "application/javascript": [
       "parent.postMessage({\"jupyterEvent\": \"custom.exercise_interaction\", \"data\": {\"outcomeType\": 1, \"valueTowardsCompletion\": 0.2, \"interactionType\": 1, \"questionType\": 2, \"questionId\": \"5_FashionablyLate\", \"learnToolsVersion\": \"0.3.4\", \"failureMessage\": \"\", \"exceptionClass\": \"\", \"trace\": \"\"}}, \"*\")"
      ],
      "text/plain": [
       "<IPython.core.display.Javascript object>"
      ]
     },
     "metadata": {},
     "output_type": "display_data"
    },
    {
     "data": {
      "text/markdown": [
       "<span style=\"color:#33cc33\">Correct</span>"
      ],
      "text/plain": [
       "Correct"
      ]
     },
     "metadata": {},
     "output_type": "display_data"
    }
   ],
   "source": [
    "def fashionably_late(arrivals, name):\n",
    "    \"\"\"Given an ordered list of arrivals to the party and a name, return whether the guest with that\n",
    "    name was fashionably late.\n",
    "    \"\"\"\n",
    "    i = arrivals.index(name)\n",
    "    half = round(len(arrivals) / 2) - 1\n",
    "\n",
    "    \n",
    "    if i > half and i != len(arrivals) - 1:\n",
    "        return True\n",
    "    \n",
    "    return False\n",
    "\n",
    "# Check your answer\n",
    "q5.check()"
   ]
  },
  {
   "cell_type": "code",
   "execution_count": 11,
   "id": "b7f34275",
   "metadata": {
    "collapsed": true,
    "execution": {
     "iopub.execute_input": "2024-07-26T22:33:25.127102Z",
     "iopub.status.busy": "2024-07-26T22:33:25.126151Z",
     "iopub.status.idle": "2024-07-26T22:33:25.130918Z",
     "shell.execute_reply": "2024-07-26T22:33:25.129785Z"
    },
    "jupyter": {
     "outputs_hidden": true
    },
    "papermill": {
     "duration": 0.014649,
     "end_time": "2024-07-26T22:33:25.133132",
     "exception": false,
     "start_time": "2024-07-26T22:33:25.118483",
     "status": "completed"
    },
    "tags": []
   },
   "outputs": [],
   "source": [
    "#q5.hint()\n",
    "#q5.solution()"
   ]
  },
  {
   "cell_type": "markdown",
   "id": "fccd6400",
   "metadata": {
    "papermill": {
     "duration": 0.006196,
     "end_time": "2024-07-26T22:33:25.145622",
     "exception": false,
     "start_time": "2024-07-26T22:33:25.139426",
     "status": "completed"
    },
    "tags": []
   },
   "source": [
    "# Keep Going\n",
    "\n",
    "That's it for lists and tuples! Now you have the baseline knowledge to **[learn about loops](https://www.kaggle.com/colinmorris/loops-and-list-comprehensions)**, which is where lists and tuples get really interesting. "
   ]
  },
  {
   "cell_type": "markdown",
   "id": "ae00d439",
   "metadata": {
    "papermill": {
     "duration": 0.005979,
     "end_time": "2024-07-26T22:33:25.157972",
     "exception": false,
     "start_time": "2024-07-26T22:33:25.151993",
     "status": "completed"
    },
    "tags": []
   },
   "source": [
    "---\n",
    "\n",
    "\n",
    "\n",
    "\n",
    "*Have questions or comments? Visit the [course discussion forum](https://www.kaggle.com/learn/python/discussion) to chat with other learners.*"
   ]
  }
 ],
 "metadata": {
  "kaggle": {
   "accelerator": "none",
   "dataSources": [],
   "isGpuEnabled": false,
   "isInternetEnabled": false,
   "language": "python",
   "sourceType": "notebook"
  },
  "kernelspec": {
   "display_name": "Python 3",
   "language": "python",
   "name": "python3"
  },
  "language_info": {
   "codemirror_mode": {
    "name": "ipython",
    "version": 3
   },
   "file_extension": ".py",
   "mimetype": "text/x-python",
   "name": "python",
   "nbconvert_exporter": "python",
   "pygments_lexer": "ipython3",
   "version": "3.10.13"
  },
  "learntools_metadata": {
   "lesson_index": 3,
   "type": "exercise"
  },
  "papermill": {
   "default_parameters": {},
   "duration": 4.347005,
   "end_time": "2024-07-26T22:33:25.584151",
   "environment_variables": {},
   "exception": null,
   "input_path": "__notebook__.ipynb",
   "output_path": "__notebook__.ipynb",
   "parameters": {},
   "start_time": "2024-07-26T22:33:21.237146",
   "version": "2.5.0"
  }
 },
 "nbformat": 4,
 "nbformat_minor": 5
}
