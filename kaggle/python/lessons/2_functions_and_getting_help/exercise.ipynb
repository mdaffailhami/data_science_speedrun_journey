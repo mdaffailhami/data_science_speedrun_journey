{
 "cells": [
  {
   "cell_type": "markdown",
   "id": "cd4169f6",
   "metadata": {
    "papermill": {
     "duration": 0.005259,
     "end_time": "2024-07-25T23:29:51.899124",
     "exception": false,
     "start_time": "2024-07-25T23:29:51.893865",
     "status": "completed"
    },
    "tags": []
   },
   "source": [
    "**This notebook is an exercise in the [Python](https://www.kaggle.com/learn/python) course.  You can reference the tutorial at [this link](https://www.kaggle.com/colinmorris/functions-and-getting-help).**\n",
    "\n",
    "---\n"
   ]
  },
  {
   "cell_type": "markdown",
   "id": "ac0300db",
   "metadata": {
    "papermill": {
     "duration": 0.004179,
     "end_time": "2024-07-25T23:29:51.908108",
     "exception": false,
     "start_time": "2024-07-25T23:29:51.903929",
     "status": "completed"
    },
    "tags": []
   },
   "source": [
    "Functions are powerful. Try writing some yourself.\n",
    "\n",
    "As before, don't forget to run the setup code below before jumping into question 1."
   ]
  },
  {
   "cell_type": "code",
   "execution_count": 1,
   "id": "db5b89d0",
   "metadata": {
    "_kg_hide-input": true,
    "_kg_hide-output": true,
    "execution": {
     "iopub.execute_input": "2024-07-25T23:29:51.918960Z",
     "iopub.status.busy": "2024-07-25T23:29:51.918562Z",
     "iopub.status.idle": "2024-07-25T23:29:52.801091Z",
     "shell.execute_reply": "2024-07-25T23:29:52.799710Z"
    },
    "papermill": {
     "duration": 0.890802,
     "end_time": "2024-07-25T23:29:52.803365",
     "exception": false,
     "start_time": "2024-07-25T23:29:51.912563",
     "status": "completed"
    },
    "tags": []
   },
   "outputs": [
    {
     "name": "stdout",
     "output_type": "stream",
     "text": [
      "Setup complete.\n"
     ]
    }
   ],
   "source": [
    "# SETUP. You don't need to worry for now about what this code does or how it works.\n",
    "from learntools.core import binder; binder.bind(globals())\n",
    "from learntools.python.ex2 import *\n",
    "print('Setup complete.')"
   ]
  },
  {
   "cell_type": "markdown",
   "id": "0c626c66",
   "metadata": {
    "papermill": {
     "duration": 0.004323,
     "end_time": "2024-07-25T23:29:52.812549",
     "exception": false,
     "start_time": "2024-07-25T23:29:52.808226",
     "status": "completed"
    },
    "tags": []
   },
   "source": [
    "# 1.\n",
    "\n",
    "Complete the body of the following function according to its docstring.\n",
    "\n",
    "HINT: Python has a built-in function `round`."
   ]
  },
  {
   "cell_type": "code",
   "execution_count": 2,
   "id": "df6dfdeb",
   "metadata": {
    "execution": {
     "iopub.execute_input": "2024-07-25T23:29:52.823537Z",
     "iopub.status.busy": "2024-07-25T23:29:52.823032Z",
     "iopub.status.idle": "2024-07-25T23:29:52.833547Z",
     "shell.execute_reply": "2024-07-25T23:29:52.832546Z"
    },
    "papermill": {
     "duration": 0.018655,
     "end_time": "2024-07-25T23:29:52.835781",
     "exception": false,
     "start_time": "2024-07-25T23:29:52.817126",
     "status": "completed"
    },
    "tags": []
   },
   "outputs": [
    {
     "data": {
      "application/javascript": [
       "parent.postMessage({\"jupyterEvent\": \"custom.exercise_interaction\", \"data\": {\"outcomeType\": 1, \"valueTowardsCompletion\": 0.16666666666666666, \"interactionType\": 1, \"questionType\": 2, \"questionId\": \"1_RoundFunctionProblem\", \"learnToolsVersion\": \"0.3.4\", \"failureMessage\": \"\", \"exceptionClass\": \"\", \"trace\": \"\"}}, \"*\")"
      ],
      "text/plain": [
       "<IPython.core.display.Javascript object>"
      ]
     },
     "metadata": {},
     "output_type": "display_data"
    },
    {
     "data": {
      "text/markdown": [
       "<span style=\"color:#33cc33\">Correct</span>"
      ],
      "text/plain": [
       "Correct"
      ]
     },
     "metadata": {},
     "output_type": "display_data"
    }
   ],
   "source": [
    "def round_to_two_places(num):\n",
    "    \"\"\"Return the given number rounded to two decimal places. \n",
    "    \n",
    "    >>> round_to_two_places(3.14159)\n",
    "    3.14\n",
    "    \"\"\"\n",
    "    # Replace this body with your own code.\n",
    "    # (\"pass\" is a keyword that does literally nothing. We used it as a placeholder\n",
    "    # because after we begin a code block, Python requires at least one line of code)\n",
    "    # pass\n",
    "    return round(num, 2)\n",
    "\n",
    "# Check your answer\n",
    "q1.check()"
   ]
  },
  {
   "cell_type": "code",
   "execution_count": 3,
   "id": "6c350a2c",
   "metadata": {
    "execution": {
     "iopub.execute_input": "2024-07-25T23:29:52.847857Z",
     "iopub.status.busy": "2024-07-25T23:29:52.847044Z",
     "iopub.status.idle": "2024-07-25T23:29:52.851516Z",
     "shell.execute_reply": "2024-07-25T23:29:52.850581Z"
    },
    "papermill": {
     "duration": 0.012781,
     "end_time": "2024-07-25T23:29:52.853569",
     "exception": false,
     "start_time": "2024-07-25T23:29:52.840788",
     "status": "completed"
    },
    "tags": []
   },
   "outputs": [],
   "source": [
    "# Uncomment the following for a hint\n",
    "#q1.hint()\n",
    "# Or uncomment the following to peek at the solution\n",
    "#q1.solution()"
   ]
  },
  {
   "cell_type": "markdown",
   "id": "85733bb3",
   "metadata": {
    "papermill": {
     "duration": 0.00463,
     "end_time": "2024-07-25T23:29:52.863035",
     "exception": false,
     "start_time": "2024-07-25T23:29:52.858405",
     "status": "completed"
    },
    "tags": []
   },
   "source": [
    "# 2.\n",
    "The help for `round` says that `ndigits` (the second argument) may be negative.\n",
    "What do you think will happen when it is? Try some examples in the following cell."
   ]
  },
  {
   "cell_type": "code",
   "execution_count": 4,
   "id": "4995c5bb",
   "metadata": {
    "execution": {
     "iopub.execute_input": "2024-07-25T23:29:52.874568Z",
     "iopub.status.busy": "2024-07-25T23:29:52.873871Z",
     "iopub.status.idle": "2024-07-25T23:29:52.880445Z",
     "shell.execute_reply": "2024-07-25T23:29:52.879404Z"
    },
    "papermill": {
     "duration": 0.01487,
     "end_time": "2024-07-25T23:29:52.882733",
     "exception": false,
     "start_time": "2024-07-25T23:29:52.867863",
     "status": "completed"
    },
    "tags": []
   },
   "outputs": [
    {
     "data": {
      "text/plain": [
       "101000"
      ]
     },
     "execution_count": 4,
     "metadata": {},
     "output_type": "execute_result"
    }
   ],
   "source": [
    "# Put your test code here\n",
    "round(100_600, -3)"
   ]
  },
  {
   "cell_type": "markdown",
   "id": "da6a25c2",
   "metadata": {
    "papermill": {
     "duration": 0.004725,
     "end_time": "2024-07-25T23:29:52.892445",
     "exception": false,
     "start_time": "2024-07-25T23:29:52.887720",
     "status": "completed"
    },
    "tags": []
   },
   "source": [
    "Can you think of a case where this would be useful?  Once you're ready, run the code cell below to see the answer and to receive credit for completing the problem."
   ]
  },
  {
   "cell_type": "code",
   "execution_count": 5,
   "id": "6ad06019",
   "metadata": {
    "execution": {
     "iopub.execute_input": "2024-07-25T23:29:52.904124Z",
     "iopub.status.busy": "2024-07-25T23:29:52.903413Z",
     "iopub.status.idle": "2024-07-25T23:29:52.911550Z",
     "shell.execute_reply": "2024-07-25T23:29:52.910527Z"
    },
    "papermill": {
     "duration": 0.016286,
     "end_time": "2024-07-25T23:29:52.913679",
     "exception": false,
     "start_time": "2024-07-25T23:29:52.897393",
     "status": "completed"
    },
    "tags": []
   },
   "outputs": [
    {
     "data": {
      "application/javascript": [
       "parent.postMessage({\"jupyterEvent\": \"custom.exercise_interaction\", \"data\": {\"interactionType\": 3, \"questionType\": 4, \"questionId\": \"2_RoundNdigitsProblem\", \"learnToolsVersion\": \"0.3.4\", \"valueTowardsCompletion\": 0.0, \"failureMessage\": \"\", \"exceptionClass\": \"\", \"trace\": \"\", \"outcomeType\": 4}}, \"*\")"
      ],
      "text/plain": [
       "<IPython.core.display.Javascript object>"
      ]
     },
     "metadata": {},
     "output_type": "display_data"
    },
    {
     "data": {
      "text/markdown": [
       "<span style=\"color:#33cc99\">Solution:</span> As you've seen, `ndigits=-1` rounds to the nearest 10, `ndigits=-2` rounds to the nearest 100 and so on. Where might this be useful? Suppose we're dealing with large numbers:\n",
       "\n",
       "> The area of Finland is 338,424 km²  \n",
       "> The area of Greenland is 2,166,086 km²\n",
       "\n",
       "We probably don't care whether it's really 338,424, or 338,425, or 338,177. All those digits of accuracy are just distracting. We can chop them off by calling `round()` with `ndigits=-3`:\n",
       "\n",
       "> The area of Finland is 338,000 km²  \n",
       "> The area of Greenland is 2,166,000 km²\n",
       "\n",
       "(We'll talk about how we would get the commas later when we talk about string formatting :))\n"
      ],
      "text/plain": [
       "Solution: As you've seen, `ndigits=-1` rounds to the nearest 10, `ndigits=-2` rounds to the nearest 100 and so on. Where might this be useful? Suppose we're dealing with large numbers:\n",
       "\n",
       "> The area of Finland is 338,424 km²  \n",
       "> The area of Greenland is 2,166,086 km²\n",
       "\n",
       "We probably don't care whether it's really 338,424, or 338,425, or 338,177. All those digits of accuracy are just distracting. We can chop them off by calling `round()` with `ndigits=-3`:\n",
       "\n",
       "> The area of Finland is 338,000 km²  \n",
       "> The area of Greenland is 2,166,000 km²\n",
       "\n",
       "(We'll talk about how we would get the commas later when we talk about string formatting :))"
      ]
     },
     "metadata": {},
     "output_type": "display_data"
    }
   ],
   "source": [
    "# Check your answer (Run this code cell to receive credit!)\n",
    "q2.solution()"
   ]
  },
  {
   "cell_type": "markdown",
   "id": "33d15f5d",
   "metadata": {
    "papermill": {
     "duration": 0.004957,
     "end_time": "2024-07-25T23:29:52.924076",
     "exception": false,
     "start_time": "2024-07-25T23:29:52.919119",
     "status": "completed"
    },
    "tags": []
   },
   "source": [
    "# 3.\n",
    "\n",
    "In the previous exercise, the candy-sharing friends Alice, Bob and Carol tried to split candies evenly. For the sake of their friendship, any candies left over would be smashed. For example, if they collectively bring home 91 candies, they'll take 30 each and smash 1.\n",
    "\n",
    "Below is a simple function that will calculate the number of candies to smash for *any* number of total candies.\n",
    "\n",
    "Modify it so that it optionally takes a second argument representing the number of friends the candies are being split between. If no second argument is provided, it should assume 3 friends, as before.\n",
    "\n",
    "Update the docstring to reflect this new behaviour."
   ]
  },
  {
   "cell_type": "code",
   "execution_count": 6,
   "id": "4d4fa0ff",
   "metadata": {
    "execution": {
     "iopub.execute_input": "2024-07-25T23:29:52.936297Z",
     "iopub.status.busy": "2024-07-25T23:29:52.935887Z",
     "iopub.status.idle": "2024-07-25T23:29:52.944823Z",
     "shell.execute_reply": "2024-07-25T23:29:52.943713Z"
    },
    "papermill": {
     "duration": 0.017701,
     "end_time": "2024-07-25T23:29:52.946995",
     "exception": false,
     "start_time": "2024-07-25T23:29:52.929294",
     "status": "completed"
    },
    "tags": []
   },
   "outputs": [
    {
     "data": {
      "application/javascript": [
       "parent.postMessage({\"jupyterEvent\": \"custom.exercise_interaction\", \"data\": {\"outcomeType\": 1, \"valueTowardsCompletion\": 0.16666666666666666, \"interactionType\": 1, \"questionType\": 2, \"questionId\": \"3_CandySmashingFunctionProblem\", \"learnToolsVersion\": \"0.3.4\", \"failureMessage\": \"\", \"exceptionClass\": \"\", \"trace\": \"\"}}, \"*\")"
      ],
      "text/plain": [
       "<IPython.core.display.Javascript object>"
      ]
     },
     "metadata": {},
     "output_type": "display_data"
    },
    {
     "data": {
      "text/markdown": [
       "<span style=\"color:#33cc33\">Correct</span>"
      ],
      "text/plain": [
       "Correct"
      ]
     },
     "metadata": {},
     "output_type": "display_data"
    }
   ],
   "source": [
    "def to_smash(total_candies, number_of_friends = 3):\n",
    "    \"\"\"Return the number of leftover candies that must be smashed after distributing\n",
    "    the given number of candies evenly between 3 friends.\n",
    "    \n",
    "    >>> to_smash(91)\n",
    "    1\n",
    "    \"\"\"\n",
    "    return total_candies % number_of_friends\n",
    "\n",
    "# Check your answer\n",
    "q3.check()"
   ]
  },
  {
   "cell_type": "code",
   "execution_count": 7,
   "id": "e4a05f56",
   "metadata": {
    "execution": {
     "iopub.execute_input": "2024-07-25T23:29:52.959578Z",
     "iopub.status.busy": "2024-07-25T23:29:52.959156Z",
     "iopub.status.idle": "2024-07-25T23:29:52.963945Z",
     "shell.execute_reply": "2024-07-25T23:29:52.962870Z"
    },
    "papermill": {
     "duration": 0.013556,
     "end_time": "2024-07-25T23:29:52.966107",
     "exception": false,
     "start_time": "2024-07-25T23:29:52.952551",
     "status": "completed"
    },
    "tags": []
   },
   "outputs": [],
   "source": [
    "#q3.hint()"
   ]
  },
  {
   "cell_type": "code",
   "execution_count": 8,
   "id": "d75cb807",
   "metadata": {
    "execution": {
     "iopub.execute_input": "2024-07-25T23:29:52.979147Z",
     "iopub.status.busy": "2024-07-25T23:29:52.978735Z",
     "iopub.status.idle": "2024-07-25T23:29:52.983490Z",
     "shell.execute_reply": "2024-07-25T23:29:52.982347Z"
    },
    "papermill": {
     "duration": 0.013926,
     "end_time": "2024-07-25T23:29:52.985777",
     "exception": false,
     "start_time": "2024-07-25T23:29:52.971851",
     "status": "completed"
    },
    "tags": []
   },
   "outputs": [],
   "source": [
    "#q3.solution()"
   ]
  },
  {
   "cell_type": "markdown",
   "id": "cc436670",
   "metadata": {
    "papermill": {
     "duration": 0.005319,
     "end_time": "2024-07-25T23:29:52.996991",
     "exception": false,
     "start_time": "2024-07-25T23:29:52.991672",
     "status": "completed"
    },
    "tags": []
   },
   "source": [
    "# 4. (Optional)\n",
    "\n",
    "It may not be fun, but reading and understanding error messages will be an important part of your Python career.\n",
    "\n",
    "Each code cell below contains some commented buggy code. For each cell...\n",
    "\n",
    "1. Read the code and predict what you think will happen when it's run.\n",
    "2. Then uncomment the code and run it to see what happens. (**Tip**: In the kernel editor, you can highlight several lines and press `ctrl`+`/` to toggle commenting.)\n",
    "3. Fix the code (so that it accomplishes its intended purpose without throwing an exception)\n",
    "\n",
    "<!-- TODO: should this be autochecked? Delta is probably pretty small. -->"
   ]
  },
  {
   "cell_type": "code",
   "execution_count": 9,
   "id": "70ca7e7a",
   "metadata": {
    "execution": {
     "iopub.execute_input": "2024-07-25T23:29:53.010239Z",
     "iopub.status.busy": "2024-07-25T23:29:53.009400Z",
     "iopub.status.idle": "2024-07-25T23:29:53.016326Z",
     "shell.execute_reply": "2024-07-25T23:29:53.015184Z"
    },
    "papermill": {
     "duration": 0.016056,
     "end_time": "2024-07-25T23:29:53.018618",
     "exception": false,
     "start_time": "2024-07-25T23:29:53.002562",
     "status": "completed"
    },
    "tags": []
   },
   "outputs": [
    {
     "data": {
      "text/plain": [
       "10.0"
      ]
     },
     "execution_count": 9,
     "metadata": {},
     "output_type": "execute_result"
    }
   ],
   "source": [
    "# ruound_to_two_places(9.9999)\n",
    "round(9.9999, 2)"
   ]
  },
  {
   "cell_type": "code",
   "execution_count": 10,
   "id": "ca618bc9",
   "metadata": {
    "execution": {
     "iopub.execute_input": "2024-07-25T23:29:53.032814Z",
     "iopub.status.busy": "2024-07-25T23:29:53.032385Z",
     "iopub.status.idle": "2024-07-25T23:29:53.038091Z",
     "shell.execute_reply": "2024-07-25T23:29:53.037018Z"
    },
    "papermill": {
     "duration": 0.016586,
     "end_time": "2024-07-25T23:29:53.041129",
     "exception": false,
     "start_time": "2024-07-25T23:29:53.024543",
     "status": "completed"
    },
    "tags": []
   },
   "outputs": [
    {
     "name": "stdout",
     "output_type": "stream",
     "text": [
      "5\n"
     ]
    }
   ],
   "source": [
    "# x = -10\n",
    "# y = 5\n",
    "# # Which of the two variables above has the smallest absolute value?\n",
    "# smallest_abs = min(abs(x, y))\n",
    "x = -10\n",
    "y = 5\n",
    "# Which of the two variables above has the smallest absolute value?\n",
    "smallest_abs = min(abs(x), abs(y))\n",
    "print(smallest_abs)"
   ]
  },
  {
   "cell_type": "code",
   "execution_count": 11,
   "id": "d9f31eb3",
   "metadata": {
    "execution": {
     "iopub.execute_input": "2024-07-25T23:29:53.055685Z",
     "iopub.status.busy": "2024-07-25T23:29:53.054477Z",
     "iopub.status.idle": "2024-07-25T23:29:53.060733Z",
     "shell.execute_reply": "2024-07-25T23:29:53.059573Z"
    },
    "papermill": {
     "duration": 0.015965,
     "end_time": "2024-07-25T23:29:53.063184",
     "exception": false,
     "start_time": "2024-07-25T23:29:53.047219",
     "status": "completed"
    },
    "tags": []
   },
   "outputs": [
    {
     "name": "stdout",
     "output_type": "stream",
     "text": [
      "5\n"
     ]
    }
   ],
   "source": [
    "# def f(x):\n",
    "#     y = abs(x)\n",
    "# return y\n",
    "\n",
    "# print(f(5))\n",
    "def f(x):\n",
    "    y = abs(x)\n",
    "    return y\n",
    "\n",
    "print(f(-5))"
   ]
  },
  {
   "cell_type": "markdown",
   "id": "cbbf76bf",
   "metadata": {
    "papermill": {
     "duration": 0.005566,
     "end_time": "2024-07-25T23:29:53.074771",
     "exception": false,
     "start_time": "2024-07-25T23:29:53.069205",
     "status": "completed"
    },
    "tags": []
   },
   "source": [
    "# Keep Going\n",
    "\n",
    "Nice job with the code. Next up, you'll learn about *conditionals*, which you'll need to **[write interesting programs](https://www.kaggle.com/colinmorris/booleans-and-conditionals)**. "
   ]
  },
  {
   "cell_type": "markdown",
   "id": "e24c9cc0",
   "metadata": {
    "papermill": {
     "duration": 0.005499,
     "end_time": "2024-07-25T23:29:53.086186",
     "exception": false,
     "start_time": "2024-07-25T23:29:53.080687",
     "status": "completed"
    },
    "tags": []
   },
   "source": [
    "---\n",
    "\n",
    "\n",
    "\n",
    "\n",
    "*Have questions or comments? Visit the [course discussion forum](https://www.kaggle.com/learn/python/discussion) to chat with other learners.*"
   ]
  }
 ],
 "metadata": {
  "kaggle": {
   "accelerator": "none",
   "dataSources": [],
   "isGpuEnabled": false,
   "isInternetEnabled": false,
   "language": "python",
   "sourceType": "notebook"
  },
  "kernelspec": {
   "display_name": "Python 3",
   "language": "python",
   "name": "python3"
  },
  "language_info": {
   "codemirror_mode": {
    "name": "ipython",
    "version": 3
   },
   "file_extension": ".py",
   "mimetype": "text/x-python",
   "name": "python",
   "nbconvert_exporter": "python",
   "pygments_lexer": "ipython3",
   "version": "3.10.13"
  },
  "learntools_metadata": {
   "lesson_index": 1,
   "type": "exercise"
  },
  "papermill": {
   "default_parameters": {},
   "duration": 4.340925,
   "end_time": "2024-07-25T23:29:53.512153",
   "environment_variables": {},
   "exception": null,
   "input_path": "__notebook__.ipynb",
   "output_path": "__notebook__.ipynb",
   "parameters": {},
   "start_time": "2024-07-25T23:29:49.171228",
   "version": "2.5.0"
  }
 },
 "nbformat": 4,
 "nbformat_minor": 5
}
