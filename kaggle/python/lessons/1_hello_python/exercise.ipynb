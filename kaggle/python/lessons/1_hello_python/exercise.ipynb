{
 "cells": [
  {
   "cell_type": "markdown",
   "id": "001a7baf",
   "metadata": {
    "papermill": {
     "duration": 0.009343,
     "end_time": "2024-07-25T23:07:04.778057",
     "exception": false,
     "start_time": "2024-07-25T23:07:04.768714",
     "status": "completed"
    },
    "tags": []
   },
   "source": [
    "**This notebook is an exercise in the [Python](https://www.kaggle.com/learn/python) course.  You can reference the tutorial at [this link](https://www.kaggle.com/colinmorris/hello-python).**\n",
    "\n",
    "---\n"
   ]
  },
  {
   "cell_type": "markdown",
   "id": "bfd60d82",
   "metadata": {
    "papermill": {
     "duration": 0.008423,
     "end_time": "2024-07-25T23:07:04.795402",
     "exception": false,
     "start_time": "2024-07-25T23:07:04.786979",
     "status": "completed"
    },
    "tags": []
   },
   "source": [
    "Welcome to your first set of Python coding problems.  If this is your first time using Kaggle Notebooks, welcome! \n",
    "\n",
    "Notebooks are composed of blocks (called \"cells\") of text and code. Each of these is editable, though you'll mainly be editing the code cells to answer some questions.\n",
    "\n",
    "To get started, try running the code cell below (by pressing the ► button, or clicking on the cell and pressing ctrl+enter on your keyboard)."
   ]
  },
  {
   "cell_type": "code",
   "execution_count": 1,
   "id": "71e1b2f0",
   "metadata": {
    "execution": {
     "iopub.execute_input": "2024-07-25T23:07:04.814756Z",
     "iopub.status.busy": "2024-07-25T23:07:04.814349Z",
     "iopub.status.idle": "2024-07-25T23:07:04.829719Z",
     "shell.execute_reply": "2024-07-25T23:07:04.828089Z"
    },
    "papermill": {
     "duration": 0.028456,
     "end_time": "2024-07-25T23:07:04.832728",
     "exception": false,
     "start_time": "2024-07-25T23:07:04.804272",
     "status": "completed"
    },
    "tags": []
   },
   "outputs": [
    {
     "name": "stdout",
     "output_type": "stream",
     "text": [
      "You've successfully run some Python code\n",
      "Congratulations!\n"
     ]
    }
   ],
   "source": [
    "print(\"You've successfully run some Python code\")\n",
    "print(\"Congratulations!\")"
   ]
  },
  {
   "cell_type": "markdown",
   "id": "1902a7be",
   "metadata": {
    "papermill": {
     "duration": 0.00852,
     "end_time": "2024-07-25T23:07:04.850421",
     "exception": false,
     "start_time": "2024-07-25T23:07:04.841901",
     "status": "completed"
    },
    "tags": []
   },
   "source": [
    "Try adding another line of code in the cell above and re-running it. \n",
    "\n",
    "Now let's get a little fancier:  Add a new code cell by clicking on an existing code cell, hitting the escape key, and then hitting the `a` or `b` key.  The `a` key will add a cell above the current cell, and `b` adds a cell below.\n",
    "\n",
    "Great! Now you know how to use Notebooks.\n",
    "\n",
    "Each hands-on exercise starts by setting up our feedback and code checking mechanism. Run the code cell below to do that. Then you'll be ready to move on to question 0."
   ]
  },
  {
   "cell_type": "code",
   "execution_count": 2,
   "id": "7336fe16",
   "metadata": {
    "_kg_hide-input": true,
    "_kg_hide-output": true,
    "execution": {
     "iopub.execute_input": "2024-07-25T23:07:04.870209Z",
     "iopub.status.busy": "2024-07-25T23:07:04.869750Z",
     "iopub.status.idle": "2024-07-25T23:07:06.000433Z",
     "shell.execute_reply": "2024-07-25T23:07:05.998778Z"
    },
    "papermill": {
     "duration": 1.144378,
     "end_time": "2024-07-25T23:07:06.003836",
     "exception": false,
     "start_time": "2024-07-25T23:07:04.859458",
     "status": "completed"
    },
    "tags": []
   },
   "outputs": [
    {
     "name": "stdout",
     "output_type": "stream",
     "text": [
      "Setup complete! You're ready to start question 0.\n"
     ]
    }
   ],
   "source": [
    "from learntools.core import binder; binder.bind(globals())\n",
    "from learntools.python.ex1 import *\n",
    "print(\"Setup complete! You're ready to start question 0.\")"
   ]
  },
  {
   "cell_type": "markdown",
   "id": "3974010f",
   "metadata": {
    "papermill": {
     "duration": 0.008981,
     "end_time": "2024-07-25T23:07:06.022654",
     "exception": false,
     "start_time": "2024-07-25T23:07:06.013673",
     "status": "completed"
    },
    "tags": []
   },
   "source": [
    "# 0.\n",
    "\n",
    "*This is a silly question intended as an introduction to the format we use for hands-on exercises throughout all Kaggle courses.*\n",
    "\n",
    "**What is your favorite color? **\n",
    "\n",
    "To complete this question, create a variable called `color` in the cell below with an appropriate value. The function call `q0.check()` (which we've already provided in the cell below) will check your answer."
   ]
  },
  {
   "cell_type": "code",
   "execution_count": 3,
   "id": "2d5d5d15",
   "metadata": {
    "execution": {
     "iopub.execute_input": "2024-07-25T23:07:06.043020Z",
     "iopub.status.busy": "2024-07-25T23:07:06.042438Z",
     "iopub.status.idle": "2024-07-25T23:07:06.054791Z",
     "shell.execute_reply": "2024-07-25T23:07:06.053346Z"
    },
    "papermill": {
     "duration": 0.025748,
     "end_time": "2024-07-25T23:07:06.057552",
     "exception": false,
     "start_time": "2024-07-25T23:07:06.031804",
     "status": "completed"
    },
    "tags": []
   },
   "outputs": [
    {
     "data": {
      "application/javascript": [
       "parent.postMessage({\"jupyterEvent\": \"custom.exercise_interaction\", \"data\": {\"outcomeType\": 1, \"valueTowardsCompletion\": 0.25, \"interactionType\": 1, \"questionType\": 2, \"questionId\": \"0_ExerciseFormatTutorial\", \"learnToolsVersion\": \"0.3.4\", \"failureMessage\": \"\", \"exceptionClass\": \"\", \"trace\": \"\"}}, \"*\")"
      ],
      "text/plain": [
       "<IPython.core.display.Javascript object>"
      ]
     },
     "metadata": {},
     "output_type": "display_data"
    },
    {
     "data": {
      "text/markdown": [
       "<span style=\"color:#33cc33\">Correct:</span> What?! You got it right without needing a hint or anything? Drats. Well hey, you should still continue to the next step to get some practice asking for a hint and checking solutions. (Even though you obviously don't need any help here.)"
      ],
      "text/plain": [
       "Correct: What?! You got it right without needing a hint or anything? Drats. Well hey, you should still continue to the next step to get some practice asking for a hint and checking solutions. (Even though you obviously don't need any help here.)"
      ]
     },
     "metadata": {},
     "output_type": "display_data"
    }
   ],
   "source": [
    "# create a variable called color with an appropriate value on the line below\n",
    "# (Remember, strings in Python must be enclosed in 'single' or \"double\" quotes)\n",
    "color = 'blue'\n",
    "\n",
    "# Check your answer\n",
    "q0.check()"
   ]
  },
  {
   "cell_type": "markdown",
   "id": "051f42fa",
   "metadata": {
    "papermill": {
     "duration": 0.010228,
     "end_time": "2024-07-25T23:07:06.077609",
     "exception": false,
     "start_time": "2024-07-25T23:07:06.067381",
     "status": "completed"
    },
    "tags": []
   },
   "source": [
    "Didn't get the right answer? How do you not even know your own favorite color?!\n",
    "\n",
    "Delete the `#` in the line below to make one of the lines run. You can choose between getting a hint or the full answer by choosing which line to remove the `#` from. \n",
    "\n",
    "Removing the `#` is called uncommenting, because it changes that line from a \"comment\" which Python doesn't run to code, which Python does run."
   ]
  },
  {
   "cell_type": "code",
   "execution_count": 4,
   "id": "19fe1ef1",
   "metadata": {
    "execution": {
     "iopub.execute_input": "2024-07-25T23:07:06.098722Z",
     "iopub.status.busy": "2024-07-25T23:07:06.098272Z",
     "iopub.status.idle": "2024-07-25T23:07:06.103685Z",
     "shell.execute_reply": "2024-07-25T23:07:06.102407Z"
    },
    "papermill": {
     "duration": 0.018911,
     "end_time": "2024-07-25T23:07:06.106207",
     "exception": false,
     "start_time": "2024-07-25T23:07:06.087296",
     "status": "completed"
    },
    "tags": []
   },
   "outputs": [],
   "source": [
    "#q0.hint()\n",
    "#q0.solution()"
   ]
  },
  {
   "cell_type": "markdown",
   "id": "4d5b5ee0",
   "metadata": {
    "papermill": {
     "duration": 0.009286,
     "end_time": "2024-07-25T23:07:06.124832",
     "exception": false,
     "start_time": "2024-07-25T23:07:06.115546",
     "status": "completed"
    },
    "tags": []
   },
   "source": [
    "The upcoming questions work the same way. The only thing that will change are the question numbers. For the next question, you'll call `q1.check()`, `q1.hint()`, `q1.solution()`, for question 2, you'll call `q2.check()`, and so on."
   ]
  },
  {
   "cell_type": "markdown",
   "id": "d9874ace",
   "metadata": {
    "papermill": {
     "duration": 0.009128,
     "end_time": "2024-07-25T23:07:06.143380",
     "exception": false,
     "start_time": "2024-07-25T23:07:06.134252",
     "status": "completed"
    },
    "tags": []
   },
   "source": [
    "<hr/>\n",
    "\n",
    "# 1.\n",
    "\n",
    "Complete the code below. In case it's helpful, here is the table of available arithmetic operations:\n",
    "\n",
    "\n",
    "\n",
    "| Operator     | Name           | Description                                            |\n",
    "|--------------|----------------|--------------------------------------------------------|\n",
    "| ``a + b``    | Addition       | Sum of ``a`` and ``b``                                 |\n",
    "| ``a - b``    | Subtraction    | Difference of ``a`` and ``b``                          |\n",
    "| ``a * b``    | Multiplication | Product of ``a`` and ``b``                             |\n",
    "| ``a / b``    | True division  | Quotient of ``a`` and ``b``                            |\n",
    "| ``a // b``   | Floor division | Quotient of ``a`` and ``b``, removing fractional parts |\n",
    "| ``a % b``    | Modulus        | Integer remainder after division of ``a`` by ``b``     |\n",
    "| ``a ** b``   | Exponentiation | ``a`` raised to the power of ``b``                     |\n",
    "| ``-a``       | Negation       | The negative of ``a``                                  |\n",
    "\n",
    "<span style=\"display:none\"></span>\n"
   ]
  },
  {
   "cell_type": "code",
   "execution_count": 5,
   "id": "391e6032",
   "metadata": {
    "execution": {
     "iopub.execute_input": "2024-07-25T23:07:06.164705Z",
     "iopub.status.busy": "2024-07-25T23:07:06.164297Z",
     "iopub.status.idle": "2024-07-25T23:07:06.175706Z",
     "shell.execute_reply": "2024-07-25T23:07:06.174363Z"
    },
    "papermill": {
     "duration": 0.025508,
     "end_time": "2024-07-25T23:07:06.178219",
     "exception": false,
     "start_time": "2024-07-25T23:07:06.152711",
     "status": "completed"
    },
    "tags": []
   },
   "outputs": [
    {
     "data": {
      "application/javascript": [
       "parent.postMessage({\"jupyterEvent\": \"custom.exercise_interaction\", \"data\": {\"outcomeType\": 1, \"valueTowardsCompletion\": 0.25, \"interactionType\": 1, \"questionType\": 1, \"questionId\": \"1_CircleArea\", \"learnToolsVersion\": \"0.3.4\", \"failureMessage\": \"\", \"exceptionClass\": \"\", \"trace\": \"\"}}, \"*\")"
      ],
      "text/plain": [
       "<IPython.core.display.Javascript object>"
      ]
     },
     "metadata": {},
     "output_type": "display_data"
    },
    {
     "data": {
      "text/markdown": [
       "<span style=\"color:#33cc33\">Correct</span>"
      ],
      "text/plain": [
       "Correct"
      ]
     },
     "metadata": {},
     "output_type": "display_data"
    }
   ],
   "source": [
    "pi = 3.14159 # approximate\n",
    "diameter = 3\n",
    "\n",
    "# Create a variable called 'radius' equal to half the diameter\n",
    "radius = diameter * 0.5\n",
    "\n",
    "# Create a variable called 'area', using the formula for the area of a circle: pi times the radius squared\n",
    "area = pi * radius ** 2\n",
    "\n",
    "# Check your answer\n",
    "q1.check()"
   ]
  },
  {
   "cell_type": "code",
   "execution_count": 6,
   "id": "b8212440",
   "metadata": {
    "execution": {
     "iopub.execute_input": "2024-07-25T23:07:06.200425Z",
     "iopub.status.busy": "2024-07-25T23:07:06.199978Z",
     "iopub.status.idle": "2024-07-25T23:07:06.205883Z",
     "shell.execute_reply": "2024-07-25T23:07:06.204459Z"
    },
    "papermill": {
     "duration": 0.020688,
     "end_time": "2024-07-25T23:07:06.208675",
     "exception": false,
     "start_time": "2024-07-25T23:07:06.187987",
     "status": "completed"
    },
    "tags": []
   },
   "outputs": [],
   "source": [
    "# Uncomment and run the lines below if you need help.\n",
    "#q1.hint()\n",
    "#q1.solution()"
   ]
  },
  {
   "cell_type": "markdown",
   "id": "0021c5d7",
   "metadata": {
    "papermill": {
     "duration": 0.009914,
     "end_time": "2024-07-25T23:07:06.229555",
     "exception": false,
     "start_time": "2024-07-25T23:07:06.219641",
     "status": "completed"
    },
    "tags": []
   },
   "source": [
    "<hr/>\n",
    "\n",
    "# 2.\n",
    "\n",
    "Add code to the following cell to swap variables `a` and `b` (so that `a` refers to the object previously referred to by `b` and vice versa)."
   ]
  },
  {
   "cell_type": "code",
   "execution_count": 7,
   "id": "a4f5167b",
   "metadata": {
    "execution": {
     "iopub.execute_input": "2024-07-25T23:07:06.251400Z",
     "iopub.status.busy": "2024-07-25T23:07:06.250966Z",
     "iopub.status.idle": "2024-07-25T23:07:06.263255Z",
     "shell.execute_reply": "2024-07-25T23:07:06.261918Z"
    },
    "papermill": {
     "duration": 0.026294,
     "end_time": "2024-07-25T23:07:06.265825",
     "exception": false,
     "start_time": "2024-07-25T23:07:06.239531",
     "status": "completed"
    },
    "tags": []
   },
   "outputs": [
    {
     "data": {
      "application/javascript": [
       "parent.postMessage({\"jupyterEvent\": \"custom.exercise_interaction\", \"data\": {\"outcomeType\": 1, \"valueTowardsCompletion\": 0.25, \"interactionType\": 1, \"questionType\": 2, \"questionId\": \"2_VariableSwap\", \"learnToolsVersion\": \"0.3.4\", \"failureMessage\": \"\", \"exceptionClass\": \"\", \"trace\": \"\"}}, \"*\")"
      ],
      "text/plain": [
       "<IPython.core.display.Javascript object>"
      ]
     },
     "metadata": {},
     "output_type": "display_data"
    },
    {
     "data": {
      "text/markdown": [
       "<span style=\"color:#33cc33\">Correct:</span> \n",
       "\n",
       "The most straightforward solution is to use a third variable to temporarily store one of the old values. e.g.:\n",
       "\n",
       "    tmp = a\n",
       "    a = b\n",
       "    b = tmp\n",
       "\n",
       "If you've read lots of Python code, you might have seen the following trick to swap two variables in one line:\n",
       "\n",
       "    a, b = b, a\n",
       "\n",
       "We'll demystify this bit of Python magic later when we talk about *tuples*."
      ],
      "text/plain": [
       "Correct: \n",
       "\n",
       "The most straightforward solution is to use a third variable to temporarily store one of the old values. e.g.:\n",
       "\n",
       "    tmp = a\n",
       "    a = b\n",
       "    b = tmp\n",
       "\n",
       "If you've read lots of Python code, you might have seen the following trick to swap two variables in one line:\n",
       "\n",
       "    a, b = b, a\n",
       "\n",
       "We'll demystify this bit of Python magic later when we talk about *tuples*."
      ]
     },
     "metadata": {},
     "output_type": "display_data"
    }
   ],
   "source": [
    "########### Setup code - don't touch this part ######################\n",
    "# If you're curious, these are examples of lists. We'll talk about \n",
    "# them in depth a few lessons from now. For now, just know that they're\n",
    "# yet another type of Python object, like int or float.\n",
    "a = [1, 2, 3]\n",
    "b = [3, 2, 1]\n",
    "q2.store_original_ids()\n",
    "######################################################################\n",
    "\n",
    "# Your code goes here. Swap the values to which a and b refer.\n",
    "# If you get stuck, you can always uncomment one or both of the lines in\n",
    "# the next cell for a hint, or to peek at the solution.\n",
    "\n",
    "# temp = a\n",
    "# a = b\n",
    "# b = temp\n",
    "a, b = b, a\n",
    "\n",
    "######################################################################\n",
    "\n",
    "# Check your answer\n",
    "q2.check()"
   ]
  },
  {
   "cell_type": "code",
   "execution_count": 8,
   "id": "551fd664",
   "metadata": {
    "execution": {
     "iopub.execute_input": "2024-07-25T23:07:06.288273Z",
     "iopub.status.busy": "2024-07-25T23:07:06.287852Z",
     "iopub.status.idle": "2024-07-25T23:07:06.297047Z",
     "shell.execute_reply": "2024-07-25T23:07:06.295912Z"
    },
    "papermill": {
     "duration": 0.023474,
     "end_time": "2024-07-25T23:07:06.299598",
     "exception": false,
     "start_time": "2024-07-25T23:07:06.276124",
     "status": "completed"
    },
    "tags": []
   },
   "outputs": [
    {
     "data": {
      "application/javascript": [
       "parent.postMessage({\"jupyterEvent\": \"custom.exercise_interaction\", \"data\": {\"interactionType\": 2, \"questionType\": 2, \"questionId\": \"2_VariableSwap\", \"learnToolsVersion\": \"0.3.4\", \"valueTowardsCompletion\": 0.0, \"failureMessage\": \"\", \"exceptionClass\": \"\", \"trace\": \"\", \"outcomeType\": 4}}, \"*\")"
      ],
      "text/plain": [
       "<IPython.core.display.Javascript object>"
      ]
     },
     "metadata": {},
     "output_type": "display_data"
    },
    {
     "data": {
      "text/markdown": [
       "<span style=\"color:#3366cc\">Hint:</span> Try using a third variable."
      ],
      "text/plain": [
       "Hint: Try using a third variable."
      ]
     },
     "metadata": {},
     "output_type": "display_data"
    }
   ],
   "source": [
    "q2.hint()"
   ]
  },
  {
   "cell_type": "code",
   "execution_count": 9,
   "id": "5e300f28",
   "metadata": {
    "execution": {
     "iopub.execute_input": "2024-07-25T23:07:06.322561Z",
     "iopub.status.busy": "2024-07-25T23:07:06.322182Z",
     "iopub.status.idle": "2024-07-25T23:07:06.332375Z",
     "shell.execute_reply": "2024-07-25T23:07:06.330919Z"
    },
    "papermill": {
     "duration": 0.024927,
     "end_time": "2024-07-25T23:07:06.334980",
     "exception": false,
     "start_time": "2024-07-25T23:07:06.310053",
     "status": "completed"
    },
    "tags": []
   },
   "outputs": [
    {
     "data": {
      "application/javascript": [
       "parent.postMessage({\"jupyterEvent\": \"custom.exercise_interaction\", \"data\": {\"interactionType\": 3, \"questionType\": 2, \"questionId\": \"2_VariableSwap\", \"learnToolsVersion\": \"0.3.4\", \"valueTowardsCompletion\": 0.0, \"failureMessage\": \"\", \"exceptionClass\": \"\", \"trace\": \"\", \"outcomeType\": 4}}, \"*\")"
      ],
      "text/plain": [
       "<IPython.core.display.Javascript object>"
      ]
     },
     "metadata": {},
     "output_type": "display_data"
    },
    {
     "data": {
      "text/markdown": [
       "<span style=\"color:#33cc99\">Solution:</span> The most straightforward solution is to use a third variable to temporarily store one of the old values. e.g.:\n",
       "\n",
       "    tmp = a\n",
       "    a = b\n",
       "    b = tmp\n",
       "\n",
       "If you've read lots of Python code, you might have seen the following trick to swap two variables in one line:\n",
       "\n",
       "    a, b = b, a\n",
       "\n",
       "We'll demystify this bit of Python magic later when we talk about *tuples*."
      ],
      "text/plain": [
       "Solution: The most straightforward solution is to use a third variable to temporarily store one of the old values. e.g.:\n",
       "\n",
       "    tmp = a\n",
       "    a = b\n",
       "    b = tmp\n",
       "\n",
       "If you've read lots of Python code, you might have seen the following trick to swap two variables in one line:\n",
       "\n",
       "    a, b = b, a\n",
       "\n",
       "We'll demystify this bit of Python magic later when we talk about *tuples*."
      ]
     },
     "metadata": {},
     "output_type": "display_data"
    }
   ],
   "source": [
    "q2.solution()"
   ]
  },
  {
   "cell_type": "markdown",
   "id": "65922508",
   "metadata": {
    "papermill": {
     "duration": 0.010732,
     "end_time": "2024-07-25T23:07:06.356702",
     "exception": false,
     "start_time": "2024-07-25T23:07:06.345970",
     "status": "completed"
    },
    "tags": []
   },
   "source": [
    "<hr/>\n",
    "\n",
    "# 3a.\n",
    "\n",
    "Add parentheses to the following expression so that it evaluates to 1."
   ]
  },
  {
   "cell_type": "code",
   "execution_count": 10,
   "id": "9adad2b2",
   "metadata": {
    "execution": {
     "iopub.execute_input": "2024-07-25T23:07:06.380729Z",
     "iopub.status.busy": "2024-07-25T23:07:06.380328Z",
     "iopub.status.idle": "2024-07-25T23:07:06.387716Z",
     "shell.execute_reply": "2024-07-25T23:07:06.386499Z"
    },
    "papermill": {
     "duration": 0.022801,
     "end_time": "2024-07-25T23:07:06.390734",
     "exception": false,
     "start_time": "2024-07-25T23:07:06.367933",
     "status": "completed"
    },
    "tags": []
   },
   "outputs": [
    {
     "data": {
      "text/plain": [
       "1"
      ]
     },
     "execution_count": 10,
     "metadata": {},
     "output_type": "execute_result"
    }
   ],
   "source": [
    "(5 - 3) // 2"
   ]
  },
  {
   "cell_type": "code",
   "execution_count": 11,
   "id": "fe194497",
   "metadata": {
    "execution": {
     "iopub.execute_input": "2024-07-25T23:07:06.415285Z",
     "iopub.status.busy": "2024-07-25T23:07:06.414867Z",
     "iopub.status.idle": "2024-07-25T23:07:06.420054Z",
     "shell.execute_reply": "2024-07-25T23:07:06.418946Z"
    },
    "papermill": {
     "duration": 0.020596,
     "end_time": "2024-07-25T23:07:06.422650",
     "exception": false,
     "start_time": "2024-07-25T23:07:06.402054",
     "status": "completed"
    },
    "tags": []
   },
   "outputs": [],
   "source": [
    "#q3.a.hint()"
   ]
  },
  {
   "cell_type": "code",
   "execution_count": 12,
   "id": "74859691",
   "metadata": {
    "execution": {
     "iopub.execute_input": "2024-07-25T23:07:06.446833Z",
     "iopub.status.busy": "2024-07-25T23:07:06.446450Z",
     "iopub.status.idle": "2024-07-25T23:07:06.456456Z",
     "shell.execute_reply": "2024-07-25T23:07:06.455095Z"
    },
    "papermill": {
     "duration": 0.025364,
     "end_time": "2024-07-25T23:07:06.459214",
     "exception": false,
     "start_time": "2024-07-25T23:07:06.433850",
     "status": "completed"
    },
    "tags": []
   },
   "outputs": [
    {
     "data": {
      "application/javascript": [
       "parent.postMessage({\"jupyterEvent\": \"custom.exercise_interaction\", \"data\": {\"interactionType\": 3, \"questionType\": 4, \"questionId\": \"3.1_ArithmeticParensEasy\", \"learnToolsVersion\": \"0.3.4\", \"valueTowardsCompletion\": 0.0, \"failureMessage\": \"\", \"exceptionClass\": \"\", \"trace\": \"\", \"outcomeType\": 4}}, \"*\")"
      ],
      "text/plain": [
       "<IPython.core.display.Javascript object>"
      ]
     },
     "metadata": {},
     "output_type": "display_data"
    },
    {
     "data": {
      "text/markdown": [
       "<span style=\"color:#33cc99\">Solution:</span> \n",
       "```python\n",
       "(5 - 3) // 2\n",
       "```"
      ],
      "text/plain": [
       "Solution: \n",
       "```python\n",
       "(5 - 3) // 2\n",
       "```"
      ]
     },
     "metadata": {},
     "output_type": "display_data"
    }
   ],
   "source": [
    "# Check your answer (Run this code cell to receive credit!)\n",
    "q3.a.solution()"
   ]
  },
  {
   "cell_type": "markdown",
   "id": "c3f1bb3f",
   "metadata": {
    "papermill": {
     "duration": 0.011589,
     "end_time": "2024-07-25T23:07:06.482402",
     "exception": false,
     "start_time": "2024-07-25T23:07:06.470813",
     "status": "completed"
    },
    "tags": []
   },
   "source": [
    "# 3b.  <span title=\"A bit spicy\" style=\"color: darkgreen \">🌶️</span>\n",
    "\n",
    "<small>Questions, like this one, marked a spicy pepper are a bit harder.</small>\n",
    "\n",
    "Add parentheses to the following expression so that it evaluates to 0."
   ]
  },
  {
   "cell_type": "code",
   "execution_count": 13,
   "id": "04a9b032",
   "metadata": {
    "execution": {
     "iopub.execute_input": "2024-07-25T23:07:06.507455Z",
     "iopub.status.busy": "2024-07-25T23:07:06.507008Z",
     "iopub.status.idle": "2024-07-25T23:07:06.514713Z",
     "shell.execute_reply": "2024-07-25T23:07:06.513480Z"
    },
    "papermill": {
     "duration": 0.02329,
     "end_time": "2024-07-25T23:07:06.517286",
     "exception": false,
     "start_time": "2024-07-25T23:07:06.493996",
     "status": "completed"
    },
    "tags": []
   },
   "outputs": [
    {
     "data": {
      "text/plain": [
       "0"
      ]
     },
     "execution_count": 13,
     "metadata": {},
     "output_type": "execute_result"
    }
   ],
   "source": [
    "(8 - 3) * (2 - (1 + 1))"
   ]
  },
  {
   "cell_type": "code",
   "execution_count": 14,
   "id": "cfb4f438",
   "metadata": {
    "execution": {
     "iopub.execute_input": "2024-07-25T23:07:06.542558Z",
     "iopub.status.busy": "2024-07-25T23:07:06.542154Z",
     "iopub.status.idle": "2024-07-25T23:07:06.548137Z",
     "shell.execute_reply": "2024-07-25T23:07:06.546673Z"
    },
    "papermill": {
     "duration": 0.021879,
     "end_time": "2024-07-25T23:07:06.550846",
     "exception": false,
     "start_time": "2024-07-25T23:07:06.528967",
     "status": "completed"
    },
    "tags": []
   },
   "outputs": [],
   "source": [
    "#q3.b.hint()"
   ]
  },
  {
   "cell_type": "code",
   "execution_count": 15,
   "id": "84bf8dfa",
   "metadata": {
    "execution": {
     "iopub.execute_input": "2024-07-25T23:07:06.579358Z",
     "iopub.status.busy": "2024-07-25T23:07:06.577934Z",
     "iopub.status.idle": "2024-07-25T23:07:06.588912Z",
     "shell.execute_reply": "2024-07-25T23:07:06.587546Z"
    },
    "papermill": {
     "duration": 0.028766,
     "end_time": "2024-07-25T23:07:06.591598",
     "exception": false,
     "start_time": "2024-07-25T23:07:06.562832",
     "status": "completed"
    },
    "tags": []
   },
   "outputs": [
    {
     "data": {
      "application/javascript": [
       "parent.postMessage({\"jupyterEvent\": \"custom.exercise_interaction\", \"data\": {\"interactionType\": 3, \"questionType\": 4, \"questionId\": \"3.2_ArithmeticParensHard\", \"learnToolsVersion\": \"0.3.4\", \"valueTowardsCompletion\": 0.0, \"failureMessage\": \"\", \"exceptionClass\": \"\", \"trace\": \"\", \"outcomeType\": 4}}, \"*\")"
      ],
      "text/plain": [
       "<IPython.core.display.Javascript object>"
      ]
     },
     "metadata": {},
     "output_type": "display_data"
    },
    {
     "data": {
      "text/markdown": [
       "<span style=\"color:#33cc99\">Solution:</span> `(8 - 3) * (2 - (1 + 1))` is one solution. There may be others."
      ],
      "text/plain": [
       "Solution: `(8 - 3) * (2 - (1 + 1))` is one solution. There may be others."
      ]
     },
     "metadata": {},
     "output_type": "display_data"
    }
   ],
   "source": [
    "# Check your answer (Run this code cell to receive credit!)\n",
    "q3.b.solution()"
   ]
  },
  {
   "cell_type": "markdown",
   "id": "865b88e1",
   "metadata": {
    "papermill": {
     "duration": 0.012497,
     "end_time": "2024-07-25T23:07:06.616202",
     "exception": false,
     "start_time": "2024-07-25T23:07:06.603705",
     "status": "completed"
    },
    "tags": []
   },
   "source": [
    "<hr/>\n",
    "\n",
    "# 4. \n",
    "Alice, Bob and Carol have agreed to pool their Halloween candy and split it evenly among themselves.\n",
    "For the sake of their friendship, any candies left over will be smashed. For example, if they collectively\n",
    "bring home 91 candies, they'll take 30 each and smash 1.\n",
    "\n",
    "Write an arithmetic expression below to calculate how many candies they must smash for a given haul."
   ]
  },
  {
   "cell_type": "code",
   "execution_count": 16,
   "id": "9dfc778a",
   "metadata": {
    "execution": {
     "iopub.execute_input": "2024-07-25T23:07:06.643901Z",
     "iopub.status.busy": "2024-07-25T23:07:06.643483Z",
     "iopub.status.idle": "2024-07-25T23:07:06.654276Z",
     "shell.execute_reply": "2024-07-25T23:07:06.653021Z"
    },
    "papermill": {
     "duration": 0.028002,
     "end_time": "2024-07-25T23:07:06.656891",
     "exception": false,
     "start_time": "2024-07-25T23:07:06.628889",
     "status": "completed"
    },
    "tags": []
   },
   "outputs": [
    {
     "data": {
      "application/javascript": [
       "parent.postMessage({\"jupyterEvent\": \"custom.exercise_interaction\", \"data\": {\"outcomeType\": 1, \"valueTowardsCompletion\": 0.25, \"interactionType\": 1, \"questionType\": 1, \"questionId\": \"4_CandySplitting\", \"learnToolsVersion\": \"0.3.4\", \"failureMessage\": \"\", \"exceptionClass\": \"\", \"trace\": \"\"}}, \"*\")"
      ],
      "text/plain": [
       "<IPython.core.display.Javascript object>"
      ]
     },
     "metadata": {},
     "output_type": "display_data"
    },
    {
     "data": {
      "text/markdown": [
       "<span style=\"color:#33cc33\">Correct</span>"
      ],
      "text/plain": [
       "Correct"
      ]
     },
     "metadata": {},
     "output_type": "display_data"
    }
   ],
   "source": [
    "# Variables representing the number of candies collected by alice, bob, and carol\n",
    "alice_candies = 121\n",
    "bob_candies = 77\n",
    "carol_candies = 109\n",
    "\n",
    "# Your code goes here! Replace the right-hand side of this assignment with an expression\n",
    "# involving alice_candies, bob_candies, and carol_candies\n",
    "to_smash = (alice_candies + bob_candies + carol_candies) % 3\n",
    "\n",
    "# Check your answer\n",
    "q4.check()"
   ]
  },
  {
   "cell_type": "code",
   "execution_count": 17,
   "id": "ad351cbc",
   "metadata": {
    "execution": {
     "iopub.execute_input": "2024-07-25T23:07:06.683600Z",
     "iopub.status.busy": "2024-07-25T23:07:06.683207Z",
     "iopub.status.idle": "2024-07-25T23:07:06.688619Z",
     "shell.execute_reply": "2024-07-25T23:07:06.687203Z"
    },
    "papermill": {
     "duration": 0.02195,
     "end_time": "2024-07-25T23:07:06.691324",
     "exception": false,
     "start_time": "2024-07-25T23:07:06.669374",
     "status": "completed"
    },
    "tags": []
   },
   "outputs": [],
   "source": [
    "#q4.hint()\n",
    "#q4.solution()"
   ]
  },
  {
   "cell_type": "markdown",
   "id": "e8a46e23",
   "metadata": {
    "papermill": {
     "duration": 0.012805,
     "end_time": "2024-07-25T23:07:06.717047",
     "exception": false,
     "start_time": "2024-07-25T23:07:06.704242",
     "status": "completed"
    },
    "tags": []
   },
   "source": [
    "# Keep Going\n",
    "\n",
    "Next up, you'll **[learn to write new functions and understand functions others write](https://www.kaggle.com/colinmorris/functions-and-getting-help)**. This will make you at least 10 times more productive as a Python programmer. "
   ]
  },
  {
   "cell_type": "markdown",
   "id": "887c62cf",
   "metadata": {
    "papermill": {
     "duration": 0.012282,
     "end_time": "2024-07-25T23:07:06.741823",
     "exception": false,
     "start_time": "2024-07-25T23:07:06.729541",
     "status": "completed"
    },
    "tags": []
   },
   "source": [
    "---\n",
    "\n",
    "\n",
    "\n",
    "\n",
    "*Have questions or comments? Visit the [course discussion forum](https://www.kaggle.com/learn/python/discussion) to chat with other learners.*"
   ]
  }
 ],
 "metadata": {
  "kaggle": {
   "accelerator": "none",
   "dataSources": [],
   "isGpuEnabled": false,
   "isInternetEnabled": false,
   "language": "python",
   "sourceType": "notebook"
  },
  "kernelspec": {
   "display_name": "Python 3",
   "language": "python",
   "name": "python3"
  },
  "language_info": {
   "codemirror_mode": {
    "name": "ipython",
    "version": 3
   },
   "file_extension": ".py",
   "mimetype": "text/x-python",
   "name": "python",
   "nbconvert_exporter": "python",
   "pygments_lexer": "ipython3",
   "version": "3.10.13"
  },
  "learntools_metadata": {
   "lesson_index": 0,
   "type": "exercise"
  },
  "papermill": {
   "default_parameters": {},
   "duration": 6.270208,
   "end_time": "2024-07-25T23:07:07.277131",
   "environment_variables": {},
   "exception": null,
   "input_path": "__notebook__.ipynb",
   "output_path": "__notebook__.ipynb",
   "parameters": {},
   "start_time": "2024-07-25T23:07:01.006923",
   "version": "2.5.0"
  }
 },
 "nbformat": 4,
 "nbformat_minor": 5
}
