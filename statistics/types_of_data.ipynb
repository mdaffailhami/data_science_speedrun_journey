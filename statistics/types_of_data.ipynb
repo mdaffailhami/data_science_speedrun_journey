{
 "cells": [
  {
   "cell_type": "markdown",
   "metadata": {},
   "source": [
    "# Types of Data\n"
   ]
  },
  {
   "cell_type": "markdown",
   "metadata": {},
   "source": [
    "![Data Categories](../assets/types_of_data.png)\n"
   ]
  },
  {
   "cell_type": "markdown",
   "metadata": {},
   "source": [
    "## A. Qualitative Data\n",
    "\n",
    "Qualitative Data deals with characteristics and desciptors that can't be easily measured, but can be observed subjectively.\n"
   ]
  },
  {
   "cell_type": "markdown",
   "metadata": {},
   "source": [
    "### 1. Nominal Data\n",
    "\n",
    "![Nominal Data](../assets/nominal_data.png)\n"
   ]
  },
  {
   "cell_type": "markdown",
   "metadata": {},
   "source": [
    "### 2. Ordinal Data\n",
    "\n",
    "![Ordinal Data](../assets/ordinal_data.png)\n"
   ]
  },
  {
   "cell_type": "markdown",
   "metadata": {},
   "source": [
    "## B. Quantitative Data\n",
    "\n",
    "Quantitative Data deals with numbers and things you can measure objectively.\n"
   ]
  },
  {
   "cell_type": "markdown",
   "metadata": {},
   "source": [
    "### 1. Discrete Data\n",
    "\n",
    "![Discrete Data](../assets/discrete_data.png)\n"
   ]
  },
  {
   "cell_type": "markdown",
   "metadata": {},
   "source": [
    "### 2. Continuous Data\n",
    "\n",
    "![Continuous Data](../assets/continuous_data.png)\n"
   ]
  }
 ],
 "metadata": {
  "language_info": {
   "name": "python"
  }
 },
 "nbformat": 4,
 "nbformat_minor": 2
}
