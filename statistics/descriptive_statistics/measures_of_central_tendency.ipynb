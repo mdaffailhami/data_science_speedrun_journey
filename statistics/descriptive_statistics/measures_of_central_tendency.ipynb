{
 "cells": [
  {
   "cell_type": "markdown",
   "metadata": {},
   "source": [
    "# Measures of Central Tendency\n",
    "\n",
    "![Measures of Central Tendency](../../assets/measures_of_central_tendency.png)\n",
    "\n",
    "- **Mean:** The average of the numbers.\n",
    "- **Median:** The middle value when the numbers are sorted.\n",
    "- **Mode:** The most common value.\n"
   ]
  },
  {
   "cell_type": "markdown",
   "metadata": {},
   "source": [
    "## A. Mean\n",
    "\n",
    "The **mean** (or average) is the sum of all the numbers divided by the count of numbers. It provides a central value of a dataset.\n",
    "\n",
    "### Formula\n",
    "\n",
    "$\n",
    "\\text{Mean} = \\frac{\\sum \\text{(All values)}}{\\text{Number of values}}\n",
    "$\n",
    "\n",
    "### Example\n",
    "\n",
    "Consider the following dataset: 4, 8, 15, 16, 23, 42\n",
    "\n",
    "$\n",
    "\\text{Mean} = \\frac{4 + 8 + 15 + 16 + 23 + 42}{6} = \\frac{108}{6} = 18\n",
    "$\n"
   ]
  },
  {
   "cell_type": "markdown",
   "metadata": {},
   "source": [
    "## B. Median\n",
    "\n",
    "The **median** is the middle value in a dataset when it is ordered from least to greatest. If there is an even number of observations, the median is the average of the two middle numbers.\n",
    "\n",
    "### Example\n",
    "\n",
    "Consider the following dataset: 7, 3, 5, 9, 11\n",
    "\n",
    "Ordered dataset: 3, 5, 7, 9, 11\n",
    "\n",
    "$\n",
    "\\text{Median} = 7\n",
    "$\n",
    "\n",
    "For an even number of observations, consider the dataset: 5, 7, 3, 9\n",
    "\n",
    "Ordered dataset: 3, 5, 7, 9\n",
    "\n",
    "$\n",
    "\\text{Median} = \\frac{5 + 7}{2} = \\frac{12}{2} = 6\n",
    "$\n"
   ]
  },
  {
   "cell_type": "markdown",
   "metadata": {},
   "source": [
    "## C. Mode\n",
    "\n",
    "The **mode** is the value that appears most frequently in a dataset. A dataset may have one mode, more than one mode, or no mode at all.\n",
    "\n",
    "### Example\n",
    "\n",
    "Consider the following dataset: 2, 4, 4, 4, 5, 5, 7\n",
    "\n",
    "$\n",
    "\\text{Mode} = 4\n",
    "$\n",
    "\n",
    "The mode is 4, as it appears most frequently in the dataset.\n",
    "\n",
    "For a dataset with no repeating numbers like: 1, 2, 3, 4, 5\n",
    "\n",
    "$\n",
    "\\text{Mode} = \\text{No mode}\n",
    "$\n",
    "\n",
    "There is no mode, as no number repeats.\n",
    "\n",
    "What happen if there is a dataset that contains two modes like 2, 4, 3, 5, 4, 5,\n",
    "\n",
    "To find the mode of the dataset 2, 4, 3, 5, 4, 5, we need to identify the number that appears most frequently.\n",
    "\n",
    "- The number 2 appears once.\n",
    "- The number 4 appears twice.\n",
    "- The number 3 appears once.\n",
    "- The number 5 appears twice.\n",
    "\n",
    "$\n",
    "\\text{Mode} = 4 \\text{ and } 5\n",
    "$\n",
    "\n",
    "Since both 4 and 5 appear twice, the dataset has two modes: **4** and **5**. This is an example of a bimodal dataset, where there are two values that appear most frequently.\n"
   ]
  }
 ],
 "metadata": {
  "language_info": {
   "name": "python"
  }
 },
 "nbformat": 4,
 "nbformat_minor": 2
}
