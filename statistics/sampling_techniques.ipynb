{
 "cells": [
  {
   "cell_type": "markdown",
   "metadata": {},
   "source": [
    "# Sampling Techniques\n",
    "\n",
    "![Sampling Techniques](../assets/sampling_techniques.png)\n"
   ]
  },
  {
   "cell_type": "markdown",
   "metadata": {},
   "source": [
    "## A. Random Probability Sampling\n",
    "\n",
    "![Random Probability Sampling](../assets/random_probability_sampling.png)\n"
   ]
  },
  {
   "cell_type": "markdown",
   "metadata": {},
   "source": [
    "## B. Systematic Probability Sampling\n",
    "\n",
    "![Systematic Probability Sampling](../assets/systematic_probability_sampling.png)\n"
   ]
  },
  {
   "cell_type": "markdown",
   "metadata": {},
   "source": [
    "## C. Stratified Probability Sampling\n",
    "\n",
    "![Stratified Probability Sampling](../assets/stratified_probability_sampling.png)\n"
   ]
  }
 ],
 "metadata": {
  "language_info": {
   "name": "python"
  }
 },
 "nbformat": 4,
 "nbformat_minor": 2
}
