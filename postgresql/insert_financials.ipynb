{
 "cells": [
  {
   "cell_type": "code",
   "execution_count": 1,
   "metadata": {},
   "outputs": [],
   "source": [
    "import psycopg\n",
    "from env import CONNECTION_STRING"
   ]
  },
  {
   "cell_type": "markdown",
   "metadata": {},
   "source": [
    "#### Connect to Database\n"
   ]
  },
  {
   "cell_type": "code",
   "execution_count": 2,
   "metadata": {},
   "outputs": [],
   "source": [
    "conn = psycopg.connect(CONNECTION_STRING)"
   ]
  },
  {
   "cell_type": "markdown",
   "metadata": {},
   "source": [
    "#### Get Database Cursor\n"
   ]
  },
  {
   "cell_type": "code",
   "execution_count": 3,
   "metadata": {},
   "outputs": [],
   "source": [
    "cur = conn.cursor()"
   ]
  },
  {
   "cell_type": "markdown",
   "metadata": {},
   "source": [
    "#### Insert Financials\n"
   ]
  },
  {
   "cell_type": "code",
   "execution_count": 4,
   "metadata": {},
   "outputs": [
    {
     "data": {
      "text/plain": [
       "<psycopg.Cursor [COMMAND_OK] [INTRANS] (host=127.0.0.1 user=postgres database=data_science_speedrun_journey) at 0x7552bc645550>"
      ]
     },
     "execution_count": 4,
     "metadata": {},
     "output_type": "execute_result"
    }
   ],
   "source": [
    "cur.execute('''\n",
    "    INSERT INTO financials (movie_id,budget,revenue,unit,currency) VALUES\n",
    "        (101,1,12.5,'Billions','INR'),\n",
    "        (102,200,954.8,'Millions','USD'),\n",
    "        (103,165,644.8,'Millions','USD'),\n",
    "        (104,180,854,'Millions','USD'),\n",
    "        (105,250,670,'Millions','USD'),\n",
    "        (107,400,2000,'Millions','INR'),\n",
    "        (108,550,4000,'Millions','INR'),\n",
    "        (109,390,1360,'Millions','INR'),\n",
    "        (110,1.4,3.5,'Billions','INR'),\n",
    "        (111,25,73.3,'Millions','USD'),\n",
    "        (113,165,701.8,'Millions','USD'),\n",
    "        (114,205,365.3,'Millions','USD'),\n",
    "        (115,55,307.1,'Millions','USD'),\n",
    "        (116,103,460.5,'Millions','USD'),\n",
    "        (117,200,2202,'Millions','USD'),\n",
    "        (118,3.18,3.3,'Millions','USD'),\n",
    "        (119,237,2847,'Millions','USD'),\n",
    "        (120,7.2,291,'Millions','USD'),\n",
    "        (121,185,1006,'Millions','USD'),\n",
    "        (122,22,322.2,'Millions','USD'),\n",
    "        (123,63,1046,'Millions','USD'),\n",
    "        (124,15.5,263.1,'Millions','USD'),\n",
    "        (125,400,2798,'Millions','USD'),\n",
    "        (126,400,2048,'Millions','USD'),\n",
    "        (127,70000,100000,'Thousands','INR'),\n",
    "        (128,120,1350,'Millions','INR'),\n",
    "        (129,100,410,'Millions','INR'),\n",
    "        (130,850,8540,'Millions','INR'),\n",
    "        (131,1,5.9,'Billions','INR'),\n",
    "        (132,2,3.6,'Billions','INR'),\n",
    "        (133,5.5,12,'Billions','INR'),\n",
    "        (134,1.8,6.5,'Billions','INR'),\n",
    "        (135,250,3409,'Millions','INR'),\n",
    "        (136,900,11690,'Millions','INR'),\n",
    "        (137,216.7,370.6,'Millions','USD'),\n",
    "        (138,177,714.4,'Millions','USD'),\n",
    "        (139,1.8,3.1,'Billions','INR'),\n",
    "        (140,500,950,'Millions','INR'),\n",
    "        (406,30,350,'Millions','INR'),\n",
    "        (412,160,836.8,'Millions','USD')\n",
    "''')"
   ]
  },
  {
   "cell_type": "markdown",
   "metadata": {},
   "source": [
    "#### Commit Queries\n"
   ]
  },
  {
   "cell_type": "code",
   "execution_count": 5,
   "metadata": {},
   "outputs": [],
   "source": [
    "conn.commit()"
   ]
  },
  {
   "cell_type": "markdown",
   "metadata": {},
   "source": [
    "#### Close the Cursor and Connection\n"
   ]
  },
  {
   "cell_type": "code",
   "execution_count": 6,
   "metadata": {},
   "outputs": [],
   "source": [
    "cur.close()\n",
    "conn.close()"
   ]
  }
 ],
 "metadata": {
  "kernelspec": {
   "display_name": ".venv",
   "language": "python",
   "name": "python3"
  },
  "language_info": {
   "codemirror_mode": {
    "name": "ipython",
    "version": 3
   },
   "file_extension": ".py",
   "mimetype": "text/x-python",
   "name": "python",
   "nbconvert_exporter": "python",
   "pygments_lexer": "ipython3",
   "version": "3.12.3"
  }
 },
 "nbformat": 4,
 "nbformat_minor": 2
}
