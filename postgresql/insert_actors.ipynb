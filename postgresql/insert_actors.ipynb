{
 "cells": [
  {
   "cell_type": "code",
   "execution_count": 1,
   "metadata": {},
   "outputs": [],
   "source": [
    "import psycopg\n",
    "from env import CONNECTION_STRING"
   ]
  },
  {
   "cell_type": "markdown",
   "metadata": {},
   "source": [
    "#### Connect to Database\n"
   ]
  },
  {
   "cell_type": "code",
   "execution_count": 2,
   "metadata": {},
   "outputs": [],
   "source": [
    "conn = psycopg.connect(CONNECTION_STRING)"
   ]
  },
  {
   "cell_type": "markdown",
   "metadata": {},
   "source": [
    "#### Get Database Cursor\n"
   ]
  },
  {
   "cell_type": "code",
   "execution_count": 3,
   "metadata": {},
   "outputs": [],
   "source": [
    "cur = conn.cursor()"
   ]
  },
  {
   "cell_type": "markdown",
   "metadata": {},
   "source": [
    "#### Insert Actors\n"
   ]
  },
  {
   "cell_type": "code",
   "execution_count": 4,
   "metadata": {},
   "outputs": [
    {
     "data": {
      "text/plain": [
       "<psycopg.Cursor [COMMAND_OK] [INTRANS] (host=127.0.0.1 user=postgres database=data_science_speedrun_journey) at 0x72adb4539850>"
      ]
     },
     "execution_count": 4,
     "metadata": {},
     "output_type": "execute_result"
    }
   ],
   "source": [
    "cur.execute('''\n",
    "    INSERT INTO actors (actor_id,name,birth_year) VALUES\n",
    "        (50,'Yash',1986),\n",
    "        (51,'Sanjay Dutt',1959),\n",
    "        (52,'Benedict Cumberbatch',1976),\n",
    "        (53,'Elizabeth Olsen',1989),\n",
    "        (54,'Chris Hemsworth',1983),\n",
    "        (55,'Natalie Portman',1981),\n",
    "        (56,'Tom Hiddleston',1981),\n",
    "        (57,'Amitabh Bachchan',1942),\n",
    "        (58,'Jaya Bachchan',1948),\n",
    "        (59,'Shah Rukh Khan',1965),\n",
    "        (60,'Kajol',1974),\n",
    "        (61,'Aamir Khan',1965),\n",
    "        (62,'R. Madhavan',1970),\n",
    "        (63,'Sharman Joshi',1979),\n",
    "        (64,'Hrithik Roshan',1974),\n",
    "        (65,'Ranveer Singh',1985),\n",
    "        (66,'Deepika Padukone',1986),\n",
    "        (67,'Tim Robbins',1958),\n",
    "        (68,'Morgan Freeman',1937),\n",
    "        (69,'Leonardo DiCaprio',1974),\n",
    "        (70,'Ken Watanabe',1959),\n",
    "        (71,'Matthew McConaughey',1969),\n",
    "        (72,'Anne Hathaway',1982),\n",
    "        (73,'John David Washington',1984),\n",
    "        (74,'Robert Pattinson',1986),\n",
    "        (75,'Will Smith',1968),\n",
    "        (76,'Thandiwe Newton',1972),\n",
    "        (77,'Russell Crowe',1964),\n",
    "        (78,'Joaquin Phoenix',1974),\n",
    "        (79,'Kate Winslet',1975),\n",
    "        (80,'James Stewart',1908),\n",
    "        (81,'Donna Reed',1921),\n",
    "        (82,'Sam Worthington',1976),\n",
    "        (83,'Zoe Saldana',1978),\n",
    "        (84,'Marlon Brando',1924),\n",
    "        (85,'Al Pacino',1940),\n",
    "        (86,'Christian Bale',1974),\n",
    "        (87,'Heath Ledger',1979),\n",
    "        (88,'Liam Neeson',1952),\n",
    "        (89,'Ben Kingsley',1943),\n",
    "        (90,'Sam Neill',1947),\n",
    "        (91,'Laura Dern',1967),\n",
    "        (92,'Song Kang-ho',1967),\n",
    "        (93,'Lee Sun-kyun',1975),\n",
    "        (94,'Robert Downey Jr.',1965),\n",
    "        (95,'Chris Evans',1981),\n",
    "        (150,'Kanu Banerjee',1905),\n",
    "        (151,'Karuna Banerjee',1919),\n",
    "        (152,'Darsheel Safary',1997),\n",
    "        (153,'Sunil Dutt',1929),\n",
    "        (154,'Anushka Sharma',1988),\n",
    "        (155,'Ranbir Kapoor',1982),\n",
    "        (156,'Allu Arjun',1982),\n",
    "        (157,'Fahadh Faasil',1982),\n",
    "        (158,'N. T. Rama Rao Jr.',1983),\n",
    "        (159,'Ram Charan',1985),\n",
    "        (160,'Prabhas',1979),\n",
    "        (161,'Rana Daggubati',1984),\n",
    "        (162,'Mithun Chakraborty',1950),\n",
    "        (163,'Anupam Kher',1955),\n",
    "        (164,'Salman Khan',1965),\n",
    "        (165,'Nawazuddin Siddiqui',1967),\n",
    "        (166,'Tommy Lee Jones',1946),\n",
    "        (167,'Sebastian Stan',1982),\n",
    "        (168,'Anil Kapoor',1956),\n",
    "        (169,'Sidharth Malhotra',1985),\n",
    "        (170,'Kiara Advani',1991)\n",
    "''')"
   ]
  },
  {
   "cell_type": "markdown",
   "metadata": {},
   "source": [
    "#### Commit Queries\n"
   ]
  },
  {
   "cell_type": "code",
   "execution_count": 5,
   "metadata": {},
   "outputs": [],
   "source": [
    "conn.commit()"
   ]
  },
  {
   "cell_type": "markdown",
   "metadata": {},
   "source": [
    "#### Close the Cursor and Connection\n"
   ]
  },
  {
   "cell_type": "code",
   "execution_count": 6,
   "metadata": {},
   "outputs": [],
   "source": [
    "cur.close()\n",
    "conn.close()"
   ]
  }
 ],
 "metadata": {
  "kernelspec": {
   "display_name": ".venv",
   "language": "python",
   "name": "python3"
  },
  "language_info": {
   "codemirror_mode": {
    "name": "ipython",
    "version": 3
   },
   "file_extension": ".py",
   "mimetype": "text/x-python",
   "name": "python",
   "nbconvert_exporter": "python",
   "pygments_lexer": "ipython3",
   "version": "3.12.3"
  }
 },
 "nbformat": 4,
 "nbformat_minor": 2
}
