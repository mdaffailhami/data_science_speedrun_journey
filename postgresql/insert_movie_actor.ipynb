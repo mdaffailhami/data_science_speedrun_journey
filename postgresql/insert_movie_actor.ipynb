{
 "cells": [
  {
   "cell_type": "code",
   "execution_count": 5,
   "metadata": {},
   "outputs": [],
   "source": [
    "import psycopg\n",
    "from env import CONNECTION_STRING"
   ]
  },
  {
   "cell_type": "markdown",
   "metadata": {},
   "source": [
    "#### Connect to Database\n"
   ]
  },
  {
   "cell_type": "code",
   "execution_count": 6,
   "metadata": {},
   "outputs": [],
   "source": [
    "conn = psycopg.connect(CONNECTION_STRING)"
   ]
  },
  {
   "cell_type": "markdown",
   "metadata": {},
   "source": [
    "#### Get Database Cursor\n"
   ]
  },
  {
   "cell_type": "code",
   "execution_count": 7,
   "metadata": {},
   "outputs": [],
   "source": [
    "cur = conn.cursor()"
   ]
  },
  {
   "cell_type": "markdown",
   "metadata": {},
   "source": [
    "#### Insert Movie Actor\n"
   ]
  },
  {
   "cell_type": "code",
   "execution_count": 8,
   "metadata": {},
   "outputs": [
    {
     "data": {
      "text/plain": [
       "<psycopg.Cursor [COMMAND_OK] [INTRANS] (host=127.0.0.1 user=postgres database=data_science_speedrun_journey) at 0x795bdc129f10>"
      ]
     },
     "execution_count": 8,
     "metadata": {},
     "output_type": "execute_result"
    }
   ],
   "source": [
    "cur.execute('''\n",
    "    INSERT INTO movie_actor (movie_id,actor_id) VALUES\n",
    "        (101,50),\n",
    "        (101,51),\n",
    "        (102,52),\n",
    "        (102,53),\n",
    "        (103,54),\n",
    "        (103,55),\n",
    "        (103,56),\n",
    "        (104,54),\n",
    "        (104,56),\n",
    "        (105,54),\n",
    "        (105,55),\n",
    "        (106,57),\n",
    "        (106,58),\n",
    "        (107,59),\n",
    "        (107,60),\n",
    "        (108,61),\n",
    "        (108,62),\n",
    "        (108,63),\n",
    "        (109,59),\n",
    "        (109,57),\n",
    "        (109,64),\n",
    "        (110,65),\n",
    "        (110,66),\n",
    "        (111,67),\n",
    "        (111,68),\n",
    "        (112,69),\n",
    "        (112,70),\n",
    "        (113,71),\n",
    "        (113,72),\n",
    "        (115,75),\n",
    "        (115,76),\n",
    "        (116,77),\n",
    "        (116,78),\n",
    "        (117,69),\n",
    "        (117,79),\n",
    "        (118,80),\n",
    "        (118,81),\n",
    "        (119,82),\n",
    "        (119,83),\n",
    "        (120,84),\n",
    "        (120,85),\n",
    "        (121,86),\n",
    "        (121,87),\n",
    "        (122,88),\n",
    "        (122,89),\n",
    "        (123,90),\n",
    "        (123,91),\n",
    "        (124,92),\n",
    "        (124,93),\n",
    "        (125,94),\n",
    "        (125,95),\n",
    "        (125,54),\n",
    "        (126,94),\n",
    "        (126,95),\n",
    "        (126,54),\n",
    "        (127,150),\n",
    "        (127,151),\n",
    "        (128,61),\n",
    "        (128,152),\n",
    "        (129,51),\n",
    "        (129,153),\n",
    "        (130,61),\n",
    "        (130,154),\n",
    "        (131,155),\n",
    "        (131,154),\n",
    "        (132,156),\n",
    "        (132,157),\n",
    "        (133,158),\n",
    "        (133,159),\n",
    "        (134,160),\n",
    "        (134,161),\n",
    "        (135,162),\n",
    "        (135,163),\n",
    "        (136,164),\n",
    "        (136,165),\n",
    "        (137,95),\n",
    "        (137,166),\n",
    "        (138,95),\n",
    "        (138,167),\n",
    "        (139,164),\n",
    "        (139,168),\n",
    "        (140,169),\n",
    "        (140,170)\n",
    "''')"
   ]
  },
  {
   "cell_type": "markdown",
   "metadata": {},
   "source": [
    "#### Commit Queries\n"
   ]
  },
  {
   "cell_type": "code",
   "execution_count": 9,
   "metadata": {},
   "outputs": [],
   "source": [
    "conn.commit()"
   ]
  },
  {
   "cell_type": "markdown",
   "metadata": {},
   "source": [
    "#### Close the Cursor and Connection\n"
   ]
  },
  {
   "cell_type": "code",
   "execution_count": 10,
   "metadata": {},
   "outputs": [],
   "source": [
    "cur.close()\n",
    "conn.close()"
   ]
  }
 ],
 "metadata": {
  "kernelspec": {
   "display_name": ".venv",
   "language": "python",
   "name": "python3"
  },
  "language_info": {
   "codemirror_mode": {
    "name": "ipython",
    "version": 3
   },
   "file_extension": ".py",
   "mimetype": "text/x-python",
   "name": "python",
   "nbconvert_exporter": "python",
   "pygments_lexer": "ipython3",
   "version": "3.12.3"
  }
 },
 "nbformat": 4,
 "nbformat_minor": 2
}
