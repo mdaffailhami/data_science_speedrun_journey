{
 "cells": [
  {
   "cell_type": "code",
   "execution_count": 5,
   "metadata": {},
   "outputs": [],
   "source": [
    "import psycopg\n",
    "from env import CONNECTION_STRING"
   ]
  },
  {
   "cell_type": "markdown",
   "metadata": {},
   "source": [
    "#### Connect to Database\n"
   ]
  },
  {
   "cell_type": "code",
   "execution_count": 6,
   "metadata": {},
   "outputs": [],
   "source": [
    "conn = psycopg.connect(CONNECTION_STRING)"
   ]
  },
  {
   "cell_type": "markdown",
   "metadata": {},
   "source": [
    "#### Get Database Cursor\n"
   ]
  },
  {
   "cell_type": "code",
   "execution_count": 7,
   "metadata": {},
   "outputs": [],
   "source": [
    "cur = conn.cursor()"
   ]
  },
  {
   "cell_type": "markdown",
   "metadata": {},
   "source": [
    "#### Insert Movies\n"
   ]
  },
  {
   "cell_type": "code",
   "execution_count": 8,
   "metadata": {},
   "outputs": [
    {
     "data": {
      "text/plain": [
       "<psycopg.Cursor [COMMAND_OK] [INTRANS] (host=127.0.0.1 user=postgres database=data_science_speedrun_journey) at 0x7a72c5711f10>"
      ]
     },
     "execution_count": 8,
     "metadata": {},
     "output_type": "execute_result"
    }
   ],
   "source": [
    "cur.execute('''\n",
    "    INSERT INTO movies (movie_id,title,industry,release_year,imdb_rating,studio,language_id) VALUES\n",
    "        (101,'K.G.F: Chapter 2','Bollywood',2022,'8.4','Hombale Films',3),\n",
    "        (102,'Doctor Strange in the Multiverse of Madness','Hollywood',2022,'7','Marvel Studios',5),\n",
    "        (103,'Thor: The Dark World ','Hollywood',2013,'6.8','Marvel Studios',5),\n",
    "        (104,'Thor: Ragnarok ','Hollywood',2017,'7.9','Marvel Studios',5),\n",
    "        (105,'Thor: Love and Thunder ','Hollywood',2022,'6.8','Marvel Studios',5),\n",
    "        (106,'Sholay','Bollywood',1975,'8.1','United Producers',1),\n",
    "        (107,'Dilwale Dulhania Le Jayenge','Bollywood',1995,'8','Yash Raj Films',1),\n",
    "        (108,'3 Idiots','Bollywood',2009,'8.4','Vinod Chopra Films',1),\n",
    "        (109,'Kabhi Khushi Kabhie Gham','Bollywood',2001,'7.4','Dharma Productions',1),\n",
    "        (110,'Bajirao Mastani ','Bollywood',2015,'7.2',NULL,1),\n",
    "        (111,'The Shawshank Redemption','Hollywood',1994,'9.3','Castle Rock Entertainment',5),\n",
    "        (112,'Inception','Hollywood',2010,'8.8','Warner Bros. Pictures',5),\n",
    "        (113,'Interstellar','Hollywood',2014,'8.6','Warner Bros. Pictures',5),\n",
    "        (115,'The Pursuit of Happyness','Hollywood',2006,'8','Columbia Pictures',5),\n",
    "        (116,'Gladiator','Hollywood',2000,'8.5','Universal Pictures  ',5),\n",
    "        (117,'Titanic','Hollywood',1997,'7.9','Paramount Pictures',5),\n",
    "        (118,'It''s a Wonderful Life','Hollywood',1946,'8.6','Liberty Films',5),\n",
    "        (119,'Avatar','Hollywood',2009,'7.8','20th Century Fox',5),\n",
    "        (120,'The Godfather','Hollywood',1972,'9.2','Paramount Pictures',5),\n",
    "        (121,'The Dark Knight','Hollywood',2008,'9','Syncopy',5),\n",
    "        (122,'Schindler''s List','Hollywood',1993,'9','Universal Pictures',5),\n",
    "        (123,'Jurassic Park','Hollywood',1993,'8.2','Universal Pictures',5),\n",
    "        (124,'Parasite','Hollywood',2019,'8.5',NULL,5),\n",
    "        (125,'Avengers: Endgame','Hollywood',2019,'8.4','Marvel Studios',5),\n",
    "        (126,'Avengers: Infinity War','Hollywood',2018,'8.4','Marvel Studios',5),\n",
    "        (127,'Pather Panchali','Bollywood',1955,'8.3','Government of West Bengal',7),\n",
    "        (128,'Taare Zameen Par','Bollywood',2007,'8.3',NULL,1),\n",
    "        (129,'Munna Bhai M.B.B.S.','Bollywood',2003,'8.1','Vinod Chopra Productions',1),\n",
    "        (130,'PK','Bollywood',2014,'8.1','Vinod Chopra Films',1),\n",
    "        (131,'Sanju','Bollywood',2018,'NULL','Vinod Chopra Films',1),\n",
    "        (132,'Pushpa: The Rise - Part 1','Bollywood',2021,'7.6','Mythri Movie Makers',2),\n",
    "        (133,'RRR','Bollywood',2022,'8','DVV Entertainment',2),\n",
    "        (134,'Baahubali: The Beginning','Bollywood',2015,'8','Arka Media Works',2),\n",
    "        (135,'The Kashmir Files','Bollywood',2022,'8.3','Zee Studios',1),\n",
    "        (136,'Bajrangi Bhaijaan','Bollywood',2015,'8.1','Salman Khan Films',1),\n",
    "        (137,'Captain America: The First Avenger','Hollywood',2011,'6.9','Marvel Studios',5),\n",
    "        (138,'Captain America: The Winter Soldier','Hollywood',2014,'7.8','Marvel Studios',5),\n",
    "        (139,'Race 3','Bollywood',2018,'1.9','Salman Khan Films',1),\n",
    "        (140,'Shershaah','Bollywood',2021,'8.4','Dharma Productions',1)\n",
    "''')"
   ]
  },
  {
   "cell_type": "markdown",
   "metadata": {},
   "source": [
    "#### Commit Queries\n"
   ]
  },
  {
   "cell_type": "code",
   "execution_count": 9,
   "metadata": {},
   "outputs": [],
   "source": [
    "conn.commit()"
   ]
  },
  {
   "cell_type": "markdown",
   "metadata": {},
   "source": [
    "#### Close the Cursor and Connection\n"
   ]
  },
  {
   "cell_type": "code",
   "execution_count": 10,
   "metadata": {},
   "outputs": [],
   "source": [
    "cur.close()\n",
    "conn.close()"
   ]
  }
 ],
 "metadata": {
  "kernelspec": {
   "display_name": ".venv",
   "language": "python",
   "name": "python3"
  },
  "language_info": {
   "codemirror_mode": {
    "name": "ipython",
    "version": 3
   },
   "file_extension": ".py",
   "mimetype": "text/x-python",
   "name": "python",
   "nbconvert_exporter": "python",
   "pygments_lexer": "ipython3",
   "version": "3.12.3"
  }
 },
 "nbformat": 4,
 "nbformat_minor": 2
}
