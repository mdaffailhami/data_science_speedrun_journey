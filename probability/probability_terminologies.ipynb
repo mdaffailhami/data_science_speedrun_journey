{
 "cells": [
  {
   "cell_type": "markdown",
   "metadata": {},
   "source": [
    "# Probability\n",
    "\n",
    "Probability is the measure of how likely an event will occur.\n",
    "\n",
    "- Probability is the ratio of desired outcomes to total outcomes: $ \\frac{desired\\ outcomes}{total\\ outcomes} $\n",
    "- Probabilities of all outcomes always stay between 0 and 1 **(0 <= outcomes <= 1)**\n",
    "\n",
    "**Example:**\n",
    "\n",
    "- On rolling a dice, you get 6 possible outcomes\n",
    "- Each possibility only has one outcome, so each has a probability of $ \\frac{1}{6} $\n",
    "- For example, the probability of getting a number 2 on the dice is $ \\frac{1}{6} $\n"
   ]
  },
  {
   "cell_type": "markdown",
   "metadata": {},
   "source": [
    "## Terminologies In Probability\n",
    "\n",
    "### 1. Random Experiment\n",
    "\n",
    "An experiment or a process for which the outcome cannot be predicted with certainty\n",
    "\n",
    "**Example:** Finding a probability of getting 2 when you roll a dice\n",
    "\n",
    "### 2. Sample Space\n",
    "\n",
    "The entire set of outcomes of a random experiment is the sample space(S) of that experiment\n",
    "\n",
    "**Example:** All the possible outcomes when you roll a dice (1 to 6 possibilities)\n",
    "\n",
    "### 3. Event\n",
    "\n",
    "One or more outcomes of an experiment. It is a subset of sample space(S)\n",
    "\n",
    "**Example:** Probability of getting 2 when you roll a dice\n",
    "\n",
    "**Types of Events**:\n",
    "\n",
    "![Types of Events](../assets/types_of_events.png)\n"
   ]
  }
 ],
 "metadata": {
  "language_info": {
   "name": "python"
  }
 },
 "nbformat": 4,
 "nbformat_minor": 2
}
