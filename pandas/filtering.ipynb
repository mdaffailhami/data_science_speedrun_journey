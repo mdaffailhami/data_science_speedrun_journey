{
 "cells": [
  {
   "cell_type": "markdown",
   "metadata": {},
   "source": [
    "## Filtering\n",
    "\n",
    "When filtering a Pandas DataFrame, both `df.loc` and `df.query` have their strengths and use cases. Here's a comparison to help you decide which one might be better suited for your needs:\n"
   ]
  },
  {
   "cell_type": "markdown",
   "metadata": {},
   "source": [
    "### **- df.loc[]**\n",
    "\n",
    "- **Usage**: `df.loc[]` is used for label-based indexing and is often employed for filtering using boolean masks.\n",
    "- **Syntax**:\n",
    "\n",
    "  ```python\n",
    "  df.loc[condition]\n",
    "  ```\n",
    "\n",
    "- **Advantages**:\n",
    "  - **Flexibility**: Can handle complex boolean expressions and multiple conditions using logical operators (`&`, `|`, `~`).\n",
    "  - **Readability**: Clear and explicit syntax for filtering, especially when combining multiple conditions.\n",
    "  - **Support for Indexing**: Allows you to filter and select specific rows and columns simultaneously.\n",
    "- **Disadvantages**:\n",
    "  - **Complex Expressions**: For very complex filtering conditions, it may become verbose and less readable.\n",
    "\n",
    "**Example**:\n",
    "\n",
    "```python\n",
    "import pandas as pd\n",
    "\n",
    "df = pd.DataFrame({\n",
    "    'Name': ['Alice', 'Bob', 'Charlie'],\n",
    "    'Age': [25, 30, 35]\n",
    "})\n",
    "\n",
    "# Filter with multiple conditions using df.loc\n",
    "filtered_df = df.loc[(df['Age'] > 25) & (df['Name'] != 'Charlie')]\n",
    "print(filtered_df)\n",
    "```\n"
   ]
  },
  {
   "cell_type": "markdown",
   "metadata": {},
   "source": [
    "### **- df.query()**\n",
    "\n",
    "- **Usage**: `df.query()` allows you to filter rows using a query string expression.\n",
    "- **Syntax**:\n",
    "\n",
    "  ```python\n",
    "  df.query('condition')\n",
    "  ```\n",
    "\n",
    "- **Advantages**:\n",
    "\n",
    "  - **Readability**: Query strings can be more readable and concise, especially for complex conditions.\n",
    "  - **Python Expressions**: Allows using Python-like expressions directly in the query string.\n",
    "  - **Convenience**: Can be easier to use when dealing with multiple conditions in a readable format.\n",
    "\n",
    "- **Disadvantages**:\n",
    "  - **Performance**: For very large DataFrames or complex queries, it might be slightly less performant compared to boolean indexing.\n",
    "  - **Variable Scope**: Variables used in the query string need to be defined in the DataFrame or passed explicitly.\n",
    "\n",
    "**Example**:\n",
    "\n",
    "```python\n",
    "import pandas as pd\n",
    "\n",
    "df = pd.DataFrame({\n",
    "    'Name': ['Alice', 'Bob', 'Charlie'],\n",
    "    'Age': [25, 30, 35]\n",
    "})\n",
    "\n",
    "# Filter using df.query\n",
    "filtered_df = df.query('Age > 25 and Name != \"Charlie\"')\n",
    "print(filtered_df)\n",
    "```\n"
   ]
  },
  {
   "cell_type": "markdown",
   "metadata": {},
   "source": [
    "### **- Summary**\n",
    "\n",
    "- **Use `df.loc`** if you need:\n",
    "\n",
    "  - Explicit control over indexing and selection.\n",
    "  - Complex boolean expressions with multiple conditions.\n",
    "  - To select both rows and columns.\n",
    "\n",
    "- **Use `df.query`** if you prefer:\n",
    "  - A more concise and readable syntax for filtering.\n",
    "  - Python-like expressions for complex conditions.\n",
    "  - Simpler and cleaner code when filtering based on conditions.\n",
    "\n",
    "Ultimately, the choice depends on your specific use case and personal preference. Both methods are powerful and can be used effectively for filtering data in a Pandas DataFrame.\n"
   ]
  },
  {
   "cell_type": "code",
   "execution_count": 31,
   "metadata": {},
   "outputs": [],
   "source": [
    "import pandas as pd"
   ]
  },
  {
   "cell_type": "code",
   "execution_count": 32,
   "metadata": {},
   "outputs": [
    {
     "data": {
      "text/html": [
       "<div>\n",
       "<style scoped>\n",
       "    .dataframe tbody tr th:only-of-type {\n",
       "        vertical-align: middle;\n",
       "    }\n",
       "\n",
       "    .dataframe tbody tr th {\n",
       "        vertical-align: top;\n",
       "    }\n",
       "\n",
       "    .dataframe thead th {\n",
       "        text-align: right;\n",
       "    }\n",
       "</style>\n",
       "<table border=\"1\" class=\"dataframe\">\n",
       "  <thead>\n",
       "    <tr style=\"text-align: right;\">\n",
       "      <th></th>\n",
       "      <th>max_speed</th>\n",
       "      <th>shield</th>\n",
       "    </tr>\n",
       "  </thead>\n",
       "  <tbody>\n",
       "    <tr>\n",
       "      <th>cobra</th>\n",
       "      <td>1</td>\n",
       "      <td>2</td>\n",
       "    </tr>\n",
       "    <tr>\n",
       "      <th>viper</th>\n",
       "      <td>4</td>\n",
       "      <td>5</td>\n",
       "    </tr>\n",
       "    <tr>\n",
       "      <th>sidewinder</th>\n",
       "      <td>7</td>\n",
       "      <td>8</td>\n",
       "    </tr>\n",
       "  </tbody>\n",
       "</table>\n",
       "</div>"
      ],
      "text/plain": [
       "            max_speed  shield\n",
       "cobra               1       2\n",
       "viper               4       5\n",
       "sidewinder          7       8"
      ]
     },
     "execution_count": 32,
     "metadata": {},
     "output_type": "execute_result"
    }
   ],
   "source": [
    "df = pd.DataFrame(\n",
    "    [[1, 2], [4, 5], [7, 8]],\n",
    "    index=['cobra', 'viper', 'sidewinder'],\n",
    "    columns=['max_speed', 'shield']\n",
    ")\n",
    "\n",
    "df"
   ]
  },
  {
   "cell_type": "markdown",
   "metadata": {},
   "source": [
    "#### Single expression\n"
   ]
  },
  {
   "cell_type": "code",
   "execution_count": 33,
   "metadata": {},
   "outputs": [
    {
     "data": {
      "text/html": [
       "<div>\n",
       "<style scoped>\n",
       "    .dataframe tbody tr th:only-of-type {\n",
       "        vertical-align: middle;\n",
       "    }\n",
       "\n",
       "    .dataframe tbody tr th {\n",
       "        vertical-align: top;\n",
       "    }\n",
       "\n",
       "    .dataframe thead th {\n",
       "        text-align: right;\n",
       "    }\n",
       "</style>\n",
       "<table border=\"1\" class=\"dataframe\">\n",
       "  <thead>\n",
       "    <tr style=\"text-align: right;\">\n",
       "      <th></th>\n",
       "      <th>max_speed</th>\n",
       "      <th>shield</th>\n",
       "    </tr>\n",
       "  </thead>\n",
       "  <tbody>\n",
       "    <tr>\n",
       "      <th>viper</th>\n",
       "      <td>4</td>\n",
       "      <td>5</td>\n",
       "    </tr>\n",
       "    <tr>\n",
       "      <th>sidewinder</th>\n",
       "      <td>7</td>\n",
       "      <td>8</td>\n",
       "    </tr>\n",
       "  </tbody>\n",
       "</table>\n",
       "</div>"
      ],
      "text/plain": [
       "            max_speed  shield\n",
       "viper               4       5\n",
       "sidewinder          7       8"
      ]
     },
     "execution_count": 33,
     "metadata": {},
     "output_type": "execute_result"
    }
   ],
   "source": [
    "df.query('shield > 4')\n",
    "# ===\n",
    "df.loc[df['shield'] > 4]"
   ]
  },
  {
   "cell_type": "markdown",
   "metadata": {},
   "source": [
    "#### Multiple expressions\n"
   ]
  },
  {
   "cell_type": "code",
   "execution_count": 34,
   "metadata": {},
   "outputs": [
    {
     "data": {
      "text/html": [
       "<div>\n",
       "<style scoped>\n",
       "    .dataframe tbody tr th:only-of-type {\n",
       "        vertical-align: middle;\n",
       "    }\n",
       "\n",
       "    .dataframe tbody tr th {\n",
       "        vertical-align: top;\n",
       "    }\n",
       "\n",
       "    .dataframe thead th {\n",
       "        text-align: right;\n",
       "    }\n",
       "</style>\n",
       "<table border=\"1\" class=\"dataframe\">\n",
       "  <thead>\n",
       "    <tr style=\"text-align: right;\">\n",
       "      <th></th>\n",
       "      <th>max_speed</th>\n",
       "      <th>shield</th>\n",
       "    </tr>\n",
       "  </thead>\n",
       "  <tbody>\n",
       "    <tr>\n",
       "      <th>viper</th>\n",
       "      <td>4</td>\n",
       "      <td>5</td>\n",
       "    </tr>\n",
       "  </tbody>\n",
       "</table>\n",
       "</div>"
      ],
      "text/plain": [
       "       max_speed  shield\n",
       "viper          4       5"
      ]
     },
     "execution_count": 34,
     "metadata": {},
     "output_type": "execute_result"
    }
   ],
   "source": [
    "df.query('shield > 4 and shield < 7')\n",
    "# ===\n",
    "df.query('4 < shield < 7')\n",
    "# ===\n",
    "df.loc[(df['shield'] > 4) & (df['shield'] < 7)]"
   ]
  },
  {
   "cell_type": "markdown",
   "metadata": {},
   "source": [
    "#### Specific columns\n"
   ]
  },
  {
   "cell_type": "code",
   "execution_count": 35,
   "metadata": {},
   "outputs": [
    {
     "data": {
      "text/html": [
       "<div>\n",
       "<style scoped>\n",
       "    .dataframe tbody tr th:only-of-type {\n",
       "        vertical-align: middle;\n",
       "    }\n",
       "\n",
       "    .dataframe tbody tr th {\n",
       "        vertical-align: top;\n",
       "    }\n",
       "\n",
       "    .dataframe thead th {\n",
       "        text-align: right;\n",
       "    }\n",
       "</style>\n",
       "<table border=\"1\" class=\"dataframe\">\n",
       "  <thead>\n",
       "    <tr style=\"text-align: right;\">\n",
       "      <th></th>\n",
       "      <th>shield</th>\n",
       "    </tr>\n",
       "  </thead>\n",
       "  <tbody>\n",
       "    <tr>\n",
       "      <th>viper</th>\n",
       "      <td>5</td>\n",
       "    </tr>\n",
       "  </tbody>\n",
       "</table>\n",
       "</div>"
      ],
      "text/plain": [
       "       shield\n",
       "viper       5"
      ]
     },
     "execution_count": 35,
     "metadata": {},
     "output_type": "execute_result"
    }
   ],
   "source": [
    "df.query('4 < shield < 7').loc[:, ['shield']]\n",
    "# ===\n",
    "df.loc[(df['shield'] > 4) & (df['shield'] < 7), ['shield']]"
   ]
  }
 ],
 "metadata": {
  "kernelspec": {
   "display_name": ".venv",
   "language": "python",
   "name": "python3"
  },
  "language_info": {
   "codemirror_mode": {
    "name": "ipython",
    "version": 3
   },
   "file_extension": ".py",
   "mimetype": "text/x-python",
   "name": "python",
   "nbconvert_exporter": "python",
   "pygments_lexer": "ipython3",
   "version": "3.12.3"
  }
 },
 "nbformat": 4,
 "nbformat_minor": 2
}
