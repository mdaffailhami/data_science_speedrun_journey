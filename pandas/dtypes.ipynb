{
 "cells": [
  {
   "cell_type": "markdown",
   "metadata": {},
   "source": [
    "# DTypes\n"
   ]
  },
  {
   "cell_type": "markdown",
   "metadata": {},
   "source": [
    "In Pandas, `dtype` stands for \"data type,\" and it refers to the type of data stored in a DataFrame or Series. Understanding `dtype` is crucial for effectively managing and analyzing data, as it determines how Pandas interprets and operates on the data.\n",
    "\n",
    "### Key Points About `dtype`:\n",
    "\n",
    "1. **Data Type Identification**:\n",
    "\n",
    "   - **DataFrame**: You can check the data types of each column in a DataFrame using the `dtypes` attribute.\n",
    "   - **Series**: Each Series has a single data type, which you can check using the `dtype` attribute.\n",
    "\n",
    "2. **Common Data Types**:\n",
    "\n",
    "   - **Integer**: `int64`, `int32`, etc.\n",
    "   - **Float**: `float64`, `float32`, etc.\n",
    "   - **Object**: This is a generic data type often used for strings or mixed types.\n",
    "   - **Datetime**: `datetime64[ns]` for date and time information.\n",
    "   - **Boolean**: `bool` for True/False values.\n",
    "   - **Category**: `category` for categorical data with a fixed number of possible values.\n",
    "\n",
    "3. **Setting Data Types**:\n",
    "\n",
    "   - **Explicit Conversion**: You can convert the data type of a column using the `astype()` method.\n",
    "     ```python\n",
    "     df['column_name'] = df['column_name'].astype('float64')\n",
    "     ```\n",
    "\n",
    "4. **Default Data Types**:\n",
    "\n",
    "   - Pandas often infers data types based on the data provided. For example, numeric columns are typically inferred as `float64` or `int64`, while text columns are inferred as `object`.\n",
    "\n",
    "5. **Handling Missing Data**:\n",
    "   - Missing data is represented by `NaN` (Not a Number) for numeric types and `None` for object types.\n"
   ]
  },
  {
   "cell_type": "code",
   "execution_count": 1,
   "metadata": {},
   "outputs": [],
   "source": [
    "import pandas as pd"
   ]
  },
  {
   "cell_type": "code",
   "execution_count": 2,
   "metadata": {},
   "outputs": [
    {
     "data": {
      "text/html": [
       "<div>\n",
       "<style scoped>\n",
       "    .dataframe tbody tr th:only-of-type {\n",
       "        vertical-align: middle;\n",
       "    }\n",
       "\n",
       "    .dataframe tbody tr th {\n",
       "        vertical-align: top;\n",
       "    }\n",
       "\n",
       "    .dataframe thead th {\n",
       "        text-align: right;\n",
       "    }\n",
       "</style>\n",
       "<table border=\"1\" class=\"dataframe\">\n",
       "  <thead>\n",
       "    <tr style=\"text-align: right;\">\n",
       "      <th></th>\n",
       "      <th>A</th>\n",
       "      <th>B</th>\n",
       "      <th>C</th>\n",
       "      <th>D</th>\n",
       "      <th>E</th>\n",
       "      <th>F</th>\n",
       "    </tr>\n",
       "  </thead>\n",
       "  <tbody>\n",
       "    <tr>\n",
       "      <th>0</th>\n",
       "      <td>1</td>\n",
       "      <td>1.1</td>\n",
       "      <td>Daffa Ilhami</td>\n",
       "      <td>b</td>\n",
       "      <td>2024-01-01</td>\n",
       "      <td>True</td>\n",
       "    </tr>\n",
       "    <tr>\n",
       "      <th>1</th>\n",
       "      <td>2</td>\n",
       "      <td>2.2</td>\n",
       "      <td>Imanima</td>\n",
       "      <td>a</td>\n",
       "      <td>2024-01-02</td>\n",
       "      <td>False</td>\n",
       "    </tr>\n",
       "    <tr>\n",
       "      <th>2</th>\n",
       "      <td>3</td>\n",
       "      <td>3.3</td>\n",
       "      <td>UWU</td>\n",
       "      <td>c</td>\n",
       "      <td>2024-01-03</td>\n",
       "      <td>True</td>\n",
       "    </tr>\n",
       "  </tbody>\n",
       "</table>\n",
       "</div>"
      ],
      "text/plain": [
       "   A    B             C  D          E      F\n",
       "0  1  1.1  Daffa Ilhami  b 2024-01-01   True\n",
       "1  2  2.2       Imanima  a 2024-01-02  False\n",
       "2  3  3.3           UWU  c 2024-01-03   True"
      ]
     },
     "execution_count": 2,
     "metadata": {},
     "output_type": "execute_result"
    }
   ],
   "source": [
    "df = pd.DataFrame({\n",
    "    'A': [1, 2, 3],\n",
    "    'B': [1.1, 2.2, 3.3],\n",
    "    'C': ['Daffa Ilhami', 'Imanima', 'UWU'],\n",
    "    'D': ['b', 'a', 'c'],\n",
    "    'E': [pd.Timestamp('2024-01-01'), pd.Timestamp('2024-01-02'), pd.Timestamp('2024-01-03')],\n",
    "    'F': [True, False, True]\n",
    "})\n",
    "\n",
    "df"
   ]
  },
  {
   "cell_type": "markdown",
   "metadata": {},
   "source": [
    "#### Checking DTypes\n"
   ]
  },
  {
   "cell_type": "code",
   "execution_count": 3,
   "metadata": {},
   "outputs": [
    {
     "data": {
      "text/plain": [
       "A             int64\n",
       "B           float64\n",
       "C            object\n",
       "D            object\n",
       "E    datetime64[ns]\n",
       "F              bool\n",
       "dtype: object"
      ]
     },
     "execution_count": 3,
     "metadata": {},
     "output_type": "execute_result"
    }
   ],
   "source": [
    "df.dtypes"
   ]
  },
  {
   "cell_type": "markdown",
   "metadata": {},
   "source": [
    "#### Converting DTypes of a DataFrame\n"
   ]
  },
  {
   "cell_type": "code",
   "execution_count": null,
   "metadata": {},
   "outputs": [
    {
     "data": {
      "text/plain": [
       "A           float32\n",
       "B             int32\n",
       "C            object\n",
       "D            object\n",
       "E    datetime64[ns]\n",
       "F              bool\n",
       "dtype: object"
      ]
     },
     "metadata": {},
     "output_type": "display_data"
    },
    {
     "data": {
      "text/html": [
       "<div>\n",
       "<style scoped>\n",
       "    .dataframe tbody tr th:only-of-type {\n",
       "        vertical-align: middle;\n",
       "    }\n",
       "\n",
       "    .dataframe tbody tr th {\n",
       "        vertical-align: top;\n",
       "    }\n",
       "\n",
       "    .dataframe thead th {\n",
       "        text-align: right;\n",
       "    }\n",
       "</style>\n",
       "<table border=\"1\" class=\"dataframe\">\n",
       "  <thead>\n",
       "    <tr style=\"text-align: right;\">\n",
       "      <th></th>\n",
       "      <th>A</th>\n",
       "      <th>B</th>\n",
       "      <th>C</th>\n",
       "      <th>D</th>\n",
       "      <th>E</th>\n",
       "      <th>F</th>\n",
       "    </tr>\n",
       "  </thead>\n",
       "  <tbody>\n",
       "    <tr>\n",
       "      <th>0</th>\n",
       "      <td>1.0</td>\n",
       "      <td>1</td>\n",
       "      <td>Daffa Ilhami</td>\n",
       "      <td>b</td>\n",
       "      <td>2024-01-01</td>\n",
       "      <td>True</td>\n",
       "    </tr>\n",
       "    <tr>\n",
       "      <th>1</th>\n",
       "      <td>2.0</td>\n",
       "      <td>2</td>\n",
       "      <td>Imanima</td>\n",
       "      <td>a</td>\n",
       "      <td>2024-01-02</td>\n",
       "      <td>False</td>\n",
       "    </tr>\n",
       "    <tr>\n",
       "      <th>2</th>\n",
       "      <td>3.0</td>\n",
       "      <td>3</td>\n",
       "      <td>UWU</td>\n",
       "      <td>c</td>\n",
       "      <td>2024-01-03</td>\n",
       "      <td>True</td>\n",
       "    </tr>\n",
       "  </tbody>\n",
       "</table>\n",
       "</div>"
      ],
      "text/plain": [
       "     A  B             C  D          E      F\n",
       "0  1.0  1  Daffa Ilhami  b 2024-01-01   True\n",
       "1  2.0  2       Imanima  a 2024-01-02  False\n",
       "2  3.0  3           UWU  c 2024-01-03   True"
      ]
     },
     "metadata": {},
     "output_type": "display_data"
    }
   ],
   "source": [
    "# Convert all columns\n",
    "# # df.astype('int32')\n",
    "\n",
    "# Convert specific columns\n",
    "a = df.astype({'A': 'float32', 'B': 'int32'})\n",
    "\n",
    "display(a.dtypes)\n",
    "display(a)"
   ]
  }
 ],
 "metadata": {
  "kernelspec": {
   "display_name": ".venv",
   "language": "python",
   "name": "python3"
  },
  "language_info": {
   "codemirror_mode": {
    "name": "ipython",
    "version": 3
   },
   "file_extension": ".py",
   "mimetype": "text/x-python",
   "name": "python",
   "nbconvert_exporter": "python",
   "pygments_lexer": "ipython3",
   "version": "3.12.3"
  }
 },
 "nbformat": 4,
 "nbformat_minor": 2
}
