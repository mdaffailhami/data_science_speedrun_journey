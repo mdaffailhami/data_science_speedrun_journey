{
 "cells": [
  {
   "cell_type": "markdown",
   "metadata": {},
   "source": [
    "# DTypes\n"
   ]
  },
  {
   "cell_type": "markdown",
   "metadata": {},
   "source": [
    "In Pandas, `dtype` stands for \"data type,\" and it refers to the type of data stored in a DataFrame or Series. Understanding `dtype` is crucial for effectively managing and analyzing data, as it determines how Pandas interprets and operates on the data.\n",
    "\n",
    "### Key Points About `dtype`:\n",
    "\n",
    "1. **Data Type Identification**:\n",
    "\n",
    "   - **DataFrame**: You can check the data types of each column in a DataFrame using the `dtypes` attribute.\n",
    "   - **Series**: Each Series has a single data type, which you can check using the `dtype` attribute.\n",
    "\n",
    "2. **Common Data Types**:\n",
    "\n",
    "   - **Integer**: `int64`, `int32`, etc.\n",
    "   - **Float**: `float64`, `float32`, etc.\n",
    "   - **Object**: This is a generic data type often used for strings or mixed types.\n",
    "   - **Datetime**: `datetime64[ns]` for date and time information.\n",
    "   - **Boolean**: `bool` for True/False values.\n",
    "   - **Category**: `category` for categorical data with a fixed number of possible values.\n",
    "\n",
    "3. **Setting Data Types**:\n",
    "\n",
    "   - **Explicit Conversion**: You can convert the data type of a column using the `astype()` method.\n",
    "     ```python\n",
    "     df['column_name'] = df['column_name'].astype('float64')\n",
    "     ```\n",
    "\n",
    "4. **Default Data Types**:\n",
    "\n",
    "   - Pandas often infers data types based on the data provided. For example, numeric columns are typically inferred as `float64` or `int64`, while text columns are inferred as `object`.\n",
    "\n",
    "5. **Handling Missing Data**:\n",
    "   - Missing data is represented by `NaN` (Not a Number) for numeric types and `None` for object types.\n"
   ]
  }
 ],
 "metadata": {
  "kernelspec": {
   "display_name": ".venv",
   "language": "python",
   "name": "python3"
  },
  "language_info": {
   "codemirror_mode": {
    "name": "ipython",
    "version": 3
   },
   "file_extension": ".py",
   "mimetype": "text/x-python",
   "name": "python",
   "nbconvert_exporter": "python",
   "pygments_lexer": "ipython3",
   "version": "3.12.3"
  }
 },
 "nbformat": 4,
 "nbformat_minor": 2
}
