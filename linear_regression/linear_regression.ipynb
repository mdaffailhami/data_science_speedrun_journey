{
 "cells": [
  {
   "cell_type": "code",
   "execution_count": 437,
   "metadata": {},
   "outputs": [],
   "source": [
    "import os\n",
    "import polars as pl\n",
    "import numpy as np\n",
    "import altair as alt"
   ]
  },
  {
   "cell_type": "code",
   "execution_count": 438,
   "metadata": {},
   "outputs": [
    {
     "name": "stdout",
     "output_type": "stream",
     "text": [
      "file exists\n"
     ]
    },
    {
     "data": {
      "text/html": [
       "<div><style>\n",
       ".dataframe > thead > tr,\n",
       ".dataframe > tbody > tr {\n",
       "  text-align: right;\n",
       "  white-space: pre-wrap;\n",
       "}\n",
       "</style>\n",
       "<small>shape: (140, 2)</small><table border=\"1\" class=\"dataframe\"><thead><tr><th>length</th><th>price</th></tr><tr><td>f64</td><td>f64</td></tr></thead><tbody><tr><td>2.0</td><td>10.0</td></tr><tr><td>4.0</td><td>20.0</td></tr><tr><td>7.0</td><td>35.0</td></tr><tr><td>8.0</td><td>42.0</td></tr><tr><td>12.0</td><td>65.0</td></tr><tr><td>&hellip;</td><td>&hellip;</td></tr><tr><td>1.0</td><td>3.581081</td></tr><tr><td>4.0</td><td>20.091216</td></tr><tr><td>1.0</td><td>3.581081</td></tr><tr><td>6.0</td><td>31.097973</td></tr><tr><td>3.0</td><td>14.587838</td></tr></tbody></table></div>"
      ],
      "text/plain": [
       "shape: (140, 2)\n",
       "┌────────┬───────────┐\n",
       "│ length ┆ price     │\n",
       "│ ---    ┆ ---       │\n",
       "│ f64    ┆ f64       │\n",
       "╞════════╪═══════════╡\n",
       "│ 2.0    ┆ 10.0      │\n",
       "│ 4.0    ┆ 20.0      │\n",
       "│ 7.0    ┆ 35.0      │\n",
       "│ 8.0    ┆ 42.0      │\n",
       "│ 12.0   ┆ 65.0      │\n",
       "│ …      ┆ …         │\n",
       "│ 1.0    ┆ 3.581081  │\n",
       "│ 4.0    ┆ 20.091216 │\n",
       "│ 1.0    ┆ 3.581081  │\n",
       "│ 6.0    ┆ 31.097973 │\n",
       "│ 3.0    ┆ 14.587838 │\n",
       "└────────┴───────────┘"
      ]
     },
     "execution_count": 438,
     "metadata": {},
     "output_type": "execute_result"
    }
   ],
   "source": [
    "if os.path.exists(\"./price_prediction_by_length.csv\"):\n",
    "    print('file exists')\n",
    "    df = pl.read_csv(\"price_prediction_by_length.csv\")\n",
    "else:\n",
    "    df = pl.DataFrame({\n",
    "        'length': [2, 4, 7, 8, 12],\n",
    "        'price': [10, 20, 35, 42, 65],\n",
    "    }).with_columns(pl.col(\"length\").cast(pl.Float64), pl.col(\"price\").cast(pl.Float64))\n",
    "\n",
    "df"
   ]
  },
  {
   "cell_type": "code",
   "execution_count": 439,
   "metadata": {},
   "outputs": [],
   "source": [
    "n = len(df)\n",
    "sum_x = df[\"length\"].sum()\n",
    "sum_y = df[\"price\"].sum()\n",
    "sum_xy = (df[\"length\"] * df[\"price\"]).sum()\n",
    "sum_x_squared = (df[\"length\"] ** 2).sum()"
   ]
  },
  {
   "cell_type": "code",
   "execution_count": 440,
   "metadata": {},
   "outputs": [],
   "source": [
    "# Calculating the slope (m)\n",
    "m = (n * sum_xy - sum_x * sum_y) / (n * sum_x_squared - sum_x ** 2)"
   ]
  },
  {
   "cell_type": "code",
   "execution_count": 441,
   "metadata": {},
   "outputs": [],
   "source": [
    "# Calculating the intercept (b)\n",
    "b = (sum_y - m * sum_x) / n"
   ]
  },
  {
   "cell_type": "code",
   "execution_count": 442,
   "metadata": {},
   "outputs": [
    {
     "name": "stdout",
     "output_type": "stream",
     "text": [
      "Slope (m): 5.503378378378375\n",
      "Intercept (b): -1.922297297297278\n"
     ]
    }
   ],
   "source": [
    "# Step 3: Print out the slope and intercept\n",
    "print(f\"Slope (m): {m}\")\n",
    "print(f\"Intercept (b): {b}\")"
   ]
  },
  {
   "cell_type": "markdown",
   "metadata": {},
   "source": [
    "### Predict the price based on length\n"
   ]
  },
  {
   "cell_type": "code",
   "execution_count": 443,
   "metadata": {},
   "outputs": [],
   "source": [
    "# # Formula: y = m * x + b\n",
    "# x = float(input(\"Enter the length: \"))\n",
    "# y = m * x + b\n",
    "\n",
    "# print(f\"Predicted price: {y}\")"
   ]
  },
  {
   "cell_type": "markdown",
   "metadata": {},
   "source": [
    "### Export the new data\n"
   ]
  },
  {
   "cell_type": "code",
   "execution_count": 444,
   "metadata": {},
   "outputs": [],
   "source": [
    "# df = df.vstack(pl.DataFrame({'length': [x], 'price': [y]}))\n",
    "# display(df)\n",
    "\n",
    "# # Export\n",
    "# df.write_csv('price_prediction_by_length.csv')"
   ]
  },
  {
   "cell_type": "code",
   "execution_count": 445,
   "metadata": {},
   "outputs": [
    {
     "name": "stdout",
     "output_type": "stream",
     "text": [
      "[ 3  6  4  6 10  3 10  5  2 10  6  7  1  6  5  6  4  4  8  3  4  6  1  8\n",
      "  7  4 10  7  1  4  8 10 10  9  7  3  6  8  2  9  3  5  9  6  8]\n"
     ]
    }
   ],
   "source": [
    "def get_prediction(x) -> tuple:\n",
    "    y = m * x + b\n",
    "\n",
    "    return (np.float64(x), y)\n",
    "\n",
    "\n",
    "numbers = np.random.randint(1, 11, 45)\n",
    "\n",
    "rows = []\n",
    "\n",
    "for number in numbers:\n",
    "    x, y = get_prediction(number)\n",
    "    rows.append((x, y))\n",
    "\n",
    "df = df.vstack(pl.DataFrame(rows, schema=['length', 'price'], orient='row'))\n",
    "\n",
    "# Export\n",
    "df.write_csv('price_prediction_by_length.csv')\n",
    "print(numbers)"
   ]
  },
  {
   "cell_type": "code",
   "execution_count": 446,
   "metadata": {},
   "outputs": [],
   "source": [
    "# n = len(df)\n",
    "# sum_x = df[\"length\"].sum()\n",
    "# sum_y = df[\"price\"].sum()\n",
    "# sum_xy = (df[\"length\"] * df[\"price\"]).sum()\n",
    "# sum_x_squared = (df[\"length\"] ** 2).sum()\n",
    "\n",
    "# # Slope (m)\n",
    "# m = (n * sum_xy - sum_x * sum_y) / (n * sum_x_squared - sum_x ** 2)\n",
    "\n",
    "# # Intercept (b)\n",
    "# b = (sum_y - m * sum_x) / n\n",
    "\n",
    "# line_df = pl.DataFrame({'m': [m], 'b': [b]})\n",
    "# line_df"
   ]
  },
  {
   "cell_type": "code",
   "execution_count": 448,
   "metadata": {},
   "outputs": [
    {
     "data": {
      "text/html": [
       "\n",
       "<style>\n",
       "  #altair-viz-e1d6eae6239f409ba9843fccd7d8b0f0.vega-embed {\n",
       "    width: 100%;\n",
       "    display: flex;\n",
       "  }\n",
       "\n",
       "  #altair-viz-e1d6eae6239f409ba9843fccd7d8b0f0.vega-embed details,\n",
       "  #altair-viz-e1d6eae6239f409ba9843fccd7d8b0f0.vega-embed details summary {\n",
       "    position: relative;\n",
       "  }\n",
       "</style>\n",
       "<div id=\"altair-viz-e1d6eae6239f409ba9843fccd7d8b0f0\"></div>\n",
       "<script type=\"text/javascript\">\n",
       "  var VEGA_DEBUG = (typeof VEGA_DEBUG == \"undefined\") ? {} : VEGA_DEBUG;\n",
       "  (function(spec, embedOpt){\n",
       "    let outputDiv = document.currentScript.previousElementSibling;\n",
       "    if (outputDiv.id !== \"altair-viz-e1d6eae6239f409ba9843fccd7d8b0f0\") {\n",
       "      outputDiv = document.getElementById(\"altair-viz-e1d6eae6239f409ba9843fccd7d8b0f0\");\n",
       "    }\n",
       "    const paths = {\n",
       "      \"vega\": \"https://cdn.jsdelivr.net/npm/vega@5?noext\",\n",
       "      \"vega-lib\": \"https://cdn.jsdelivr.net/npm/vega-lib?noext\",\n",
       "      \"vega-lite\": \"https://cdn.jsdelivr.net/npm/vega-lite@5.20.1?noext\",\n",
       "      \"vega-embed\": \"https://cdn.jsdelivr.net/npm/vega-embed@6?noext\",\n",
       "    };\n",
       "\n",
       "    function maybeLoadScript(lib, version) {\n",
       "      var key = `${lib.replace(\"-\", \"\")}_version`;\n",
       "      return (VEGA_DEBUG[key] == version) ?\n",
       "        Promise.resolve(paths[lib]) :\n",
       "        new Promise(function(resolve, reject) {\n",
       "          var s = document.createElement('script');\n",
       "          document.getElementsByTagName(\"head\")[0].appendChild(s);\n",
       "          s.async = true;\n",
       "          s.onload = () => {\n",
       "            VEGA_DEBUG[key] = version;\n",
       "            return resolve(paths[lib]);\n",
       "          };\n",
       "          s.onerror = () => reject(`Error loading script: ${paths[lib]}`);\n",
       "          s.src = paths[lib];\n",
       "        });\n",
       "    }\n",
       "\n",
       "    function showError(err) {\n",
       "      outputDiv.innerHTML = `<div class=\"error\" style=\"color:red;\">${err}</div>`;\n",
       "      throw err;\n",
       "    }\n",
       "\n",
       "    function displayChart(vegaEmbed) {\n",
       "      vegaEmbed(outputDiv, spec, embedOpt)\n",
       "        .catch(err => showError(`Javascript Error: ${err.message}<br>This usually means there's a typo in your chart specification. See the javascript console for the full traceback.`));\n",
       "    }\n",
       "\n",
       "    if(typeof define === \"function\" && define.amd) {\n",
       "      requirejs.config({paths});\n",
       "      require([\"vega-embed\"], displayChart, err => showError(`Error loading script: ${err.message}`));\n",
       "    } else {\n",
       "      maybeLoadScript(\"vega\", \"5\")\n",
       "        .then(() => maybeLoadScript(\"vega-lite\", \"5.20.1\"))\n",
       "        .then(() => maybeLoadScript(\"vega-embed\", \"6\"))\n",
       "        .catch(showError)\n",
       "        .then(() => displayChart(vegaEmbed));\n",
       "    }\n",
       "  })({\"config\": {\"view\": {\"continuousWidth\": 300, \"continuousHeight\": 300}}, \"data\": {\"name\": \"data-2c563910bb68b72dcd6d33be08eee3e7\"}, \"mark\": {\"type\": \"circle\"}, \"encoding\": {\"tooltip\": [{\"field\": \"length\", \"type\": \"quantitative\"}, {\"field\": \"price\", \"type\": \"quantitative\"}], \"x\": {\"field\": \"length\", \"sort\": \"x\"}, \"y\": {\"field\": \"price\", \"type\": \"quantitative\"}}, \"width\": 1000, \"$schema\": \"https://vega.github.io/schema/vega-lite/v5.20.1.json\", \"datasets\": {\"data-2c563910bb68b72dcd6d33be08eee3e7\": [{\"length\": 2.0, \"price\": 10.0}, {\"length\": 4.0, \"price\": 20.0}, {\"length\": 7.0, \"price\": 35.0}, {\"length\": 8.0, \"price\": 42.0}, {\"length\": 12.0, \"price\": 65.0}, {\"length\": 4.0, \"price\": 20.091216216216214}, {\"length\": 1.0, \"price\": 3.581081081081081}, {\"length\": 8.0, \"price\": 42.104729729729726}, {\"length\": 4.0, \"price\": 20.091216216216214}, {\"length\": 8.0, \"price\": 42.104729729729726}, {\"length\": 9.0, \"price\": 47.608108108108105}, {\"length\": 2.0, \"price\": 9.08445945945946}, {\"length\": 5.0, \"price\": 25.594594594594593}, {\"length\": 6.0, \"price\": 31.09797297297297}, {\"length\": 4.0, \"price\": 20.091216216216214}, {\"length\": 2.0, \"price\": 9.08445945945946}, {\"length\": 8.0, \"price\": 42.104729729729726}, {\"length\": 4.0, \"price\": 20.091216216216214}, {\"length\": 2.0, \"price\": 9.08445945945946}, {\"length\": 10.0, \"price\": 53.111486486486484}, {\"length\": 1.0, \"price\": 3.581081081081081}, {\"length\": 10.0, \"price\": 53.111486486486484}, {\"length\": 9.0, \"price\": 47.608108108108105}, {\"length\": 5.0, \"price\": 25.594594594594593}, {\"length\": 4.0, \"price\": 20.091216216216214}, {\"length\": 8.0, \"price\": 42.104729729729726}, {\"length\": 9.0, \"price\": 47.608108108108105}, {\"length\": 4.0, \"price\": 20.091216216216214}, {\"length\": 1.0, \"price\": 3.581081081081081}, {\"length\": 5.0, \"price\": 25.594594594594593}, {\"length\": 10.0, \"price\": 53.111486486486484}, {\"length\": 1.0, \"price\": 3.581081081081081}, {\"length\": 4.0, \"price\": 20.091216216216214}, {\"length\": 9.0, \"price\": 47.608108108108105}, {\"length\": 10.0, \"price\": 53.111486486486484}, {\"length\": 9.0, \"price\": 47.608108108108105}, {\"length\": 9.0, \"price\": 47.608108108108105}, {\"length\": 10.0, \"price\": 53.111486486486484}, {\"length\": 3.0, \"price\": 14.587837837837837}, {\"length\": 2.0, \"price\": 9.08445945945946}, {\"length\": 5.0, \"price\": 25.594594594594593}, {\"length\": 7.0, \"price\": 36.60135135135135}, {\"length\": 5.0, \"price\": 25.594594594594593}, {\"length\": 10.0, \"price\": 53.111486486486484}, {\"length\": 3.0, \"price\": 14.587837837837837}, {\"length\": 9.0, \"price\": 47.608108108108105}, {\"length\": 3.0, \"price\": 14.587837837837837}, {\"length\": 9.0, \"price\": 47.608108108108105}, {\"length\": 9.0, \"price\": 47.608108108108105}, {\"length\": 5.0, \"price\": 25.594594594594593}, {\"length\": 5.0, \"price\": 25.59459459459459}, {\"length\": 3.0, \"price\": 14.587837837837824}, {\"length\": 4.0, \"price\": 20.091216216216207}, {\"length\": 10.0, \"price\": 53.111486486486505}, {\"length\": 10.0, \"price\": 53.111486486486505}, {\"length\": 9.0, \"price\": 47.60810810810813}, {\"length\": 9.0, \"price\": 47.60810810810813}, {\"length\": 2.0, \"price\": 9.084459459459438}, {\"length\": 4.0, \"price\": 20.091216216216207}, {\"length\": 1.0, \"price\": 3.581081081081056}, {\"length\": 9.0, \"price\": 47.60810810810813}, {\"length\": 8.0, \"price\": 42.10472972972974}, {\"length\": 9.0, \"price\": 47.60810810810813}, {\"length\": 3.0, \"price\": 14.587837837837824}, {\"length\": 7.0, \"price\": 36.601351351351354}, {\"length\": 1.0, \"price\": 3.581081081081056}, {\"length\": 6.0, \"price\": 31.097972972972975}, {\"length\": 8.0, \"price\": 42.10472972972974}, {\"length\": 4.0, \"price\": 20.091216216216207}, {\"length\": 4.0, \"price\": 20.091216216216207}, {\"length\": 9.0, \"price\": 47.60810810810813}, {\"length\": 10.0, \"price\": 53.111486486486505}, {\"length\": 2.0, \"price\": 9.084459459459438}, {\"length\": 8.0, \"price\": 42.10472972972974}, {\"length\": 3.0, \"price\": 14.587837837837824}, {\"length\": 3.0, \"price\": 14.587837837837824}, {\"length\": 3.0, \"price\": 14.587837837837824}, {\"length\": 1.0, \"price\": 3.581081081081056}, {\"length\": 5.0, \"price\": 25.59459459459459}, {\"length\": 7.0, \"price\": 36.601351351351354}, {\"length\": 1.0, \"price\": 3.581081081081056}, {\"length\": 7.0, \"price\": 36.601351351351354}, {\"length\": 7.0, \"price\": 36.601351351351354}, {\"length\": 7.0, \"price\": 36.601351351351354}, {\"length\": 1.0, \"price\": 3.581081081081056}, {\"length\": 2.0, \"price\": 9.084459459459438}, {\"length\": 10.0, \"price\": 53.111486486486505}, {\"length\": 2.0, \"price\": 9.084459459459438}, {\"length\": 1.0, \"price\": 3.581081081081056}, {\"length\": 2.0, \"price\": 9.084459459459438}, {\"length\": 7.0, \"price\": 36.601351351351354}, {\"length\": 2.0, \"price\": 9.084459459459438}, {\"length\": 7.0, \"price\": 36.601351351351354}, {\"length\": 6.0, \"price\": 31.097972972972975}, {\"length\": 3.0, \"price\": 14.587837837837824}, {\"length\": 8.0, \"price\": 42.10472972972974}, {\"length\": 3.0, \"price\": 14.587837837837847}, {\"length\": 9.0, \"price\": 47.60810810810812}, {\"length\": 6.0, \"price\": 31.097972972972986}, {\"length\": 1.0, \"price\": 3.5810810810810905}, {\"length\": 10.0, \"price\": 53.1114864864865}, {\"length\": 6.0, \"price\": 31.097972972972986}, {\"length\": 8.0, \"price\": 42.10472972972974}, {\"length\": 7.0, \"price\": 36.60135135135136}, {\"length\": 5.0, \"price\": 25.594594594594607}, {\"length\": 1.0, \"price\": 3.5810810810810905}, {\"length\": 1.0, \"price\": 3.5810810810810905}, {\"length\": 9.0, \"price\": 47.60810810810812}, {\"length\": 1.0, \"price\": 3.5810810810810905}, {\"length\": 9.0, \"price\": 47.60810810810812}, {\"length\": 4.0, \"price\": 20.091216216216228}, {\"length\": 2.0, \"price\": 9.084459459459469}, {\"length\": 2.0, \"price\": 9.084459459459469}, {\"length\": 3.0, \"price\": 14.587837837837847}, {\"length\": 1.0, \"price\": 3.5810810810810905}, {\"length\": 2.0, \"price\": 9.084459459459469}, {\"length\": 5.0, \"price\": 25.594594594594607}, {\"length\": 5.0, \"price\": 25.594594594594607}, {\"length\": 3.0, \"price\": 14.587837837837847}, {\"length\": 9.0, \"price\": 47.60810810810812}, {\"length\": 2.0, \"price\": 9.084459459459469}, {\"length\": 8.0, \"price\": 42.10472972972974}, {\"length\": 3.0, \"price\": 14.587837837837847}, {\"length\": 5.0, \"price\": 25.594594594594607}, {\"length\": 2.0, \"price\": 9.084459459459469}, {\"length\": 2.0, \"price\": 9.084459459459469}, {\"length\": 8.0, \"price\": 42.10472972972974}, {\"length\": 10.0, \"price\": 53.1114864864865}, {\"length\": 7.0, \"price\": 36.60135135135136}, {\"length\": 6.0, \"price\": 31.097972972972986}, {\"length\": 1.0, \"price\": 3.5810810810810905}, {\"length\": 3.0, \"price\": 14.587837837837847}, {\"length\": 9.0, \"price\": 47.60810810810812}, {\"length\": 3.0, \"price\": 14.587837837837847}, {\"length\": 3.0, \"price\": 14.587837837837847}, {\"length\": 1.0, \"price\": 3.5810810810810905}, {\"length\": 4.0, \"price\": 20.091216216216228}, {\"length\": 1.0, \"price\": 3.5810810810810905}, {\"length\": 6.0, \"price\": 31.097972972972986}, {\"length\": 3.0, \"price\": 14.587837837837847}, {\"length\": 3.0, \"price\": 14.587837837837847}, {\"length\": 6.0, \"price\": 31.097972972972975}, {\"length\": 4.0, \"price\": 20.091216216216225}, {\"length\": 6.0, \"price\": 31.097972972972975}, {\"length\": 10.0, \"price\": 53.11148648648648}, {\"length\": 3.0, \"price\": 14.587837837837847}, {\"length\": 10.0, \"price\": 53.11148648648648}, {\"length\": 5.0, \"price\": 25.5945945945946}, {\"length\": 2.0, \"price\": 9.084459459459472}, {\"length\": 10.0, \"price\": 53.11148648648648}, {\"length\": 6.0, \"price\": 31.097972972972975}, {\"length\": 7.0, \"price\": 36.601351351351354}, {\"length\": 1.0, \"price\": 3.5810810810810976}, {\"length\": 6.0, \"price\": 31.097972972972975}, {\"length\": 5.0, \"price\": 25.5945945945946}, {\"length\": 6.0, \"price\": 31.097972972972975}, {\"length\": 4.0, \"price\": 20.091216216216225}, {\"length\": 4.0, \"price\": 20.091216216216225}, {\"length\": 8.0, \"price\": 42.104729729729726}, {\"length\": 3.0, \"price\": 14.587837837837847}, {\"length\": 4.0, \"price\": 20.091216216216225}, {\"length\": 6.0, \"price\": 31.097972972972975}, {\"length\": 1.0, \"price\": 3.5810810810810976}, {\"length\": 8.0, \"price\": 42.104729729729726}, {\"length\": 7.0, \"price\": 36.601351351351354}, {\"length\": 4.0, \"price\": 20.091216216216225}, {\"length\": 10.0, \"price\": 53.11148648648648}, {\"length\": 7.0, \"price\": 36.601351351351354}, {\"length\": 1.0, \"price\": 3.5810810810810976}, {\"length\": 4.0, \"price\": 20.091216216216225}, {\"length\": 8.0, \"price\": 42.104729729729726}, {\"length\": 10.0, \"price\": 53.11148648648648}, {\"length\": 10.0, \"price\": 53.11148648648648}, {\"length\": 9.0, \"price\": 47.6081081081081}, {\"length\": 7.0, \"price\": 36.601351351351354}, {\"length\": 3.0, \"price\": 14.587837837837847}, {\"length\": 6.0, \"price\": 31.097972972972975}, {\"length\": 8.0, \"price\": 42.104729729729726}, {\"length\": 2.0, \"price\": 9.084459459459472}, {\"length\": 9.0, \"price\": 47.6081081081081}, {\"length\": 3.0, \"price\": 14.587837837837847}, {\"length\": 5.0, \"price\": 25.5945945945946}, {\"length\": 9.0, \"price\": 47.6081081081081}, {\"length\": 6.0, \"price\": 31.097972972972975}, {\"length\": 8.0, \"price\": 42.104729729729726}]}}, {\"mode\": \"vega-lite\"});\n",
       "</script>"
      ],
      "text/plain": [
       "alt.Chart(...)"
      ]
     },
     "execution_count": 448,
     "metadata": {},
     "output_type": "execute_result"
    }
   ],
   "source": [
    "\n",
    "dfx = pl.DataFrame({'length': [0, 60], 'price': [0, 60]})\n",
    "\n",
    "\n",
    "alt.Chart(df).mark_circle().encode(\n",
    "    x=alt.X(field='length', sort='x'),\n",
    "    y='price',\n",
    "    tooltip=['length', 'price']\n",
    ").properties(width=1000)"
   ]
  }
 ],
 "metadata": {
  "kernelspec": {
   "display_name": ".venv",
   "language": "python",
   "name": "python3"
  },
  "language_info": {
   "codemirror_mode": {
    "name": "ipython",
    "version": 3
   },
   "file_extension": ".py",
   "mimetype": "text/x-python",
   "name": "python",
   "nbconvert_exporter": "python",
   "pygments_lexer": "ipython3",
   "version": "3.12.3"
  }
 },
 "nbformat": 4,
 "nbformat_minor": 2
}
