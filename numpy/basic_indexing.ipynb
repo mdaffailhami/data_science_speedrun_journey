{
 "cells": [
  {
   "cell_type": "markdown",
   "metadata": {},
   "source": [
    "# Indexing on ndarrays\n"
   ]
  },
  {
   "cell_type": "markdown",
   "metadata": {},
   "source": [
    "ndarrays can be indexed using the standard Python x[obj] syntax, where x is the array and obj the selection. There are different kinds of indexing available depending on obj: basic indexing, advanced indexing and field access.\n"
   ]
  },
  {
   "cell_type": "markdown",
   "metadata": {},
   "source": [
    "Note that in Python, `x[(exp1, exp2, ..., expN)]` is equivalent to `x[exp1, exp2, ..., expN]`; the latter is just syntactic sugar for the former.\n"
   ]
  },
  {
   "cell_type": "code",
   "execution_count": 24,
   "metadata": {},
   "outputs": [],
   "source": [
    "import numpy as np"
   ]
  },
  {
   "cell_type": "markdown",
   "metadata": {},
   "source": [
    "### Single element indexing\n",
    "\n",
    "Single element indexing works exactly like that for other standard Python sequences. It is 0-based, and accepts negative indices for indexing from the end of the array.\n"
   ]
  },
  {
   "cell_type": "code",
   "execution_count": 25,
   "metadata": {},
   "outputs": [
    {
     "name": "stdout",
     "output_type": "stream",
     "text": [
      "x: [0 1 2 3 4 5 6 7 8 9]\n",
      "x[1]: 1\n",
      "x[-1]: 9\n"
     ]
    }
   ],
   "source": [
    "x = np.arange(10)\n",
    "\n",
    "print('x:', x)\n",
    "print('x[1]:', x[1])\n",
    "print('x[-1]:', x[-1])"
   ]
  },
  {
   "cell_type": "code",
   "execution_count": 26,
   "metadata": {},
   "outputs": [
    {
     "name": "stdout",
     "output_type": "stream",
     "text": [
      "x: [[0 1 2 3 4]\n",
      " [5 6 7 8 9]]\n",
      "x[0]: [0 1 2 3 4]\n",
      "x[0, -2]: 3\n",
      "x[0][-2]: 3\n"
     ]
    }
   ],
   "source": [
    "x = np.reshape(x, (2, 5))  # == x.shape = (2, 5)\n",
    "\n",
    "print('x:', x)\n",
    "print('x[0]:', x[0])\n",
    "print('x[0, -2]:', x[0, -2])  # == x[(0, -2)]\n",
    "print('x[0][-2]:', x[0][-2])"
   ]
  },
  {
   "cell_type": "markdown",
   "metadata": {},
   "source": [
    "Note that `x[0, -2] == x[0][-2]` though the second case is more inefficient as a new temporary array is created after the first index that is subsequently indexed by 2.\n"
   ]
  },
  {
   "cell_type": "markdown",
   "metadata": {},
   "source": [
    "### Slicing and striding\n",
    "\n",
    "Basic slicing extends Python’s basic concept of slicing to N dimensions. Basic slicing occurs when obj is a `slice` object (constructed by `start:stop:step` notation inside of brackets), an `integer`, or a `tuple of slice objects and integers`. `Ellipsis` and `newaxis` objects can be interspersed with these as well.\n"
   ]
  },
  {
   "cell_type": "code",
   "execution_count": 53,
   "metadata": {},
   "outputs": [
    {
     "name": "stdout",
     "output_type": "stream",
     "text": [
      "x[1:7:2]: [1 3 5]\n",
      "\n",
      "====================\n",
      "x[slice(-2, None, None)]: [8 9]\n",
      "x[slice(-2, None)]: [8 9]\n",
      "x[-2:]: [8 9]\n",
      "x[-2:10]: [8 9]\n",
      "====================\n",
      "\n",
      "x[-3:3:-1]: [7 6 5 4]\n"
     ]
    }
   ],
   "source": [
    "x = np.array([0, 1, 2, 3, 4, 5, 6, 7, 8, 9])\n",
    "\n",
    "print('x[1:7:2]:', x[1:7:2])\n",
    "print('\\n'+'='*20)\n",
    "print('x[slice(-2, None, None)]:', x[slice(-2, None, None)])\n",
    "# ===\n",
    "print('x[slice(-2, None)]:', x[slice(-2, None)])\n",
    "# ===\n",
    "print('x[-2:]:', x[-2:])\n",
    "# ===\n",
    "print('x[-2:10]:', x[-2:10])\n",
    "print('='*20+'\\n')\n",
    "print('x[-3:3:-1]:', x[-3:3:-1])  # == x[-2:]"
   ]
  }
 ],
 "metadata": {
  "kernelspec": {
   "display_name": ".venv",
   "language": "python",
   "name": "python3"
  },
  "language_info": {
   "codemirror_mode": {
    "name": "ipython",
    "version": 3
   },
   "file_extension": ".py",
   "mimetype": "text/x-python",
   "name": "python",
   "nbconvert_exporter": "python",
   "pygments_lexer": "ipython3",
   "version": "3.12.3"
  }
 },
 "nbformat": 4,
 "nbformat_minor": 2
}
