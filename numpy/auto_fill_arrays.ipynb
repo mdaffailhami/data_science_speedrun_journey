{
 "cells": [
  {
   "cell_type": "code",
   "execution_count": 1,
   "metadata": {},
   "outputs": [],
   "source": [
    "import numpy as np"
   ]
  },
  {
   "cell_type": "markdown",
   "metadata": {},
   "source": [
    "### numpy.full\n"
   ]
  },
  {
   "cell_type": "code",
   "execution_count": 2,
   "metadata": {},
   "outputs": [
    {
     "name": "stdout",
     "output_type": "stream",
     "text": [
      "int64\n",
      "[[5 5 5]\n",
      " [5 5 5]]\n"
     ]
    }
   ],
   "source": [
    "full = np.full((2, 3), 5)\n",
    "\n",
    "print(full.dtype)\n",
    "print(full)"
   ]
  },
  {
   "cell_type": "markdown",
   "metadata": {},
   "source": [
    "### numpy.zeros\n"
   ]
  },
  {
   "cell_type": "code",
   "execution_count": 3,
   "metadata": {},
   "outputs": [
    {
     "name": "stdout",
     "output_type": "stream",
     "text": [
      "int16\n",
      "[[0 0 0]\n",
      " [0 0 0]]\n"
     ]
    }
   ],
   "source": [
    "# Auto fill with zeros\n",
    "# zeros = np.zeros((2, 3)) # Float dtype by default\n",
    "\n",
    "zeros = np.full((2, 3), 0, dtype=np.int16)\n",
    "# ===\n",
    "zeros = np.zeros((2, 3), dtype=np.int16)\n",
    "\n",
    "\n",
    "print(zeros.dtype)\n",
    "print(zeros)"
   ]
  },
  {
   "cell_type": "markdown",
   "metadata": {},
   "source": [
    "### numpy.empty\n",
    "\n",
    "Alocate memories for the array, while np.zeros assign its values to zeros\n",
    "\n",
    "> It's a bit faster than np.zeros, but each element has default value\n"
   ]
  },
  {
   "cell_type": "code",
   "execution_count": 4,
   "metadata": {},
   "outputs": [
    {
     "name": "stdout",
     "output_type": "stream",
     "text": [
      "int32\n",
      "[[12376     0     0]\n",
      " [    0    32     0]]\n",
      "12376\n"
     ]
    }
   ],
   "source": [
    "empty = np.empty((2, 3), dtype=np.int32)\n",
    "\n",
    "\n",
    "print(empty.dtype)\n",
    "print(empty)\n",
    "print(empty[0, 0])"
   ]
  },
  {
   "cell_type": "markdown",
   "metadata": {},
   "source": [
    "### numpy.arange\n"
   ]
  },
  {
   "cell_type": "code",
   "execution_count": 5,
   "metadata": {},
   "outputs": [
    {
     "name": "stdout",
     "output_type": "stream",
     "text": [
      "int64\n",
      "[ 1  2  3  4  5  6  7  8  9 10]\n",
      "float64\n",
      "[1. 3. 5. 7. 9.]\n"
     ]
    }
   ],
   "source": [
    "arange = np.arange(1, 11)\n",
    "arange2 = np.arange(1, 11, 2, dtype=np.float64)\n",
    "\n",
    "print(arange.dtype)\n",
    "print(arange)\n",
    "\n",
    "print(arange2.dtype)\n",
    "print(arange2)"
   ]
  },
  {
   "cell_type": "markdown",
   "metadata": {},
   "source": [
    "### numpy.linspace\n"
   ]
  },
  {
   "cell_type": "code",
   "execution_count": 17,
   "metadata": {},
   "outputs": [
    {
     "name": "stdout",
     "output_type": "stream",
     "text": [
      "float64\n",
      "[ 1.  2.  3.  4.  5.  6.  7.  8.  9. 10.]\n",
      "float64\n",
      "[ 1.  4.  7. 10.]\n"
     ]
    }
   ],
   "source": [
    "linspace = np.linspace(1, 10, 10)\n",
    "linspace2 = np.linspace(1, 10, 4)\n",
    "\n",
    "print(linspace.dtype)\n",
    "print(linspace)\n",
    "\n",
    "print(linspace2.dtype)\n",
    "print(linspace2)"
   ]
  }
 ],
 "metadata": {
  "kernelspec": {
   "display_name": ".venv",
   "language": "python",
   "name": "python3"
  },
  "language_info": {
   "codemirror_mode": {
    "name": "ipython",
    "version": 3
   },
   "file_extension": ".py",
   "mimetype": "text/x-python",
   "name": "python",
   "nbconvert_exporter": "python",
   "pygments_lexer": "ipython3",
   "version": "3.11.4"
  }
 },
 "nbformat": 4,
 "nbformat_minor": 2
}
