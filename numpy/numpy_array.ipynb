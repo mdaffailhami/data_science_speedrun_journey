{
 "cells": [
  {
   "cell_type": "markdown",
   "metadata": {},
   "source": [
    "# Numpy Array\n",
    "\n",
    "Unlike Python List, NumPy Array can only have single data type for each of its element\n"
   ]
  },
  {
   "cell_type": "code",
   "execution_count": 58,
   "metadata": {},
   "outputs": [
    {
     "name": "stdout",
     "output_type": "stream",
     "text": [
      "<class 'numpy.ndarray'>\n",
      "<U1\n",
      "<class 'numpy.str_'>\n",
      "5\n",
      "\n",
      "['1' '2' '3' '4' '5']\n",
      "2\n",
      "['2' '3' '4' '5']\n",
      "['2' '3']\n",
      "['1' '2' '3']\n",
      "['2' '3']\n",
      "['2' '3']\n"
     ]
    }
   ],
   "source": [
    "import numpy as np\n",
    "\n",
    "\n",
    "# Hard type its elements\n",
    "array = np.array([1, 2, 3, '4', 5], dtype=np.str_)  # Convert to strings\n",
    "# array = np.array([1, 2, 3, '4', 5], dtype='<U1')  # String max chars = 1\n",
    "\n",
    "print(type(array))\n",
    "\n",
    "# The data types of its elements\n",
    "print(array.dtype)\n",
    "print(type(array[0]))\n",
    "\n",
    "print(array.size)  # Total elements\n",
    "\n",
    "print()\n",
    "\n",
    "print(array)\n",
    "print(array[1])\n",
    "print(array[1:])\n",
    "print(array[1:3])\n",
    "print(array[:-2])\n",
    "print(array[1:-2])\n",
    "print(array[-4:-2])"
   ]
  },
  {
   "cell_type": "markdown",
   "metadata": {},
   "source": [
    "## Multidimensional NumPy Array\n",
    "\n",
    "Multidimensional NumPy Array can only have the same length for each row\n"
   ]
  },
  {
   "cell_type": "code",
   "execution_count": 59,
   "metadata": {},
   "outputs": [
    {
     "name": "stdout",
     "output_type": "stream",
     "text": [
      "<class 'numpy.ndarray'>\n",
      "int64\n",
      "2\n",
      "6\n",
      "(2, 3)\n",
      "[[1 2 3]\n",
      " [4 5 6]]\n",
      "2\n",
      "2\n"
     ]
    }
   ],
   "source": [
    "md_array = np.array([[1, 2, 3],\n",
    "                     [4, 5, 6]])\n",
    "\n",
    "print(type(md_array))\n",
    "print(md_array.dtype)  # The data types of the elements\n",
    "print(md_array.ndim)  # How deep the dimension is (The level of deepness)\n",
    "print(md_array.size)  # Total elements\n",
    "print(md_array.shape)\n",
    "\n",
    "print(md_array)\n",
    "print(md_array[0, 1])\n",
    "print(md_array[0][1])"
   ]
  },
  {
   "cell_type": "code",
   "execution_count": 60,
   "metadata": {},
   "outputs": [
    {
     "name": "stdout",
     "output_type": "stream",
     "text": [
      "<class 'numpy.ndarray'>\n",
      "3\n",
      "(2, 3, 4)\n",
      "[[[ 1  2  3  4]\n",
      "  [ 5  6  7  8]\n",
      "  [ 9 10 11 12]]\n",
      "\n",
      " [[ 1  2  3  4]\n",
      "  [ 5  6  7  8]\n",
      "  [ 9 10 11 12]]]\n"
     ]
    }
   ],
   "source": [
    "md_array_2 = np.array([[[1, 2, 3, 4],\n",
    "                        [5, 6, 7, 8],\n",
    "                        [9, 10, 11, 12]],\n",
    "                       [[1, 2, 3, 4],\n",
    "                        [5, 6, 7, 8],\n",
    "                        [9, 10, 11, 12]]])\n",
    "\n",
    "print(type(md_array_2))\n",
    "print(md_array_2.ndim)  # How deep the dimension is\n",
    "print(md_array_2.shape)\n",
    "print(md_array_2)"
   ]
  }
 ],
 "metadata": {
  "kernelspec": {
   "display_name": ".venv",
   "language": "python",
   "name": "python3"
  },
  "language_info": {
   "codemirror_mode": {
    "name": "ipython",
    "version": 3
   },
   "file_extension": ".py",
   "mimetype": "text/x-python",
   "name": "python",
   "nbconvert_exporter": "python",
   "pygments_lexer": "ipython3",
   "version": "3.11.4"
  }
 },
 "nbformat": 4,
 "nbformat_minor": 2
}
