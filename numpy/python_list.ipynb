{
 "cells": [
  {
   "cell_type": "markdown",
   "metadata": {},
   "source": [
    "# Python List\n"
   ]
  },
  {
   "cell_type": "code",
   "execution_count": 1,
   "metadata": {},
   "outputs": [
    {
     "name": "stdout",
     "output_type": "stream",
     "text": [
      "<class 'list'>\n",
      "[1, 2, 3, 4, 5]\n",
      "2\n",
      "[2, 3, 4, 5]\n",
      "[2, 3]\n",
      "[1, 2, 3]\n",
      "[2, 3]\n",
      "[2, 3]\n"
     ]
    }
   ],
   "source": [
    "python_list = [1, 2, 3, 4, 5]\n",
    "\n",
    "print(type(python_list))\n",
    "print(python_list)\n",
    "print(python_list[1])\n",
    "print(python_list[1:])\n",
    "print(python_list[1:3])\n",
    "print(python_list[:-2])\n",
    "print(python_list[1:-2])\n",
    "print(python_list[-4:-2])"
   ]
  },
  {
   "cell_type": "markdown",
   "metadata": {},
   "source": [
    "## Multidimensional Python List\n"
   ]
  },
  {
   "cell_type": "code",
   "execution_count": 2,
   "metadata": {},
   "outputs": [
    {
     "name": "stdout",
     "output_type": "stream",
     "text": [
      "<class 'list'>\n",
      "[[1, '2', 3], ['4', 5, '6', 7]]\n",
      "[1, '2', 3]\n",
      "['4', 5, '6', 7]\n",
      "1\n",
      "2\n"
     ]
    }
   ],
   "source": [
    "md_python_list = [[1, '2', 3],\n",
    "                  ['4', 5, '6', 7]]\n",
    "\n",
    "print(type(md_python_list))\n",
    "print(md_python_list)\n",
    "print(md_python_list[0])\n",
    "print(md_python_list[1])\n",
    "print(md_python_list[0][0])\n",
    "print(md_python_list[0][1])"
   ]
  }
 ],
 "metadata": {
  "kernelspec": {
   "display_name": ".venv",
   "language": "python",
   "name": "python3"
  },
  "language_info": {
   "codemirror_mode": {
    "name": "ipython",
    "version": 3
   },
   "file_extension": ".py",
   "mimetype": "text/x-python",
   "name": "python",
   "nbconvert_exporter": "python",
   "pygments_lexer": "ipython3",
   "version": "3.11.4"
  }
 },
 "nbformat": 4,
 "nbformat_minor": 2
}
