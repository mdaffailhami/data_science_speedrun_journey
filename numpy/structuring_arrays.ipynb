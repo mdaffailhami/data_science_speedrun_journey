{
 "cells": [
  {
   "cell_type": "code",
   "execution_count": 8,
   "metadata": {},
   "outputs": [],
   "source": [
    "import numpy as np"
   ]
  },
  {
   "cell_type": "code",
   "execution_count": 9,
   "metadata": {},
   "outputs": [],
   "source": [
    "def print_array(label: str, arr: np.ndarray):\n",
    "    print(label + ':', arr.shape, '\\n', arr, '\\n')"
   ]
  },
  {
   "cell_type": "code",
   "execution_count": 10,
   "metadata": {},
   "outputs": [
    {
     "name": "stdout",
     "output_type": "stream",
     "text": [
      "x: (4, 5) \n",
      " [[ 1  2  3  4  5]\n",
      " [ 6  7  8  9 10]\n",
      " [11 12 13 14 15]\n",
      " [16 17 18 19 20]] \n",
      "\n"
     ]
    }
   ],
   "source": [
    "x = np.array([\n",
    "    [1, 2, 3, 4, 5],\n",
    "    [6, 7, 8, 9, 10],\n",
    "    [11, 12, 13, 14, 15],\n",
    "    [16, 17, 18, 19, 20]\n",
    "])\n",
    "\n",
    "print_array('x', x)"
   ]
  },
  {
   "cell_type": "markdown",
   "metadata": {},
   "source": [
    "#### Reshape\n"
   ]
  },
  {
   "cell_type": "code",
   "execution_count": 11,
   "metadata": {},
   "outputs": [
    {
     "name": "stdout",
     "output_type": "stream",
     "text": [
      "a: (5, 4) \n",
      " [[ 1  2  3  4]\n",
      " [ 5  6  7  8]\n",
      " [ 9 10 11 12]\n",
      " [13 14 15 16]\n",
      " [17 18 19 20]] \n",
      "\n",
      "b: (2, 10) \n",
      " [[ 1  2  3  4  5  6  7  8  9 10]\n",
      " [11 12 13 14 15 16 17 18 19 20]] \n",
      "\n",
      "c: (2, 2, 5) \n",
      " [[[ 1  2  3  4  5]\n",
      "  [ 6  7  8  9 10]]\n",
      "\n",
      " [[11 12 13 14 15]\n",
      "  [16 17 18 19 20]]] \n",
      "\n"
     ]
    }
   ],
   "source": [
    "a = np.reshape(x, (5, 4))\n",
    "b = np.reshape(x, (2, 10))\n",
    "c = np.reshape(x, (2, 2, 5))  # Will become a 3-dimensional array\n",
    "# ===\n",
    "# c = x.reshape(10, 2)\n",
    "\n",
    "print_array('a', a)\n",
    "print_array('b', b)\n",
    "print_array('c', c)"
   ]
  },
  {
   "cell_type": "markdown",
   "metadata": {},
   "source": [
    "**Order parameter**\n",
    "\n",
    "{‘C’, ‘F’, ‘A’}, optional\n",
    "Read the elements of a using this index order, and place the elements into the reshaped array using this index order. ‘C’ means to read / write the elements using C-like index order, with the last axis index changing fastest, back to the first axis index changing slowest. ‘F’ means to read / write the elements using Fortran-like index order, with the first index changing fastest, and the last index changing slowest. Note that the ‘C’ and ‘F’ options take no account of the memory layout of the underlying array, and only refer to the order of indexing. ‘A’ means to read / write the elements in Fortran-like index order if a is Fortran contiguous in memory, C-like order otherwise.\n"
   ]
  },
  {
   "cell_type": "code",
   "execution_count": 12,
   "metadata": {},
   "outputs": [
    {
     "name": "stdout",
     "output_type": "stream",
     "text": [
      "a: (20,) \n",
      " [ 1  2  3  4  5  6  7  8  9 10 11 12 13 14 15 16 17 18 19 20] \n",
      "\n",
      "b: (20,) \n",
      " [ 1  2  3  4  5  6  7  8  9 10 11 12 13 14 15 16 17 18 19 20] \n",
      "\n",
      "c: (20,) \n",
      " [ 1  2  3  4  5  6  7  8  9 10 11 12 13 14 15 16 17 18 19 20] \n",
      "\n",
      "d: (20,) \n",
      " [ 1  6 11 16  2  7 12 17  3  8 13 18  4  9 14 19  5 10 15 20] \n",
      "\n",
      "e: (2, 10) \n",
      " [[ 1 11  2 12  3 13  4 14  5 15]\n",
      " [ 6 16  7 17  8 18  9 19 10 20]] \n",
      "\n"
     ]
    }
   ],
   "source": [
    "a = np.reshape(x, 20)\n",
    "# ===\n",
    "# a = np.reshape(x, (20))\n",
    "# ===\n",
    "# a = np.reshape(x, (20,))\n",
    "# ===\n",
    "# a = x.reshape(20)\n",
    "\n",
    "b = np.reshape(x, 20, order='A')\n",
    "c = np.reshape(x, 20, order='C')\n",
    "d = np.reshape(x, 20, order='F')\n",
    "e = np.reshape(x, (2, 10), order='F')\n",
    "\n",
    "print_array('a', a)\n",
    "print_array('b', b)\n",
    "print_array('c', c)\n",
    "print_array('d', d)\n",
    "print_array('e', e)"
   ]
  },
  {
   "cell_type": "markdown",
   "metadata": {},
   "source": [
    "#### Resize\n",
    "\n",
    "Return a new array with the specified shape.\n",
    "\n",
    "If the new array is larger than the original array, then the new array is filled with repeated copies of a.\n",
    "\n",
    "Note that this behavior is different from a.resize(new_shape) which fills with zeros instead of repeated copies of a.\n"
   ]
  },
  {
   "cell_type": "code",
   "execution_count": 13,
   "metadata": {},
   "outputs": [
    {
     "name": "stdout",
     "output_type": "stream",
     "text": [
      "x: (4, 5) \n",
      " [[ 1  2  3  4  5]\n",
      " [ 6  7  8  9 10]\n",
      " [11 12 13 14 15]\n",
      " [16 17 18 19 20]] \n",
      "\n",
      "a: (2, 3) \n",
      " [[1 2 3]\n",
      " [4 5 6]] \n",
      "\n",
      "b: (6, 6) \n",
      " [[ 1  2  3  4  5  6]\n",
      " [ 7  8  9 10 11 12]\n",
      " [13 14 15 16 17 18]\n",
      " [19 20  1  2  3  4]\n",
      " [ 5  6  7  8  9 10]\n",
      " [11 12 13 14 15 16]] \n",
      "\n"
     ]
    }
   ],
   "source": [
    "a = np.resize(x, (2, 3))\n",
    "b = np.resize(x, (6, 6))\n",
    "\n",
    "print_array('x', x)\n",
    "print_array('a', a)\n",
    "print_array('b', b)"
   ]
  },
  {
   "cell_type": "markdown",
   "metadata": {},
   "source": [
    "#### Experiment resizing and filling arrays with zero\n",
    "\n",
    "In here, I use np.resize instead of 'ndarray'.resize to manually filling it with zero (0)\n"
   ]
  },
  {
   "cell_type": "code",
   "execution_count": 14,
   "metadata": {},
   "outputs": [],
   "source": [
    "def resize_and_fill_with_zero(arr: np.ndarray, shape: tuple):\n",
    "    result = np.resize(arr, shape)\n",
    "    start_index = arr.shape[0]*arr.shape[1]\n",
    "    current_index = 0\n",
    "\n",
    "    for i, y in enumerate(result):\n",
    "\n",
    "        for j, z in enumerate(y):\n",
    "            if current_index < start_index:\n",
    "                current_index += 1\n",
    "            else:\n",
    "                result[i, j] = 0\n",
    "\n",
    "    return result"
   ]
  },
  {
   "cell_type": "code",
   "execution_count": 15,
   "metadata": {},
   "outputs": [
    {
     "name": "stdout",
     "output_type": "stream",
     "text": [
      "ngetes: (6, 6) \n",
      " [[ 1  2  3  4  5  6]\n",
      " [ 7  8  9 10 11 12]\n",
      " [13 14 15 16 17 18]\n",
      " [19 20  0  0  0  0]\n",
      " [ 0  0  0  0  0  0]\n",
      " [ 0  0  0  0  0  0]] \n",
      "\n"
     ]
    }
   ],
   "source": [
    "ngetes = resize_and_fill_with_zero(x, (6, 6))\n",
    "\n",
    "print_array('ngetes', ngetes)"
   ]
  }
 ],
 "metadata": {
  "kernelspec": {
   "display_name": ".venv",
   "language": "python",
   "name": "python3"
  },
  "language_info": {
   "codemirror_mode": {
    "name": "ipython",
    "version": 3
   },
   "file_extension": ".py",
   "mimetype": "text/x-python",
   "name": "python",
   "nbconvert_exporter": "python",
   "pygments_lexer": "ipython3",
   "version": "3.12.3"
  }
 },
 "nbformat": 4,
 "nbformat_minor": 2
}
