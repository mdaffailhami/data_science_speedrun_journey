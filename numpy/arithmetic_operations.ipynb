{
 "cells": [
  {
   "cell_type": "code",
   "execution_count": 58,
   "metadata": {},
   "outputs": [],
   "source": [
    "import numpy as np"
   ]
  },
  {
   "cell_type": "code",
   "execution_count": 64,
   "metadata": {},
   "outputs": [],
   "source": [
    "l1 = [1, 2, 3, 4, 5]\n",
    "l2 = [6, 7, 8, 9, 0]\n",
    "\n",
    "a1 = np.array(l1)\n",
    "a2 = np.array(l2)\n",
    "a3 = np.array([[1],\n",
    "               [2]])"
   ]
  },
  {
   "cell_type": "markdown",
   "metadata": {},
   "source": [
    "## Addition (+)\n"
   ]
  },
  {
   "cell_type": "code",
   "execution_count": 68,
   "metadata": {},
   "outputs": [
    {
     "name": "stdout",
     "output_type": "stream",
     "text": [
      "[1, 2, 3, 4, 5, 6, 7, 8, 9, 0]\n",
      "[3 4 5 6 7]\n",
      "[ 7  9 11 13  5]\n",
      "[[2 3 4 5 6]\n",
      " [3 4 5 6 7]]\n"
     ]
    }
   ],
   "source": [
    "# Concate lists\n",
    "print(l1 + l2)\n",
    "\n",
    "# Array addition\n",
    "print(a1 + 2)\n",
    "print(a1 + a2)\n",
    "print(a1 + a3)"
   ]
  },
  {
   "cell_type": "markdown",
   "metadata": {},
   "source": [
    "## Subtraction (-)\n"
   ]
  },
  {
   "cell_type": "code",
   "execution_count": 66,
   "metadata": {},
   "outputs": [
    {
     "name": "stdout",
     "output_type": "stream",
     "text": [
      "[-1  0  1  2  3]\n",
      "[-5 -5 -5 -5  5]\n",
      "[[ 0  1  2  3  4]\n",
      " [-1  0  1  2  3]]\n"
     ]
    }
   ],
   "source": [
    "# Array subtraction\n",
    "print(a1 - 2)\n",
    "print(a1 - a2)\n",
    "print(a1 - a3)"
   ]
  },
  {
   "cell_type": "markdown",
   "metadata": {},
   "source": [
    "## Multiplication (\\*)\n"
   ]
  },
  {
   "cell_type": "code",
   "execution_count": 69,
   "metadata": {},
   "outputs": [
    {
     "name": "stdout",
     "output_type": "stream",
     "text": [
      "[1, 2, 3, 4, 5, 1, 2, 3, 4, 5]\n",
      "[ 2  4  6  8 10]\n",
      "[ 6 14 24 36  0]\n",
      "[[ 1  2  3  4  5]\n",
      " [ 2  4  6  8 10]]\n"
     ]
    }
   ],
   "source": [
    "# Repeat elements\n",
    "print(l1 * 2)\n",
    "\n",
    "# Array multiplication\n",
    "print(a1 * 2)\n",
    "print(a1 * a2)\n",
    "print(a1 * a3)"
   ]
  },
  {
   "cell_type": "markdown",
   "metadata": {},
   "source": [
    "## Division (/)\n"
   ]
  },
  {
   "cell_type": "code",
   "execution_count": 70,
   "metadata": {},
   "outputs": [
    {
     "name": "stdout",
     "output_type": "stream",
     "text": [
      "[0.5 1.  1.5 2.  2.5]\n",
      "[0.16666667 0.28571429 0.375      0.44444444        inf]\n",
      "[[1.  2.  3.  4.  5. ]\n",
      " [0.5 1.  1.5 2.  2.5]]\n"
     ]
    },
    {
     "name": "stderr",
     "output_type": "stream",
     "text": [
      "/tmp/ipykernel_14719/644241156.py:3: RuntimeWarning: divide by zero encountered in divide\n",
      "  print(a1 / a2)\n"
     ]
    }
   ],
   "source": [
    "# Array division\n",
    "print(a1 / 2)\n",
    "print(a1 / a2)\n",
    "print(a1 / a3)"
   ]
  },
  {
   "cell_type": "markdown",
   "metadata": {},
   "source": [
    "## Square Root\n"
   ]
  },
  {
   "cell_type": "code",
   "execution_count": 75,
   "metadata": {},
   "outputs": [
    {
     "name": "stdout",
     "output_type": "stream",
     "text": [
      "[1.         1.41421356 1.73205081 2.         2.23606798]\n",
      "[1.         1.41421356 1.73205081 2.         2.23606798]\n",
      "[[1.        ]\n",
      " [1.41421356]]\n",
      "[[1.        ]\n",
      " [1.41421356]]\n"
     ]
    }
   ],
   "source": [
    "# Array square root\n",
    "print(a1 ** 0.5)\n",
    "print(np.sqrt(a1))\n",
    "\n",
    "print(a3 ** 0.5)\n",
    "print(np.sqrt(a3))"
   ]
  },
  {
   "cell_type": "markdown",
   "metadata": {},
   "source": [
    "## Trigonometry\n"
   ]
  },
  {
   "cell_type": "code",
   "execution_count": 86,
   "metadata": {},
   "outputs": [
    {
     "name": "stdout",
     "output_type": "stream",
     "text": [
      "[ 0.84147098  0.90929743  0.14112001 -0.7568025  -0.95892427]\n",
      "[ 0.54030231 -0.41614684 -0.9899925  -0.65364362  0.28366219]\n",
      "[ 1.55740772 -2.18503986 -0.14254654  1.15782128 -3.38051501]\n",
      "[[0.84147098]\n",
      " [0.90929743]]\n",
      "[[ 0.54030231]\n",
      " [-0.41614684]]\n",
      "[[ 1.55740772]\n",
      " [-2.18503986]]\n"
     ]
    }
   ],
   "source": [
    "print(np.sin(a1))\n",
    "print(np.cos(a1))\n",
    "print(np.tan(a1))\n",
    "\n",
    "print(np.sin(a3))\n",
    "print(np.cos(a3))\n",
    "print(np.tan(a3))"
   ]
  },
  {
   "cell_type": "markdown",
   "metadata": {},
   "source": [
    "## Others\n"
   ]
  },
  {
   "cell_type": "code",
   "execution_count": 79,
   "metadata": {},
   "outputs": [
    {
     "name": "stdout",
     "output_type": "stream",
     "text": [
      "[0.78539816 1.10714872 1.24904577 1.32581766 1.37340077]\n",
      "[  2.71828183   7.3890561   20.08553692  54.59815003 148.4131591 ]\n",
      "[0.         0.69314718 1.09861229 1.38629436 1.60943791]\n",
      "[[0.]\n",
      " [1.]]\n",
      "[[0.     ]\n",
      " [0.30103]]\n"
     ]
    }
   ],
   "source": [
    "# Array square root\n",
    "print(np.arctan(a1))\n",
    "print(np.exp(a1))\n",
    "print(np.log(a1))\n",
    "print(np.log2(a3))\n",
    "print(np.log10(a3))\n",
    "\n",
    "# Plus many other operations"
   ]
  },
  {
   "cell_type": "markdown",
   "metadata": {},
   "source": [
    "## **Summary**\n",
    "\n",
    "Whenever you have NumPy Arrays which you can think of as vectors or matrices, then we can do the respective calculation in Python the same as the real world mathematics.\n"
   ]
  }
 ],
 "metadata": {
  "kernelspec": {
   "display_name": ".venv",
   "language": "python",
   "name": "python3"
  },
  "language_info": {
   "codemirror_mode": {
    "name": "ipython",
    "version": 3
   },
   "file_extension": ".py",
   "mimetype": "text/x-python",
   "name": "python",
   "nbconvert_exporter": "python",
   "pygments_lexer": "ipython3",
   "version": "3.11.4"
  }
 },
 "nbformat": 4,
 "nbformat_minor": 2
}
