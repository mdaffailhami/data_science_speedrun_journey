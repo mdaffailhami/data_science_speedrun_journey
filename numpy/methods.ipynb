{
 "cells": [
  {
   "cell_type": "code",
   "execution_count": 114,
   "metadata": {},
   "outputs": [],
   "source": [
    "import numpy as np"
   ]
  },
  {
   "cell_type": "code",
   "execution_count": 115,
   "metadata": {},
   "outputs": [
    {
     "data": {
      "text/plain": [
       "array([[1, 2, 3],\n",
       "       [4, 5, 6]])"
      ]
     },
     "metadata": {},
     "output_type": "display_data"
    },
    {
     "data": {
      "text/plain": [
       "array([[[1, 2],\n",
       "        [3, 4]],\n",
       "\n",
       "       [[5, 6],\n",
       "        [7, 8]]])"
      ]
     },
     "metadata": {},
     "output_type": "display_data"
    }
   ],
   "source": [
    "x = np.array([\n",
    "    [1, 2, 3],\n",
    "    [4, 5, 6]\n",
    "])\n",
    "y = np.array([\n",
    "    [\n",
    "        [1, 2],\n",
    "        [3, 4]\n",
    "    ],\n",
    "    [\n",
    "        [5, 6],\n",
    "        [7, 8]\n",
    "    ]\n",
    "])\n",
    "\n",
    "display(x)\n",
    "display(y)"
   ]
  },
  {
   "cell_type": "markdown",
   "metadata": {},
   "source": [
    "#### Append\n",
    "\n",
    "**Axis parameter:**\n",
    "\n",
    "- Axis None (Default): Flatten the input array and append the new data as a flattened array\n",
    "- Axis 0: Refers to the 1st dimension (rows in a 2D array).\n",
    "- Axis 1: Refers to the 2nd dimension (columns in a 2D array).\n",
    "- Axis 2: Refers to the 3rd dimension, and so on.\n"
   ]
  },
  {
   "cell_type": "code",
   "execution_count": 116,
   "metadata": {},
   "outputs": [
    {
     "name": "stdout",
     "output_type": "stream",
     "text": [
      "a:\n",
      "[1 2 3 4 5 6 0 0 0]\n",
      "\n",
      "b:\n",
      "[[ 1  2  3]\n",
      " [ 4  5  6]\n",
      " [17 18 19]]\n",
      "\n",
      "c:\n",
      "[[ 1  2  3 14]\n",
      " [ 4  5  6 17]]\n",
      "\n"
     ]
    }
   ],
   "source": [
    "a = np.append(x, [0, 0, 0], axis=None)  # Axis is None by default\n",
    "\n",
    "b = np.append(x, [[17, 18, 19]], axis=0)\n",
    "c = np.append(x, [[14], [17]], axis=1)\n",
    "\n",
    "print(f'a:\\n{a}\\n')\n",
    "print(f'b:\\n{b}\\n')\n",
    "print(f'c:\\n{c}\\n')"
   ]
  },
  {
   "cell_type": "code",
   "execution_count": 117,
   "metadata": {},
   "outputs": [
    {
     "name": "stdout",
     "output_type": "stream",
     "text": [
      "d:\n",
      "[[[1 2]\n",
      "  [3 4]]\n",
      "\n",
      " [[5 6]\n",
      "  [7 8]]\n",
      "\n",
      " [[0 0]\n",
      "  [0 0]]]\n",
      "\n",
      "e:\n",
      "[[[1 2]\n",
      "  [3 4]\n",
      "  [0 0]]\n",
      "\n",
      " [[5 6]\n",
      "  [7 8]\n",
      "  [0 0]]]\n",
      "\n",
      "f:\n",
      "[[[1 2 0]\n",
      "  [3 4 0]]\n",
      "\n",
      " [[5 6 0]\n",
      "  [7 8 0]]]\n",
      "\n"
     ]
    }
   ],
   "source": [
    "d = np.append(y, [[[0, 0], [0, 0]]], axis=0)\n",
    "e = np.append(y, [[[0, 0]], [[0, 0]]], axis=1)\n",
    "f = np.append(y, [[[0], [0]], [[0], [0]]], axis=2)\n",
    "\n",
    "print(f'd:\\n{d}\\n')\n",
    "print(f'e:\\n{e}\\n')\n",
    "print(f'f:\\n{f}\\n')"
   ]
  }
 ],
 "metadata": {
  "kernelspec": {
   "display_name": ".venv",
   "language": "python",
   "name": "python3"
  },
  "language_info": {
   "codemirror_mode": {
    "name": "ipython",
    "version": 3
   },
   "file_extension": ".py",
   "mimetype": "text/x-python",
   "name": "python",
   "nbconvert_exporter": "python",
   "pygments_lexer": "ipython3",
   "version": "3.12.3"
  }
 },
 "nbformat": 4,
 "nbformat_minor": 2
}
