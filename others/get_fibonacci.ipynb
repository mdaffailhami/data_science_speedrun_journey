{
 "cells": [
  {
   "cell_type": "code",
   "execution_count": 2,
   "metadata": {},
   "outputs": [],
   "source": [
    "def get_fibonacci(a: int, b: int) -> list:\n",
    "    '''\n",
    "    Get fibonacci sequence\n",
    "    :param int a: From\n",
    "    :param int b: To\n",
    "    '''\n",
    "    \n",
    "    fibonacci = []\n",
    "    last1 = 0\n",
    "    last2 = 1\n",
    "\n",
    "    # Special Cases\n",
    "    if a == 0:\n",
    "        fibonacci.append(last1)\n",
    "        fibonacci.append(last2)\n",
    "    elif a == 1:\n",
    "        fibonacci.append(last2)\n",
    "\n",
    "    # Main Program\n",
    "    while True:\n",
    "        current = last1 + last2\n",
    "        last1 = last2\n",
    "        last2=current\n",
    "\n",
    "        if current > b:\n",
    "            break\n",
    "\n",
    "        if a <= current <= b:\n",
    "            fibonacci.append(current)\n",
    "\n",
    "    return fibonacci"
   ]
  },
  {
   "cell_type": "code",
   "execution_count": 6,
   "metadata": {},
   "outputs": [
    {
     "data": {
      "text/plain": [
       "[5, 8, 13, 21, 34, 55, 89, 144, 233, 377, 610, 987, 1597]"
      ]
     },
     "execution_count": 6,
     "metadata": {},
     "output_type": "execute_result"
    }
   ],
   "source": [
    "fibonacci = get_fibonacci(5, 1597)\n",
    "fibonacci"
   ]
  }
 ],
 "metadata": {
  "kernelspec": {
   "display_name": ".venv",
   "language": "python",
   "name": "python3"
  },
  "language_info": {
   "codemirror_mode": {
    "name": "ipython",
    "version": 3
   },
   "file_extension": ".py",
   "mimetype": "text/x-python",
   "name": "python",
   "nbconvert_exporter": "python",
   "pygments_lexer": "ipython3",
   "version": "3.12.3"
  }
 },
 "nbformat": 4,
 "nbformat_minor": 2
}
