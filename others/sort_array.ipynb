{
 "cells": [
  {
   "cell_type": "code",
   "execution_count": 108,
   "metadata": {},
   "outputs": [],
   "source": [
    "import numpy as np"
   ]
  },
  {
   "cell_type": "code",
   "execution_count": 109,
   "metadata": {},
   "outputs": [
    {
     "name": "stdout",
     "output_type": "stream",
     "text": [
      "[10  3  8  2  4  5  8  9  9  8]\n"
     ]
    }
   ],
   "source": [
    "arr = np.array([np.random.randint(1, 11) for i in range(10)])\n",
    "print(arr)"
   ]
  },
  {
   "cell_type": "markdown",
   "metadata": {},
   "source": [
    "#### Filling with NaN method\n"
   ]
  },
  {
   "cell_type": "code",
   "execution_count": 110,
   "metadata": {},
   "outputs": [
    {
     "name": "stdout",
     "output_type": "stream",
     "text": [
      "Original  : [10  3  8  2  4  5  8  9  9  8] \n",
      "\n",
      "Ascendant : [ 2  3  4  5  8  8  8  9  9 10]\n",
      "Descendant: [10  9  9  8  8  8  5  4  3  2]\n"
     ]
    }
   ],
   "source": [
    "def sort_array(arr: np.ndarray, dsc: bool = False):\n",
    "    arr = arr.astype(np.float64)\n",
    "    result = np.array([])\n",
    "\n",
    "    for _ in arr:\n",
    "        for i, value in enumerate(arr):\n",
    "            if not np.isnan(value):\n",
    "                curr_smallest = (i, value)\n",
    "                break\n",
    "\n",
    "        for i, value in enumerate(arr):\n",
    "            expression = eval('value > curr_smallest[1]') if dsc else eval(\n",
    "                'value < curr_smallest[1]')\n",
    "\n",
    "            if expression:\n",
    "                curr_smallest = (i, value)\n",
    "\n",
    "        result = np.append(result, curr_smallest[1])\n",
    "        arr[curr_smallest[0]] = np.nan\n",
    "\n",
    "    return result.astype(np.int64)\n",
    "\n",
    "\n",
    "print('Original  :', arr, '\\n')\n",
    "print('Ascendant :', sort_array(arr))\n",
    "print('Descendant:', sort_array(arr, dsc=True))"
   ]
  },
  {
   "cell_type": "markdown",
   "metadata": {},
   "source": [
    "#### Delete element method (A better one)\n"
   ]
  },
  {
   "cell_type": "code",
   "execution_count": 111,
   "metadata": {},
   "outputs": [
    {
     "name": "stdout",
     "output_type": "stream",
     "text": [
      "Original  : [10  3  8  2  4  5  8  9  9  8] \n",
      "\n",
      "Ascendant : [ 2  3  4  5  8  8  8  9  9 10]\n",
      "Descendant: [10  9  9  8  8  8  5  4  3  2]\n"
     ]
    }
   ],
   "source": [
    "def sort_array(arr: np.ndarray, dsc: bool = False):\n",
    "    arr = arr.copy()\n",
    "    result = np.array([])\n",
    "\n",
    "    for _ in arr:\n",
    "        curr_smallest = (0, arr[0])\n",
    "\n",
    "        for i, value in enumerate(arr):\n",
    "            expression = eval('value > curr_smallest[1]') if dsc else eval(\n",
    "                'value < curr_smallest[1]')\n",
    "\n",
    "            if expression:\n",
    "                curr_smallest = (i, value)\n",
    "\n",
    "        result = np.append(result, curr_smallest[1])\n",
    "        arr = np.delete(arr, curr_smallest[0])\n",
    "\n",
    "    return result.astype(np.int64)\n",
    "\n",
    "\n",
    "print('Original  :', arr, '\\n')\n",
    "print('Ascendant :', sort_array(arr))\n",
    "print('Descendant:', sort_array(arr, dsc=True))"
   ]
  }
 ],
 "metadata": {
  "kernelspec": {
   "display_name": ".venv",
   "language": "python",
   "name": "python3"
  },
  "language_info": {
   "codemirror_mode": {
    "name": "ipython",
    "version": 3
   },
   "file_extension": ".py",
   "mimetype": "text/x-python",
   "name": "python",
   "nbconvert_exporter": "python",
   "pygments_lexer": "ipython3",
   "version": "3.12.3"
  }
 },
 "nbformat": 4,
 "nbformat_minor": 2
}
