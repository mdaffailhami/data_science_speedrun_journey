{
 "cells": [
  {
   "cell_type": "markdown",
   "metadata": {},
   "source": [
    "# Arithmetic in Fraction Equations\n",
    "\n",
    "Arithmetic operations on fractions follow specific rules to ensure the correct results. Here’s a breakdown of how to perform addition, subtraction, multiplication, and division with fractions:\n"
   ]
  },
  {
   "cell_type": "markdown",
   "metadata": {},
   "source": [
    "## A. Addition\n",
    "\n",
    "To add fractions, they must have the same denominator. If they do not, find a common denominator (usually the least common denominator, LCD).\n",
    "\n",
    "### Same Denominator\n",
    "\n",
    "$ \\frac{a}{c} + \\frac{b}{c} = \\frac{a + b}{c} $\n",
    "\n",
    "### Different Denominators\n",
    "\n",
    "$ \\frac{a}{b} + \\frac{c}{d} = \\frac{a \\cdot d + b \\cdot c}{b \\cdot d} $\n",
    "\n",
    "**Example:**\n",
    "$ \\frac{2}{3} + \\frac{1}{4} $\n",
    "\n",
    "Find a common denominator: $ 3 \\cdot 4 = 12 $\n",
    "\n",
    "$ \\frac{2}{3} = \\frac{2 \\cdot 4}{3 \\cdot 4} = \\frac{8}{12} $\n",
    "\n",
    "$ \\frac{1}{4} = \\frac{1 \\cdot 3}{4 \\cdot 3} = \\frac{3}{12} $\n",
    "\n",
    "$ \\frac{8}{12} + \\frac{3}{12} = \\frac{11}{12} $\n"
   ]
  },
  {
   "cell_type": "markdown",
   "metadata": {},
   "source": [
    "## B. Subtraction\n",
    "\n",
    "Similar to addition, fractions must have the same denominator to subtract.\n",
    "\n",
    "### Same Denominator\n",
    "\n",
    "$ \\frac{a}{c} - \\frac{b}{c} = \\frac{a - b}{c} $\n",
    "\n",
    "### Different Denominators\n",
    "\n",
    "$ \\frac{a}{b} - \\frac{c}{d} = \\frac{a \\cdot d - b \\cdot c}{b \\cdot d} $\n",
    "\n",
    "**Example:**\n",
    "$ \\frac{3}{4} - \\frac{1}{6} $\n",
    "\n",
    "Find a common denominator: $ 4 \\cdot 6 = 24 $\n",
    "\n",
    "$ \\frac{3}{4} = \\frac{3 \\cdot 6}{4 \\cdot 6} = \\frac{18}{24} $\n",
    "\n",
    "$ \\frac{1}{6} = \\frac{1 \\cdot 4}{6 \\cdot 4} = \\frac{4}{24} $\n",
    "\n",
    "$ \\frac{18}{24} - \\frac{4}{24} = \\frac{14}{24} = \\frac{7}{12} $ (simplified)\n"
   ]
  },
  {
   "cell_type": "markdown",
   "metadata": {},
   "source": [
    "## C. Multiplication\n",
    "\n",
    "Multiply the numerators together and the denominators together.\n",
    "\n",
    "$ \\frac{a}{b} \\times \\frac{c}{d} = \\frac{a \\cdot c}{b \\cdot d} $\n",
    "\n",
    "**Example:**\n",
    "$ \\frac{2}{3} \\times \\frac{3}{5} = \\frac{2 \\cdot 3}{3 \\cdot 5} = \\frac{6}{15} = \\frac{2}{5} $ (simplified)\n"
   ]
  },
  {
   "cell_type": "markdown",
   "metadata": {},
   "source": [
    "## D. Division\n",
    "\n",
    "Multiply the first fraction by the reciprocal of the second fraction.\n",
    "\n",
    "$ \\frac{a}{b} \\div \\frac{c}{d} = \\frac{a}{b} \\times \\frac{d}{c} = \\frac{a \\cdot d}{b \\cdot c} $\n",
    "\n",
    "**Example:**\n",
    "$ \\frac{2}{5} \\div \\frac{3}{7} = \\frac{2}{5} \\times \\frac{7}{3} = \\frac{2 \\cdot 7}{5 \\cdot 3} = \\frac{14}{15} $\n"
   ]
  },
  {
   "cell_type": "markdown",
   "metadata": {},
   "source": [
    "<hr>\n"
   ]
  },
  {
   "cell_type": "markdown",
   "metadata": {},
   "source": [
    "## Simplification\n",
    "\n",
    "After performing any of these operations, it's important to simplify the resulting fraction by dividing both the numerator and the denominator by their greatest common divisor (GCD).\n",
    "\n",
    "### Examples:\n",
    "\n",
    "1. $ \\frac{5}{8} + \\frac{3}{8} = \\frac{5 + 3}{8} = \\frac{8}{8} = 1 $\n",
    "\n",
    "2. $ \\frac{7}{10} - \\frac{1}{4} = \\frac{28}{40} - \\frac{10}{40} = \\frac{18}{40} = \\frac{9}{20} $\n",
    "\n",
    "3. $ \\frac{4}{9} \\times \\frac{3}{7} = \\frac{4 \\cdot 3}{9 \\cdot 7} = \\frac{12}{63} = \\frac{4}{21} $\n",
    "\n",
    "4. $ \\frac{5}{6} \\div \\frac{2}{3} = \\frac{5}{6} \\times \\frac{3}{2} = \\frac{5 \\cdot 3}{6 \\cdot 2} = \\frac{15}{12} = \\frac{5}{4} = 1 \\frac{1}{4} $\n"
   ]
  }
 ],
 "metadata": {
  "language_info": {
   "name": "python"
  }
 },
 "nbformat": 4,
 "nbformat_minor": 2
}
