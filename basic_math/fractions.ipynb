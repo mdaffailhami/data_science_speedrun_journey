{
 "cells": [
  {
   "cell_type": "markdown",
   "metadata": {},
   "source": [
    "# Fractions\n",
    "\n",
    "A fraction is a way to represent a part of a whole or a division of quantities. It consists of a numerator (the top number) and a denominator (the bottom number). The numerator represents how many parts you have, and the denominator represents how many parts make up a whole.\n"
   ]
  },
  {
   "cell_type": "markdown",
   "metadata": {},
   "source": [
    "**For example**, in the fraction $ \\frac{3}{4} $:\n",
    "\n",
    "- The numerator is 3, meaning you have 3 parts.\n",
    "- The denominator is 4, meaning the whole is divided into 4 equal parts.\n"
   ]
  },
  {
   "cell_type": "markdown",
   "metadata": {},
   "source": [
    "Fractions can be further categorized into several types:\n",
    "\n",
    "1. **Proper Fractions**: The numerator is less than the denominator (e.g., $ \\frac{3}{4} $).\n",
    "2. **Improper Fractions**: The numerator is greater than or equal to the denominator (e.g., $ \\frac{5}{3} $).\n",
    "3. **Mixed Numbers**: A whole number combined with a proper fraction (e.g., $ 2 \\frac{1}{2} $).\n",
    "4. **Equivalent Fractions**: Different fractions that represent the same value (e.g., $ \\frac{1}{2} $ and $ \\frac{2}{4} $).\n"
   ]
  },
  {
   "cell_type": "markdown",
   "metadata": {},
   "source": [
    "Fractions can be simplified by dividing the numerator and the denominator by their greatest common divisor (GCD). They can also be converted to decimals by performing the division of the numerator by the denominator.\n"
   ]
  }
 ],
 "metadata": {
  "language_info": {
   "name": "python"
  }
 },
 "nbformat": 4,
 "nbformat_minor": 2
}
