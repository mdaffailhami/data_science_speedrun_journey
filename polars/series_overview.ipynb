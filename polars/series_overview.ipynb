{
 "cells": [
  {
   "cell_type": "markdown",
   "metadata": {},
   "source": [
    "# Series\n",
    "\n",
    "A Series represents a single column in a polars DataFrame.\n",
    "\n",
    "### Parameters\n",
    "\n",
    "1. name (str, default None)\n",
    "   Name of the Series. Will be used as a column name when used in a DataFrame.\n",
    "   When not specified, name is set to an empty string.\n",
    "\n",
    "2. values (ArrayLike, default None)\n",
    "   One-dimensional data in various forms. Supported are: Sequence, Series,\n",
    "   pyarrow Array, and numpy ndarray.\n",
    "\n",
    "3. dtype (DataType, default None)\n",
    "   Data type of the resulting Series. If set to `None` (default), the data type is\n",
    "   inferred from the `values` input. The strategy for data type inference depends\n",
    "   on the `strict` parameter:\n",
    "\n",
    "- If `strict` is set to True (default), the inferred data type is equal to the\n",
    "  first non-null value, or `Null` if all values are null.\n",
    "- If `strict` is set to False, the inferred data type is the supertype of the\n",
    "  values, or :class:`Object` if no supertype can be found. **WARNING**: A full\n",
    "  pass over the values is required to determine the supertype.\n",
    "- If no values were passed, the resulting data type is :class:`Null`.\n",
    "\n",
    "4. strict (bool, default True)\n",
    "   Throw an error if any value does not exactly match the given or inferred data\n",
    "   type. If set to `False`, values that do not match the data type are cast to\n",
    "   that data type or, if casting is not possible, set to null instead.\n",
    "\n",
    "5. nan_to_null (bool, default False)\n",
    "   In case a numpy array is used to create this Series, indicate how to deal\n",
    "   with np.nan values. (This parameter is a no-op on non-numpy data).\n"
   ]
  },
  {
   "cell_type": "code",
   "execution_count": 64,
   "metadata": {},
   "outputs": [],
   "source": [
    "import polars as pl"
   ]
  },
  {
   "cell_type": "markdown",
   "metadata": {},
   "source": [
    "### Create a series\n"
   ]
  },
  {
   "cell_type": "code",
   "execution_count": 63,
   "metadata": {},
   "outputs": [
    {
     "name": "stdout",
     "output_type": "stream",
     "text": [
      "Int8\n"
     ]
    },
    {
     "data": {
      "text/html": [
       "<div><style>\n",
       ".dataframe > thead > tr,\n",
       ".dataframe > tbody > tr {\n",
       "  text-align: right;\n",
       "  white-space: pre-wrap;\n",
       "}\n",
       "</style>\n",
       "<small>shape: (5,)</small><table border=\"1\" class=\"dataframe\"><thead><tr><th>numbers</th></tr><tr><td>i8</td></tr></thead><tbody><tr><td>11</td></tr><tr><td>22</td></tr><tr><td>33</td></tr><tr><td>44</td></tr><tr><td>55</td></tr></tbody></table></div>"
      ],
      "text/plain": [
       "shape: (5,)\n",
       "Series: 'numbers' [i8]\n",
       "[\n",
       "\t11\n",
       "\t22\n",
       "\t33\n",
       "\t44\n",
       "\t55\n",
       "]"
      ]
     },
     "execution_count": 63,
     "metadata": {},
     "output_type": "execute_result"
    }
   ],
   "source": [
    "s = pl.Series('numbers', [11, 22, 33, 44, 55], dtype=pl.Int8)  # Default Int64\n",
    "print(s.dtype)\n",
    "s"
   ]
  },
  {
   "cell_type": "markdown",
   "metadata": {},
   "source": [
    "### Get Series's Value(s)\n"
   ]
  },
  {
   "cell_type": "code",
   "execution_count": 62,
   "metadata": {},
   "outputs": [
    {
     "name": "stdout",
     "output_type": "stream",
     "text": [
      "100\n",
      "127\n"
     ]
    },
    {
     "data": {
      "text/plain": [
       "[100, 22, 33]"
      ]
     },
     "metadata": {},
     "output_type": "display_data"
    },
    {
     "data": {
      "text/plain": [
       "[100, 22, 33]"
      ]
     },
     "metadata": {},
     "output_type": "display_data"
    },
    {
     "data": {
      "text/html": [
       "<div><style>\n",
       ".dataframe > thead > tr,\n",
       ".dataframe > tbody > tr {\n",
       "  text-align: right;\n",
       "  white-space: pre-wrap;\n",
       "}\n",
       "</style>\n",
       "<small>shape: (3,)</small><table border=\"1\" class=\"dataframe\"><thead><tr><th>numbers</th></tr><tr><td>i8</td></tr></thead><tbody><tr><td>100</td></tr><tr><td>22</td></tr><tr><td>33</td></tr></tbody></table></div>"
      ],
      "text/plain": [
       "shape: (3,)\n",
       "Series: 'numbers' [i8]\n",
       "[\n",
       "\t100\n",
       "\t22\n",
       "\t33\n",
       "]"
      ]
     },
     "metadata": {},
     "output_type": "display_data"
    },
    {
     "data": {
      "text/html": [
       "<div><style>\n",
       ".dataframe > thead > tr,\n",
       ".dataframe > tbody > tr {\n",
       "  text-align: right;\n",
       "  white-space: pre-wrap;\n",
       "}\n",
       "</style>\n",
       "<small>shape: (2,)</small><table border=\"1\" class=\"dataframe\"><thead><tr><th>numbers</th></tr><tr><td>i8</td></tr></thead><tbody><tr><td>33</td></tr><tr><td>44</td></tr></tbody></table></div>"
      ],
      "text/plain": [
       "shape: (2,)\n",
       "Series: 'numbers' [i8]\n",
       "[\n",
       "\t33\n",
       "\t44\n",
       "]"
      ]
     },
     "execution_count": 62,
     "metadata": {},
     "output_type": "execute_result"
    }
   ],
   "source": [
    "print(s[0])\n",
    "print(s[-1])\n",
    "\n",
    "display(s[0:3].to_list())\n",
    "# ====\n",
    "display(list(s[0:3]))\n",
    "\n",
    "display(s[0:3])\n",
    "s[-3:-1]"
   ]
  },
  {
   "cell_type": "markdown",
   "metadata": {},
   "source": [
    "### Change Series's value\n"
   ]
  },
  {
   "cell_type": "code",
   "execution_count": 61,
   "metadata": {},
   "outputs": [
    {
     "data": {
      "text/html": [
       "<div><style>\n",
       ".dataframe > thead > tr,\n",
       ".dataframe > tbody > tr {\n",
       "  text-align: right;\n",
       "  white-space: pre-wrap;\n",
       "}\n",
       "</style>\n",
       "<small>shape: (5,)</small><table border=\"1\" class=\"dataframe\"><thead><tr><th>numbers</th></tr><tr><td>i8</td></tr></thead><tbody><tr><td>100</td></tr><tr><td>22</td></tr><tr><td>33</td></tr><tr><td>44</td></tr><tr><td>127</td></tr></tbody></table></div>"
      ],
      "text/plain": [
       "shape: (5,)\n",
       "Series: 'numbers' [i8]\n",
       "[\n",
       "\t100\n",
       "\t22\n",
       "\t33\n",
       "\t44\n",
       "\t127\n",
       "]"
      ]
     },
     "execution_count": 61,
     "metadata": {},
     "output_type": "execute_result"
    }
   ],
   "source": [
    "s[0] = 100\n",
    "s[-1] = s[0] + 27  # 127 is Int8 maximum value\n",
    "s"
   ]
  }
 ],
 "metadata": {
  "kernelspec": {
   "display_name": "Python 3",
   "language": "python",
   "name": "python3"
  },
  "language_info": {
   "codemirror_mode": {
    "name": "ipython",
    "version": 3
   },
   "file_extension": ".py",
   "mimetype": "text/x-python",
   "name": "python",
   "nbconvert_exporter": "python",
   "pygments_lexer": "ipython3",
   "version": "3.12.3"
  }
 },
 "nbformat": 4,
 "nbformat_minor": 2
}
