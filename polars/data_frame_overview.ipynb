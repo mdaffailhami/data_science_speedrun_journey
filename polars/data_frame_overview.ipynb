{
 "cells": [
  {
   "cell_type": "markdown",
   "metadata": {},
   "source": [
    "# DataFrame\n",
    "\n",
    "Two-dimensional data structure representing data as a table with rows and columns.\n",
    "\n",
    "### Parameters\n",
    "\n",
    "1. data (dict, Sequence, ndarray, Series, or pandas.DataFrame)\n",
    "   Two-dimensional data in various forms; dict input must contain Sequences,\n",
    "   Generators, or a `range`. Sequence may contain Series or other Sequences.\n",
    "\n",
    "2. schema (Sequence of str, (str,DataType) pairs, or a {str:DataType,} dict)\n",
    "   The schema of the resulting DataFrame. The schema may be declared in several\n",
    "   ways:\n",
    "\n",
    "- As a dict of {name:type} pairs; if type is None, it will be auto-inferred.\n",
    "- As a list of column names; in this case types are automatically inferred.\n",
    "- As a list of (name,type) pairs; this is equivalent to the dictionary form.\n",
    "\n",
    "If you supply a list of column names that does not match the names in the\n",
    "underlying data, the names given here will overwrite them. The number\n",
    "of names given in the schema should match the underlying data dimensions.\n",
    "\n",
    "If set to `None` (default), the schema is inferred from the data.\n",
    "\n",
    "3. schema_overrides (dict, default None)\n",
    "   Support type specification or override of one or more columns; note that\n",
    "   any dtypes inferred from the schema param will be overridden.\n",
    "\n",
    "The number of entries in the schema should match the underlying data\n",
    "dimensions, unless a sequence of dictionaries is being passed, in which case\n",
    "a _partial_ schema can be declared to prevent specific fields from being loaded.\n",
    "\n",
    "4. strict (bool, default True)\n",
    "   Throw an error if any `data` value does not exactly match the given or inferred\n",
    "   data type for that column. If set to `False`, values that do not match the data\n",
    "   type are cast to that data type or, if casting is not possible, set to null\n",
    "   instead.\n",
    "\n",
    "5. orient ({'col', 'row'}, default None)\n",
    "   Whether to interpret two-dimensional data as columns or as rows. If None,\n",
    "   the orientation is inferred by matching the columns and data dimensions. If\n",
    "   this does not yield conclusive results, column orientation is used.\n",
    "\n",
    "6. infer*schema_length (int or None)\n",
    "   The maximum number of rows to scan for schema inference. If set to `None`, the\n",
    "   full data may be scanned *(this can be slow)\\_. This parameter only applies if\n",
    "   the input data is a sequence or generator of rows; other input is read as-is.\n",
    "\n",
    "7. nan_to_null (bool, default False)\n",
    "   If the data comes from one or more numpy arrays, can optionally convert input\n",
    "   data np.nan values to null instead. This is a no-op for all other input data.\n"
   ]
  },
  {
   "cell_type": "code",
   "execution_count": 291,
   "metadata": {},
   "outputs": [],
   "source": [
    "import polars as pl"
   ]
  },
  {
   "cell_type": "markdown",
   "metadata": {},
   "source": [
    "### Create DataFrames\n"
   ]
  },
  {
   "cell_type": "code",
   "execution_count": 292,
   "metadata": {},
   "outputs": [
    {
     "data": {
      "text/html": [
       "<div><style>\n",
       ".dataframe > thead > tr,\n",
       ".dataframe > tbody > tr {\n",
       "  text-align: right;\n",
       "  white-space: pre-wrap;\n",
       "}\n",
       "</style>\n",
       "<small>shape: (3, 2)</small><table border=\"1\" class=\"dataframe\"><thead><tr><th>first</th><th>second</th></tr><tr><td>i64</td><td>i64</td></tr></thead><tbody><tr><td>1</td><td>4</td></tr><tr><td>2</td><td>5</td></tr><tr><td>3</td><td>6</td></tr></tbody></table></div>"
      ],
      "text/plain": [
       "shape: (3, 2)\n",
       "┌───────┬────────┐\n",
       "│ first ┆ second │\n",
       "│ ---   ┆ ---    │\n",
       "│ i64   ┆ i64    │\n",
       "╞═══════╪════════╡\n",
       "│ 1     ┆ 4      │\n",
       "│ 2     ┆ 5      │\n",
       "│ 3     ┆ 6      │\n",
       "└───────┴────────┘"
      ]
     },
     "execution_count": 292,
     "metadata": {},
     "output_type": "execute_result"
    }
   ],
   "source": [
    "df = pl.DataFrame({'first': [1, 2, 3], 'second': [4, 5, 6]})\n",
    "df = pl.DataFrame([[1, 2, 3], [4, 5, 6]], schema=['first', 'second'])\n",
    "df = pl.DataFrame(\n",
    "    [pl.Series([1, 2, 3]), pl.Series([4, 5, 6])],\n",
    "    schema=['first', 'second']\n",
    ")\n",
    "\n",
    "df"
   ]
  },
  {
   "cell_type": "markdown",
   "metadata": {},
   "source": [
    "#### Set DataFrame's data types statically\n"
   ]
  },
  {
   "cell_type": "code",
   "execution_count": 293,
   "metadata": {},
   "outputs": [
    {
     "data": {
      "text/html": [
       "<div><style>\n",
       ".dataframe > thead > tr,\n",
       ".dataframe > tbody > tr {\n",
       "  text-align: right;\n",
       "  white-space: pre-wrap;\n",
       "}\n",
       "</style>\n",
       "<small>shape: (3, 3)</small><table border=\"1\" class=\"dataframe\"><thead><tr><th>first</th><th>second</th><th>third</th></tr><tr><td>i16</td><td>i32</td><td>i64</td></tr></thead><tbody><tr><td>1</td><td>4</td><td>7</td></tr><tr><td>2</td><td>5</td><td>8</td></tr><tr><td>3</td><td>6</td><td>9</td></tr></tbody></table></div>"
      ],
      "text/plain": [
       "shape: (3, 3)\n",
       "┌───────┬────────┬───────┐\n",
       "│ first ┆ second ┆ third │\n",
       "│ ---   ┆ ---    ┆ ---   │\n",
       "│ i16   ┆ i32    ┆ i64   │\n",
       "╞═══════╪════════╪═══════╡\n",
       "│ 1     ┆ 4      ┆ 7     │\n",
       "│ 2     ┆ 5      ┆ 8     │\n",
       "│ 3     ┆ 6      ┆ 9     │\n",
       "└───────┴────────┴───────┘"
      ]
     },
     "execution_count": 293,
     "metadata": {},
     "output_type": "execute_result"
    }
   ],
   "source": [
    "df = pl.DataFrame(\n",
    "    [[1, 2, 3], [4, 5, 6], [7, 8, 9]],\n",
    "    # int will be converted to pl.Int64\n",
    "    schema=[('first', pl.Int16), ('second', pl.Int32), ('third', int)]\n",
    ")\n",
    "df = pl.DataFrame(\n",
    "    ([1, 2, 3], [4, 5, 6], [7, 8, 9]),\n",
    "    # int will be converted to pl.Int64\n",
    "    schema={'first': pl.Int16, 'second': pl.Int32, 'third': int}\n",
    ")\n",
    "\n",
    "df"
   ]
  },
  {
   "cell_type": "markdown",
   "metadata": {},
   "source": [
    "### Get DataFrame's column(s)\n"
   ]
  },
  {
   "cell_type": "code",
   "execution_count": 294,
   "metadata": {},
   "outputs": [
    {
     "data": {
      "text/html": [
       "<div><style>\n",
       ".dataframe > thead > tr,\n",
       ".dataframe > tbody > tr {\n",
       "  text-align: right;\n",
       "  white-space: pre-wrap;\n",
       "}\n",
       "</style>\n",
       "<small>shape: (3, 1)</small><table border=\"1\" class=\"dataframe\"><thead><tr><th>first</th></tr><tr><td>i16</td></tr></thead><tbody><tr><td>11</td></tr><tr><td>12</td></tr><tr><td>13</td></tr></tbody></table></div>"
      ],
      "text/plain": [
       "shape: (3, 1)\n",
       "┌───────┐\n",
       "│ first │\n",
       "│ ---   │\n",
       "│ i16   │\n",
       "╞═══════╡\n",
       "│ 11    │\n",
       "│ 12    │\n",
       "│ 13    │\n",
       "└───────┘"
      ]
     },
     "execution_count": 294,
     "metadata": {},
     "output_type": "execute_result"
    }
   ],
   "source": [
    "# 1. Select by calling __getitem__ method\n",
    "# Select by column name(s)\n",
    "df['first', 'third']\n",
    "df[['first', 'third']]\n",
    "df[('first', 'third')]\n",
    "\n",
    "# Parameters: [row(s), column(s)]\n",
    "df[:, ('first', 'third')]\n",
    "df[:, (0, 2)]\n",
    "df[:, -2:]\n",
    "\n",
    "# Select by column name(s)\n",
    "df.select('first', 'third')\n",
    "df.select(['first', 'third'])\n",
    "df.select(('first', 'third'))\n",
    "\n",
    "# Select by expression(s)\n",
    "df.select(pl.col('first', 'third'))\n",
    "df.select(pl.col('first'), pl.col('third'))\n",
    "df.select([pl.col('first'), pl.col('third')])\n",
    "df.select((pl.col('first'), pl.col('third')))\n",
    "\n",
    "# With expression(s), it will allow us to evaluate each value\n",
    "df.select(pl.col('first') + 10)"
   ]
  },
  {
   "cell_type": "markdown",
   "metadata": {},
   "source": [
    "### Get DataFrame's row(s)\n"
   ]
  },
  {
   "cell_type": "code",
   "execution_count": 313,
   "metadata": {},
   "outputs": [
    {
     "data": {
      "text/html": [
       "<div><style>\n",
       ".dataframe > thead > tr,\n",
       ".dataframe > tbody > tr {\n",
       "  text-align: right;\n",
       "  white-space: pre-wrap;\n",
       "}\n",
       "</style>\n",
       "<small>shape: (2, 3)</small><table border=\"1\" class=\"dataframe\"><thead><tr><th>first</th><th>second</th><th>third</th></tr><tr><td>i16</td><td>i32</td><td>i64</td></tr></thead><tbody><tr><td>1</td><td>4</td><td>7</td></tr><tr><td>3</td><td>6</td><td>9</td></tr></tbody></table></div>"
      ],
      "text/plain": [
       "shape: (2, 3)\n",
       "┌───────┬────────┬───────┐\n",
       "│ first ┆ second ┆ third │\n",
       "│ ---   ┆ ---    ┆ ---   │\n",
       "│ i16   ┆ i32    ┆ i64   │\n",
       "╞═══════╪════════╪═══════╡\n",
       "│ 1     ┆ 4      ┆ 7     │\n",
       "│ 3     ┆ 6      ┆ 9     │\n",
       "└───────┴────────┴───────┘"
      ]
     },
     "execution_count": 313,
     "metadata": {},
     "output_type": "execute_result"
    }
   ],
   "source": [
    "df[0]\n",
    "df[:2]\n",
    "df[1:-1]\n",
    "\n",
    "# Get row(s) and speficy the column(s)\n",
    "df[0, -2:]\n",
    "df[0, (0, 2)]\n",
    "\n",
    "df[0, ('third', 'first')]\n",
    "df[0, ('second',)]\n",
    "df[(0, 2), :]"
   ]
  }
 ],
 "metadata": {
  "kernelspec": {
   "display_name": "Python 3",
   "language": "python",
   "name": "python3"
  },
  "language_info": {
   "codemirror_mode": {
    "name": "ipython",
    "version": 3
   },
   "file_extension": ".py",
   "mimetype": "text/x-python",
   "name": "python",
   "nbconvert_exporter": "python",
   "pygments_lexer": "ipython3",
   "version": "3.12.3"
  }
 },
 "nbformat": 4,
 "nbformat_minor": 2
}
