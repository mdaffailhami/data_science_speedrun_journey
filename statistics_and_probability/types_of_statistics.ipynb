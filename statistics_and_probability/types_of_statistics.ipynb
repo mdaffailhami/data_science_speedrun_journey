{
 "cells": [
  {
   "cell_type": "markdown",
   "metadata": {},
   "source": [
    "# Types of Statistics\n",
    "\n",
    "- Descriptive Statistics\n",
    "- Inferential Statistics\n"
   ]
  },
  {
   "cell_type": "markdown",
   "metadata": {},
   "source": [
    "## A. Descriptive Statistics\n",
    "\n",
    "![Descriptive Statistics](./assets/descriptive_statistics.png)\n",
    "\n",
    "Descriptive statistics help us summarize and describe the main features of a dataset. They tell us what the data looks like.\n",
    "\n",
    "1. **Measures of Central Tendency:**\n",
    "\n",
    "   - **Mean:** The average of the numbers.\n",
    "   - **Median:** The middle value when the numbers are sorted.\n",
    "   - **Mode:** The most common value.\n",
    "\n",
    "2. **Measures of Spread:**\n",
    "\n",
    "   - **Range:** The difference between the highest and lowest values.\n",
    "   - **Variance:** How spread out the numbers are.\n",
    "   - **Standard Deviation:** How much the values typically differ from the mean.\n",
    "   - **Interquartile Range (IQR):** The range of the middle half of the data.\n",
    "\n",
    "3. **Shape of the Data:**\n",
    "\n",
    "   - **Skewness:** If the data is lopsided.\n",
    "   - **Kurtosis:** If the data has heavy tails or is flat-topped.\n",
    "\n",
    "4. **Visualizations:**\n",
    "   - **Histograms:** Bar charts showing the frequency of values.\n",
    "   - **Box Plots:** Shows the distribution based on quartiles.\n",
    "   - **Bar Charts, Pie Charts, Scatter Plots:** Various ways to visualize the data.\n"
   ]
  },
  {
   "cell_type": "markdown",
   "metadata": {},
   "source": [
    "## B. Inferential Statistics\n",
    "\n",
    "![Inferential Statistics](./assets/inferential_statistics.png)\n",
    "\n",
    "Inferential statistics help us make predictions or inferences about a larger group (population) based on a smaller group (sample).\n",
    "\n",
    "1. **Estimation:**\n",
    "\n",
    "   - **Point Estimation:** A single number estimate of a population parameter.\n",
    "   - **Confidence Interval:** A range that likely contains the population parameter.\n",
    "\n",
    "2. **Hypothesis Testing:**\n",
    "\n",
    "   - **Null Hypothesis (H0):** A statement that there is no effect or difference.\n",
    "   - **Alternative Hypothesis (H1):** A statement that there is an effect or difference.\n",
    "   - **p-Value:** The probability that the observed data would occur if the null hypothesis were true.\n",
    "   - **Significance Level (α):** The threshold for deciding whether to reject the null hypothesis, often set at 0.05.\n",
    "\n",
    "3. **Regression Analysis:**\n",
    "\n",
    "   - **Linear Regression:** Finding the relationship between two continuous variables.\n",
    "   - **Multiple Regression:** Finding the relationship between one continuous variable and several other variables.\n",
    "\n",
    "4. **ANOVA (Analysis of Variance):**\n",
    "\n",
    "   - Comparing means among three or more groups to see if they are different.\n",
    "\n",
    "5. **Chi-Square Tests:**\n",
    "\n",
    "   - Testing relationships between categorical variables.\n",
    "\n",
    "6. **Non-parametric Tests:**\n",
    "   - Tests that do not assume a specific distribution for the data.\n"
   ]
  },
  {
   "cell_type": "markdown",
   "metadata": {},
   "source": [
    "## **Summary**\n",
    "\n",
    "- **Descriptive Statistics:** Summarize data (e.g., mean, median, range).\n",
    "- **Inferential Statistics:** Make predictions or inferences about a population based on a sample (e.g., hypothesis testing, regression).\n",
    "\n",
    "Both types of statistics are crucial for analyzing and understanding data, helping us make informed decisions based on the data.\n"
   ]
  }
 ],
 "metadata": {
  "language_info": {
   "name": "python"
  }
 },
 "nbformat": 4,
 "nbformat_minor": 2
}
