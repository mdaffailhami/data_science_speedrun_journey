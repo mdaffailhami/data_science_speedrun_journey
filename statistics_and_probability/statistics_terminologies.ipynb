{
 "cells": [
  {
   "cell_type": "markdown",
   "metadata": {},
   "source": [
    "# Statistics Terminologies\n"
   ]
  },
  {
   "cell_type": "markdown",
   "metadata": {},
   "source": [
    "### - Population\n",
    "\n",
    "A Collection or set of individuals or objects or events whose properties are to be analyzed.\n"
   ]
  },
  {
   "cell_type": "markdown",
   "metadata": {},
   "source": [
    "### - Sample\n",
    "\n",
    "A subset of population is called \"Sample\". A well chosen sample will contain most of the information about a particular population parameter.\n"
   ]
  },
  {
   "cell_type": "markdown",
   "metadata": {},
   "source": [
    "![Statistics Terminologies](./assets/statistics_terminologies.png)\n"
   ]
  }
 ],
 "metadata": {
  "language_info": {
   "name": "python"
  }
 },
 "nbformat": 4,
 "nbformat_minor": 2
}
